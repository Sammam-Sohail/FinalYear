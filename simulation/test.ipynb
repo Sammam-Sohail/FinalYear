{
 "cells": [
  {
   "cell_type": "code",
   "execution_count": 62,
   "metadata": {},
   "outputs": [
    {
     "name": "stdout",
     "output_type": "stream",
     "text": [
      "4.166666666666666\n"
     ]
    }
   ],
   "source": [
    "import numpy as np\n",
    "import math\n",
    "\n",
    "targets = [105, 110, 125]\n",
    "\n",
    "val = 120\n",
    "\n",
    "print((([i for i in targets if i>val][0]-val)/val)*100)\n"
   ]
  }
 ],
 "metadata": {
  "kernelspec": {
   "display_name": "Python 3",
   "language": "python",
   "name": "python3"
  },
  "language_info": {
   "codemirror_mode": {
    "name": "ipython",
    "version": 3
   },
   "file_extension": ".py",
   "mimetype": "text/x-python",
   "name": "python",
   "nbconvert_exporter": "python",
   "pygments_lexer": "ipython3",
   "version": "3.10.5"
  },
  "orig_nbformat": 4,
  "vscode": {
   "interpreter": {
    "hash": "b56cedfc715f32859c7b3e0c7af539013c24260cbdded874583ce504867e8223"
   }
  }
 },
 "nbformat": 4,
 "nbformat_minor": 2
}
