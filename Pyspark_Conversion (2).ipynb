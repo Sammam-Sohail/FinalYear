{
  "nbformat": 4,
  "nbformat_minor": 0,
  "metadata": {
    "colab": {
      "provenance": []
    },
    "kernelspec": {
      "name": "python3",
      "display_name": "Python 3"
    },
    "language_info": {
      "name": "python"
    }
  },
  "cells": [
    {
      "cell_type": "code",
      "execution_count": 1,
      "metadata": {
        "colab": {
          "base_uri": "https://localhost:8080/"
        },
        "id": "vx3Sam9d4XsV",
        "outputId": "e6619743-0125-4bc4-d704-511ebaea6fa8"
      },
      "outputs": [
        {
          "output_type": "stream",
          "name": "stdout",
          "text": [
            "Looking in indexes: https://pypi.org/simple, https://us-python.pkg.dev/colab-wheels/public/simple/\n",
            "Collecting pyspark\n",
            "  Downloading pyspark-3.3.1.tar.gz (281.4 MB)\n",
            "\u001b[K     |████████████████████████████████| 281.4 MB 34 kB/s \n",
            "\u001b[?25hCollecting py4j\n",
            "  Downloading py4j-0.10.9.7-py2.py3-none-any.whl (200 kB)\n",
            "\u001b[K     |████████████████████████████████| 200 kB 59.0 MB/s \n",
            "\u001b[?25h  Downloading py4j-0.10.9.5-py2.py3-none-any.whl (199 kB)\n",
            "\u001b[K     |████████████████████████████████| 199 kB 13.1 MB/s \n",
            "\u001b[?25hBuilding wheels for collected packages: pyspark\n",
            "  Building wheel for pyspark (setup.py) ... \u001b[?25l\u001b[?25hdone\n",
            "  Created wheel for pyspark: filename=pyspark-3.3.1-py2.py3-none-any.whl size=281845512 sha256=62f2af7c47cd63843e2ba90779543e5c35ba097301a18ca09d8e53397197bd5e\n",
            "  Stored in directory: /root/.cache/pip/wheels/43/dc/11/ec201cd671da62fa9c5cc77078235e40722170ceba231d7598\n",
            "Successfully built pyspark\n",
            "Installing collected packages: py4j, pyspark\n",
            "Successfully installed py4j-0.10.9.5 pyspark-3.3.1\n"
          ]
        }
      ],
      "source": [
        "!pip install pyspark py4j"
      ]
    },
    {
      "cell_type": "code",
      "source": [
        "from pyspark.sql import SparkSession"
      ],
      "metadata": {
        "id": "OU_iXl7C4nPH"
      },
      "execution_count": 2,
      "outputs": []
    },
    {
      "cell_type": "code",
      "source": [
        "spark=SparkSession.builder.appName(\"Session\").getOrCreate()"
      ],
      "metadata": {
        "id": "_ZS2KoZ446Nl"
      },
      "execution_count": 3,
      "outputs": []
    },
    {
      "cell_type": "code",
      "source": [
        "import re\n",
        "import nltk\n",
        "import string\n",
        "from nltk.corpus import stopwords\n",
        "from nltk.stem.wordnet import WordNetLemmatizer\n",
        "import os\n",
        "import numpy as np\n",
        "from datetime import datetime"
      ],
      "metadata": {
        "id": "PM0oWmGx5Glb"
      },
      "execution_count": 4,
      "outputs": []
    },
    {
      "cell_type": "code",
      "source": [
        "%%capture\n",
        "%pip install -r requirements.txt\n",
        "!python -m nltk.downloader stopwords\n",
        "!python -m nltk.downloader wordnet\n",
        "!python -m nltk.downloader omw-1.4"
      ],
      "metadata": {
        "id": "LIk2k-Y-CFG6"
      },
      "execution_count": 5,
      "outputs": []
    },
    {
      "cell_type": "code",
      "source": [
        "binance_coins = ['BNB', 'XRP', 'BCHABC', 'LTC', 'LINK', 'ETC', 'TRX', 'EOS', 'XLM', 'ADA', 'BCH', 'QTUM', 'VET', 'EUR', 'BULL', 'BEAR', 'ETHBULL', 'ETHBEAR', 'ICX', 'BTS', 'BNT', 'ATOM', 'DASH', 'NEO', 'WAVES', 'XTZ', 'EOSBULL', 'EOSBEAR', 'XRPBULL', 'XRPBEAR', 'BAT', 'ENJ', 'NANO', 'ONT', 'RVN', 'STRAT', 'AION', 'ALGO', 'BTT', 'TOMO', 'XMR', 'ZEC', 'BNBBULL', 'BNBBEAR', 'DATA', 'SOL', 'CTSI', 'ERD', 'HBAR', 'MATIC', 'WRX', 'ZIL', 'KNC', 'REP', 'LRC', 'IQ', 'GBP', 'DGB', 'COMP', 'BKRW', 'SXP', 'SNX', 'VTHO', 'DCR', 'STORJ', 'IRIS', 'MKR', 'DAI', 'RUNE', 'MANA', 'DOGE', 'LEND', 'ZRX', 'AUD', 'FIO', 'AVA', 'IOTA', 'BAL', 'YFI', 'BLZ', 'KMD', 'JST', 'SRM', 'ANT', 'CRV', 'SAND', 'OCEAN', 'NMR', 'DOT', 'LUNA', 'IDEX', 'RSR', 'PAXG', 'WNXM', 'TRB', 'BZRX', 'SUSHI', 'YFII', 'KSM', 'EGLD', 'DIA', 'BEL', 'SWRV', 'WING', 'CREAM', 'UNI', 'AVAX', 'FLM', 'CAKE', 'XVS', 'ALPHA', 'VIDT', 'AAVE', 'NEAR', 'FIL', 'INJ', 'AERGO', 'ONE', 'AUDIO', 'CTK', 'BOT', 'KP3R', 'AXS', 'HARD', 'DNT', 'CVP', 'STRAX', 'FOR', 'UNFI', 'FRONT', 'BCHA', 'ROSE', 'SYS', 'HEGIC', 'PROM', 'SKL', 'COVER', 'GHST', 'DF', 'JUV', 'PSG', 'BTCST', 'TRU', 'DEXE', 'USDC', 'TUSD', 'PAX', 'CKB', 'TWT', 'LIT', 'SFP', 'FXS', 'DODO', 'BAKE', 'UFT', '1INCH', 'BAND', 'GRT', 'IOST', 'OMG', 'REEF', 'ACM', 'AUCTION', 'PHA', 'TVK', 'BADGER', 'FIS', 'OM', 'POND', 'DEGO', 'ALICE', 'CHZ', 'BIFI', 'LINA', 'PERP', 'RAMP', 'SUPER', 'CFX', 'XVG', 'EPS', 'AUTO', 'TKO', 'TLM', 'BTG', 'HOT', 'MIR', 'BAR', 'FORTH', 'BURGER', 'SLP', 'SHIB', 'ICP', 'AR', 'POLS', 'MDX', 'MASK', 'LPT', 'NU', 'RLC', 'CELR', 'ATM', 'ZEN', 'FTM', 'THETA', 'WIN', 'KAVA', 'XEM', 'ATA', 'GTC', 'TORN', 'COTI', 'KEEP', 'SC', 'CHR', 'STMX', 'HNT', 'FTT', 'DOCK', 'ERN', 'KLAY', 'UTK', 'IOTX', 'BOND', 'MLN', 'LTO', 'ADX', 'QUICK', 'C98', 'CLV', 'QNT', 'FLOW', 'XEC', 'MINA', 'RAY', 'FARM', 'ALPACA', 'ORN', 'MBOX', 'WAXP', 'TRIBE', 'GNO', 'MTL', 'OGN', 'POLY', 'DYDX', 'ELF', 'USDP', 'GALA', 'SUN', 'ILV', 'REN', 'YGG', 'STX', 'FET', 'ARPA', 'LSK', 'FIDA', 'DENT', 'AGLD', 'RAD', 'HIVE', 'STPT', 'BETA', 'RARE', 'TROY', 'CHESS', 'SCRT', 'CELO', 'DAR', 'BNX', 'RGT', 'LAZIO', 'OXT', 'MOVR', 'CITY', 'ENS', 'ANKR', 'QI', 'POWR', 'JASMY', 'AMP', 'PLA', 'PYR', 'RNDR', 'ALCX', 'MC', 'COCOS', 'ANY', 'BICO', 'FLUX', 'REQ', 'VOXEL', 'COS', 'CTXC', 'HIGH', 'CVX', 'PEOPLE', 'OOKI', 'MDT', 'NULS', 'SPELL', 'UST', 'JOE', 'DUSK', 'ACH', 'IMX', 'GLMR', 'UMA', 'LOKA', 'API3', 'ACA', 'ANC', 'XNO', 'WOO', 'TFUEL', 'ASTR', 'GMT', 'KDA', 'APE', 'ALPINE', 'BSW', 'SANTOS', 'MULTI', 'PORTO', 'BTTC', 'MBL', 'MOB', 'NEXO', 'GAL', 'LDO', 'EPX', 'STEEM', 'CVC', 'REI', 'DREP', 'AKRO', 'PUNDIX', 'LUNC', 'USTC', 'OP', 'OG', 'KEY', 'ASR', 'FIRO', 'NKN', 'GTO', 'WBTC', 'LEVER', 'GLM', 'SSV', 'STG', 'ARK', 'BETH', 'LOOM', 'SNM', 'AMB', 'PHB', 'GAS', 'NEBL', 'PROS', 'VIB', 'GMX', 'AGIX', 'SNT', 'POLYX', 'APT', 'QKC', 'OSMO']\n",
        "groups  = ['CryptoClassicsVIP', 'CRYPTONOTESMOHSIN','whalesguide', 'FedRussianInsiders', 'TCGFORYOU', 'UltimateCryptoSignals', 'coin_signals', 'cryptopapasignals','AlphaTradeZone','godx_signals',  'cryptovipsignalta', 'Thebull_crypto','QualitySignalsChannel', 'CryptoSignalCrazy','legendofscalping','henryscalper','bestcryptotutor','cryptocrownofficial',\"binancefuturesignal\",\"cryptosignalalert\",\"pumpsignals1\",\"freebitmexsignals\",\"btctradingclub\", \"Dash2Trade\", \"next10xgem1\", \"Wallstreetbets_trading\", \"BitmexCourses\", \"CryptoProfitCoach\", \"The_CryptoLogy_Signals\"]"
      ],
      "metadata": {
        "id": "NqsbMX6fCQDe"
      },
      "execution_count": 6,
      "outputs": []
    },
    {
      "cell_type": "code",
      "source": [
        "print(len(binance_coins))"
      ],
      "metadata": {
        "colab": {
          "base_uri": "https://localhost:8080/"
        },
        "id": "1tR62A2oCVDJ",
        "outputId": "6ec14f27-fa02-4950-9c9f-fed05a2f4fda"
      },
      "execution_count": 7,
      "outputs": [
        {
          "output_type": "stream",
          "name": "stdout",
          "text": [
            "368\n"
          ]
        }
      ]
    },
    {
      "cell_type": "code",
      "source": [
        "!pip install snscrape"
      ],
      "metadata": {
        "colab": {
          "base_uri": "https://localhost:8080/"
        },
        "id": "BKLMGLb-Fxmm",
        "outputId": "1f2a554a-0b48-4679-978d-988bd67a92e2"
      },
      "execution_count": 8,
      "outputs": [
        {
          "output_type": "stream",
          "name": "stdout",
          "text": [
            "Looking in indexes: https://pypi.org/simple, https://us-python.pkg.dev/colab-wheels/public/simple/\n",
            "\u001b[33mWARNING: Retrying (Retry(total=4, connect=None, read=None, redirect=None, status=None)) after connection broken by 'ProtocolError('Connection aborted.', ConnectionResetError(104, 'Connection reset by peer'))': /simple/snscrape/\u001b[0m\n",
            "Collecting snscrape\n",
            "  Downloading snscrape-0.4.3.20220106-py3-none-any.whl (59 kB)\n",
            "\u001b[?25l\r\u001b[K     |█████▌                          | 10 kB 22.9 MB/s eta 0:00:01\r\u001b[K     |███████████                     | 20 kB 29.0 MB/s eta 0:00:01\r\u001b[K     |████████████████▋               | 30 kB 32.6 MB/s eta 0:00:01\r\u001b[K     |██████████████████████▏         | 40 kB 31.6 MB/s eta 0:00:01\r\u001b[K     |███████████████████████████▊    | 51 kB 33.6 MB/s eta 0:00:01\r\u001b[K     |████████████████████████████████| 59 kB 5.2 MB/s \n",
            "\u001b[?25hRequirement already satisfied: filelock in /usr/local/lib/python3.8/dist-packages (from snscrape) (3.8.0)\n",
            "Requirement already satisfied: lxml in /usr/local/lib/python3.8/dist-packages (from snscrape) (4.9.1)\n",
            "Requirement already satisfied: pytz in /usr/local/lib/python3.8/dist-packages (from snscrape) (2022.6)\n",
            "Requirement already satisfied: requests[socks] in /usr/local/lib/python3.8/dist-packages (from snscrape) (2.23.0)\n",
            "Requirement already satisfied: beautifulsoup4 in /usr/local/lib/python3.8/dist-packages (from snscrape) (4.6.3)\n",
            "Requirement already satisfied: urllib3!=1.25.0,!=1.25.1,<1.26,>=1.21.1 in /usr/local/lib/python3.8/dist-packages (from requests[socks]->snscrape) (1.24.3)\n",
            "Requirement already satisfied: certifi>=2017.4.17 in /usr/local/lib/python3.8/dist-packages (from requests[socks]->snscrape) (2022.9.24)\n",
            "Requirement already satisfied: chardet<4,>=3.0.2 in /usr/local/lib/python3.8/dist-packages (from requests[socks]->snscrape) (3.0.4)\n",
            "Requirement already satisfied: idna<3,>=2.5 in /usr/local/lib/python3.8/dist-packages (from requests[socks]->snscrape) (2.10)\n",
            "Requirement already satisfied: PySocks!=1.5.7,>=1.5.6 in /usr/local/lib/python3.8/dist-packages (from requests[socks]->snscrape) (1.7.1)\n",
            "Installing collected packages: snscrape\n",
            "Successfully installed snscrape-0.4.3.20220106\n"
          ]
        }
      ]
    },
    {
      "cell_type": "code",
      "source": [
        "import snscrape.modules.telegram as telegram\n",
        "import pandas as pd\n",
        "\n",
        "tweets_list = []\n",
        "for i in groups:\n",
        "    for x,tel in enumerate(telegram.TelegramChannelScraper(i).get_items()):\n",
        "        date = str(tel.date).split('+')[0].split()[0]\n",
        "        time = str(tel.date).split('+')[0].split()[1]\n",
        "        if  (int(date.split('-')[1])<=9 and int(date.split('-')[2])<=14):\n",
        "            break\n",
        "        tweets_list.append([i,date, time, tel.content])"
      ],
      "metadata": {
        "id": "S9QgoTAbFs3J",
        "colab": {
          "base_uri": "https://localhost:8080/"
        },
        "outputId": "175e5fed-f054-4eda-858e-6fbe4cc7b4ad"
      },
      "execution_count": 9,
      "outputs": [
        {
          "output_type": "stream",
          "name": "stderr",
          "text": [
            "WARNING:snscrape.modules.telegram:No public post list for this user\n"
          ]
        }
      ]
    },
    {
      "cell_type": "code",
      "source": [
        "rdd = spark.sparkContext.parallelize(tweets_list)"
      ],
      "metadata": {
        "id": "HLZuZu9aH09k"
      },
      "execution_count": 10,
      "outputs": []
    },
    {
      "cell_type": "code",
      "source": [
        "columns=['Name', 'Date',' Time', 'Text']"
      ],
      "metadata": {
        "id": "ciiDanP4H9H_"
      },
      "execution_count": 11,
      "outputs": []
    },
    {
      "cell_type": "code",
      "source": [
        "df=rdd.toDF(columns)"
      ],
      "metadata": {
        "id": "U2fYAxoGCbNi"
      },
      "execution_count": 12,
      "outputs": []
    },
    {
      "cell_type": "code",
      "source": [
        "df.printSchema()"
      ],
      "metadata": {
        "colab": {
          "base_uri": "https://localhost:8080/"
        },
        "id": "ie4XltJdCevZ",
        "outputId": "fb1031e9-be7c-4028-dc93-3e1ec3cb8bdf"
      },
      "execution_count": 13,
      "outputs": [
        {
          "output_type": "stream",
          "name": "stdout",
          "text": [
            "root\n",
            " |-- Name: string (nullable = true)\n",
            " |-- Date: string (nullable = true)\n",
            " |--  Time: string (nullable = true)\n",
            " |-- Text: string (nullable = true)\n",
            "\n"
          ]
        }
      ]
    },
    {
      "cell_type": "code",
      "source": [
        "df.show(truncate=False)"
      ],
      "metadata": {
        "colab": {
          "base_uri": "https://localhost:8080/"
        },
        "id": "tGiCw3Q9IcBB",
        "outputId": "314aa890-94e8-4124-ea0f-d53b6a61a91a"
      },
      "execution_count": 14,
      "outputs": [
        {
          "output_type": "stream",
          "name": "stdout",
          "text": [
            "+-----------------+----------+--------+---------------------------------------------------------------------------------------------------------------------------------------------------+\n",
            "|Name             |Date      | Time   |Text                                                                                                                                               |\n",
            "+-----------------+----------+--------+---------------------------------------------------------------------------------------------------------------------------------------------------+\n",
            "|CryptoClassicsVIP|2022-11-24|21:27:22|#LTCUSDT  Trade Type: long position  Entry zone 46.40 - 52.50  Amount: 3% from deposit   Target: 1) 61.69 2) 70.90 3) 89.75  Stop 43.20            |\n",
            "|CryptoClassicsVIP|2022-11-09|21:26:58|#BNBUSDT  Trade Type: long position  Entry zone 277 - 297  Amount: 3% from deposit   Target: 1) 330 2) 367 3) 404  Stop 256                        |\n",
            "|CryptoClassicsVIP|2022-11-09|21:22:57|#ALGOUSDT  Trade Type: long position  Entry zone 0.30 - 0.34  Amount: 3% from deposit   Target: 1) 0.40 2) 0.47 3) 0.54  Stop 0.27                 |\n",
            "|CryptoClassicsVIP|2022-11-08|19:32:16|#BTCUSDT  Trade Type: long position  Entry zone 19000 - 21000  Amount: 3% from deposit   Target: 1) 24300 2) 26450 3) 28750  Stop 17500            |\n",
            "|CryptoClassicsVIP|2022-11-08|16:34:31|#CAKEUSDT  Trade Type: long position  Entry zone 4.00 - 4.31  Amount: 3% from deposit   Target: 1) 5.08 2) 5.75 3) 6.85  Stop 3.52                 |\n",
            "|CryptoClassicsVIP|2022-11-05|11:35:09|#LTCUSDT  Trade Type: long position  Entry zone 46.40 - 52.50  Amount: 3% from deposit   Target: 1) 61.69 2) 70.90 3) 89.75  Stop 43.20            |\n",
            "|CryptoClassicsVIP|2022-11-05|00:36:46|#DYDXUSDT  Trade Type: long position  Entry zone 1.11 - 1.26  Amount: 3% from deposit   Target: 1) 1.50 2) 1.75 3) 2.00  Stop 0.999                |\n",
            "|CryptoClassicsVIP|2022-11-04|16:29:12|#BNBUSDT  Trade Type: long position  Entry zone 277 - 297  Amount: 3% from deposit   Target: 1) 330 2) 367 3) 404  Stop 256                        |\n",
            "|CryptoClassicsVIP|2022-10-31|09:58:10|#BNBUSDT  Trade Type: long position  Entry zone 277 - 297  Amount: 3% from deposit   Target: 1) 330 2) 367 3) 404  Stop 256                        |\n",
            "|CryptoClassicsVIP|2022-10-27|06:23:24|#DYDXUSDT  Trade Type: long position  Entry zone 1.11 - 1.26  Amount: 3% from deposit   Target: 1) 1.50 2) 1.75 3) 2.00  Stop 0.999                |\n",
            "|CryptoClassicsVIP|2022-10-26|08:28:22|#SUSHIUSDT  Trade Type: long position  Entry zone: 0.94 - 1.08  Amount: 3% from deposit   Target: 1) 1.29 2) 1.50 3) 1.72  Stop: 0.85              |\n",
            "|CryptoClassicsVIP|2022-10-24|19:55:29|#CKBUSDT  Trade Type: long position  Entry zone 0.00350 - 0.00400  Amount: 3% from deposit   Target: 1) 0.00463 2) 0.00530 3) 0.00800  Stop 0.00325|\n",
            "|CryptoClassicsVIP|2022-10-18|08:05:25|#CKBUSDT  Trade Type: long position  Entry zone 0.00380 - 0.00400  Amount: 3% from deposit   Target: 1) 0.00444 2) 0.00493 3) 0.00542  Stop 0.00346|\n",
            "|CryptoClassicsVIP|2022-10-13|10:31:13|#SANDUSDT  Trade Type: long position  Entry zone 0.79 - 0.85  Amount: 3% from deposit   Target: 1) 0.99 2) 1.14 3) 1.29  Stop 0.699                |\n",
            "|CryptoClassicsVIP|2022-10-13|07:48:12|#BCHUSDT  Trade Type: long position  Entry zone 116 - 122  Amount: 3% from deposit   Target: 1) 136 2) 152 3) 168  Stop 106                        |\n",
            "|CryptoClassicsVIP|2022-10-13|07:38:55|#KSMUSDT  Trade Type: long position  Entry zone: 40 - 45  Amount: 3% from deposit   Target: 1) 49.80 2) 55.90 3) 62.00  Stop: 37.60                |\n",
            "|CryptoClassicsVIP|2022-10-13|06:45:50|#FILUSDT  Trade Type: long position  Entry zone: 5.75 - 6.30  Amount: 3% from deposit   Target: 1) 7.35 2) 8.75 3) 9.99  Stop: 4.99                |\n",
            "|CryptoClassicsVIP|2022-10-13|06:42:16|#SKLUSDT  Trade Type: long position  Entry zone 0.0370 - 0.0396  Amount: 3% from deposit   Target: 1) 0.0454 2) 0.0496 3) 0.0548  Stop 0.03399     |\n",
            "|CryptoClassicsVIP|2022-10-13|06:31:56|#ANTUSDT  Trade Type: long position  Entry zone: 1.62 - 1.70  Amount: 3% from deposit   Target: 1) 1.83 2) 1.99 3) 2.14  Stop: 1.54                |\n",
            "|CryptoClassicsVIP|2022-10-13|02:25:57|#BANDUSDT  Trade Type: long position  Entry zone: 1.12 - 1.16  Amount: 3% from deposit   Target: 1) 1.24 2) 1.31 3) 1.41  Stop: 1.06               |\n",
            "+-----------------+----------+--------+---------------------------------------------------------------------------------------------------------------------------------------------------+\n",
            "only showing top 20 rows\n",
            "\n"
          ]
        }
      ]
    },
    {
      "cell_type": "code",
      "source": [
        "print(df.count(), len(df.columns))"
      ],
      "metadata": {
        "colab": {
          "base_uri": "https://localhost:8080/"
        },
        "id": "SgA0tPvLO1gd",
        "outputId": "80a6d077-de7f-4efd-f96e-1feeccc2a3c4"
      },
      "execution_count": 15,
      "outputs": [
        {
          "output_type": "stream",
          "name": "stdout",
          "text": [
            "21115 4\n"
          ]
        }
      ]
    },
    {
      "cell_type": "code",
      "source": [
        "from pyspark.sql.functions import col,udf"
      ],
      "metadata": {
        "id": "LFN4WUapVBp3"
      },
      "execution_count": 16,
      "outputs": []
    },
    {
      "cell_type": "code",
      "source": [
        "stop = set(stopwords.words('english'))\n",
        "exclude = set(string.punctuation)\n",
        "exclude.remove('.')\n",
        "exclude.remove('-')\n",
        "lemma = WordNetLemmatizer()\n",
        "def text_cleaning(text):\n",
        "    stop_free = ' '.join([word for word in str(text).split() if word not in stop])\n",
        "    punc_free = ''.join(ch for ch in stop_free if ch not in exclude)\n",
        "    normalized = ' '.join([lemma.lemmatize(word) for word in punc_free.split()])\n",
        "    return normalized.split()\n"
      ],
      "metadata": {
        "id": "-83QZcOMRNU4"
      },
      "execution_count": 17,
      "outputs": []
    },
    {
      "cell_type": "code",
      "source": [
        "t_cleaning=udf(lambda q : text_cleaning(q))"
      ],
      "metadata": {
        "id": "nLTxfwypVeqH"
      },
      "execution_count": 18,
      "outputs": []
    },
    {
      "cell_type": "code",
      "source": [
        "from pyspark.sql.functions import lit"
      ],
      "metadata": {
        "id": "7jXyqyAKf1j1"
      },
      "execution_count": 19,
      "outputs": []
    },
    {
      "cell_type": "code",
      "source": [
        "df1=df.withColumn(\"Cleaned Text\", lit(t_cleaning(col(\"Text\"))))"
      ],
      "metadata": {
        "id": "fINaGWGzVr_7"
      },
      "execution_count": 20,
      "outputs": []
    },
    {
      "cell_type": "code",
      "source": [
        "df1.show()"
      ],
      "metadata": {
        "colab": {
          "base_uri": "https://localhost:8080/"
        },
        "id": "Qsxt4E_XV_zb",
        "outputId": "a650169f-687e-4a93-b5cf-10a56a806479"
      },
      "execution_count": 21,
      "outputs": [
        {
          "output_type": "stream",
          "name": "stdout",
          "text": [
            "+-----------------+----------+--------+--------------------+--------------------+\n",
            "|             Name|      Date|    Time|                Text|        Cleaned Text|\n",
            "+-----------------+----------+--------+--------------------+--------------------+\n",
            "|CryptoClassicsVIP|2022-11-24|21:27:22|#LTCUSDT  Trade T...|[LTCUSDT, Trade, ...|\n",
            "|CryptoClassicsVIP|2022-11-09|21:26:58|#BNBUSDT  Trade T...|[BNBUSDT, Trade, ...|\n",
            "|CryptoClassicsVIP|2022-11-09|21:22:57|#ALGOUSDT  Trade ...|[ALGOUSDT, Trade,...|\n",
            "|CryptoClassicsVIP|2022-11-08|19:32:16|#BTCUSDT  Trade T...|[BTCUSDT, Trade, ...|\n",
            "|CryptoClassicsVIP|2022-11-08|16:34:31|#CAKEUSDT  Trade ...|[CAKEUSDT, Trade,...|\n",
            "|CryptoClassicsVIP|2022-11-05|11:35:09|#LTCUSDT  Trade T...|[LTCUSDT, Trade, ...|\n",
            "|CryptoClassicsVIP|2022-11-05|00:36:46|#DYDXUSDT  Trade ...|[DYDXUSDT, Trade,...|\n",
            "|CryptoClassicsVIP|2022-11-04|16:29:12|#BNBUSDT  Trade T...|[BNBUSDT, Trade, ...|\n",
            "|CryptoClassicsVIP|2022-10-31|09:58:10|#BNBUSDT  Trade T...|[BNBUSDT, Trade, ...|\n",
            "|CryptoClassicsVIP|2022-10-27|06:23:24|#DYDXUSDT  Trade ...|[DYDXUSDT, Trade,...|\n",
            "|CryptoClassicsVIP|2022-10-26|08:28:22|#SUSHIUSDT  Trade...|[SUSHIUSDT, Trade...|\n",
            "|CryptoClassicsVIP|2022-10-24|19:55:29|#CKBUSDT  Trade T...|[CKBUSDT, Trade, ...|\n",
            "|CryptoClassicsVIP|2022-10-18|08:05:25|#CKBUSDT  Trade T...|[CKBUSDT, Trade, ...|\n",
            "|CryptoClassicsVIP|2022-10-13|10:31:13|#SANDUSDT  Trade ...|[SANDUSDT, Trade,...|\n",
            "|CryptoClassicsVIP|2022-10-13|07:48:12|#BCHUSDT  Trade T...|[BCHUSDT, Trade, ...|\n",
            "|CryptoClassicsVIP|2022-10-13|07:38:55|#KSMUSDT  Trade T...|[KSMUSDT, Trade, ...|\n",
            "|CryptoClassicsVIP|2022-10-13|06:45:50|#FILUSDT  Trade T...|[FILUSDT, Trade, ...|\n",
            "|CryptoClassicsVIP|2022-10-13|06:42:16|#SKLUSDT  Trade T...|[SKLUSDT, Trade, ...|\n",
            "|CryptoClassicsVIP|2022-10-13|06:31:56|#ANTUSDT  Trade T...|[ANTUSDT, Trade, ...|\n",
            "|CryptoClassicsVIP|2022-10-13|02:25:57|#BANDUSDT  Trade ...|[BANDUSDT, Trade,...|\n",
            "+-----------------+----------+--------+--------------------+--------------------+\n",
            "only showing top 20 rows\n",
            "\n"
          ]
        }
      ]
    },
    {
      "cell_type": "code",
      "source": [
        "import pandas as pd"
      ],
      "metadata": {
        "id": "qR1A_ohsjCV5"
      },
      "execution_count": 22,
      "outputs": []
    },
    {
      "cell_type": "code",
      "source": [
        "# Spark df to Pandas df\n",
        "df_pd = df1.toPandas()"
      ],
      "metadata": {
        "id": "hDkIeBxTWfXl"
      },
      "execution_count": 25,
      "outputs": []
    },
    {
      "cell_type": "code",
      "source": [
        "os.chdir(\"/content/drive/MyDrive/pen\")\n",
        "if not os.path.exists('Channels'):\n",
        "    os.mkdir('Channels')\n",
        "os.chdir(os.path.join(os.getcwd(),'Channels'))\n",
        "for i in groups:\n",
        "    if not os.path.exists(i):\n",
        "        os.mkdir(i)\n",
        "    os.chdir(os.path.join(os.getcwd(),i))\n",
        "    df_pd[df_pd['Name']==i].to_csv('1_'+i+'.csv', mode='w', index=False, header=False)\n",
        "    os.chdir('/content/drive/MyDrive/pen/Channels')\n",
        "os.chdir(\"/content/drive/MyDrive/pen\")\n",
        "with open('datetime.txt', 'w') as f:\n",
        "    f.write(str(datetime.now()))"
      ],
      "metadata": {
        "id": "ENfke00RWv0h"
      },
      "execution_count": 28,
      "outputs": []
    },
    {
      "cell_type": "code",
      "source": [],
      "metadata": {
        "id": "2fh8fFM6gwhL"
      },
      "execution_count": 28,
      "outputs": []
    }
  ]
}