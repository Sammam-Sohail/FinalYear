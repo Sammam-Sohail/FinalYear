{
 "cells": [
  {
   "cell_type": "code",
   "execution_count": 1,
   "metadata": {
    "tags": []
   },
   "outputs": [],
   "source": [
    "import re\n",
    "import nltk\n",
    "import string\n",
    "from nltk.corpus import stopwords\n",
    "from nltk.stem.wordnet import WordNetLemmatizer\n",
    "import os\n",
    "import numpy as np\n",
    "from datetime import datetime\n",
    "import dateutil.relativedelta\n",
    "import configparser"
   ]
  },
  {
   "cell_type": "code",
   "execution_count": 3,
   "metadata": {},
   "outputs": [],
   "source": [
    "%%capture\n",
    "%pip install -r requirements.txt\n",
    "!python -m nltk.downloader stopwords\n",
    "!python -m nltk.downloader wordnet\n",
    "!python -m nltk.downloader omw-1.4"
   ]
  },
  {
   "cell_type": "code",
   "execution_count": 2,
   "metadata": {},
   "outputs": [],
   "source": [
    "last_updated_time = str(datetime.now() + dateutil.relativedelta.relativedelta(months=-1))\n",
    "CurrentYear,CurrentMonth,CurrentDate = [int(i) for i in last_updated_time.split(\" \")[0].split(\"-\")]"
   ]
  },
  {
   "cell_type": "code",
   "execution_count": 59,
   "metadata": {},
   "outputs": [],
   "source": [
    "if not os.path.exists('Last_Updated.txt'):\n",
    "    last_updated_time = str(\n",
    "        datetime.now() + dateutil.relativedelta.relativedelta(months=-1))\n",
    "    CurrentYear,CurrentMonth,CurrentDate = [int(i) for i in last_updated_time.split(\" \")[0].split(\"-\")]\n",
    "else:\n",
    "    with open('Last_Updated.txt', 'r') as f:\n",
    "        last_updated_time = f.read()\n",
    "        CurrentYear,CurrentMonth,CurrentDate = [int(i) for i in last_updated_time.split(\" \")[0].split(\"-\")]\n",
    "CurrentTime = datetime(CurrentYear,CurrentMonth,CurrentDate)"
   ]
  },
  {
   "cell_type": "code",
   "execution_count": 60,
   "metadata": {},
   "outputs": [],
   "source": [
    "config = configparser.ConfigParser()\n",
    "config.read_file(open('config.cfg'))\n",
    "binance_coins= config.get('Telegram', 'Coins').replace(\"'\",\"\").strip('][').split(', ')\n",
    "groups = config.get('Telegram', 'Groups').replace(\"'\",\"\").strip(\"][\").split(', ')"
   ]
  },
  {
   "cell_type": "code",
   "execution_count": 42,
   "metadata": {},
   "outputs": [
    {
     "name": "stdout",
     "output_type": "stream",
     "text": [
      "['bestcryptotutor', 'binancefuturesignal', 'BitmexCourses', 'btctradingclub', 'coin_signals', 'CryptoClassicsVIP', 'CRYPTONOTESMOHSIN', 'cryptopapasignals', 'CryptoProfitCoach', 'cryptosignalalert', 'CryptoSignalCrazy', 'Dash2Trade', 'FedRussianInsiders', 'freebitmexsignals', 'godx_signals', 'List.txt', 'QualitySignalsChannel', 'The_CryptoLogy_Signals', 'UltimateCryptoSignals']\n"
     ]
    }
   ],
   "source": [
    "print(groups)"
   ]
  },
  {
   "cell_type": "code",
   "execution_count": 61,
   "metadata": {},
   "outputs": [
    {
     "name": "stdout",
     "output_type": "stream",
     "text": [
      "bestcryptotutor\n",
      "binancefuturesignal\n",
      "BitmexCourses\n",
      "btctradingclub\n",
      "coin_signals\n",
      "CryptoClassicsVIP\n",
      "CRYPTONOTESMOHSIN\n",
      "cryptopapasignals\n",
      "CryptoProfitCoach\n",
      "cryptosignalalert\n",
      "CryptoSignalCrazy\n",
      "Dash2Trade\n"
     ]
    },
    {
     "name": "stderr",
     "output_type": "stream",
     "text": [
      "No public post list for this user\n"
     ]
    },
    {
     "name": "stdout",
     "output_type": "stream",
     "text": [
      "FedRussianInsiders\n",
      "freebitmexsignals\n",
      "godx_signals\n",
      "List.txt\n"
     ]
    },
    {
     "name": "stderr",
     "output_type": "stream",
     "text": [
      "No public post list for this user\n"
     ]
    },
    {
     "name": "stdout",
     "output_type": "stream",
     "text": [
      "QualitySignalsChannel\n",
      "The_CryptoLogy_Signals\n",
      "UltimateCryptoSignals\n"
     ]
    }
   ],
   "source": [
    "import snscrape.modules.telegram as telegram\n",
    "import pandas as pd\n",
    "\n",
    "tweets_list = []\n",
    "for i in groups:\n",
    "    print(i)\n",
    "    for x,tel in enumerate(telegram.TelegramChannelScraper(str(i)).get_items()):\n",
    "        x,y,z= [int(i) for i in str(tel.date).split(' ')[0].split('-')]\n",
    "        Hello = datetime(x,y,z)\n",
    "        if  (CurrentTime<Hello):\n",
    "            break\n",
    "        tweets_list.append([i,str(tel.date).split(' ')[0],str(tel.date).split(' ')[1].split('+')[0], tel.content])\n",
    "    "
   ]
  },
  {
   "cell_type": "code",
   "execution_count": 62,
   "metadata": {},
   "outputs": [],
   "source": [
    "tel_df = pd.DataFrame(tweets_list, columns=['Name','Date','Time','Text'])\n"
   ]
  },
  {
   "cell_type": "code",
   "execution_count": 63,
   "metadata": {},
   "outputs": [
    {
     "data": {
      "text/html": [
       "<div>\n",
       "<style scoped>\n",
       "    .dataframe tbody tr th:only-of-type {\n",
       "        vertical-align: middle;\n",
       "    }\n",
       "\n",
       "    .dataframe tbody tr th {\n",
       "        vertical-align: top;\n",
       "    }\n",
       "\n",
       "    .dataframe thead th {\n",
       "        text-align: right;\n",
       "    }\n",
       "</style>\n",
       "<table border=\"1\" class=\"dataframe\">\n",
       "  <thead>\n",
       "    <tr style=\"text-align: right;\">\n",
       "      <th></th>\n",
       "      <th>Name</th>\n",
       "      <th>Date</th>\n",
       "      <th>Time</th>\n",
       "      <th>Text</th>\n",
       "    </tr>\n",
       "  </thead>\n",
       "  <tbody>\n",
       "    <tr>\n",
       "      <th>2813</th>\n",
       "      <td>godx_signals</td>\n",
       "      <td>2022-08-06</td>\n",
       "      <td>13:28:16</td>\n",
       "      <td>Channel created</td>\n",
       "    </tr>\n",
       "    <tr>\n",
       "      <th>2812</th>\n",
       "      <td>godx_signals</td>\n",
       "      <td>2022-08-06</td>\n",
       "      <td>13:45:28</td>\n",
       "      <td>Lessons how to use our signals.Soon….</td>\n",
       "    </tr>\n",
       "    <tr>\n",
       "      <th>2811</th>\n",
       "      <td>godx_signals</td>\n",
       "      <td>2022-08-06</td>\n",
       "      <td>14:01:39</td>\n",
       "      <td>None</td>\n",
       "    </tr>\n",
       "    <tr>\n",
       "      <th>2810</th>\n",
       "      <td>godx_signals</td>\n",
       "      <td>2022-10-11</td>\n",
       "      <td>06:45:25</td>\n",
       "      <td>UNFI/USDT📈 BUY/LONGENTRY: 5.875-5.887💎TP1: 5.9...</td>\n",
       "    </tr>\n",
       "    <tr>\n",
       "      <th>2809</th>\n",
       "      <td>godx_signals</td>\n",
       "      <td>2022-10-11</td>\n",
       "      <td>15:47:12</td>\n",
       "      <td>UNFI/USDT📈 BUY/LONG  ENTRY: 5.875-5.887  💎TP1:...</td>\n",
       "    </tr>\n",
       "    <tr>\n",
       "      <th>...</th>\n",
       "      <td>...</td>\n",
       "      <td>...</td>\n",
       "      <td>...</td>\n",
       "      <td>...</td>\n",
       "    </tr>\n",
       "    <tr>\n",
       "      <th>4</th>\n",
       "      <td>CryptoClassicsVIP</td>\n",
       "      <td>2022-11-08</td>\n",
       "      <td>19:32:16</td>\n",
       "      <td>#BTCUSDT  Trade Type: long position  Entry zon...</td>\n",
       "    </tr>\n",
       "    <tr>\n",
       "      <th>3</th>\n",
       "      <td>CryptoClassicsVIP</td>\n",
       "      <td>2022-11-09</td>\n",
       "      <td>21:22:57</td>\n",
       "      <td>#ALGOUSDT  Trade Type: long position  Entry zo...</td>\n",
       "    </tr>\n",
       "    <tr>\n",
       "      <th>2</th>\n",
       "      <td>CryptoClassicsVIP</td>\n",
       "      <td>2022-11-09</td>\n",
       "      <td>21:26:58</td>\n",
       "      <td>#BNBUSDT  Trade Type: long position  Entry zon...</td>\n",
       "    </tr>\n",
       "    <tr>\n",
       "      <th>1</th>\n",
       "      <td>CryptoClassicsVIP</td>\n",
       "      <td>2022-11-24</td>\n",
       "      <td>21:27:22</td>\n",
       "      <td>#LTCUSDT  Trade Type: long position  Entry zon...</td>\n",
       "    </tr>\n",
       "    <tr>\n",
       "      <th>0</th>\n",
       "      <td>CryptoClassicsVIP</td>\n",
       "      <td>2022-12-16</td>\n",
       "      <td>10:26:19</td>\n",
       "      <td>#CAKEUSDT  Trade Type: long position  Entry zo...</td>\n",
       "    </tr>\n",
       "  </tbody>\n",
       "</table>\n",
       "<p>2814 rows × 4 columns</p>\n",
       "</div>"
      ],
      "text/plain": [
       "                   Name        Date      Time  \\\n",
       "2813       godx_signals  2022-08-06  13:28:16   \n",
       "2812       godx_signals  2022-08-06  13:45:28   \n",
       "2811       godx_signals  2022-08-06  14:01:39   \n",
       "2810       godx_signals  2022-10-11  06:45:25   \n",
       "2809       godx_signals  2022-10-11  15:47:12   \n",
       "...                 ...         ...       ...   \n",
       "4     CryptoClassicsVIP  2022-11-08  19:32:16   \n",
       "3     CryptoClassicsVIP  2022-11-09  21:22:57   \n",
       "2     CryptoClassicsVIP  2022-11-09  21:26:58   \n",
       "1     CryptoClassicsVIP  2022-11-24  21:27:22   \n",
       "0     CryptoClassicsVIP  2022-12-16  10:26:19   \n",
       "\n",
       "                                                   Text  \n",
       "2813                                    Channel created  \n",
       "2812              Lessons how to use our signals.Soon….  \n",
       "2811                                               None  \n",
       "2810  UNFI/USDT📈 BUY/LONGENTRY: 5.875-5.887💎TP1: 5.9...  \n",
       "2809  UNFI/USDT📈 BUY/LONG  ENTRY: 5.875-5.887  💎TP1:...  \n",
       "...                                                 ...  \n",
       "4     #BTCUSDT  Trade Type: long position  Entry zon...  \n",
       "3     #ALGOUSDT  Trade Type: long position  Entry zo...  \n",
       "2     #BNBUSDT  Trade Type: long position  Entry zon...  \n",
       "1     #LTCUSDT  Trade Type: long position  Entry zon...  \n",
       "0     #CAKEUSDT  Trade Type: long position  Entry zo...  \n",
       "\n",
       "[2814 rows x 4 columns]"
      ]
     },
     "execution_count": 63,
     "metadata": {},
     "output_type": "execute_result"
    }
   ],
   "source": [
    "tel_df= tel_df.iloc[::-1]\n",
    "tel_df"
   ]
  },
  {
   "cell_type": "code",
   "execution_count": null,
   "metadata": {},
   "outputs": [],
   "source": [
    "stop = set(stopwords.words('english'))\n",
    "exclude = set(string.punctuation)\n",
    "exclude.remove('.')\n",
    "exclude.remove('-')\n",
    "lemma = WordNetLemmatizer()\n",
    "def text_cleaning(text):\n",
    "    stop_free = ' '.join([word for word in str(text).split() if word not in stop])\n",
    "    punc_free = ''.join(ch for ch in stop_free if ch not in exclude)\n",
    "    normalized = ' '.join([lemma.lemmatize(word) for word in punc_free.split()])\n",
    "    return normalized.split()\n",
    "\n",
    "tel_df[\"Cleaned Text\"]= tel_df[\"Text\"].apply(text_cleaning)"
   ]
  },
  {
   "cell_type": "code",
   "execution_count": null,
   "metadata": {},
   "outputs": [],
   "source": [
    "tel_df.groupby('Name').count()"
   ]
  },
  {
   "cell_type": "code",
   "execution_count": null,
   "metadata": {},
   "outputs": [],
   "source": [
    "if not os.path.exists('Channels'):\n",
    "    os.mkdir('Channels')\n",
    "os.chdir(os.path.join(os.getcwd(),'Channels'))\n",
    "for i in groups:\n",
    "    if not os.path.exists(i):\n",
    "        os.mkdir(i)\n",
    "    os.chdir(os.path.join(os.getcwd(),i))\n",
    "    tel_df[tel_df['Name']==i].to_csv('0_'+i+'.csv', mode='w', index=False, header=False)\n",
    "    os.chdir('./Channels')\n",
    "os.chdir(\"C:Users/Mohib/Desktop/FinalYear/Telegram\")\n",
    "with open('datetime.txt', 'w') as f:\n",
    "    f.write(str(datetime.now()))"
   ]
  },
  {
   "cell_type": "code",
   "execution_count": null,
   "metadata": {},
   "outputs": [],
   "source": [
    "import pandas as pd\n",
    "from matplotlib import pyplot as plt\n",
    "count = []\n",
    "names = []\n",
    "for group in groups:\n",
    "    names.append(group)\n",
    "    count.append(len(tel_df[tel_df['Name']==group]))\n",
    "plt.bar(names,count)\n",
    "plt.xticks(rotation=90)\n",
    "plt.show()"
   ]
  },
  {
   "cell_type": "markdown",
   "metadata": {},
   "source": [
    "Before Filter 1"
   ]
  },
  {
   "cell_type": "code",
   "execution_count": null,
   "metadata": {},
   "outputs": [],
   "source": [
    "def extractor(i):\n",
    "    i = str(i)\n",
    "    suffixes = 'usdt|busd|futures'\n",
    "    coinsregex = '|'.join(binance_coins)\n",
    "    found = False\n",
    "    text = re.sub(r'[^\\w\\s]', ' ', i)\n",
    "    for s in text.split():\n",
    "        if re.search(\"({})({})+|({})+({})|^({})$|[0-9]+({})|({})[0-9]+\".format(coinsregex,suffixes,suffixes,coinsregex,coinsregex,coinsregex,coinsregex), s,re.IGNORECASE):\n",
    "            found = True\n",
    "            break\n",
    "    if(found):\n",
    "        return i\n",
    "    else: return np.nan\n",
    "tel_df['Cleaned Text'] = tel_df['Cleaned Text'].apply(extractor)\n",
    "tel_df_fil1 = tel_df[tel_df['Cleaned Text'].notna()] "
   ]
  },
  {
   "cell_type": "code",
   "execution_count": null,
   "metadata": {},
   "outputs": [],
   "source": [
    "tel_df_fil1"
   ]
  },
  {
   "cell_type": "code",
   "execution_count": null,
   "metadata": {},
   "outputs": [],
   "source": [
    "import pandas as pd\n",
    "from matplotlib import pyplot as plt\n",
    "count = list()\n",
    "names = list()\n",
    "for group in groups:\n",
    "    names.append(group)\n",
    "    count.append(len(tel_df_fil1[tel_df_fil1['Name']==group]))\n",
    "plt.bar(names,count)\n",
    "plt.xticks(rotation=90)\n",
    "plt.show()"
   ]
  },
  {
   "cell_type": "markdown",
   "metadata": {},
   "source": [
    "After Filter 1 "
   ]
  },
  {
   "cell_type": "code",
   "execution_count": null,
   "metadata": {},
   "outputs": [],
   "source": [
    "os.chdir(\"/workspace/FinalYear/\")\n",
    "if not os.path.exists('Channels'):\n",
    "    os.mkdir('Channels')\n",
    "os.chdir(os.path.join(os.getcwd(),'Channels'))\n",
    "for i in groups:\n",
    "    if not os.path.exists(i):\n",
    "        os.mkdir(i)\n",
    "    os.chdir(os.path.join(os.getcwd(),i))\n",
    "    tel_df_fil1[tel_df_fil1['Name']==i].to_csv('1_'+i+'.csv', mode='a', index=False, header=False)\n",
    "    os.chdir('/workspace/FinalYear/Channels')\n",
    "os.chdir(\"/workspace/FinalYear/\")\n",
    "with open('datetime.txt', 'w') as f:\n",
    "    f.write(str(datetime.now()))"
   ]
  }
 ],
 "metadata": {
  "kernelspec": {
   "display_name": "Python 3",
   "language": "python",
   "name": "python3"
  },
  "language_info": {
   "codemirror_mode": {
    "name": "ipython",
    "version": 3
   },
   "file_extension": ".py",
   "mimetype": "text/x-python",
   "name": "python",
   "nbconvert_exporter": "python",
   "pygments_lexer": "ipython3",
   "version": "3.11.2"
  },
  "orig_nbformat": 4,
  "vscode": {
   "interpreter": {
    "hash": "c9d430fe7f71b62c3834c19333704f375e17727565e440466e989c47695e4342"
   }
  }
 },
 "nbformat": 4,
 "nbformat_minor": 2
}
