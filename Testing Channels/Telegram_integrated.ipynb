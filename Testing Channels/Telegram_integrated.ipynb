{
 "cells": [
  {
   "cell_type": "code",
   "execution_count": 1,
   "metadata": {},
   "outputs": [],
   "source": [
    "import re\n",
    "import nltk\n",
    "import string\n",
    "from nltk.corpus import stopwords\n",
    "from nltk.stem.wordnet import WordNetLemmatizer\n",
    "import os\n",
    "import numpy as np\n",
    "from datetime import datetime\n",
    "import dateutil.relativedelta\n",
    "import configparser"
   ]
  },
  {
   "cell_type": "code",
   "execution_count": 135,
   "metadata": {},
   "outputs": [
    {
     "name": "stdout",
     "output_type": "stream",
     "text": [
      "<Response [200]>\n"
     ]
    }
   ],
   "source": [
    "import requests\n",
    "res = requests.get('https://telegram.org/')\n",
    "print(res)"
   ]
  },
  {
   "cell_type": "code",
   "execution_count": 136,
   "metadata": {},
   "outputs": [],
   "source": [
    "# %%capture\n",
    "# %pip install -r requirements.txt\n",
    "# !python -m nltk.downloader stopwords\n",
    "# !python -m nltk.downloader wordnet\n",
    "# !python -m nltk.downloader omw-1.4"
   ]
  },
  {
   "cell_type": "code",
   "execution_count": 2,
   "metadata": {},
   "outputs": [],
   "source": [
    "if not os.path.exists('Last_Updated.txt'):\n",
    "    last_updated_time = str(\n",
    "        datetime.now() + dateutil.relativedelta.relativedelta(months=-1))\n",
    "    CurrentYear,CurrentMonth,CurrentDate = [int(i) for i in last_updated_time.split(\" \")[0].split(\"-\")]\n",
    "else:\n",
    "    with open('Last_Updated.txt', 'r') as f:\n",
    "        last_updated_time = f.read()\n",
    "        CurrentYear,CurrentMonth,CurrentDate = [int(i) for i in last_updated_time.split(\" \")[0].split(\"-\")]"
   ]
  },
  {
   "cell_type": "code",
   "execution_count": 3,
   "metadata": {},
   "outputs": [
    {
     "name": "stdout",
     "output_type": "stream",
     "text": [
      "['bestcryptotutor', 'binancefuturesignal', 'BitmexCourses', 'btctradingclub', 'coin_signals', 'CryptoClassicsVIP', 'CRYPTONOTESMOHSIN', 'cryptopapasignals', 'CryptoProfitCoach', 'cryptosignalalert', 'CryptoSignalCrazy', 'FedRussianInsiders', 'freebitmexsignals', 'godx_signals', 'QualitySignalsChannel', 'The_CryptoLogy_Signals', 'UltimateCryptoSignals']\n"
     ]
    }
   ],
   "source": [
    "import ast\n",
    "config = configparser.ConfigParser()\n",
    "config.read_file(open('config.cfg'))\n",
    "binance_coins= ast.literal_eval(config.get('Telegram', 'Coins'))\n",
    "groups = ast.literal_eval(config.get('Telegram', 'Groups'))\n",
    "print(groups)"
   ]
  },
  {
   "cell_type": "code",
   "execution_count": 7,
   "metadata": {},
   "outputs": [
    {
     "name": "stdout",
     "output_type": "stream",
     "text": [
      "bestcryptotutor\n",
      "binancefuturesignal\n",
      "BitmexCourses\n",
      "btctradingclub\n",
      "coin_signals\n",
      "CryptoClassicsVIP\n",
      "CRYPTONOTESMOHSIN\n",
      "cryptopapasignals\n",
      "CryptoProfitCoach\n",
      "cryptosignalalert\n",
      "CryptoSignalCrazy\n",
      "FedRussianInsiders\n",
      "freebitmexsignals\n",
      "godx_signals\n",
      "QualitySignalsChannel\n",
      "The_CryptoLogy_Signals\n",
      "UltimateCryptoSignals\n"
     ]
    }
   ],
   "source": [
    "import snscrape.modules.telegram as telegram\n",
    "import pandas as pd\n",
    "\n",
    "tweets_list = []\n",
    "for i in groups:\n",
    "    print(i)\n",
    "    for x,tel in enumerate(telegram.TelegramChannelScraper(i).get_items()):\n",
    "        y,m,d = [int(i) for i in str(tel.date).split(' ')[0].split('-')]\n",
    "        if  (m<=CurrentMonth and d<=CurrentDate):\n",
    "            break\n",
    "        tweets_list.append([i,str(tel.date).split(' ')[0],str(tel.date).split(' ')[1].split('+')[0], tel.content])\n",
    "    "
   ]
  },
  {
   "cell_type": "code",
   "execution_count": 11,
   "metadata": {},
   "outputs": [
    {
     "ename": "KeyError",
     "evalue": "'Cleaned Text'",
     "output_type": "error",
     "traceback": [
      "\u001b[1;31m---------------------------------------------------------------------------\u001b[0m",
      "\u001b[1;31mKeyError\u001b[0m                                  Traceback (most recent call last)",
      "File \u001b[1;32mc:\\Users\\Mohib\\AppData\\Local\\Programs\\Python\\Python310\\lib\\site-packages\\pandas\\core\\indexes\\base.py:3803\u001b[0m, in \u001b[0;36mIndex.get_loc\u001b[1;34m(self, key, method, tolerance)\u001b[0m\n\u001b[0;32m   3802\u001b[0m \u001b[39mtry\u001b[39;00m:\n\u001b[1;32m-> 3803\u001b[0m     \u001b[39mreturn\u001b[39;00m \u001b[39mself\u001b[39;49m\u001b[39m.\u001b[39;49m_engine\u001b[39m.\u001b[39;49mget_loc(casted_key)\n\u001b[0;32m   3804\u001b[0m \u001b[39mexcept\u001b[39;00m \u001b[39mKeyError\u001b[39;00m \u001b[39mas\u001b[39;00m err:\n",
      "File \u001b[1;32mc:\\Users\\Mohib\\AppData\\Local\\Programs\\Python\\Python310\\lib\\site-packages\\pandas\\_libs\\index.pyx:138\u001b[0m, in \u001b[0;36mpandas._libs.index.IndexEngine.get_loc\u001b[1;34m()\u001b[0m\n",
      "File \u001b[1;32mc:\\Users\\Mohib\\AppData\\Local\\Programs\\Python\\Python310\\lib\\site-packages\\pandas\\_libs\\index.pyx:165\u001b[0m, in \u001b[0;36mpandas._libs.index.IndexEngine.get_loc\u001b[1;34m()\u001b[0m\n",
      "File \u001b[1;32mpandas\\_libs\\hashtable_class_helper.pxi:5745\u001b[0m, in \u001b[0;36mpandas._libs.hashtable.PyObjectHashTable.get_item\u001b[1;34m()\u001b[0m\n",
      "File \u001b[1;32mpandas\\_libs\\hashtable_class_helper.pxi:5753\u001b[0m, in \u001b[0;36mpandas._libs.hashtable.PyObjectHashTable.get_item\u001b[1;34m()\u001b[0m\n",
      "\u001b[1;31mKeyError\u001b[0m: 'Cleaned Text'",
      "\nThe above exception was the direct cause of the following exception:\n",
      "\u001b[1;31mKeyError\u001b[0m                                  Traceback (most recent call last)",
      "\u001b[1;32mc:\\Users\\Mohib\\Desktop\\Testing Channels\\Telegram_integrated.ipynb Cell 7\u001b[0m in \u001b[0;36m<cell line: 2>\u001b[1;34m()\u001b[0m\n\u001b[0;32m      <a href='vscode-notebook-cell:/c%3A/Users/Mohib/Desktop/Testing%20Channels/Telegram_integrated.ipynb#W6sZmlsZQ%3D%3D?line=0'>1</a>\u001b[0m tel_df \u001b[39m=\u001b[39m pd\u001b[39m.\u001b[39mDataFrame(tweets_list, columns\u001b[39m=\u001b[39m[\u001b[39m'\u001b[39m\u001b[39mName\u001b[39m\u001b[39m'\u001b[39m,\u001b[39m'\u001b[39m\u001b[39mDate\u001b[39m\u001b[39m'\u001b[39m,\u001b[39m'\u001b[39m\u001b[39mTime\u001b[39m\u001b[39m'\u001b[39m,\u001b[39m'\u001b[39m\u001b[39mText\u001b[39m\u001b[39m'\u001b[39m])\n\u001b[1;32m----> <a href='vscode-notebook-cell:/c%3A/Users/Mohib/Desktop/Testing%20Channels/Telegram_integrated.ipynb#W6sZmlsZQ%3D%3D?line=1'>2</a>\u001b[0m tel_df \u001b[39m=\u001b[39m tel_df[tel_df[\u001b[39m'\u001b[39;49m\u001b[39mCleaned Text\u001b[39;49m\u001b[39m'\u001b[39;49m]\u001b[39m.\u001b[39mnotna()]\n",
      "File \u001b[1;32mc:\\Users\\Mohib\\AppData\\Local\\Programs\\Python\\Python310\\lib\\site-packages\\pandas\\core\\frame.py:3804\u001b[0m, in \u001b[0;36mDataFrame.__getitem__\u001b[1;34m(self, key)\u001b[0m\n\u001b[0;32m   3802\u001b[0m \u001b[39mif\u001b[39;00m \u001b[39mself\u001b[39m\u001b[39m.\u001b[39mcolumns\u001b[39m.\u001b[39mnlevels \u001b[39m>\u001b[39m \u001b[39m1\u001b[39m:\n\u001b[0;32m   3803\u001b[0m     \u001b[39mreturn\u001b[39;00m \u001b[39mself\u001b[39m\u001b[39m.\u001b[39m_getitem_multilevel(key)\n\u001b[1;32m-> 3804\u001b[0m indexer \u001b[39m=\u001b[39m \u001b[39mself\u001b[39;49m\u001b[39m.\u001b[39;49mcolumns\u001b[39m.\u001b[39;49mget_loc(key)\n\u001b[0;32m   3805\u001b[0m \u001b[39mif\u001b[39;00m is_integer(indexer):\n\u001b[0;32m   3806\u001b[0m     indexer \u001b[39m=\u001b[39m [indexer]\n",
      "File \u001b[1;32mc:\\Users\\Mohib\\AppData\\Local\\Programs\\Python\\Python310\\lib\\site-packages\\pandas\\core\\indexes\\base.py:3805\u001b[0m, in \u001b[0;36mIndex.get_loc\u001b[1;34m(self, key, method, tolerance)\u001b[0m\n\u001b[0;32m   3803\u001b[0m     \u001b[39mreturn\u001b[39;00m \u001b[39mself\u001b[39m\u001b[39m.\u001b[39m_engine\u001b[39m.\u001b[39mget_loc(casted_key)\n\u001b[0;32m   3804\u001b[0m \u001b[39mexcept\u001b[39;00m \u001b[39mKeyError\u001b[39;00m \u001b[39mas\u001b[39;00m err:\n\u001b[1;32m-> 3805\u001b[0m     \u001b[39mraise\u001b[39;00m \u001b[39mKeyError\u001b[39;00m(key) \u001b[39mfrom\u001b[39;00m \u001b[39merr\u001b[39;00m\n\u001b[0;32m   3806\u001b[0m \u001b[39mexcept\u001b[39;00m \u001b[39mTypeError\u001b[39;00m:\n\u001b[0;32m   3807\u001b[0m     \u001b[39m# If we have a listlike key, _check_indexing_error will raise\u001b[39;00m\n\u001b[0;32m   3808\u001b[0m     \u001b[39m#  InvalidIndexError. Otherwise we fall through and re-raise\u001b[39;00m\n\u001b[0;32m   3809\u001b[0m     \u001b[39m#  the TypeError.\u001b[39;00m\n\u001b[0;32m   3810\u001b[0m     \u001b[39mself\u001b[39m\u001b[39m.\u001b[39m_check_indexing_error(key)\n",
      "\u001b[1;31mKeyError\u001b[0m: 'Cleaned Text'"
     ]
    }
   ],
   "source": [
    "tel_df = pd.DataFrame(tweets_list, columns=['Name','Date','Time','Text'])\n"
   ]
  },
  {
   "cell_type": "code",
   "execution_count": 15,
   "metadata": {},
   "outputs": [],
   "source": [
    "def MoreCleaning(text):\n",
    "    if(text!= None):\n",
    "        str_en = text.encode(\"ascii\", \"replace\").replace(b\"?\",b\" \")\n",
    "        str_de = str_en.decode()\n",
    "        str_de = re.sub(' +', ' ', re.sub(r\"([0-9]+(\\.[0-9]+)?)\",r\" \\1 \", str_de).strip())\n",
    "        str_de = re.sub(r\"\\bStop\\sLoss\\b\", \"StopLoss\", str_de,re.IGNORECASE)\n",
    "        matches = re.findall(r\"\\btarget[s]?\\b\", str_de,re.IGNORECASE)\n",
    "        if matches:\n",
    "            return str_de\n",
    "        else:\n",
    "            return np.nan\n",
    "        print(str_de)\n",
    "        return str_de\n",
    "tel_df[\"Text\"] = tel_df[\"Text\"].apply(MoreCleaning)\n"
   ]
  },
  {
   "cell_type": "code",
   "execution_count": 16,
   "metadata": {},
   "outputs": [
    {
     "data": {
      "text/html": [
       "<div>\n",
       "<style scoped>\n",
       "    .dataframe tbody tr th:only-of-type {\n",
       "        vertical-align: middle;\n",
       "    }\n",
       "\n",
       "    .dataframe tbody tr th {\n",
       "        vertical-align: top;\n",
       "    }\n",
       "\n",
       "    .dataframe thead th {\n",
       "        text-align: right;\n",
       "    }\n",
       "</style>\n",
       "<table border=\"1\" class=\"dataframe\">\n",
       "  <thead>\n",
       "    <tr style=\"text-align: right;\">\n",
       "      <th></th>\n",
       "      <th>Name</th>\n",
       "      <th>Date</th>\n",
       "      <th>Time</th>\n",
       "      <th>Text</th>\n",
       "    </tr>\n",
       "  </thead>\n",
       "  <tbody>\n",
       "    <tr>\n",
       "      <th>4828</th>\n",
       "      <td>UltimateCryptoSignals</td>\n",
       "      <td>2023-02-26</td>\n",
       "      <td>14:50:57</td>\n",
       "      <td>NaN</td>\n",
       "    </tr>\n",
       "    <tr>\n",
       "      <th>4827</th>\n",
       "      <td>UltimateCryptoSignals</td>\n",
       "      <td>2023-02-26</td>\n",
       "      <td>14:51:13</td>\n",
       "      <td>NaN</td>\n",
       "    </tr>\n",
       "    <tr>\n",
       "      <th>4826</th>\n",
       "      <td>UltimateCryptoSignals</td>\n",
       "      <td>2023-02-27</td>\n",
       "      <td>06:52:12</td>\n",
       "      <td>NaN</td>\n",
       "    </tr>\n",
       "    <tr>\n",
       "      <th>4825</th>\n",
       "      <td>UltimateCryptoSignals</td>\n",
       "      <td>2023-02-27</td>\n",
       "      <td>06:53:12</td>\n",
       "      <td>NaN</td>\n",
       "    </tr>\n",
       "    <tr>\n",
       "      <th>4824</th>\n",
       "      <td>UltimateCryptoSignals</td>\n",
       "      <td>2023-02-27</td>\n",
       "      <td>07:23:36</td>\n",
       "      <td>NaN</td>\n",
       "    </tr>\n",
       "    <tr>\n",
       "      <th>...</th>\n",
       "      <td>...</td>\n",
       "      <td>...</td>\n",
       "      <td>...</td>\n",
       "      <td>...</td>\n",
       "    </tr>\n",
       "    <tr>\n",
       "      <th>4</th>\n",
       "      <td>bestcryptotutor</td>\n",
       "      <td>2023-03-23</td>\n",
       "      <td>11:15:12</td>\n",
       "      <td>Signal Type Future/SpotExchange BinanceCoin (D...</td>\n",
       "    </tr>\n",
       "    <tr>\n",
       "      <th>3</th>\n",
       "      <td>bestcryptotutor</td>\n",
       "      <td>2023-03-23</td>\n",
       "      <td>11:34:54</td>\n",
       "      <td>Signal Type Future/Spot Exchange Binance Coin ...</td>\n",
       "    </tr>\n",
       "    <tr>\n",
       "      <th>2</th>\n",
       "      <td>bestcryptotutor</td>\n",
       "      <td>2023-03-23</td>\n",
       "      <td>18:05:57</td>\n",
       "      <td>Signal Type Future/Spot Exchange Binance Coin ...</td>\n",
       "    </tr>\n",
       "    <tr>\n",
       "      <th>1</th>\n",
       "      <td>bestcryptotutor</td>\n",
       "      <td>2023-03-24</td>\n",
       "      <td>12:40:23</td>\n",
       "      <td>NaN</td>\n",
       "    </tr>\n",
       "    <tr>\n",
       "      <th>0</th>\n",
       "      <td>bestcryptotutor</td>\n",
       "      <td>2023-03-24</td>\n",
       "      <td>13:55:13</td>\n",
       "      <td>Signal Type Future/SpotExchange BinanceCoin (I...</td>\n",
       "    </tr>\n",
       "  </tbody>\n",
       "</table>\n",
       "<p>4829 rows × 4 columns</p>\n",
       "</div>"
      ],
      "text/plain": [
       "                       Name        Date      Time  \\\n",
       "4828  UltimateCryptoSignals  2023-02-26  14:50:57   \n",
       "4827  UltimateCryptoSignals  2023-02-26  14:51:13   \n",
       "4826  UltimateCryptoSignals  2023-02-27  06:52:12   \n",
       "4825  UltimateCryptoSignals  2023-02-27  06:53:12   \n",
       "4824  UltimateCryptoSignals  2023-02-27  07:23:36   \n",
       "...                     ...         ...       ...   \n",
       "4           bestcryptotutor  2023-03-23  11:15:12   \n",
       "3           bestcryptotutor  2023-03-23  11:34:54   \n",
       "2           bestcryptotutor  2023-03-23  18:05:57   \n",
       "1           bestcryptotutor  2023-03-24  12:40:23   \n",
       "0           bestcryptotutor  2023-03-24  13:55:13   \n",
       "\n",
       "                                                   Text  \n",
       "4828                                                NaN  \n",
       "4827                                                NaN  \n",
       "4826                                                NaN  \n",
       "4825                                                NaN  \n",
       "4824                                                NaN  \n",
       "...                                                 ...  \n",
       "4     Signal Type Future/SpotExchange BinanceCoin (D...  \n",
       "3     Signal Type Future/Spot Exchange Binance Coin ...  \n",
       "2     Signal Type Future/Spot Exchange Binance Coin ...  \n",
       "1                                                   NaN  \n",
       "0     Signal Type Future/SpotExchange BinanceCoin (I...  \n",
       "\n",
       "[4829 rows x 4 columns]"
      ]
     },
     "execution_count": 16,
     "metadata": {},
     "output_type": "execute_result"
    }
   ],
   "source": [
    "tel_df= tel_df.iloc[::-1]\n",
    "tel_df"
   ]
  },
  {
   "cell_type": "code",
   "execution_count": 17,
   "metadata": {},
   "outputs": [],
   "source": [
    "stop = set(stopwords.words('english'))\n",
    "exclude = set(string.punctuation)\n",
    "exclude.remove('.')\n",
    "exclude.remove('-')\n",
    "lemma = WordNetLemmatizer()\n",
    "def text_cleaning(text):\n",
    "    stop_free = ' '.join([word for word in str(text).split() if word not in stop])\n",
    "    punc_free = ''.join(ch for ch in stop_free if ch not in exclude)\n",
    "    normalized = ' '.join([lemma.lemmatize(word) for word in punc_free.split()])\n",
    "    return normalized.split()\n",
    "\n",
    "tel_df[\"Cleaned Text\"]= tel_df[\"Text\"].apply(text_cleaning)"
   ]
  },
  {
   "cell_type": "code",
   "execution_count": 18,
   "metadata": {},
   "outputs": [
    {
     "data": {
      "text/html": [
       "<div>\n",
       "<style scoped>\n",
       "    .dataframe tbody tr th:only-of-type {\n",
       "        vertical-align: middle;\n",
       "    }\n",
       "\n",
       "    .dataframe tbody tr th {\n",
       "        vertical-align: top;\n",
       "    }\n",
       "\n",
       "    .dataframe thead th {\n",
       "        text-align: right;\n",
       "    }\n",
       "</style>\n",
       "<table border=\"1\" class=\"dataframe\">\n",
       "  <thead>\n",
       "    <tr style=\"text-align: right;\">\n",
       "      <th></th>\n",
       "      <th>Date</th>\n",
       "      <th>Time</th>\n",
       "      <th>Text</th>\n",
       "      <th>Cleaned Text</th>\n",
       "    </tr>\n",
       "    <tr>\n",
       "      <th>Name</th>\n",
       "      <th></th>\n",
       "      <th></th>\n",
       "      <th></th>\n",
       "      <th></th>\n",
       "    </tr>\n",
       "  </thead>\n",
       "  <tbody>\n",
       "    <tr>\n",
       "      <th>BitmexCourses</th>\n",
       "      <td>24</td>\n",
       "      <td>24</td>\n",
       "      <td>18</td>\n",
       "      <td>24</td>\n",
       "    </tr>\n",
       "    <tr>\n",
       "      <th>CRYPTONOTESMOHSIN</th>\n",
       "      <td>135</td>\n",
       "      <td>135</td>\n",
       "      <td>2</td>\n",
       "      <td>135</td>\n",
       "    </tr>\n",
       "    <tr>\n",
       "      <th>CryptoClassicsVIP</th>\n",
       "      <td>281</td>\n",
       "      <td>281</td>\n",
       "      <td>151</td>\n",
       "      <td>281</td>\n",
       "    </tr>\n",
       "    <tr>\n",
       "      <th>CryptoProfitCoach</th>\n",
       "      <td>17</td>\n",
       "      <td>17</td>\n",
       "      <td>2</td>\n",
       "      <td>17</td>\n",
       "    </tr>\n",
       "    <tr>\n",
       "      <th>CryptoSignalCrazy</th>\n",
       "      <td>11</td>\n",
       "      <td>11</td>\n",
       "      <td>1</td>\n",
       "      <td>11</td>\n",
       "    </tr>\n",
       "    <tr>\n",
       "      <th>FedRussianInsiders</th>\n",
       "      <td>209</td>\n",
       "      <td>209</td>\n",
       "      <td>38</td>\n",
       "      <td>209</td>\n",
       "    </tr>\n",
       "    <tr>\n",
       "      <th>QualitySignalsChannel</th>\n",
       "      <td>2545</td>\n",
       "      <td>2545</td>\n",
       "      <td>2545</td>\n",
       "      <td>2545</td>\n",
       "    </tr>\n",
       "    <tr>\n",
       "      <th>UltimateCryptoSignals</th>\n",
       "      <td>322</td>\n",
       "      <td>322</td>\n",
       "      <td>47</td>\n",
       "      <td>322</td>\n",
       "    </tr>\n",
       "    <tr>\n",
       "      <th>bestcryptotutor</th>\n",
       "      <td>42</td>\n",
       "      <td>42</td>\n",
       "      <td>33</td>\n",
       "      <td>42</td>\n",
       "    </tr>\n",
       "    <tr>\n",
       "      <th>binancefuturesignal</th>\n",
       "      <td>446</td>\n",
       "      <td>446</td>\n",
       "      <td>235</td>\n",
       "      <td>446</td>\n",
       "    </tr>\n",
       "    <tr>\n",
       "      <th>btctradingclub</th>\n",
       "      <td>233</td>\n",
       "      <td>233</td>\n",
       "      <td>81</td>\n",
       "      <td>233</td>\n",
       "    </tr>\n",
       "    <tr>\n",
       "      <th>coin_signals</th>\n",
       "      <td>120</td>\n",
       "      <td>120</td>\n",
       "      <td>40</td>\n",
       "      <td>120</td>\n",
       "    </tr>\n",
       "    <tr>\n",
       "      <th>cryptopapasignals</th>\n",
       "      <td>22</td>\n",
       "      <td>22</td>\n",
       "      <td>20</td>\n",
       "      <td>22</td>\n",
       "    </tr>\n",
       "    <tr>\n",
       "      <th>cryptosignalalert</th>\n",
       "      <td>154</td>\n",
       "      <td>154</td>\n",
       "      <td>46</td>\n",
       "      <td>154</td>\n",
       "    </tr>\n",
       "    <tr>\n",
       "      <th>freebitmexsignals</th>\n",
       "      <td>242</td>\n",
       "      <td>242</td>\n",
       "      <td>20</td>\n",
       "      <td>242</td>\n",
       "    </tr>\n",
       "    <tr>\n",
       "      <th>godx_signals</th>\n",
       "      <td>26</td>\n",
       "      <td>26</td>\n",
       "      <td>0</td>\n",
       "      <td>26</td>\n",
       "    </tr>\n",
       "  </tbody>\n",
       "</table>\n",
       "</div>"
      ],
      "text/plain": [
       "                       Date  Time  Text  Cleaned Text\n",
       "Name                                                 \n",
       "BitmexCourses            24    24    18            24\n",
       "CRYPTONOTESMOHSIN       135   135     2           135\n",
       "CryptoClassicsVIP       281   281   151           281\n",
       "CryptoProfitCoach        17    17     2            17\n",
       "CryptoSignalCrazy        11    11     1            11\n",
       "FedRussianInsiders      209   209    38           209\n",
       "QualitySignalsChannel  2545  2545  2545          2545\n",
       "UltimateCryptoSignals   322   322    47           322\n",
       "bestcryptotutor          42    42    33            42\n",
       "binancefuturesignal     446   446   235           446\n",
       "btctradingclub          233   233    81           233\n",
       "coin_signals            120   120    40           120\n",
       "cryptopapasignals        22    22    20            22\n",
       "cryptosignalalert       154   154    46           154\n",
       "freebitmexsignals       242   242    20           242\n",
       "godx_signals             26    26     0            26"
      ]
     },
     "execution_count": 18,
     "metadata": {},
     "output_type": "execute_result"
    }
   ],
   "source": [
    "tel_df.groupby('Name').count()"
   ]
  },
  {
   "cell_type": "code",
   "execution_count": 20,
   "metadata": {},
   "outputs": [],
   "source": [
    "os.chdir('C:\\\\Users\\\\Mohib\\\\Desktop\\\\Testing Channels')\n",
    "if not os.path.exists('Channels'):\n",
    "    os.mkdir('Channels')\n",
    "os.chdir(os.path.join(os.getcwd(),'Channels'))\n",
    "for i in groups:\n",
    "    if not os.path.exists(i):\n",
    "        os.mkdir(i)\n",
    "    os.chdir(os.path.join(os.getcwd(),i))\n",
    "    tel_df[tel_df['Name']==i].to_csv('0_'+i+'.csv', mode='w', index=False, header=False)\n",
    "    os.chdir('C:\\\\Users\\\\Mohib\\\\Desktop\\\\Testing Channels\\\\Channels')\n",
    "os.chdir(\"C:\\\\Users\\\\Mohib\\\\Desktop\\\\FinalYear\\\\Telegram\")\n",
    "with open('datetime.txt', 'w') as f:\n",
    "    f.write(str(datetime.now()))"
   ]
  },
  {
   "cell_type": "code",
   "execution_count": 21,
   "metadata": {},
   "outputs": [
    {
     "data": {
      "image/png": "[encoded data removed]",
      "text/plain": [
       "<Figure size 432x288 with 1 Axes>"
      ]
     },
     "metadata": {
      "needs_background": "light"
     },
     "output_type": "display_data"
    }
   ],
   "source": [
    "import pandas as pd\n",
    "from matplotlib import pyplot as plt\n",
    "count = []\n",
    "names = []\n",
    "for group in groups:\n",
    "    names.append(group)\n",
    "    count.append(len(tel_df[tel_df['Name']==group]))\n",
    "plt.bar(names,count)\n",
    "plt.xticks(rotation=90)\n",
    "plt.show()"
   ]
  },
  {
   "cell_type": "markdown",
   "metadata": {},
   "source": [
    "Before Filter 1"
   ]
  },
  {
   "cell_type": "code",
   "execution_count": 22,
   "metadata": {},
   "outputs": [],
   "source": [
    "def extractor(i):\n",
    "    i = str(i)\n",
    "    suffixes = 'usdt|busd|futures'\n",
    "    coinsregex = '|'.join(binance_coins)\n",
    "    found = False\n",
    "    text = re.sub(r'[^\\w\\s]', ' ', i)\n",
    "    for s in text.split():\n",
    "        if re.search(\"({})({})+|({})+({})|^({})$|[0-9]+({})|({})[0-9]+\".format(coinsregex,suffixes,suffixes,coinsregex,coinsregex,coinsregex,coinsregex), s,re.IGNORECASE):\n",
    "            found = True\n",
    "            break\n",
    "    if(found):\n",
    "        return i\n",
    "    else: return np.nan\n",
    "tel_df['Cleaned Text'] = tel_df['Cleaned Text'].apply(extractor)\n",
    "tel_df_fil1 = tel_df[tel_df['Cleaned Text'].notna()] "
   ]
  },
  {
   "cell_type": "code",
   "execution_count": 23,
   "metadata": {},
   "outputs": [
    {
     "data": {
      "image/png": "[encoded data removed]",
      "text/plain": [
       "<Figure size 432x288 with 1 Axes>"
      ]
     },
     "metadata": {
      "needs_background": "light"
     },
     "output_type": "display_data"
    }
   ],
   "source": [
    "import pandas as pd\n",
    "from matplotlib import pyplot as plt\n",
    "count = list()\n",
    "names = list()\n",
    "for group in groups:\n",
    "    names.append(group)\n",
    "    count.append(len(tel_df_fil1[tel_df_fil1['Name']==group]))\n",
    "plt.bar(names,count)\n",
    "plt.xticks(rotation=90)\n",
    "plt.show()"
   ]
  },
  {
   "cell_type": "markdown",
   "metadata": {},
   "source": [
    "After Filter 1 "
   ]
  },
  {
   "cell_type": "code",
   "execution_count": 29,
   "metadata": {},
   "outputs": [],
   "source": [
    "os.chdir('C:\\\\Users\\\\Mohib\\\\Desktop\\\\Testing Channels')\n",
    "if not os.path.exists('Channels'):\n",
    "    os.mkdir('Channels')\n",
    "os.chdir(os.path.join(os.getcwd(),'Channels'))\n",
    "for i in groups:\n",
    "    if not os.path.exists(i):\n",
    "        os.mkdir(i)\n",
    "    os.chdir(os.path.join(os.getcwd(),i))\n",
    "    tel_df_fil1[tel_df_fil1['Name']==i].to_csv('1_'+i+'.csv', mode='a', index=False, header=False)\n",
    "    os.chdir('C:\\\\Users\\\\Mohib\\\\Desktop\\\\Testing Channels\\\\Channels')\n",
    "os.chdir(\"C:\\\\Users\\\\Mohib\\\\Desktop\\\\FinalYear\\\\Telegram\")\n",
    "with open('datetime.txt', 'w') as f:\n",
    "    f.write(str(datetime.now()))"
   ]
  }
 ],
 "metadata": {
  "kernelspec": {
   "display_name": "Python 3",
   "language": "python",
   "name": "python3"
  },
  "language_info": {
   "codemirror_mode": {
    "name": "ipython",
    "version": 3
   },
   "file_extension": ".py",
   "mimetype": "text/x-python",
   "name": "python",
   "nbconvert_exporter": "python",
   "pygments_lexer": "ipython3",
   "version": "3.10.5"
  },
  "orig_nbformat": 4,
  "vscode": {
   "interpreter": {
    "hash": "b56cedfc715f32859c7b3e0c7af539013c24260cbdded874583ce504867e8223"
   }
  }
 },
 "nbformat": 4,
 "nbformat_minor": 2
}
