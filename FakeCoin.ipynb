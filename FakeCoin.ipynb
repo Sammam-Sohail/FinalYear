{
 "cells": [
  {
   "cell_type": "code",
   "execution_count": 9,
   "metadata": {},
   "outputs": [
    {
     "name": "stdout",
     "output_type": "stream",
     "text": [
      "14.62534681415437 8.333333333333332 3.8461538461538463 -23.58310212389709\n",
      "22.08132727384887 8.333333333333332 3.8461538461538463 -18.612448484100753\n",
      "14.573552023983755 8.333333333333332 3.8461538461538463 -23.617631984010828\n",
      "25.624590386567263 8.333333333333332 3.8461538461538463 -16.250273075621823\n",
      "16.204235031121964 8.333333333333332 3.8461538461538463 -22.530509979252024\n",
      "21.168108204087577 8.333333333333332 3.8461538461538463 -19.22126119727495\n",
      "10.636230982044271 8.333333333333332 3.8461538461538463 -26.242512678637155\n",
      "19.48325010959629 8.333333333333332 3.8461538461538463 -20.344499926935804\n",
      "9.94992922158593 8.333333333333332 3.8461538461538463 -26.70004718560938\n",
      "18.818510106068835 8.333333333333332 3.8461538461538463 -20.787659929287443\n"
     ]
    }
   ],
   "source": [
    "import random\n",
    "base =10\n",
    "T1 = 12\n",
    "T2 = 13\n",
    "T3 = 13.5\n",
    "SL = 8\n",
    "def Target_Reached(P1,P2,P3,P4):\n",
    "    pass\n",
    "def Evaluation_Criteria(CV,T1,T2,T3,SL):\n",
    "    P1 = ((T1-CV)/CV)*100\n",
    "    P2 = ((T2-T1)/T1)*100\n",
    "    P3 = ((T3-T2)/T2)*100\n",
    "    P4 = ((SL-CV)/CV)*100\n",
    "    Target_Reached(P1,P2,P3,P4)\n",
    "    print(P1,P2,P3,P4)\n",
    "if __name__ == \"__main__\":\n",
    "    for i in range(10):\n",
    "        if i%2 == 0:\n",
    "            base+=random.random()\n",
    "        else:\n",
    "            base-=random.random()\n",
    "        Evaluation_Criteria(base,T1,T2,T3,SL)"
   ]
  }
 ],
 "metadata": {
  "kernelspec": {
   "display_name": "Python 3",
   "language": "python",
   "name": "python3"
  },
  "language_info": {
   "codemirror_mode": {
    "name": "ipython",
    "version": 3
   },
   "file_extension": ".py",
   "mimetype": "text/x-python",
   "name": "python",
   "nbconvert_exporter": "python",
   "pygments_lexer": "ipython3",
   "version": "3.9.0"
  },
  "orig_nbformat": 4,
  "vscode": {
   "interpreter": {
    "hash": "c9d430fe7f71b62c3834c19333704f375e17727565e440466e989c47695e4342"
   }
  }
 },
 "nbformat": 4,
 "nbformat_minor": 2
}
