{
 "cells": [
  {
   "cell_type": "code",
   "execution_count": 31,
   "metadata": {},
   "outputs": [],
   "source": [
    "import re\n",
    "import nltk\n",
    "import string\n",
    "from nltk.corpus import stopwords\n",
    "from nltk.stem.wordnet import WordNetLemmatizer\n",
    "import os\n",
    "import numpy as np\n",
    "from datetime import datetime\n",
    "import dateutil.relativedelta\n",
    "import configparser"
   ]
  },
  {
   "cell_type": "code",
   "execution_count": null,
   "metadata": {},
   "outputs": [],
   "source": [
    "%%capture\n",
    "%pip install -r requirements.txt\n",
    "!python -m nltk.downloader stopwords\n",
    "!python -m nltk.downloader wordnet\n",
    "!python -m nltk.downloader omw-1.4"
   ]
  },
  {
   "cell_type": "code",
   "execution_count": null,
   "metadata": {},
   "outputs": [],
   "source": [
    "last_updated_time = str(datetime.now() + dateutil.relativedelta.relativedelta(months=-1))\n",
    "CurrentYear,CurrentMonth,CurrentDate = [int(i) for i in last_updated_time.split(\" \")[0].split(\"-\")]"
   ]
  },
  {
   "cell_type": "code",
   "execution_count": null,
   "metadata": {},
   "outputs": [],
   "source": [
    "# with open('datetime.txt', 'r') as f:\n",
    "#     filetime = f.read()"
   ]
  },
  {
   "cell_type": "code",
   "execution_count": 32,
   "metadata": {},
   "outputs": [],
   "source": [
    "config = configparser.ConfigParser()\n",
    "config.read_file(open('config.cfg'))\n",
    "binance_coins= config.get('TWIGRAM', 'binance_coins')\n",
    "groups = config.get('TWIGRAM', 'groups')"
   ]
  },
  {
   "cell_type": "code",
   "execution_count": null,
   "metadata": {},
   "outputs": [],
   "source": [
    "import snscrape.modules.telegram as telegram\n",
    "import pandas as pd\n",
    "\n",
    "tweets_list = []\n",
    "for i in groups:\n",
    "    for x,tel in enumerate(telegram.TelegramChannelScraper(i).get_items()):\n",
    "        y,m,d = [int(i) for i in str(tel.date).split(' ')[0].split('-')]\n",
    "        print(tel.date)\n",
    "        if  (m<=CurrentMonth and d<=CurrentDate):\n",
    "            break\n",
    "        tweets_list.append([i,str(tel.date).split(' ')[0],str(tel.date).split(' ')[1].split('+')[0], tel.content])\n",
    "    "
   ]
  },
  {
   "cell_type": "code",
   "execution_count": null,
   "metadata": {},
   "outputs": [],
   "source": [
    "tel_df = pd.DataFrame(tweets_list, columns=['Name','Date','Time','Text'])\n"
   ]
  },
  {
   "cell_type": "code",
   "execution_count": null,
   "metadata": {},
   "outputs": [],
   "source": [
    "tel_df= tel_df.iloc[::-1]\n",
    "tel_df"
   ]
  },
  {
   "cell_type": "code",
   "execution_count": null,
   "metadata": {},
   "outputs": [],
   "source": [
    "stop = set(stopwords.words('english'))\n",
    "exclude = set(string.punctuation)\n",
    "exclude.remove('.')\n",
    "exclude.remove('-')\n",
    "lemma = WordNetLemmatizer()\n",
    "def text_cleaning(text):\n",
    "    stop_free = ' '.join([word for word in str(text).split() if word not in stop])\n",
    "    punc_free = ''.join(ch for ch in stop_free if ch not in exclude)\n",
    "    normalized = ' '.join([lemma.lemmatize(word) for word in punc_free.split()])\n",
    "    return normalized.split()\n",
    "\n",
    "tel_df[\"Cleaned Text\"]= tel_df[\"Text\"].apply(text_cleaning)"
   ]
  },
  {
   "cell_type": "code",
   "execution_count": null,
   "metadata": {},
   "outputs": [],
   "source": [
    "tel_df.groupby('Name').count()"
   ]
  },
  {
   "cell_type": "code",
   "execution_count": null,
   "metadata": {},
   "outputs": [],
   "source": [
    "if not os.path.exists('Channels'):\n",
    "    os.mkdir('Channels')\n",
    "os.chdir(os.path.join(os.getcwd(),'Channels'))\n",
    "for i in groups:\n",
    "    if not os.path.exists(i):\n",
    "        os.mkdir(i)\n",
    "    os.chdir(os.path.join(os.getcwd(),i))\n",
    "    tel_df[tel_df['Name']==i].to_csv('0_'+i+'.csv', mode='w', index=False, header=False)\n",
    "    os.chdir('/workspace/FinalYear/Channels')\n",
    "os.chdir(\"/workspace/FinalYear/\")\n",
    "with open('datetime.txt', 'w') as f:\n",
    "    f.write(str(datetime.now()))"
   ]
  },
  {
   "cell_type": "code",
   "execution_count": null,
   "metadata": {},
   "outputs": [],
   "source": [
    "import pandas as pd\n",
    "from matplotlib import pyplot as plt\n",
    "count = []\n",
    "names = []\n",
    "for group in groups:\n",
    "    names.append(group)\n",
    "    count.append(len(tel_df[tel_df['Name']==group]))\n",
    "plt.bar(names,count)\n",
    "plt.xticks(rotation=90)\n",
    "plt.show()"
   ]
  },
  {
   "cell_type": "markdown",
   "metadata": {},
   "source": [
    "Before Filter 1"
   ]
  },
  {
   "cell_type": "code",
   "execution_count": null,
   "metadata": {},
   "outputs": [],
   "source": [
    "def extractor(i):\n",
    "    i = str(i)\n",
    "    suffixes = 'usdt|busd|futures'\n",
    "    coinsregex = '|'.join(binance_coins)\n",
    "    found = False\n",
    "    text = re.sub(r'[^\\w\\s]', ' ', i)\n",
    "    for s in text.split():\n",
    "        if re.search(\"({})({})+|({})+({})|^({})$|[0-9]+({})|({})[0-9]+\".format(coinsregex,suffixes,suffixes,coinsregex,coinsregex,coinsregex,coinsregex), s,re.IGNORECASE):\n",
    "            found = True\n",
    "            break\n",
    "    if(found):\n",
    "        return i\n",
    "    else: return np.nan\n",
    "tel_df['Cleaned Text'] = tel_df['Cleaned Text'].apply(extractor)\n",
    "tel_df_fil1 = tel_df[tel_df['Cleaned Text'].notna()] "
   ]
  },
  {
   "cell_type": "code",
   "execution_count": null,
   "metadata": {},
   "outputs": [],
   "source": [
    "tel_df_fil1"
   ]
  },
  {
   "cell_type": "code",
   "execution_count": null,
   "metadata": {},
   "outputs": [],
   "source": [
    "import pandas as pd\n",
    "from matplotlib import pyplot as plt\n",
    "count = list()\n",
    "names = list()\n",
    "for group in groups:\n",
    "    names.append(group)\n",
    "    count.append(len(tel_df_fil1[tel_df_fil1['Name']==group]))\n",
    "plt.bar(names,count)\n",
    "plt.xticks(rotation=90)\n",
    "plt.show()"
   ]
  },
  {
   "cell_type": "markdown",
   "metadata": {},
   "source": [
    "After Filter 1 "
   ]
  },
  {
   "cell_type": "code",
   "execution_count": null,
   "metadata": {},
   "outputs": [],
   "source": [
    "os.chdir(\"/workspace/FinalYear/\")\n",
    "if not os.path.exists('Channels'):\n",
    "    os.mkdir('Channels')\n",
    "os.chdir(os.path.join(os.getcwd(),'Channels'))\n",
    "for i in groups:\n",
    "    if not os.path.exists(i):\n",
    "        os.mkdir(i)\n",
    "    os.chdir(os.path.join(os.getcwd(),i))\n",
    "    tel_df_fil1[tel_df_fil1['Name']==i].to_csv('1_'+i+'.csv', mode='a', index=False, header=False)\n",
    "    os.chdir('/workspace/FinalYear/Channels')\n",
    "os.chdir(\"/workspace/FinalYear/\")\n",
    "with open('datetime.txt', 'w') as f:\n",
    "    f.write(str(datetime.now()))"
   ]
  }
 ],
 "metadata": {
  "kernelspec": {
   "display_name": "Python 3",
   "language": "python",
   "name": "python3"
  },
  "language_info": {
   "codemirror_mode": {
    "name": "ipython",
    "version": 3
   },
   "file_extension": ".py",
   "mimetype": "text/x-python",
   "name": "python",
   "nbconvert_exporter": "python",
   "pygments_lexer": "ipython3",
   "version": "3.8.13"
  },
  "orig_nbformat": 4,
  "vscode": {
   "interpreter": {
    "hash": "9ac03a0a6051494cc606d484d27d20fce22fb7b4d169f583271e11d5ba46a56e"
   }
  }
 },
 "nbformat": 4,
 "nbformat_minor": 2
}
