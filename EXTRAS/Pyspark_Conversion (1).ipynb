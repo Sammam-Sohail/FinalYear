{
  "nbformat": 4,
  "nbformat_minor": 0,
  "metadata": {
    "colab": {
      "provenance": []
    },
    "kernelspec": {
      "name": "python3",
      "display_name": "Python 3"
    },
    "language_info": {
      "name": "python"
    }
  },
  "cells": [
    {
      "cell_type": "code",
      "execution_count": 33,
      "metadata": {
        "colab": {
          "base_uri": "https://localhost:8080/"
        },
        "id": "vx3Sam9d4XsV",
        "outputId": "dd90d3ee-66de-4b41-fb2d-6ef7e229abbe"
      },
      "outputs": [
        {
          "output_type": "stream",
          "name": "stdout",
          "text": [
            "Looking in indexes: https://pypi.org/simple, https://us-python.pkg.dev/colab-wheels/public/simple/\n",
            "Requirement already satisfied: pyspark in /usr/local/lib/python3.8/dist-packages (3.3.1)\n",
            "Requirement already satisfied: py4j in /usr/local/lib/python3.8/dist-packages (0.10.9.5)\n"
          ]
        }
      ],
      "source": [
        "!pip install pyspark py4j"
      ]
    },
    {
      "cell_type": "code",
      "source": [
        "from pyspark.sql import SparkSession"
      ],
      "metadata": {
        "id": "OU_iXl7C4nPH"
      },
      "execution_count": 34,
      "outputs": []
    },
    {
      "cell_type": "code",
      "source": [
        "spark=SparkSession.builder.appName(\"Session\").getOrCreate()"
      ],
      "metadata": {
        "id": "_ZS2KoZ446Nl"
      },
      "execution_count": 35,
      "outputs": []
    },
    {
      "cell_type": "code",
      "source": [
        "import re\n",
        "import nltk\n",
        "import string\n",
        "from nltk.corpus import stopwords\n",
        "from nltk.stem.wordnet import WordNetLemmatizer\n",
        "import os\n",
        "import numpy as np\n",
        "from datetime import datetime"
      ],
      "metadata": {
        "id": "PM0oWmGx5Glb"
      },
      "execution_count": 36,
      "outputs": []
    },
    {
      "cell_type": "code",
      "source": [
        "%%capture\n",
        "%pip install -r requirements.txt\n",
        "!python -m nltk.downloader stopwords\n",
        "!python -m nltk.downloader wordnet\n",
        "!python -m nltk.downloader omw-1.4"
      ],
      "metadata": {
        "id": "LIk2k-Y-CFG6"
      },
      "execution_count": 37,
      "outputs": []
    },
    {
      "cell_type": "code",
      "source": [
        "binance_coins = ['BNB', 'XRP', 'BCHABC', 'LTC', 'LINK', 'ETC', 'TRX', 'EOS', 'XLM', 'ADA', 'BCH', 'QTUM', 'VET', 'EUR', 'BULL', 'BEAR', 'ETHBULL', 'ETHBEAR', 'ICX', 'BTS', 'BNT', 'ATOM', 'DASH', 'NEO', 'WAVES', 'XTZ', 'EOSBULL', 'EOSBEAR', 'XRPBULL', 'XRPBEAR', 'BAT', 'ENJ', 'NANO', 'ONT', 'RVN', 'STRAT', 'AION', 'ALGO', 'BTT', 'TOMO', 'XMR', 'ZEC', 'BNBBULL', 'BNBBEAR', 'DATA', 'SOL', 'CTSI', 'ERD', 'HBAR', 'MATIC', 'WRX', 'ZIL', 'KNC', 'REP', 'LRC', 'IQ', 'GBP', 'DGB', 'COMP', 'BKRW', 'SXP', 'SNX', 'VTHO', 'DCR', 'STORJ', 'IRIS', 'MKR', 'DAI', 'RUNE', 'MANA', 'DOGE', 'LEND', 'ZRX', 'AUD', 'FIO', 'AVA', 'IOTA', 'BAL', 'YFI', 'BLZ', 'KMD', 'JST', 'SRM', 'ANT', 'CRV', 'SAND', 'OCEAN', 'NMR', 'DOT', 'LUNA', 'IDEX', 'RSR', 'PAXG', 'WNXM', 'TRB', 'BZRX', 'SUSHI', 'YFII', 'KSM', 'EGLD', 'DIA', 'BEL', 'SWRV', 'WING', 'CREAM', 'UNI', 'AVAX', 'FLM', 'CAKE', 'XVS', 'ALPHA', 'VIDT', 'AAVE', 'NEAR', 'FIL', 'INJ', 'AERGO', 'ONE', 'AUDIO', 'CTK', 'BOT', 'KP3R', 'AXS', 'HARD', 'DNT', 'CVP', 'STRAX', 'FOR', 'UNFI', 'FRONT', 'BCHA', 'ROSE', 'SYS', 'HEGIC', 'PROM', 'SKL', 'COVER', 'GHST', 'DF', 'JUV', 'PSG', 'BTCST', 'TRU', 'DEXE', 'USDC', 'TUSD', 'PAX', 'CKB', 'TWT', 'LIT', 'SFP', 'FXS', 'DODO', 'BAKE', 'UFT', '1INCH', 'BAND', 'GRT', 'IOST', 'OMG', 'REEF', 'ACM', 'AUCTION', 'PHA', 'TVK', 'BADGER', 'FIS', 'OM', 'POND', 'DEGO', 'ALICE', 'CHZ', 'BIFI', 'LINA', 'PERP', 'RAMP', 'SUPER', 'CFX', 'XVG', 'EPS', 'AUTO', 'TKO', 'TLM', 'BTG', 'HOT', 'MIR', 'BAR', 'FORTH', 'BURGER', 'SLP', 'SHIB', 'ICP', 'AR', 'POLS', 'MDX', 'MASK', 'LPT', 'NU', 'RLC', 'CELR', 'ATM', 'ZEN', 'FTM', 'THETA', 'WIN', 'KAVA', 'XEM', 'ATA', 'GTC', 'TORN', 'COTI', 'KEEP', 'SC', 'CHR', 'STMX', 'HNT', 'FTT', 'DOCK', 'ERN', 'KLAY', 'UTK', 'IOTX', 'BOND', 'MLN', 'LTO', 'ADX', 'QUICK', 'C98', 'CLV', 'QNT', 'FLOW', 'XEC', 'MINA', 'RAY', 'FARM', 'ALPACA', 'ORN', 'MBOX', 'WAXP', 'TRIBE', 'GNO', 'MTL', 'OGN', 'POLY', 'DYDX', 'ELF', 'USDP', 'GALA', 'SUN', 'ILV', 'REN', 'YGG', 'STX', 'FET', 'ARPA', 'LSK', 'FIDA', 'DENT', 'AGLD', 'RAD', 'HIVE', 'STPT', 'BETA', 'RARE', 'TROY', 'CHESS', 'SCRT', 'CELO', 'DAR', 'BNX', 'RGT', 'LAZIO', 'OXT', 'MOVR', 'CITY', 'ENS', 'ANKR', 'QI', 'POWR', 'JASMY', 'AMP', 'PLA', 'PYR', 'RNDR', 'ALCX', 'MC', 'COCOS', 'ANY', 'BICO', 'FLUX', 'REQ', 'VOXEL', 'COS', 'CTXC', 'HIGH', 'CVX', 'PEOPLE', 'OOKI', 'MDT', 'NULS', 'SPELL', 'UST', 'JOE', 'DUSK', 'ACH', 'IMX', 'GLMR', 'UMA', 'LOKA', 'API3', 'ACA', 'ANC', 'XNO', 'WOO', 'TFUEL', 'ASTR', 'GMT', 'KDA', 'APE', 'ALPINE', 'BSW', 'SANTOS', 'MULTI', 'PORTO', 'BTTC', 'MBL', 'MOB', 'NEXO', 'GAL', 'LDO', 'EPX', 'STEEM', 'CVC', 'REI', 'DREP', 'AKRO', 'PUNDIX', 'LUNC', 'USTC', 'OP', 'OG', 'KEY', 'ASR', 'FIRO', 'NKN', 'GTO', 'WBTC', 'LEVER', 'GLM', 'SSV', 'STG', 'ARK', 'BETH', 'LOOM', 'SNM', 'AMB', 'PHB', 'GAS', 'NEBL', 'PROS', 'VIB', 'GMX', 'AGIX', 'SNT', 'POLYX', 'APT', 'QKC', 'OSMO']\n",
        "groups  = ['CryptoClassicsVIP', 'CRYPTONOTESMOHSIN','whalesguide', 'FedRussianInsiders', 'TCGFORYOU', 'UltimateCryptoSignals', 'coin_signals', 'cryptopapasignals','AlphaTradeZone','godx_signals',  'cryptovipsignalta', 'Thebull_crypto','QualitySignalsChannel', 'CryptoSignalCrazy','legendofscalping','henryscalper','bestcryptotutor','cryptocrownofficial',\"binancefuturesignal\",\"cryptosignalalert\",\"pumpsignals1\",\"freebitmexsignals\",\"btctradingclub\", \"Dash2Trade\", \"next10xgem1\", \"Wallstreetbets_trading\", \"BitmexCourses\", \"CryptoProfitCoach\", \"The_CryptoLogy_Signals\"]"
      ],
      "metadata": {
        "id": "NqsbMX6fCQDe"
      },
      "execution_count": 38,
      "outputs": []
    },
    {
      "cell_type": "code",
      "source": [
        "print(len(binance_coins))"
      ],
      "metadata": {
        "colab": {
          "base_uri": "https://localhost:8080/"
        },
        "id": "1tR62A2oCVDJ",
        "outputId": "42d67f28-bf34-4a8f-8891-b93269c70d98"
      },
      "execution_count": 39,
      "outputs": [
        {
          "output_type": "stream",
          "name": "stdout",
          "text": [
            "368\n"
          ]
        }
      ]
    },
    {
      "cell_type": "code",
      "source": [
        "!pip install snscrape"
      ],
      "metadata": {
        "colab": {
          "base_uri": "https://localhost:8080/"
        },
        "id": "BKLMGLb-Fxmm",
        "outputId": "f070ea7d-5971-4488-9d26-41fea282ed25"
      },
      "execution_count": 40,
      "outputs": [
        {
          "output_type": "stream",
          "name": "stdout",
          "text": [
            "Looking in indexes: https://pypi.org/simple, https://us-python.pkg.dev/colab-wheels/public/simple/\n",
            "Requirement already satisfied: snscrape in /usr/local/lib/python3.8/dist-packages (0.4.3.20220106)\n",
            "Requirement already satisfied: requests[socks] in /usr/local/lib/python3.8/dist-packages (from snscrape) (2.28.1)\n",
            "Requirement already satisfied: pytz in /usr/local/lib/python3.8/dist-packages (from snscrape) (2022.1)\n",
            "Requirement already satisfied: filelock in /usr/local/lib/python3.8/dist-packages (from snscrape) (3.7.1)\n",
            "Requirement already satisfied: beautifulsoup4 in /usr/local/lib/python3.8/dist-packages (from snscrape) (4.11.1)\n",
            "Requirement already satisfied: lxml in /usr/local/lib/python3.8/dist-packages (from snscrape) (4.9.1)\n",
            "Requirement already satisfied: soupsieve>1.2 in /usr/local/lib/python3.8/dist-packages (from beautifulsoup4->snscrape) (2.3.2.post1)\n",
            "Requirement already satisfied: urllib3<1.27,>=1.21.1 in /usr/local/lib/python3.8/dist-packages (from requests[socks]->snscrape) (1.26.10)\n",
            "Requirement already satisfied: idna<4,>=2.5 in /usr/local/lib/python3.8/dist-packages (from requests[socks]->snscrape) (3.3)\n",
            "Requirement already satisfied: certifi>=2017.4.17 in /usr/local/lib/python3.8/dist-packages (from requests[socks]->snscrape) (2022.6.15)\n",
            "Requirement already satisfied: charset-normalizer<3,>=2 in /usr/local/lib/python3.8/dist-packages (from requests[socks]->snscrape) (2.1.0)\n",
            "Requirement already satisfied: PySocks!=1.5.7,>=1.5.6 in /usr/local/lib/python3.8/dist-packages (from requests[socks]->snscrape) (1.7.1)\n",
            "\u001b[33mWARNING: Running pip as the 'root' user can result in broken permissions and conflicting behaviour with the system package manager. It is recommended to use a virtual environment instead: https://pip.pypa.io/warnings/venv\u001b[0m\u001b[33m\n",
            "\u001b[0m"
          ]
        }
      ]
    },
    {
      "cell_type": "code",
      "source": [
        "import snscrape.modules.telegram as telegram\n",
        "import pandas as pd\n",
        "\n",
        "tweets_list = []\n",
        "for i in groups:\n",
        "    for x,tel in enumerate(telegram.TelegramChannelScraper(i).get_items()):\n",
        "        date = str(tel.date).split('+')[0].split()[0]\n",
        "        time = str(tel.date).split('+')[0].split()[1]\n",
        "        if  (int(date.split('-')[1])<=9 and int(date.split('-')[2])<=14):\n",
        "            break\n",
        "        tweets_list.append([i,date, time, tel.content])"
      ],
      "metadata": {
        "id": "S9QgoTAbFs3J",
        "colab": {
          "base_uri": "https://localhost:8080/"
        },
        "outputId": "838b64bc-ae0f-4efa-aa49-a2182c4edead"
      },
      "execution_count": 41,
      "outputs": [
        {
          "output_type": "stream",
          "name": "stderr",
          "text": [
            "WARNING:snscrape.modules.telegram:No public post list for this user\n"
          ]
        }
      ]
    },
    {
      "cell_type": "code",
      "source": [
        "rdd = spark.sparkContext.parallelize(tweets_list)"
      ],
      "metadata": {
        "id": "HLZuZu9aH09k"
      },
      "execution_count": 42,
      "outputs": []
    },
    {
      "cell_type": "code",
      "source": [
        "columns=['Name', 'Date',' Time', 'Text']"
      ],
      "metadata": {
        "id": "ciiDanP4H9H_"
      },
      "execution_count": 43,
      "outputs": []
    },
    {
      "cell_type": "code",
      "source": [
        "df=rdd.toDF(columns)"
      ],
      "metadata": {
        "id": "U2fYAxoGCbNi"
      },
      "execution_count": 44,
      "outputs": []
    },
    {
      "cell_type": "code",
      "source": [
        "df.printSchema()"
      ],
      "metadata": {
        "colab": {
          "base_uri": "https://localhost:8080/"
        },
        "id": "ie4XltJdCevZ",
        "outputId": "ee653233-303d-4a68-fd6b-459ebbf8bc4e"
      },
      "execution_count": 45,
      "outputs": [
        {
          "output_type": "stream",
          "name": "stdout",
          "text": [
            "root\n",
            " |-- Name: string (nullable = true)\n",
            " |-- Date: string (nullable = true)\n",
            " |--  Time: string (nullable = true)\n",
            " |-- Text: string (nullable = true)\n",
            "\n"
          ]
        }
      ]
    },
    {
      "cell_type": "code",
      "source": [
        "df.show(truncate=False)"
      ],
      "metadata": {
        "colab": {
          "base_uri": "https://localhost:8080/"
        },
        "id": "tGiCw3Q9IcBB",
        "outputId": "2b506e61-8a83-4b97-b649-ca62b32d0040"
      },
      "execution_count": 46,
      "outputs": [
        {
          "output_type": "stream",
          "name": "stdout",
          "text": [
            "+-----------------+----------+--------+---------------------------------------------------------------------------------------------------------------------------------------------------+\n",
            "|Name             |Date      | Time   |Text                                                                                                                                               |\n",
            "+-----------------+----------+--------+---------------------------------------------------------------------------------------------------------------------------------------------------+\n",
            "|CryptoClassicsVIP|2022-11-24|21:27:22|#LTCUSDT  Trade Type: long position  Entry zone 46.40 - 52.50  Amount: 3% from deposit   Target: 1) 61.69 2) 70.90 3) 89.75  Stop 43.20            |\n",
            "|CryptoClassicsVIP|2022-11-09|21:26:58|#BNBUSDT  Trade Type: long position  Entry zone 277 - 297  Amount: 3% from deposit   Target: 1) 330 2) 367 3) 404  Stop 256                        |\n",
            "|CryptoClassicsVIP|2022-11-09|21:22:57|#ALGOUSDT  Trade Type: long position  Entry zone 0.30 - 0.34  Amount: 3% from deposit   Target: 1) 0.40 2) 0.47 3) 0.54  Stop 0.27                 |\n",
            "|CryptoClassicsVIP|2022-11-08|19:32:16|#BTCUSDT  Trade Type: long position  Entry zone 19000 - 21000  Amount: 3% from deposit   Target: 1) 24300 2) 26450 3) 28750  Stop 17500            |\n",
            "|CryptoClassicsVIP|2022-11-08|16:34:31|#CAKEUSDT  Trade Type: long position  Entry zone 4.00 - 4.31  Amount: 3% from deposit   Target: 1) 5.08 2) 5.75 3) 6.85  Stop 3.52                 |\n",
            "|CryptoClassicsVIP|2022-11-05|11:35:09|#LTCUSDT  Trade Type: long position  Entry zone 46.40 - 52.50  Amount: 3% from deposit   Target: 1) 61.69 2) 70.90 3) 89.75  Stop 43.20            |\n",
            "|CryptoClassicsVIP|2022-11-05|00:36:46|#DYDXUSDT  Trade Type: long position  Entry zone 1.11 - 1.26  Amount: 3% from deposit   Target: 1) 1.50 2) 1.75 3) 2.00  Stop 0.999                |\n",
            "|CryptoClassicsVIP|2022-11-04|16:29:12|#BNBUSDT  Trade Type: long position  Entry zone 277 - 297  Amount: 3% from deposit   Target: 1) 330 2) 367 3) 404  Stop 256                        |\n",
            "|CryptoClassicsVIP|2022-10-31|09:58:10|#BNBUSDT  Trade Type: long position  Entry zone 277 - 297  Amount: 3% from deposit   Target: 1) 330 2) 367 3) 404  Stop 256                        |\n",
            "|CryptoClassicsVIP|2022-10-27|06:23:24|#DYDXUSDT  Trade Type: long position  Entry zone 1.11 - 1.26  Amount: 3% from deposit   Target: 1) 1.50 2) 1.75 3) 2.00  Stop 0.999                |\n",
            "|CryptoClassicsVIP|2022-10-26|08:28:22|#SUSHIUSDT  Trade Type: long position  Entry zone: 0.94 - 1.08  Amount: 3% from deposit   Target: 1) 1.29 2) 1.50 3) 1.72  Stop: 0.85              |\n",
            "|CryptoClassicsVIP|2022-10-24|19:55:29|#CKBUSDT  Trade Type: long position  Entry zone 0.00350 - 0.00400  Amount: 3% from deposit   Target: 1) 0.00463 2) 0.00530 3) 0.00800  Stop 0.00325|\n",
            "|CryptoClassicsVIP|2022-10-18|08:05:25|#CKBUSDT  Trade Type: long position  Entry zone 0.00380 - 0.00400  Amount: 3% from deposit   Target: 1) 0.00444 2) 0.00493 3) 0.00542  Stop 0.00346|\n",
            "|CryptoClassicsVIP|2022-10-13|10:31:13|#SANDUSDT  Trade Type: long position  Entry zone 0.79 - 0.85  Amount: 3% from deposit   Target: 1) 0.99 2) 1.14 3) 1.29  Stop 0.699                |\n",
            "|CryptoClassicsVIP|2022-10-13|07:48:12|#BCHUSDT  Trade Type: long position  Entry zone 116 - 122  Amount: 3% from deposit   Target: 1) 136 2) 152 3) 168  Stop 106                        |\n",
            "|CryptoClassicsVIP|2022-10-13|07:38:55|#KSMUSDT  Trade Type: long position  Entry zone: 40 - 45  Amount: 3% from deposit   Target: 1) 49.80 2) 55.90 3) 62.00  Stop: 37.60                |\n",
            "|CryptoClassicsVIP|2022-10-13|06:45:50|#FILUSDT  Trade Type: long position  Entry zone: 5.75 - 6.30  Amount: 3% from deposit   Target: 1) 7.35 2) 8.75 3) 9.99  Stop: 4.99                |\n",
            "|CryptoClassicsVIP|2022-10-13|06:42:16|#SKLUSDT  Trade Type: long position  Entry zone 0.0370 - 0.0396  Amount: 3% from deposit   Target: 1) 0.0454 2) 0.0496 3) 0.0548  Stop 0.03399     |\n",
            "|CryptoClassicsVIP|2022-10-13|06:31:56|#ANTUSDT  Trade Type: long position  Entry zone: 1.62 - 1.70  Amount: 3% from deposit   Target: 1) 1.83 2) 1.99 3) 2.14  Stop: 1.54                |\n",
            "|CryptoClassicsVIP|2022-10-13|02:25:57|#BANDUSDT  Trade Type: long position  Entry zone: 1.12 - 1.16  Amount: 3% from deposit   Target: 1) 1.24 2) 1.31 3) 1.41  Stop: 1.06               |\n",
            "+-----------------+----------+--------+---------------------------------------------------------------------------------------------------------------------------------------------------+\n",
            "only showing top 20 rows\n",
            "\n"
          ]
        }
      ]
    },
    {
      "cell_type": "code",
      "source": [
        "print(df.count(), len(df.columns))"
      ],
      "metadata": {
        "colab": {
          "base_uri": "https://localhost:8080/"
        },
        "id": "SgA0tPvLO1gd",
        "outputId": "609a9a70-4b08-44dd-d607-08ae39db63d0"
      },
      "execution_count": 47,
      "outputs": [
        {
          "output_type": "stream",
          "name": "stdout",
          "text": [
            "20779 4\n"
          ]
        }
      ]
    },
    {
      "cell_type": "code",
      "source": [
        "from pyspark.sql.functions import col,udf"
      ],
      "metadata": {
        "id": "LFN4WUapVBp3"
      },
      "execution_count": 48,
      "outputs": []
    },
    {
      "cell_type": "code",
      "source": [
        "stop = set(stopwords.words('english'))\n",
        "exclude = set(string.punctuation)\n",
        "exclude.remove('.')\n",
        "exclude.remove('-')\n",
        "lemma = WordNetLemmatizer()\n",
        "def text_cleaning(text):\n",
        "    stop_free = ' '.join([word for word in str(text).split() if word not in stop])\n",
        "    punc_free = ''.join(ch for ch in stop_free if ch not in exclude)\n",
        "    normalized = ' '.join([lemma.lemmatize(word) for word in punc_free.split()])\n",
        "    return normalized.split()\n"
      ],
      "metadata": {
        "id": "-83QZcOMRNU4"
      },
      "execution_count": 49,
      "outputs": []
    },
    {
      "cell_type": "code",
      "source": [
        "t_cleaning=udf(lambda q : text_cleaning(q))"
      ],
      "metadata": {
        "id": "nLTxfwypVeqH"
      },
      "execution_count": 50,
      "outputs": []
    },
    {
      "cell_type": "code",
      "source": [
        "from pyspark.sql.functions import lit"
      ],
      "metadata": {
        "id": "7jXyqyAKf1j1"
      },
      "execution_count": 51,
      "outputs": []
    },
    {
      "cell_type": "code",
      "source": [
        "df1=df.withColumn(\"Cleaned Text\", lit(t_cleaning(col(\"Text\"))))"
      ],
      "metadata": {
        "id": "fINaGWGzVr_7"
      },
      "execution_count": 52,
      "outputs": []
    },
    {
      "cell_type": "code",
      "source": [
        "df1.show()"
      ],
      "metadata": {
        "colab": {
          "base_uri": "https://localhost:8080/"
        },
        "id": "Qsxt4E_XV_zb",
        "outputId": "39215080-e322-405b-a7ef-7179a2f27d62"
      },
      "execution_count": 53,
      "outputs": [
        {
          "output_type": "stream",
          "name": "stdout",
          "text": [
            "+-----------------+----------+--------+--------------------+--------------------+\n",
            "|             Name|      Date|    Time|                Text|        Cleaned Text|\n",
            "+-----------------+----------+--------+--------------------+--------------------+\n",
            "|CryptoClassicsVIP|2022-11-24|21:27:22|#LTCUSDT  Trade T...|[LTCUSDT, Trade, ...|\n",
            "|CryptoClassicsVIP|2022-11-09|21:26:58|#BNBUSDT  Trade T...|[BNBUSDT, Trade, ...|\n",
            "|CryptoClassicsVIP|2022-11-09|21:22:57|#ALGOUSDT  Trade ...|[ALGOUSDT, Trade,...|\n",
            "|CryptoClassicsVIP|2022-11-08|19:32:16|#BTCUSDT  Trade T...|[BTCUSDT, Trade, ...|\n",
            "|CryptoClassicsVIP|2022-11-08|16:34:31|#CAKEUSDT  Trade ...|[CAKEUSDT, Trade,...|\n",
            "|CryptoClassicsVIP|2022-11-05|11:35:09|#LTCUSDT  Trade T...|[LTCUSDT, Trade, ...|\n",
            "|CryptoClassicsVIP|2022-11-05|00:36:46|#DYDXUSDT  Trade ...|[DYDXUSDT, Trade,...|\n",
            "|CryptoClassicsVIP|2022-11-04|16:29:12|#BNBUSDT  Trade T...|[BNBUSDT, Trade, ...|\n",
            "|CryptoClassicsVIP|2022-10-31|09:58:10|#BNBUSDT  Trade T...|[BNBUSDT, Trade, ...|\n",
            "|CryptoClassicsVIP|2022-10-27|06:23:24|#DYDXUSDT  Trade ...|[DYDXUSDT, Trade,...|\n",
            "|CryptoClassicsVIP|2022-10-26|08:28:22|#SUSHIUSDT  Trade...|[SUSHIUSDT, Trade...|\n",
            "|CryptoClassicsVIP|2022-10-24|19:55:29|#CKBUSDT  Trade T...|[CKBUSDT, Trade, ...|\n",
            "|CryptoClassicsVIP|2022-10-18|08:05:25|#CKBUSDT  Trade T...|[CKBUSDT, Trade, ...|\n",
            "|CryptoClassicsVIP|2022-10-13|10:31:13|#SANDUSDT  Trade ...|[SANDUSDT, Trade,...|\n",
            "|CryptoClassicsVIP|2022-10-13|07:48:12|#BCHUSDT  Trade T...|[BCHUSDT, Trade, ...|\n",
            "|CryptoClassicsVIP|2022-10-13|07:38:55|#KSMUSDT  Trade T...|[KSMUSDT, Trade, ...|\n",
            "|CryptoClassicsVIP|2022-10-13|06:45:50|#FILUSDT  Trade T...|[FILUSDT, Trade, ...|\n",
            "|CryptoClassicsVIP|2022-10-13|06:42:16|#SKLUSDT  Trade T...|[SKLUSDT, Trade, ...|\n",
            "|CryptoClassicsVIP|2022-10-13|06:31:56|#ANTUSDT  Trade T...|[ANTUSDT, Trade, ...|\n",
            "|CryptoClassicsVIP|2022-10-13|02:25:57|#BANDUSDT  Trade ...|[BANDUSDT, Trade,...|\n",
            "+-----------------+----------+--------+--------------------+--------------------+\n",
            "only showing top 20 rows\n",
            "\n"
          ]
        }
      ]
    },
    {
      "cell_type": "code",
      "source": [
        "import pandas as pd"
      ],
      "metadata": {
        "id": "qR1A_ohsjCV5"
      },
      "execution_count": 81,
      "outputs": []
    },
    {
      "cell_type": "code",
      "source": [
        "#from google.colab import drive\n",
        "\n",
        "#drive.mount('/content/drive')"
      ],
      "metadata": {
        "id": "4Ptx9tkWJExi"
      },
      "execution_count": 54,
      "outputs": []
    },
    {
      "cell_type": "code",
      "source": [
        "#.repartition('Name')\n",
        "#.sortWithinPartitions('Date')"
      ],
      "metadata": {
        "id": "5VkzRyYhHPwY"
      },
      "execution_count": 55,
      "outputs": []
    },
    {
      "cell_type": "code",
      "source": [
        "# Spark df to Pandas df\n",
        "df_pd = df1.toPandas()"
      ],
      "metadata": {
        "id": "hDkIeBxTWfXl"
      },
      "execution_count": 83,
      "outputs": []
    },
    {
      "cell_type": "code",
      "source": [
        "df_pd[df_pd['Name']=='CryptoClassicsVIP']"
      ],
      "metadata": {
        "colab": {
          "base_uri": "https://localhost:8080/",
          "height": 424
        },
        "id": "7ywKN0tfa2ka",
        "outputId": "b41bf9d6-15a0-49ef-a44a-84795f58734c"
      },
      "execution_count": 84,
      "outputs": [
        {
          "output_type": "execute_result",
          "data": {
            "text/plain": [
              "                 Name        Date      Time  \\\n",
              "0   CryptoClassicsVIP  2022-11-24  21:27:22   \n",
              "1   CryptoClassicsVIP  2022-11-09  21:26:58   \n",
              "2   CryptoClassicsVIP  2022-11-09  21:22:57   \n",
              "3   CryptoClassicsVIP  2022-11-08  19:32:16   \n",
              "4   CryptoClassicsVIP  2022-11-08  16:34:31   \n",
              "..                ...         ...       ...   \n",
              "73  CryptoClassicsVIP  2022-09-18  21:23:48   \n",
              "74  CryptoClassicsVIP  2022-09-18  21:08:02   \n",
              "75  CryptoClassicsVIP  2022-09-16  14:30:31   \n",
              "76  CryptoClassicsVIP  2022-09-15  14:04:13   \n",
              "77  CryptoClassicsVIP  2022-09-15  02:21:14   \n",
              "\n",
              "                                                 Text  \\\n",
              "0   #LTCUSDT  Trade Type: long position  Entry zon...   \n",
              "1   #BNBUSDT  Trade Type: long position  Entry zon...   \n",
              "2   #ALGOUSDT  Trade Type: long position  Entry zo...   \n",
              "3   #BTCUSDT  Trade Type: long position  Entry zon...   \n",
              "4   #CAKEUSDT  Trade Type: long position  Entry zo...   \n",
              "..                                                ...   \n",
              "73  #UNIUSDT  Trade Type: long position  Entry zon...   \n",
              "74  #DASHUSDT  Trade Type: long position  Entry zo...   \n",
              "75  White House Releases Bitcoin, Crypto Regulator...   \n",
              "76             The Ethereum Merge is completed — link   \n",
              "77  #FLMUSDT  Trade Type: long position  Entry zon...   \n",
              "\n",
              "                                         Cleaned Text  \n",
              "0   [LTCUSDT, Trade, Type, long, position, Entry, ...  \n",
              "1   [BNBUSDT, Trade, Type, long, position, Entry, ...  \n",
              "2   [ALGOUSDT, Trade, Type, long, position, Entry,...  \n",
              "3   [BTCUSDT, Trade, Type, long, position, Entry, ...  \n",
              "4   [CAKEUSDT, Trade, Type, long, position, Entry,...  \n",
              "..                                                ...  \n",
              "73  [UNIUSDT, Trade, Type, long, position, Entry, ...  \n",
              "74  [DASHUSDT, Trade, Type, long, position, Entry,...  \n",
              "75  [White, House, Releases, Bitcoin, Crypto, Regu...  \n",
              "76         [The, Ethereum, Merge, completed, —, link]  \n",
              "77  [FLMUSDT, Trade, Type, long, position, Entry, ...  \n",
              "\n",
              "[78 rows x 5 columns]"
            ],
            "text/html": [
              "\n",
              "  <div id=\"df-d08f658a-aa41-4c0e-9177-ec4f3bcd9fca\">\n",
              "    <div class=\"colab-df-container\">\n",
              "      <div>\n",
              "<style scoped>\n",
              "    .dataframe tbody tr th:only-of-type {\n",
              "        vertical-align: middle;\n",
              "    }\n",
              "\n",
              "    .dataframe tbody tr th {\n",
              "        vertical-align: top;\n",
              "    }\n",
              "\n",
              "    .dataframe thead th {\n",
              "        text-align: right;\n",
              "    }\n",
              "</style>\n",
              "<table border=\"1\" class=\"dataframe\">\n",
              "  <thead>\n",
              "    <tr style=\"text-align: right;\">\n",
              "      <th></th>\n",
              "      <th>Name</th>\n",
              "      <th>Date</th>\n",
              "      <th>Time</th>\n",
              "      <th>Text</th>\n",
              "      <th>Cleaned Text</th>\n",
              "    </tr>\n",
              "  </thead>\n",
              "  <tbody>\n",
              "    <tr>\n",
              "      <th>0</th>\n",
              "      <td>CryptoClassicsVIP</td>\n",
              "      <td>2022-11-24</td>\n",
              "      <td>21:27:22</td>\n",
              "      <td>#LTCUSDT  Trade Type: long position  Entry zon...</td>\n",
              "      <td>[LTCUSDT, Trade, Type, long, position, Entry, ...</td>\n",
              "    </tr>\n",
              "    <tr>\n",
              "      <th>1</th>\n",
              "      <td>CryptoClassicsVIP</td>\n",
              "      <td>2022-11-09</td>\n",
              "      <td>21:26:58</td>\n",
              "      <td>#BNBUSDT  Trade Type: long position  Entry zon...</td>\n",
              "      <td>[BNBUSDT, Trade, Type, long, position, Entry, ...</td>\n",
              "    </tr>\n",
              "    <tr>\n",
              "      <th>2</th>\n",
              "      <td>CryptoClassicsVIP</td>\n",
              "      <td>2022-11-09</td>\n",
              "      <td>21:22:57</td>\n",
              "      <td>#ALGOUSDT  Trade Type: long position  Entry zo...</td>\n",
              "      <td>[ALGOUSDT, Trade, Type, long, position, Entry,...</td>\n",
              "    </tr>\n",
              "    <tr>\n",
              "      <th>3</th>\n",
              "      <td>CryptoClassicsVIP</td>\n",
              "      <td>2022-11-08</td>\n",
              "      <td>19:32:16</td>\n",
              "      <td>#BTCUSDT  Trade Type: long position  Entry zon...</td>\n",
              "      <td>[BTCUSDT, Trade, Type, long, position, Entry, ...</td>\n",
              "    </tr>\n",
              "    <tr>\n",
              "      <th>4</th>\n",
              "      <td>CryptoClassicsVIP</td>\n",
              "      <td>2022-11-08</td>\n",
              "      <td>16:34:31</td>\n",
              "      <td>#CAKEUSDT  Trade Type: long position  Entry zo...</td>\n",
              "      <td>[CAKEUSDT, Trade, Type, long, position, Entry,...</td>\n",
              "    </tr>\n",
              "    <tr>\n",
              "      <th>...</th>\n",
              "      <td>...</td>\n",
              "      <td>...</td>\n",
              "      <td>...</td>\n",
              "      <td>...</td>\n",
              "      <td>...</td>\n",
              "    </tr>\n",
              "    <tr>\n",
              "      <th>73</th>\n",
              "      <td>CryptoClassicsVIP</td>\n",
              "      <td>2022-09-18</td>\n",
              "      <td>21:23:48</td>\n",
              "      <td>#UNIUSDT  Trade Type: long position  Entry zon...</td>\n",
              "      <td>[UNIUSDT, Trade, Type, long, position, Entry, ...</td>\n",
              "    </tr>\n",
              "    <tr>\n",
              "      <th>74</th>\n",
              "      <td>CryptoClassicsVIP</td>\n",
              "      <td>2022-09-18</td>\n",
              "      <td>21:08:02</td>\n",
              "      <td>#DASHUSDT  Trade Type: long position  Entry zo...</td>\n",
              "      <td>[DASHUSDT, Trade, Type, long, position, Entry,...</td>\n",
              "    </tr>\n",
              "    <tr>\n",
              "      <th>75</th>\n",
              "      <td>CryptoClassicsVIP</td>\n",
              "      <td>2022-09-16</td>\n",
              "      <td>14:30:31</td>\n",
              "      <td>White House Releases Bitcoin, Crypto Regulator...</td>\n",
              "      <td>[White, House, Releases, Bitcoin, Crypto, Regu...</td>\n",
              "    </tr>\n",
              "    <tr>\n",
              "      <th>76</th>\n",
              "      <td>CryptoClassicsVIP</td>\n",
              "      <td>2022-09-15</td>\n",
              "      <td>14:04:13</td>\n",
              "      <td>The Ethereum Merge is completed — link</td>\n",
              "      <td>[The, Ethereum, Merge, completed, —, link]</td>\n",
              "    </tr>\n",
              "    <tr>\n",
              "      <th>77</th>\n",
              "      <td>CryptoClassicsVIP</td>\n",
              "      <td>2022-09-15</td>\n",
              "      <td>02:21:14</td>\n",
              "      <td>#FLMUSDT  Trade Type: long position  Entry zon...</td>\n",
              "      <td>[FLMUSDT, Trade, Type, long, position, Entry, ...</td>\n",
              "    </tr>\n",
              "  </tbody>\n",
              "</table>\n",
              "<p>78 rows × 5 columns</p>\n",
              "</div>\n",
              "      <button class=\"colab-df-convert\" onclick=\"convertToInteractive('df-d08f658a-aa41-4c0e-9177-ec4f3bcd9fca')\"\n",
              "              title=\"Convert this dataframe to an interactive table.\"\n",
              "              style=\"display:none;\">\n",
              "        \n",
              "  <svg xmlns=\"http://www.w3.org/2000/svg\" height=\"24px\"viewBox=\"0 0 24 24\"\n",
              "       width=\"24px\">\n",
              "    <path d=\"M0 0h24v24H0V0z\" fill=\"none\"/>\n",
              "    <path d=\"M18.56 5.44l.94 2.06.94-2.06 2.06-.94-2.06-.94-.94-2.06-.94 2.06-2.06.94zm-11 1L8.5 8.5l.94-2.06 2.06-.94-2.06-.94L8.5 2.5l-.94 2.06-2.06.94zm10 10l.94 2.06.94-2.06 2.06-.94-2.06-.94-.94-2.06-.94 2.06-2.06.94z\"/><path d=\"M17.41 7.96l-1.37-1.37c-.4-.4-.92-.59-1.43-.59-.52 0-1.04.2-1.43.59L10.3 9.45l-7.72 7.72c-.78.78-.78 2.05 0 2.83L4 21.41c.39.39.9.59 1.41.59.51 0 1.02-.2 1.41-.59l7.78-7.78 2.81-2.81c.8-.78.8-2.07 0-2.86zM5.41 20L4 18.59l7.72-7.72 1.47 1.35L5.41 20z\"/>\n",
              "  </svg>\n",
              "      </button>\n",
              "      \n",
              "  <style>\n",
              "    .colab-df-container {\n",
              "      display:flex;\n",
              "      flex-wrap:wrap;\n",
              "      gap: 12px;\n",
              "    }\n",
              "\n",
              "    .colab-df-convert {\n",
              "      background-color: #E8F0FE;\n",
              "      border: none;\n",
              "      border-radius: 50%;\n",
              "      cursor: pointer;\n",
              "      display: none;\n",
              "      fill: #1967D2;\n",
              "      height: 32px;\n",
              "      padding: 0 0 0 0;\n",
              "      width: 32px;\n",
              "    }\n",
              "\n",
              "    .colab-df-convert:hover {\n",
              "      background-color: #E2EBFA;\n",
              "      box-shadow: 0px 1px 2px rgba(60, 64, 67, 0.3), 0px 1px 3px 1px rgba(60, 64, 67, 0.15);\n",
              "      fill: #174EA6;\n",
              "    }\n",
              "\n",
              "    [theme=dark] .colab-df-convert {\n",
              "      background-color: #3B4455;\n",
              "      fill: #D2E3FC;\n",
              "    }\n",
              "\n",
              "    [theme=dark] .colab-df-convert:hover {\n",
              "      background-color: #434B5C;\n",
              "      box-shadow: 0px 1px 3px 1px rgba(0, 0, 0, 0.15);\n",
              "      filter: drop-shadow(0px 1px 2px rgba(0, 0, 0, 0.3));\n",
              "      fill: #FFFFFF;\n",
              "    }\n",
              "  </style>\n",
              "\n",
              "      <script>\n",
              "        const buttonEl =\n",
              "          document.querySelector('#df-d08f658a-aa41-4c0e-9177-ec4f3bcd9fca button.colab-df-convert');\n",
              "        buttonEl.style.display =\n",
              "          google.colab.kernel.accessAllowed ? 'block' : 'none';\n",
              "\n",
              "        async function convertToInteractive(key) {\n",
              "          const element = document.querySelector('#df-d08f658a-aa41-4c0e-9177-ec4f3bcd9fca');\n",
              "          const dataTable =\n",
              "            await google.colab.kernel.invokeFunction('convertToInteractive',\n",
              "                                                     [key], {});\n",
              "          if (!dataTable) return;\n",
              "\n",
              "          const docLinkHtml = 'Like what you see? Visit the ' +\n",
              "            '<a target=\"_blank\" href=https://colab.research.google.com/notebooks/data_table.ipynb>data table notebook</a>'\n",
              "            + ' to learn more about interactive tables.';\n",
              "          element.innerHTML = '';\n",
              "          dataTable['output_type'] = 'display_data';\n",
              "          await google.colab.output.renderOutput(dataTable, element);\n",
              "          const docLink = document.createElement('div');\n",
              "          docLink.innerHTML = docLinkHtml;\n",
              "          element.appendChild(docLink);\n",
              "        }\n",
              "      </script>\n",
              "    </div>\n",
              "  </div>\n",
              "  "
            ]
          },
          "metadata": {},
          "execution_count": 84
        }
      ]
    },
    {
      "cell_type": "code",
      "source": [
        "os.chdir(\"/content/content/\")\n",
        "# df_pd[df_pd['Name']=='CryptoClassicsVIP'].to_csv(\"SD.csv\")\n",
        "pd.to_pickle(df_pd,\"hello.pckl\")"
      ],
      "metadata": {
        "id": "6F467fnIg_Lh"
      },
      "execution_count": 87,
      "outputs": []
    },
    {
      "cell_type": "code",
      "source": [
        "os.chdir(\"/content/drive/MyDrive/pen\")\n",
        "if not os.path.exists('Channels'):\n",
        "    os.mkdir('Channels')\n",
        "os.chdir(os.path.join(os.getcwd(),'Channels'))\n",
        "for i in groups:\n",
        "    if not os.path.exists(i):\n",
        "        os.mkdir(i)\n",
        "    os.chdir(os.path.join(os.getcwd(),i))\n",
        "    df_pd[df_pd['Name']==i].to_csv('1_'+i+'.csv', mode='w', index=False, header=False)\n",
        "    os.chdir('/content/drive/MyDrive/pen/Channels')\n",
        "os.chdir(\"/content/drive/MyDrive/pen\")\n",
        "with open('datetime.txt', 'w') as f:\n",
        "    f.write(str(datetime.now()))"
      ],
      "metadata": {
        "colab": {
          "base_uri": "https://localhost:8080/",
          "height": 519
        },
        "id": "ENfke00RWv0h",
        "outputId": "19318cb1-79c7-4a9d-9cbb-8e35dbd4cdd3"
      },
      "execution_count": 63,
      "outputs": [
        {
          "output_type": "error",
          "ename": "ImportError",
          "evalue": "ignored",
          "traceback": [
            "\u001b[0;31m---------------------------------------------------------------------------\u001b[0m",
            "\u001b[0;31mImportError\u001b[0m                               Traceback (most recent call last)",
            "\u001b[0;32m<ipython-input-63-d0eaad5674b1>\u001b[0m in \u001b[0;36m<module>\u001b[0;34m\u001b[0m\n\u001b[1;32m      7\u001b[0m         \u001b[0mos\u001b[0m\u001b[0;34m.\u001b[0m\u001b[0mmkdir\u001b[0m\u001b[0;34m(\u001b[0m\u001b[0mi\u001b[0m\u001b[0;34m)\u001b[0m\u001b[0;34m\u001b[0m\u001b[0;34m\u001b[0m\u001b[0m\n\u001b[1;32m      8\u001b[0m     \u001b[0mos\u001b[0m\u001b[0;34m.\u001b[0m\u001b[0mchdir\u001b[0m\u001b[0;34m(\u001b[0m\u001b[0mos\u001b[0m\u001b[0;34m.\u001b[0m\u001b[0mpath\u001b[0m\u001b[0;34m.\u001b[0m\u001b[0mjoin\u001b[0m\u001b[0;34m(\u001b[0m\u001b[0mos\u001b[0m\u001b[0;34m.\u001b[0m\u001b[0mgetcwd\u001b[0m\u001b[0;34m(\u001b[0m\u001b[0;34m)\u001b[0m\u001b[0;34m,\u001b[0m\u001b[0mi\u001b[0m\u001b[0;34m)\u001b[0m\u001b[0;34m)\u001b[0m\u001b[0;34m\u001b[0m\u001b[0;34m\u001b[0m\u001b[0m\n\u001b[0;32m----> 9\u001b[0;31m     \u001b[0mdf_pd\u001b[0m\u001b[0;34m[\u001b[0m\u001b[0mdf_pd\u001b[0m\u001b[0;34m[\u001b[0m\u001b[0;34m'Name'\u001b[0m\u001b[0;34m]\u001b[0m\u001b[0;34m==\u001b[0m\u001b[0mi\u001b[0m\u001b[0;34m]\u001b[0m\u001b[0;34m.\u001b[0m\u001b[0mto_csv\u001b[0m\u001b[0;34m(\u001b[0m\u001b[0;34m'1_'\u001b[0m\u001b[0;34m+\u001b[0m\u001b[0mi\u001b[0m\u001b[0;34m+\u001b[0m\u001b[0;34m'.csv'\u001b[0m\u001b[0;34m,\u001b[0m \u001b[0mmode\u001b[0m\u001b[0;34m=\u001b[0m\u001b[0;34m'w'\u001b[0m\u001b[0;34m,\u001b[0m \u001b[0mindex\u001b[0m\u001b[0;34m=\u001b[0m\u001b[0;32mFalse\u001b[0m\u001b[0;34m,\u001b[0m \u001b[0mheader\u001b[0m\u001b[0;34m=\u001b[0m\u001b[0;32mFalse\u001b[0m\u001b[0;34m)\u001b[0m\u001b[0;34m\u001b[0m\u001b[0;34m\u001b[0m\u001b[0m\n\u001b[0m\u001b[1;32m     10\u001b[0m     \u001b[0mos\u001b[0m\u001b[0;34m.\u001b[0m\u001b[0mchdir\u001b[0m\u001b[0;34m(\u001b[0m\u001b[0;34m'/content/drive/MyDrive/pen/Channels'\u001b[0m\u001b[0;34m)\u001b[0m\u001b[0;34m\u001b[0m\u001b[0;34m\u001b[0m\u001b[0m\n\u001b[1;32m     11\u001b[0m \u001b[0mos\u001b[0m\u001b[0;34m.\u001b[0m\u001b[0mchdir\u001b[0m\u001b[0;34m(\u001b[0m\u001b[0;34m\"/content/drive/MyDrive/pen\"\u001b[0m\u001b[0;34m)\u001b[0m\u001b[0;34m\u001b[0m\u001b[0;34m\u001b[0m\u001b[0m\n",
            "\u001b[0;32m/usr/local/lib/python3.8/dist-packages/pandas/core/generic.py\u001b[0m in \u001b[0;36mto_csv\u001b[0;34m(self, path_or_buf, sep, na_rep, float_format, columns, header, index, index_label, mode, encoding, compression, quoting, quotechar, line_terminator, chunksize, date_format, doublequote, escapechar, decimal, errors, storage_options)\u001b[0m\n\u001b[1;32m   3464\u001b[0m \u001b[0;34m\u001b[0m\u001b[0m\n\u001b[1;32m   3465\u001b[0m                 \u001b[0mPrevious\u001b[0m \u001b[0mversions\u001b[0m \u001b[0mforwarded\u001b[0m \u001b[0mdict\u001b[0m \u001b[0mentries\u001b[0m \u001b[0;32mfor\u001b[0m \u001b[0;34m'gzip'\u001b[0m \u001b[0mto\u001b[0m\u001b[0;34m\u001b[0m\u001b[0;34m\u001b[0m\u001b[0m\n\u001b[0;32m-> 3466\u001b[0;31m                 \u001b[0;31m`\u001b[0m\u001b[0mgzip\u001b[0m\u001b[0;34m.\u001b[0m\u001b[0mopen\u001b[0m\u001b[0;31m`\u001b[0m \u001b[0minstead\u001b[0m \u001b[0mof\u001b[0m\u001b[0;31m \u001b[0m\u001b[0;31m`\u001b[0m\u001b[0mgzip\u001b[0m\u001b[0;34m.\u001b[0m\u001b[0mGzipFile\u001b[0m\u001b[0;31m`\u001b[0m \u001b[0mwhich\u001b[0m \u001b[0mprevented\u001b[0m\u001b[0;34m\u001b[0m\u001b[0;34m\u001b[0m\u001b[0m\n\u001b[0m\u001b[1;32m   3467\u001b[0m                 \u001b[0msetting\u001b[0m\u001b[0;31m \u001b[0m\u001b[0;31m`\u001b[0m\u001b[0mmtime\u001b[0m\u001b[0;31m`\u001b[0m\u001b[0;34m.\u001b[0m\u001b[0;34m\u001b[0m\u001b[0;34m\u001b[0m\u001b[0m\n\u001b[1;32m   3468\u001b[0m \u001b[0;34m\u001b[0m\u001b[0m\n",
            "\u001b[0;32m/usr/local/lib/python3.8/dist-packages/pandas/io/formats/format.py\u001b[0m in \u001b[0;36mto_csv\u001b[0;34m(self, path_or_buf, encoding, sep, columns, index_label, mode, compression, quoting, quotechar, line_terminator, chunksize, date_format, doublequote, escapechar, errors, storage_options)\u001b[0m\n\u001b[1;32m   1076\u001b[0m             \u001b[0mclasses\u001b[0m \u001b[0mto\u001b[0m \u001b[0minclude\u001b[0m \u001b[0;32min\u001b[0m \u001b[0mthe\u001b[0m\u001b[0;31m \u001b[0m\u001b[0;31m`\u001b[0m\u001b[0;32mclass\u001b[0m\u001b[0;31m`\u001b[0m \u001b[0mattribute\u001b[0m \u001b[0mof\u001b[0m \u001b[0mthe\u001b[0m \u001b[0mopening\u001b[0m\u001b[0;34m\u001b[0m\u001b[0;34m\u001b[0m\u001b[0m\n\u001b[1;32m   1077\u001b[0m             \u001b[0;31m`\u001b[0m\u001b[0;31m`\u001b[0m\u001b[0;34m<\u001b[0m\u001b[0mtable\u001b[0m\u001b[0;34m>\u001b[0m\u001b[0;31m`\u001b[0m\u001b[0;31m`\u001b[0m \u001b[0mtag\u001b[0m\u001b[0;34m,\u001b[0m \u001b[0;32min\u001b[0m \u001b[0maddition\u001b[0m \u001b[0mto\u001b[0m \u001b[0mthe\u001b[0m \u001b[0mdefault\u001b[0m \u001b[0;34m\"dataframe\"\u001b[0m\u001b[0;34m.\u001b[0m\u001b[0;34m\u001b[0m\u001b[0;34m\u001b[0m\u001b[0m\n\u001b[0;32m-> 1078\u001b[0;31m         \u001b[0mnotebook\u001b[0m \u001b[0;34m:\u001b[0m \u001b[0;34m{\u001b[0m\u001b[0;32mTrue\u001b[0m\u001b[0;34m,\u001b[0m \u001b[0;32mFalse\u001b[0m\u001b[0;34m}\u001b[0m\u001b[0;34m,\u001b[0m \u001b[0moptional\u001b[0m\u001b[0;34m,\u001b[0m \u001b[0mdefault\u001b[0m \u001b[0;32mFalse\u001b[0m\u001b[0;34m\u001b[0m\u001b[0;34m\u001b[0m\u001b[0m\n\u001b[0m\u001b[1;32m   1079\u001b[0m             \u001b[0mWhether\u001b[0m \u001b[0mthe\u001b[0m \u001b[0mgenerated\u001b[0m \u001b[0mHTML\u001b[0m \u001b[0;32mis\u001b[0m \u001b[0;32mfor\u001b[0m \u001b[0mIPython\u001b[0m \u001b[0mNotebook\u001b[0m\u001b[0;34m.\u001b[0m\u001b[0;34m\u001b[0m\u001b[0;34m\u001b[0m\u001b[0m\n\u001b[1;32m   1080\u001b[0m         \u001b[0mborder\u001b[0m \u001b[0;34m:\u001b[0m \u001b[0mint\u001b[0m\u001b[0;34m\u001b[0m\u001b[0;34m\u001b[0m\u001b[0m\n",
            "\u001b[0;32m/usr/local/lib/python3.8/dist-packages/pandas/io/formats/csvs.py\u001b[0m in \u001b[0;36m<module>\u001b[0;34m\u001b[0m\n\u001b[1;32m     19\u001b[0m \u001b[0;34m\u001b[0m\u001b[0m\n\u001b[1;32m     20\u001b[0m \u001b[0;32mfrom\u001b[0m \u001b[0mpandas\u001b[0m\u001b[0;34m.\u001b[0m\u001b[0m_libs\u001b[0m \u001b[0;32mimport\u001b[0m \u001b[0mwriters\u001b[0m \u001b[0;32mas\u001b[0m \u001b[0mlibwriters\u001b[0m\u001b[0;34m\u001b[0m\u001b[0;34m\u001b[0m\u001b[0m\n\u001b[0;32m---> 21\u001b[0;31m from pandas._typing import (\n\u001b[0m\u001b[1;32m     22\u001b[0m     \u001b[0mCompressionOptions\u001b[0m\u001b[0;34m,\u001b[0m\u001b[0;34m\u001b[0m\u001b[0;34m\u001b[0m\u001b[0m\n\u001b[1;32m     23\u001b[0m     \u001b[0mFilePath\u001b[0m\u001b[0;34m,\u001b[0m\u001b[0;34m\u001b[0m\u001b[0;34m\u001b[0m\u001b[0m\n",
            "\u001b[0;31mImportError\u001b[0m: cannot import name 'FilePath' from 'pandas._typing' (/usr/local/lib/python3.8/dist-packages/pandas/_typing.py)",
            "",
            "\u001b[0;31m---------------------------------------------------------------------------\u001b[0;32m\nNOTE: If your import is failing due to a missing package, you can\nmanually install dependencies using either !pip or !apt.\n\nTo view examples of installing some common dependencies, click the\n\"Open Examples\" button below.\n\u001b[0;31m---------------------------------------------------------------------------\u001b[0m\n"
          ],
          "errorDetails": {
            "actions": [
              {
                "action": "open_url",
                "actionText": "Open Examples",
                "url": "/notebooks/snippets/importing_libraries.ipynb"
              }
            ]
          }
        }
      ]
    },
    {
      "cell_type": "code",
      "source": [],
      "metadata": {
        "id": "2fh8fFM6gwhL"
      },
      "execution_count": null,
      "outputs": []
    },
    {
      "cell_type": "code",
      "source": [
        "for i in groups:\n",
        " df1.write.partitionBy('Name').format(\"csv\").mode(\"overwrite\").option(\"header\",\"true\").save(\"/content/drive/MyDrive/trying\")\n",
        "with open('/datetime.txt', 'w') as f:\n",
        "  f.write(str(datetime.now()))\n",
        "#   #df.repartition(df.Name==i).write.format(\"csv\").mode(\"overwrite\").option(\"header\",\"true\").save(\"hi\")"
      ],
      "metadata": {
        "id": "_DA2sA-zAbXZ"
      },
      "execution_count": 61,
      "outputs": []
    },
    {
      "cell_type": "code",
      "source": [
        "#df.load(\"file\")\n",
        "#for i in groups:\n",
        " # df.repartition(df.Name).write.format(\"csv\").mode(\"overwrite\").save(\"hello\")\n",
        "  #df.to_csv()\n",
        "  #df.write.option(\"header\",\"true\").csv(\"/content/file\")\n",
        "#with open('/datetime.txt', 'w') as f:\n",
        "  #f.write(str(datetime.now()))\n",
        "  "
      ],
      "metadata": {
        "id": "mCNNpBudiV4e"
      },
      "execution_count": null,
      "outputs": []
    },
    {
      "cell_type": "code",
      "source": [
        "#df1=spark.read.format(\"csv\").option(\"header\",\"true\").load(\"outputPath/'i'.csv\")\n",
        "#df1.show()"
      ],
      "metadata": {
        "id": "hHDmbQVp6DkX"
      },
      "execution_count": null,
      "outputs": []
    }
  ]
}