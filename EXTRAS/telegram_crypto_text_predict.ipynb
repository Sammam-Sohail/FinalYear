{
 "cells": [
  {
   "cell_type": "code",
   "execution_count": 18,
   "metadata": {},
   "outputs": [],
   "source": [
    "# !pip install -r requirements.txt\n",
    "# !python -m nltk.downloader stopwords\n",
    "# !python -m nltk.downloader wordnet\n",
    "# !python -m nltk.downloader omw-1.4"
   ]
  },
  {
   "cell_type": "code",
   "execution_count": 19,
   "metadata": {},
   "outputs": [],
   "source": [
    "from nltk.corpus import stopwords\n",
    "import pandas as pd\n",
    "import string\n",
    "from sklearn.model_selection import train_test_split\n",
    "from sklearn.feature_extraction.text import TfidfVectorizer\n",
    "from sklearn.naive_bayes import MultinomialNB\n",
    "from sklearn.pipeline import make_pipeline\n",
    "from sklearn.metrics import confusion_matrix, accuracy_score\n",
    "from nltk.stem.wordnet import WordNetLemmatizer\n",
    "import pickle"
   ]
  },
  {
   "cell_type": "code",
   "execution_count": 20,
   "metadata": {},
   "outputs": [
    {
     "data": {
      "text/html": [
       "<div>\n",
       "<style scoped>\n",
       "    .dataframe tbody tr th:only-of-type {\n",
       "        vertical-align: middle;\n",
       "    }\n",
       "\n",
       "    .dataframe tbody tr th {\n",
       "        vertical-align: top;\n",
       "    }\n",
       "\n",
       "    .dataframe thead th {\n",
       "        text-align: right;\n",
       "    }\n",
       "</style>\n",
       "<table border=\"1\" class=\"dataframe\">\n",
       "  <thead>\n",
       "    <tr style=\"text-align: right;\">\n",
       "      <th></th>\n",
       "      <th>Unnamed: 0</th>\n",
       "      <th>Date</th>\n",
       "      <th>Prediction</th>\n",
       "      <th>Content</th>\n",
       "    </tr>\n",
       "  </thead>\n",
       "  <tbody>\n",
       "    <tr>\n",
       "      <th>0</th>\n",
       "      <td>0</td>\n",
       "      <td>2022-07-19 13:21:45+00:00</td>\n",
       "      <td>1</td>\n",
       "      <td>$CLV getting ready 👌🏻</td>\n",
       "    </tr>\n",
       "    <tr>\n",
       "      <th>1</th>\n",
       "      <td>0</td>\n",
       "      <td>2022-07-19 13:20:33+00:00</td>\n",
       "      <td>1</td>\n",
       "      <td>$OGN is on the way to $0,3  👀🚀</td>\n",
       "    </tr>\n",
       "    <tr>\n",
       "      <th>2</th>\n",
       "      <td>0</td>\n",
       "      <td>2022-07-19 13:12:12+00:00</td>\n",
       "      <td>1</td>\n",
       "      <td>$FIL is a buy.</td>\n",
       "    </tr>\n",
       "    <tr>\n",
       "      <th>3</th>\n",
       "      <td>0</td>\n",
       "      <td>2022-07-19 13:05:41+00:00</td>\n",
       "      <td>1</td>\n",
       "      <td>Buying $QI here!</td>\n",
       "    </tr>\n",
       "    <tr>\n",
       "      <th>4</th>\n",
       "      <td>0</td>\n",
       "      <td>2022-07-19 13:03:15+00:00</td>\n",
       "      <td>2</td>\n",
       "      <td>$CHR +13% so far!</td>\n",
       "    </tr>\n",
       "    <tr>\n",
       "      <th>...</th>\n",
       "      <td>...</td>\n",
       "      <td>...</td>\n",
       "      <td>...</td>\n",
       "      <td>...</td>\n",
       "    </tr>\n",
       "    <tr>\n",
       "      <th>95</th>\n",
       "      <td>0</td>\n",
       "      <td>2022-06-24 17:10:23+00:00</td>\n",
       "      <td>1</td>\n",
       "      <td>Buying some $TRB on this breakout!</td>\n",
       "    </tr>\n",
       "    <tr>\n",
       "      <th>96</th>\n",
       "      <td>0</td>\n",
       "      <td>2022-06-24 16:31:27+00:00</td>\n",
       "      <td>2</td>\n",
       "      <td>$OP +20% from entry!</td>\n",
       "    </tr>\n",
       "    <tr>\n",
       "      <th>97</th>\n",
       "      <td>0</td>\n",
       "      <td>2022-06-24 11:35:49+00:00</td>\n",
       "      <td>1</td>\n",
       "      <td>$ICP is going to $7</td>\n",
       "    </tr>\n",
       "    <tr>\n",
       "      <th>98</th>\n",
       "      <td>0</td>\n",
       "      <td>2022-06-24 10:56:30+00:00</td>\n",
       "      <td>2</td>\n",
       "      <td>The #Bitcoin drawdown from ATH has reached 73....</td>\n",
       "    </tr>\n",
       "    <tr>\n",
       "      <th>99</th>\n",
       "      <td>0</td>\n",
       "      <td>2022-06-24 09:42:54+00:00</td>\n",
       "      <td>1</td>\n",
       "      <td>$JASMY breakout and retest successfully 🚀</td>\n",
       "    </tr>\n",
       "  </tbody>\n",
       "</table>\n",
       "<p>100 rows × 4 columns</p>\n",
       "</div>"
      ],
      "text/plain": [
       "    Unnamed: 0                       Date  Prediction  \\\n",
       "0            0  2022-07-19 13:21:45+00:00           1   \n",
       "1            0  2022-07-19 13:20:33+00:00           1   \n",
       "2            0  2022-07-19 13:12:12+00:00           1   \n",
       "3            0  2022-07-19 13:05:41+00:00           1   \n",
       "4            0  2022-07-19 13:03:15+00:00           2   \n",
       "..         ...                        ...         ...   \n",
       "95           0  2022-06-24 17:10:23+00:00           1   \n",
       "96           0  2022-06-24 16:31:27+00:00           2   \n",
       "97           0  2022-06-24 11:35:49+00:00           1   \n",
       "98           0  2022-06-24 10:56:30+00:00           2   \n",
       "99           0  2022-06-24 09:42:54+00:00           1   \n",
       "\n",
       "                                              Content  \n",
       "0                               $CLV getting ready 👌🏻  \n",
       "1                      $OGN is on the way to $0,3  👀🚀  \n",
       "2                                      $FIL is a buy.  \n",
       "3                                    Buying $QI here!  \n",
       "4                                   $CHR +13% so far!  \n",
       "..                                                ...  \n",
       "95                 Buying some $TRB on this breakout!  \n",
       "96                               $OP +20% from entry!  \n",
       "97                                $ICP is going to $7  \n",
       "98  The #Bitcoin drawdown from ATH has reached 73....  \n",
       "99          $JASMY breakout and retest successfully 🚀  \n",
       "\n",
       "[100 rows x 4 columns]"
      ]
     },
     "execution_count": 20,
     "metadata": {},
     "output_type": "execute_result"
    }
   ],
   "source": [
    "df = pd.read_csv(\"Telegram_Prediction.csv\")\n",
    "df"
   ]
  },
  {
   "cell_type": "code",
   "execution_count": 21,
   "metadata": {},
   "outputs": [],
   "source": [
    "stop = set(stopwords.words('english'))\n",
    "exclude = set(string.punctuation)\n",
    "lemma = WordNetLemmatizer()\n",
    "def text_cleaning(text):\n",
    "    if(text!=None):\n",
    "        text=str(text)\n",
    "        stop_free = ' '.join([word for word in text.lower().split() if word not in stop])\n",
    "        punc_free = ''.join(ch for ch in stop_free if ch not in exclude)\n",
    "        normalized = ' '.join([lemma.lemmatize(word) for word in punc_free.split()])\n",
    "        return str(normalized.split())\n",
    "\n",
    "df[\"Cleaned Text\"]= df[\"Content\"].apply(text_cleaning)\n",
    "df.drop(columns=\"Unnamed: 0\",inplace=True)"
   ]
  },
  {
   "cell_type": "code",
   "execution_count": 22,
   "metadata": {},
   "outputs": [],
   "source": [
    "X = df.loc[:,\"Cleaned Text\"]\n",
    "Y = df.loc[:,'Prediction']\n",
    "Y =Y.apply(lambda x : str(x))"
   ]
  },
  {
   "cell_type": "code",
   "execution_count": 23,
   "metadata": {},
   "outputs": [
    {
     "data": {
      "text/plain": [
       "0.4"
      ]
     },
     "execution_count": 23,
     "metadata": {},
     "output_type": "execute_result"
    }
   ],
   "source": [
    "X_train,X_test,Y_train,Y_test = train_test_split(X,Y,test_size=.1)\n",
    "model = make_pipeline(TfidfVectorizer(lowercase=False), MultinomialNB())\n",
    "model.fit(X_train, Y_train)\n",
    "predict = model.predict(X_test)\n",
    "model.score(predict,Y_test)"
   ]
  },
  {
   "cell_type": "code",
   "execution_count": 24,
   "metadata": {},
   "outputs": [],
   "source": [
    "pickle.dump(model, open('./Telegram.pkl', 'wb'))"
   ]
  }
 ],
 "metadata": {
  "kernelspec": {
   "display_name": "Python 3.10.4 64-bit",
   "language": "python",
   "name": "python3"
  },
  "language_info": {
   "codemirror_mode": {
    "name": "ipython",
    "version": 3
   },
   "file_extension": ".py",
   "mimetype": "text/x-python",
   "name": "python",
   "nbconvert_exporter": "python",
   "pygments_lexer": "ipython3",
   "version": "3.10.4"
  },
  "orig_nbformat": 4,
  "vscode": {
   "interpreter": {
    "hash": "d572fee55088b61515265814f82e71c0d56216367d221f2ac084c0d372a9af7e"
   }
  }
 },
 "nbformat": 4,
 "nbformat_minor": 2
}
