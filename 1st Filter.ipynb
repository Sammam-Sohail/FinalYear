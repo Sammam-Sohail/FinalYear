{
 "cells": [
  {
   "cell_type": "code",
   "execution_count": 17,
   "metadata": {},
   "outputs": [],
   "source": [
    "#c_symbols=[\"BTC\",\"LTC\",\"ETH\",\"NEO\",\"BNB\",\"QTUM\",\"EOS\",\"SNT\",\"BNT\",\"GAS\",\"BCC\",\"USDT\",\"HSR\",\"OAX\",\"DNT\",\"MCO\",\"ICN\",\"ZRX\",\"OMG\",\"WTC\",\"YOYO\",\"LRC\",\"TRX\",\"SNGLS\",\"STRAT\",\"BQX\",\"FUN\",\"KNC\",\"CDT\",\"XVG\",\"IOTA\",\"SNM\",\"LINK\",\"CVC\",\"TNT\",\"REP\",\"MDA\",\"MTL\",\"SALT\",\"NULS\",\"SUB\",\"STX\",\"MTH\",\"ADX\",\"ETC\",\"ENG\",\"ZEC\",\"AST\",\"GNT\",\"DGD\",\"BAT\",\"DASH\",\"POWR\",\"BTG\",\"REQ\",\"XMR\",\"EVX\",\"VIB\",\"ENJ\",\"VEN\",\"ARK\",\"XRP\",\"MOD\",\"STORJ\",\"KMD\",\"RCN\",\"EDO\",\"DATA\",\"DLT\",\"MANA\",\"PPT\",\"RDN\",\"GXS\",\"AMB\",\"ARN\",\"BCPT\",\"CND\",\"GVT\",\"POE\",\"BTS\",\"FUEL\",\"XZC\",\"QSP\",\"LSK\",\"BCD\",\"TNB\",\"ADA\",\"LEND\",\"XLM\",\"CMT\",\"WAVES\",\"WABI\",\"GTO\",\"ICX\",\"OST\",\"ELF\",\"AION\",\"WINGS\",\"BRD\",\"NEBL\",\"NAV\",\"VIBE\",\"LUN\",\"TRIG\",\"APPC\",\"CHAT\",\"RLC\",\"INS\",\"PIVX\",\"IOST\",\"STEEM\",\"NANO\",\"AE\",\"VIA\",\"BLZ\",\"SYS\",\"RPX\",\"NCASH\",\"POA\",\"ONT\",\"ZIL\",\"STORM\",\"XEM\",\"WAN\",\"WPR\",\"QLC\",\"GRS\",\"CLOAK\",\"LOOM\",\"BCN\",\"TUSD\",\"ZEN\",\"SKY\",\"THETA\",\"IOTX\",\"QKC\",\"AGI\",\"NXS\",\"SC\",\"NPXS\",\"KEY\",\"NAS\",\"MFT\",\"DENT\",\"IQ\",\"ARDR\",\"HOT\",\"VET\",\"DOCK\",\"POLY\",\"VTHO\",\"ONG\",\"PHX\",\"HC\",\"GO\",\"PAX\",\"RVN\",\"DCR\",\"USDC\",\"MITH\",\"BCHABC\",\"BCHSV\",\"REN\",\"BTT\",\"USDS\",\"FET\",\"TFUEL\",\"CELR\",\"MATIC\",\"ATOM\",\"PHB\",\"ONE\",\"FTM\",\"BTCB\",\"USDSB\",\"CHZ\",\"COS\",\"ALGO\",\"ERD\",\"DOGE\",\"BGBP\",\"DUSK\",\"ANKR\",\"WIN\",\"TUSDB\",\"COCOS\",\"PERL\",\"TOMO\",\"BUSD\",\"BAND\",\"BEAM\",\"HBAR\",\"XTZ\",\"NGN\",\"DGB\",\"NKN\",\"GBP\",\"EUR\",\"KAVA\",\"RUB\",\"UAH\",\"ARPA\",\"TRY\",\"CTXC\",\"AERGO\",\"BCH\",\"TROY\",\"BRL\",\"VITE\",\"FTT\",\"AUD\",\"OGN\",\"DREP\",\"BULL\",\"BEAR\",\"ETHBULL\",\"ETHBEAR\",\"XRPBULL\",\"XRPBEAR\",\"EOSBULL\",\"EOSBEAR\",\"TCT\",\"WRX\",\"LTO\",\"ZAR\",\"MBL\",\"COTI\",\"BKRW\",\"BNBBULL\",\"BNBBEAR\",\"HIVE\",\"STPT\",\"SOL\",\"IDRT\",\"CTSI\",\"CHR\",\"BTCUP\",\"BTCDOWN\",\"HNT\",\"JST\",\"FIO\",\"BIDR\",\"STMX\",\"MDT\",\"PNT\",\"COMP\",\"IRIS\",\"MKR\",\"SXP\",\"SNX\",\"DAI\",\"ETHUP\",\"ETHDOWN\",\"ADAUP\",\"ADADOWN\",\"LINKUP\",\"LINKDOWN\",\"DOT\",\"RUNE\",\"BNBUP\",\"BNBDOWN\",\"XTZUP\",\"XTZDOWN\",\"AVA\",\"BAL\",\"YFI\",\"SRM\",\"ANT\",\"CRV\",\"SAND\",\"OCEAN\",\"NMR\",\"LUNA\",\"IDEX\",\"RSR\",\"PAXG\",\"WNXM\",\"TRB\",\"EGLD\",\"BZRX\",\"WBTC\",\"KSM\",\"SUSHI\",\"YFII\",\"DIA\",\"BEL\",\"UMA\",\"EOSUP\",\"TRXUP\",\"EOSDOWN\",\"TRXDOWN\",\"XRPUP\",\"XRPDOWN\",\"DOTUP\",\"DOTDOWN\",\"NBS\",\"WING\",\"SWRV\",\"LTCUP\",\"LTCDOWN\",\"CREAM\",\"UNI\",\"OXT\",\"SUN\",\"AVAX\",\"BURGER\",\"BAKE\",\"FLM\",\"SCRT\",\"XVS\",\"CAKE\",\"SPARTA\",\"UNIUP\",\"UNIDOWN\",\"ALPHA\",\"ORN\",\"UTK\",\"NEAR\",\"VIDT\",\"AAVE\",\"FIL\",\"SXPUP\",\"SXPDOWN\",\"INJ\",\"FILDOWN\",\"FILUP\",\"YFIUP\",\"YFIDOWN\",\"CTK\",\"EASY\",\"AUDIO\",\"BCHUP\",\"BCHDOWN\",\"BOT\",\"AXS\",\"AKRO\",\"HARD\",\"KP3R\",\"RENBTC\",\"SLP\",\"STRAX\",\"UNFI\",\"CVP\",\"BCHA\",\"FOR\",\"FRONT\",\"ROSE\",\"HEGIC\",\"AAVEUP\",\"AAVEDOWN\",\"PROM\",\"BETH\",\"SKL\",\"GLM\",\"SUSD\",\"COVER\",\"GHST\",\"SUSHIUP\",\"SUSHIDOWN\",\"XLMUP\",\"XLMDOWN\",\"DF\",\"JUV\",\"PSG\",\"BVND\",\"GRT\",\"CELO\",\"TWT\",\"REEF\",\"OG\",\"ATM\",\"ASR\",\"1INCH\",\"RIF\",\"BTCST\",\"TRU\",\"DEXE\",\"CKB\",\"FIRO\",\"LIT\",\"PROS\",\"VAI\",\"SFP\",\"FXS\",\"DODO\",\"AUCTION\",\"UFT\",\"ACM\",\"PHA\",\"TVK\",\"BADGER\",\"FIS\",\"OM\",\"POND\",\"ALICE\",\"DEGO\",\"BIFI\",\"LINA\"]"
   ]
  },
  {
   "cell_type": "code",
   "execution_count": 18,
   "metadata": {},
   "outputs": [],
   "source": [
    "c_symbols=['BNB', 'BTC', 'XRP', 'ETH', 'BCHABC', 'LTC', 'LINK', 'ETC', 'TRX', 'EOS', 'XLM', 'ADA', 'BCH', 'QTUM', 'VET', 'EUR', 'BULL', 'BEAR', 'ETHBULL', 'ETHBEAR', 'ICX', 'BTS', 'BNT', 'ATOM', 'DASH', 'NEO', 'WAVES', 'XTZ', 'EOSBULL', 'EOSBEAR', 'XRPBULL', 'XRPBEAR', 'BAT', 'ENJ', 'NANO', 'ONT', 'RVN', 'STRAT', 'AION', 'ALGO', 'BTT', 'TOMO', 'XMR', 'ZEC', 'BNBBULL', 'BNBBEAR', 'DATA', 'SOL', 'CTSI', 'ERD', 'HBAR', 'MATIC', 'WRX', 'ZIL', 'KNC', 'REP', 'LRC', 'IQ', 'GBP', 'DGB', 'COMP', 'BKRW', 'SXP', 'SNX', 'VTHO', 'DCR', 'STORJ', 'IRIS', 'MKR', 'DAI', 'RUNE', 'MANA', 'DOGE', 'LEND', 'ZRX', 'AUD', 'FIO', 'AVA', 'IOTA', 'BAL', 'YFI', 'BLZ', 'KMD', 'JST', 'SRM', 'ANT', 'CRV', 'SAND', 'OCEAN', 'NMR', 'DOT', 'LUNA', 'IDEX', 'RSR', 'PAXG', 'WNXM', 'TRB', 'BZRX', 'SUSHI', 'YFII', 'KSM', 'EGLD', 'DIA', 'BEL', 'SWRV', 'WING', 'CREAM', 'UNI', 'AVAX', 'FLM', 'CAKE', 'XVS', 'ALPHA', 'VIDT', 'AAVE', 'NEAR', 'FIL', 'INJ', 'AERGO', 'ONE', 'AUDIO', 'CTK', 'BOT', 'KP3R', 'AXS', 'HARD', 'DNT', 'CVP', 'STRAX', 'FOR', 'UNFI', 'FRONT', 'BCHA', 'ROSE', 'SYS', 'HEGIC', 'PROM', 'SKL', 'COVER', 'GHST', 'DF', 'JUV', 'PSG', 'BTCST', 'TRU', 'DEXE', 'USDC', 'TUSD', 'PAX', 'CKB', 'TWT', 'LIT', 'SFP', 'FXS', 'DODO', 'BAKE', 'UFT', '1INCH', 'BAND', 'GRT', 'IOST', 'OMG', 'REEF', 'ACM', 'AUCTION', 'PHA', 'TVK', 'BADGER', 'FIS', 'OM', 'POND', 'DEGO', 'ALICE', 'CHZ', 'BIFI', 'LINA', 'PERP', 'RAMP', 'SUPER', 'CFX', 'XVG', 'EPS', 'AUTO', 'TKO', 'TLM', 'BTG', 'HOT', 'MIR', 'BAR', 'FORTH', 'BURGER', 'SLP', 'SHIB', 'ICP', 'AR', 'POLS', 'MDX', 'MASK', 'LPT', 'NU', 'RLC', 'CELR', 'ATM', 'ZEN', 'FTM', 'THETA', 'WIN', 'KAVA', 'XEM', 'ATA', 'GTC', 'TORN', 'COTI', 'KEEP', 'SC', 'CHR', 'STMX', 'HNT', 'FTT', 'DOCK', 'ERN', 'KLAY', 'UTK', 'IOTX', 'BOND', 'MLN', 'LTO', 'ADX', 'QUICK', 'C98', 'CLV', 'QNT', 'FLOW', 'XEC', 'MINA', 'RAY', 'FARM', 'ALPACA', 'ORN', 'MBOX', 'WAXP', 'TRIBE', 'GNO', 'MTL', 'OGN', 'POLY', 'DYDX', 'ELF', 'USDP', 'GALA', 'SUN', 'ILV', 'REN', 'YGG', 'STX', 'FET', 'ARPA', 'LSK', 'FIDA', 'DENT', 'AGLD', 'RAD', 'HIVE', 'STPT', 'BETA', 'RARE', 'TROY', 'CHESS', 'SCRT', 'CELO', 'DAR', 'BNX', 'RGT', 'LAZIO', 'OXT', 'MOVR', 'CITY', 'ENS', 'ANKR', 'QI', 'POWR', 'JASMY', 'AMP', 'PLA', 'PYR', 'RNDR', 'ALCX', 'MC', 'COCOS', 'ANY', 'BICO', 'FLUX', 'REQ', 'VOXEL', 'COS', 'CTXC', 'HIGH', 'CVX', 'PEOPLE', 'OOKI', 'MDT', 'NULS', 'SPELL', 'UST', 'JOE', 'DUSK', 'ACH', 'IMX', 'GLMR', 'UMA', 'LOKA', 'API3', 'ACA', 'ANC', 'XNO', 'WOO', 'TFUEL', 'T', 'ASTR', 'GMT', 'KDA', 'APE', 'ALPINE', 'BSW', 'SANTOS', 'MULTI', 'PORTO', 'BTTC', 'MBL', 'MOB', 'NEXO', 'GAL', 'LDO', 'EPX', 'STEEM', 'CVC', 'REI', 'DREP', 'AKRO', 'PUNDIX', 'LUNC', 'USTC', 'OP', 'OG', 'KEY', 'ASR', 'FIRO', 'NKN', 'GTO', 'WBTC', 'LEVER', 'GLM', 'SSV', 'STG', 'ARK', 'BETH', 'LOOM', 'SNM', 'AMB', 'PHB', 'GAS', 'NEBL', 'PROS', 'VIB', 'GMX', 'AGIX', 'SNT', 'POLYX', 'APT', 'QKC', 'OSMO'\n",
    "]"
   ]
  },
  {
   "cell_type": "code",
   "execution_count": 19,
   "metadata": {},
   "outputs": [
    {
     "data": {
      "text/plain": [
       "['Altsignals',\n",
       " 'coincodecap',\n",
       " 'Wolfxsignals',\n",
       " 'MikeTopCryptoSignals',\n",
       " 'Universalcryptosignals',\n",
       " 'CryptosignalsOrg',\n",
       " 'CryptoClassicsVIP',\n",
       " 'CRYPTONOTESMOHSIN',\n",
       " 'RocketWllet_Official',\n",
       " 'fatpigsignals',\n",
       " 'onwardbtc_official',\n",
       " 'defimillion',\n",
       " 'Mega_Cryptoo',\n",
       " 'binancekillers',\n",
       " 'whalesguide',\n",
       " 'FedRussianInsiders',\n",
       " 'Official_Bulls',\n",
       " 'TCGFORYOU',\n",
       " 'UltimateCryptoSignals',\n",
       " 'wallstreetTraderSchool',\n",
       " 'coin_signals',\n",
       " 'cryptopapasignals',\n",
       " 'MCP_binance',\n",
       " 'altcenter',\n",
       " 'verifiedcryptonews',\n",
       " 'AlphaTradeZone',\n",
       " 'cryptosignal',\n",
       " 'marginwhales',\n",
       " 'indoleaks',\n",
       " 'bestbinancepumps',\n",
       " 'big_pumps_signals',\n",
       " 'godx_signals',\n",
       " 'cryptopumpsignals_1',\n",
       " 'cryptovipsignalta',\n",
       " 'Thebull_crypto']"
      ]
     },
     "execution_count": 19,
     "metadata": {},
     "output_type": "execute_result"
    }
   ],
   "source": [
    "import pandas as pd\n",
    "path='C:/Users/M.Sohail/Desktop/sufiwork/workingdata.xlsx'\n",
    "xls = pd.ExcelFile(path)\n",
    "sheets = xls.sheet_names\n",
    "sheets\n",
    "\n"
   ]
  },
  {
   "cell_type": "code",
   "execution_count": 20,
   "metadata": {},
   "outputs": [
    {
     "name": "stdout",
     "output_type": "stream",
     "text": [
      "371\n"
     ]
    }
   ],
   "source": [
    "total_coins=len(c_symbols)\n",
    "print(total_coins)"
   ]
  },
  {
   "cell_type": "markdown",
   "metadata": {},
   "source": [
    "#reading cleaned text from excel sheet"
   ]
  },
  {
   "cell_type": "code",
   "execution_count": 22,
   "metadata": {},
   "outputs": [
    {
     "name": "stdout",
     "output_type": "stream",
     "text": [
      "['bybit', 'usdt', 'binance', 'futuresdotusdt', 'takeprofit', 'target', '1', '✅profit', '220207', '📈period', '17', 'hour', '0', 'minute', '⏰']\n"
     ]
    }
   ],
   "source": [
    "df1=pd.read_excel(xls,sheets[0])\n",
    "print(df1['Cleaned Text'][0])"
   ]
  },
  {
   "cell_type": "code",
   "execution_count": 23,
   "metadata": {},
   "outputs": [],
   "source": [
    "sym=[]\n",
    "for i in c_symbols:\n",
    "    sym.append(i.lower())\n"
   ]
  },
  {
   "cell_type": "code",
   "execution_count": 24,
   "metadata": {},
   "outputs": [
    {
     "name": "stdout",
     "output_type": "stream",
     "text": [
      "['bnb', 'btc', 'xrp', 'eth', 'bchabc', 'ltc', 'link', 'etc', 'trx', 'eos', 'xlm', 'ada', 'bch', 'qtum', 'vet', 'eur', 'bull', 'bear', 'ethbull', 'ethbear', 'icx', 'bts', 'bnt', 'atom', 'dash', 'neo', 'waves', 'xtz', 'eosbull', 'eosbear', 'xrpbull', 'xrpbear', 'bat', 'enj', 'nano', 'ont', 'rvn', 'strat', 'aion', 'algo', 'btt', 'tomo', 'xmr', 'zec', 'bnbbull', 'bnbbear', 'data', 'sol', 'ctsi', 'erd', 'hbar', 'matic', 'wrx', 'zil', 'knc', 'rep', 'lrc', 'iq', 'gbp', 'dgb', 'comp', 'bkrw', 'sxp', 'snx', 'vtho', 'dcr', 'storj', 'iris', 'mkr', 'dai', 'rune', 'mana', 'doge', 'lend', 'zrx', 'aud', 'fio', 'ava', 'iota', 'bal', 'yfi', 'blz', 'kmd', 'jst', 'srm', 'ant', 'crv', 'sand', 'ocean', 'nmr', 'dot', 'luna', 'idex', 'rsr', 'paxg', 'wnxm', 'trb', 'bzrx', 'sushi', 'yfii', 'ksm', 'egld', 'dia', 'bel', 'swrv', 'wing', 'cream', 'uni', 'avax', 'flm', 'cake', 'xvs', 'alpha', 'vidt', 'aave', 'near', 'fil', 'inj', 'aergo', 'one', 'audio', 'ctk', 'bot', 'kp3r', 'axs', 'hard', 'dnt', 'cvp', 'strax', 'for', 'unfi', 'front', 'bcha', 'rose', 'sys', 'hegic', 'prom', 'skl', 'cover', 'ghst', 'df', 'juv', 'psg', 'btcst', 'tru', 'dexe', 'usdc', 'tusd', 'pax', 'ckb', 'twt', 'lit', 'sfp', 'fxs', 'dodo', 'bake', 'uft', '1inch', 'band', 'grt', 'iost', 'omg', 'reef', 'acm', 'auction', 'pha', 'tvk', 'badger', 'fis', 'om', 'pond', 'dego', 'alice', 'chz', 'bifi', 'lina', 'perp', 'ramp', 'super', 'cfx', 'xvg', 'eps', 'auto', 'tko', 'tlm', 'btg', 'hot', 'mir', 'bar', 'forth', 'burger', 'slp', 'shib', 'icp', 'ar', 'pols', 'mdx', 'mask', 'lpt', 'nu', 'rlc', 'celr', 'atm', 'zen', 'ftm', 'theta', 'win', 'kava', 'xem', 'ata', 'gtc', 'torn', 'coti', 'keep', 'sc', 'chr', 'stmx', 'hnt', 'ftt', 'dock', 'ern', 'klay', 'utk', 'iotx', 'bond', 'mln', 'lto', 'adx', 'quick', 'c98', 'clv', 'qnt', 'flow', 'xec', 'mina', 'ray', 'farm', 'alpaca', 'orn', 'mbox', 'waxp', 'tribe', 'gno', 'mtl', 'ogn', 'poly', 'dydx', 'elf', 'usdp', 'gala', 'sun', 'ilv', 'ren', 'ygg', 'stx', 'fet', 'arpa', 'lsk', 'fida', 'dent', 'agld', 'rad', 'hive', 'stpt', 'beta', 'rare', 'troy', 'chess', 'scrt', 'celo', 'dar', 'bnx', 'rgt', 'lazio', 'oxt', 'movr', 'city', 'ens', 'ankr', 'qi', 'powr', 'jasmy', 'amp', 'pla', 'pyr', 'rndr', 'alcx', 'mc', 'cocos', 'any', 'bico', 'flux', 'req', 'voxel', 'cos', 'ctxc', 'high', 'cvx', 'people', 'ooki', 'mdt', 'nuls', 'spell', 'ust', 'joe', 'dusk', 'ach', 'imx', 'glmr', 'uma', 'loka', 'api3', 'aca', 'anc', 'xno', 'woo', 'tfuel', 't', 'astr', 'gmt', 'kda', 'ape', 'alpine', 'bsw', 'santos', 'multi', 'porto', 'bttc', 'mbl', 'mob', 'nexo', 'gal', 'ldo', 'epx', 'steem', 'cvc', 'rei', 'drep', 'akro', 'pundix', 'lunc', 'ustc', 'op', 'og', 'key', 'asr', 'firo', 'nkn', 'gto', 'wbtc', 'lever', 'glm', 'ssv', 'stg', 'ark', 'beth', 'loom', 'snm', 'amb', 'phb', 'gas', 'nebl', 'pros', 'vib', 'gmx', 'agix', 'snt', 'polyx', 'apt', 'qkc', 'osmo']\n"
     ]
    }
   ],
   "source": [
    "print(sym)"
   ]
  },
  {
   "cell_type": "code",
   "execution_count": 26,
   "metadata": {},
   "outputs": [
    {
     "name": "stdout",
     "output_type": "stream",
     "text": [
      "['making', 'much', 'gain', 'ranging', 'market', 'hnt', '225ape', '130dot', '22all', 'gain', '2', 'day', 'dont', 'miss', 'opportunity', 'join', 'vip', '']\n"
     ]
    }
   ],
   "source": [
    "import re\n",
    "result = re.sub(r'[^\\x00-\\x7f]',r'', df1['Cleaned Text'][1])\n",
    "print(result)\n"
   ]
  },
  {
   "cell_type": "markdown",
   "metadata": {},
   "source": [
    "#1st attempt"
   ]
  },
  {
   "cell_type": "code",
   "execution_count": 27,
   "metadata": {},
   "outputs": [
    {
     "name": "stdout",
     "output_type": "stream",
     "text": [
      "found\n"
     ]
    }
   ],
   "source": [
    "trying=result.split()\n",
    "for i in trying:\n",
    "    if(i.__contains__('hnt')):\n",
    "        print('found')"
   ]
  },
  {
   "cell_type": "code",
   "execution_count": null,
   "metadata": {},
   "outputs": [],
   "source": [
    "'''s = set(l)\n",
    "any(e in s for e in sym)'''"
   ]
  },
  {
   "cell_type": "code",
   "execution_count": null,
   "metadata": {},
   "outputs": [
    {
     "data": {
      "text/plain": [
       "False"
      ]
     },
     "execution_count": 20,
     "metadata": {},
     "output_type": "execute_result"
    }
   ],
   "source": [
    "'''l1=df1['Cleaned Text'][0]\n",
    "s=set(l1)\n",
    "any(e in s for e in sym)'''"
   ]
  },
  {
   "cell_type": "code",
   "execution_count": null,
   "metadata": {},
   "outputs": [],
   "source": [
    "\n",
    "'''nk=set(df1['Cleaned Text'][0]).intersection(sym)\n",
    "for x in df1['Cleaned Text'][0]:\n",
    "    if x in nk:\n",
    "        print(x, 'present in c_symbols')'''    \n",
    "    \n",
    "        "
   ]
  },
  {
   "cell_type": "code",
   "execution_count": null,
   "metadata": {},
   "outputs": [],
   "source": [
    "'''with pd.ExcelWriter(\"wokingdata.xlsx\") as reader:\n",
    "    for s in sheets:\n",
    "        df=pd.read_excel(xls, s)\n",
    "        # current_date =date.today()'''\n",
    "        "
   ]
  },
  {
   "cell_type": "code",
   "execution_count": null,
   "metadata": {},
   "outputs": [],
   "source": [
    "'''def count_hashtags(string):\n",
    "\t# Split the string into words\n",
    "    words = string.split()\n",
    "    \n",
    "    # Create a list of words that are hashtags\n",
    "    hashtags = [word for word in words if word.startswith('#')]\n",
    "    \n",
    "    # Return number of hashtags\n",
    "    return(len(hashtags))\n",
    "\n",
    "# Create a feature hashtag_count and display distribution\n",
    "tweets['hashtag_count'] = tweets['content'].apply(count_hashtags)'''\n"
   ]
  }
 ],
 "metadata": {
  "kernelspec": {
   "display_name": "Python 3.10.1 64-bit",
   "language": "python",
   "name": "python3"
  },
  "language_info": {
   "codemirror_mode": {
    "name": "ipython",
    "version": 3
   },
   "file_extension": ".py",
   "mimetype": "text/x-python",
   "name": "python",
   "nbconvert_exporter": "python",
   "pygments_lexer": "ipython3",
   "version": "3.10.1"
  },
  "orig_nbformat": 4,
  "vscode": {
   "interpreter": {
    "hash": "49be0200ac5650ed46dc9f7d98014762d2be7eaf5f865d9ffd65ca48838819c2"
   }
  }
 },
 "nbformat": 4,
 "nbformat_minor": 2
}
