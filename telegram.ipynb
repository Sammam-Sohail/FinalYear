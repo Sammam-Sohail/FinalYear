{
 "cells": [
  {
   "cell_type": "code",
   "execution_count": null,
   "metadata": {},
   "outputs": [],
   "source": [
    "# !pip install snscrape\n",
    "# !pip install pandas "
   ]
  },
  {
   "cell_type": "code",
   "execution_count": 17,
   "metadata": {},
   "outputs": [
    {
     "ename": "AttributeError",
     "evalue": "'Timestamp' object has no attribute 'split'",
     "output_type": "error",
     "traceback": [
      "\u001b[0;31m---------------------------------------------------------------------------\u001b[0m",
      "\u001b[0;31mAttributeError\u001b[0m                            Traceback (most recent call last)",
      "File \u001b[0;32m~/.pyenv/versions/3.8.13/lib/python3.8/site-packages/pandas/core/indexes/extension.py:158\u001b[0m, in \u001b[0;36mExtensionIndex.map\u001b[0;34m(self, mapper, na_action)\u001b[0m\n\u001b[1;32m    157\u001b[0m \u001b[39mtry\u001b[39;00m:\n\u001b[0;32m--> 158\u001b[0m     result \u001b[39m=\u001b[39m mapper(\u001b[39mself\u001b[39;49m)\n\u001b[1;32m    160\u001b[0m     \u001b[39m# Try to use this result if we can\u001b[39;00m\n",
      "\u001b[1;32m/workspace/FYP/telegram.ipynb Cell 2\u001b[0m in \u001b[0;36m<lambda>\u001b[0;34m(x)\u001b[0m\n\u001b[1;32m     <a href='vscode-notebook-cell://mohibrehmannu-fyp-xs7adunroke.ws-eu54.gitpod.io/workspace/FYP/telegram.ipynb#ch0000001vscode-remote?line=11'>12</a>\u001b[0m \u001b[39m# df.to_csv(\"Prediction.csv\")\u001b[39;00m\n\u001b[1;32m     <a href='vscode-notebook-cell://mohibrehmannu-fyp-xs7adunroke.ws-eu54.gitpod.io/workspace/FYP/telegram.ipynb#ch0000001vscode-remote?line=12'>13</a>\u001b[0m \u001b[39m# df.drop(columns=\" \",inplace=True)\u001b[39;00m\n\u001b[0;32m---> <a href='vscode-notebook-cell://mohibrehmannu-fyp-xs7adunroke.ws-eu54.gitpod.io/workspace/FYP/telegram.ipynb#ch0000001vscode-remote?line=14'>15</a>\u001b[0m df\u001b[39m=\u001b[39mdf\u001b[39m.\u001b[39miloc[:,\u001b[39m0\u001b[39m]\u001b[39m.\u001b[39mapply(\u001b[39mlambda\u001b[39;00m x : \u001b[39mstr\u001b[39m(x\u001b[39m.\u001b[39;49msplit(\u001b[39m\"\u001b[39m\u001b[39m \u001b[39m\u001b[39m\"\u001b[39m)[\u001b[39m1\u001b[39m]))\n\u001b[1;32m     <a href='vscode-notebook-cell://mohibrehmannu-fyp-xs7adunroke.ws-eu54.gitpod.io/workspace/FYP/telegram.ipynb#ch0000001vscode-remote?line=15'>16</a>\u001b[0m df\n",
      "\u001b[0;31mAttributeError\u001b[0m: 'DatetimeIndex' object has no attribute 'split'",
      "\nDuring handling of the above exception, another exception occurred:\n",
      "\u001b[0;31mAttributeError\u001b[0m                            Traceback (most recent call last)",
      "\u001b[1;32m/workspace/FYP/telegram.ipynb Cell 2\u001b[0m in \u001b[0;36m<cell line: 15>\u001b[0;34m()\u001b[0m\n\u001b[1;32m     <a href='vscode-notebook-cell://mohibrehmannu-fyp-xs7adunroke.ws-eu54.gitpod.io/workspace/FYP/telegram.ipynb#ch0000001vscode-remote?line=10'>11</a>\u001b[0m     \u001b[39mbreak\u001b[39;00m\n\u001b[1;32m     <a href='vscode-notebook-cell://mohibrehmannu-fyp-xs7adunroke.ws-eu54.gitpod.io/workspace/FYP/telegram.ipynb#ch0000001vscode-remote?line=11'>12</a>\u001b[0m \u001b[39m# df.to_csv(\"Prediction.csv\")\u001b[39;00m\n\u001b[1;32m     <a href='vscode-notebook-cell://mohibrehmannu-fyp-xs7adunroke.ws-eu54.gitpod.io/workspace/FYP/telegram.ipynb#ch0000001vscode-remote?line=12'>13</a>\u001b[0m \u001b[39m# df.drop(columns=\" \",inplace=True)\u001b[39;00m\n\u001b[0;32m---> <a href='vscode-notebook-cell://mohibrehmannu-fyp-xs7adunroke.ws-eu54.gitpod.io/workspace/FYP/telegram.ipynb#ch0000001vscode-remote?line=14'>15</a>\u001b[0m df\u001b[39m=\u001b[39mdf\u001b[39m.\u001b[39;49miloc[:,\u001b[39m0\u001b[39;49m]\u001b[39m.\u001b[39;49mapply(\u001b[39mlambda\u001b[39;49;00m x : \u001b[39mstr\u001b[39;49m(x\u001b[39m.\u001b[39;49msplit(\u001b[39m\"\u001b[39;49m\u001b[39m \u001b[39;49m\u001b[39m\"\u001b[39;49m)[\u001b[39m1\u001b[39;49m]))\n\u001b[1;32m     <a href='vscode-notebook-cell://mohibrehmannu-fyp-xs7adunroke.ws-eu54.gitpod.io/workspace/FYP/telegram.ipynb#ch0000001vscode-remote?line=15'>16</a>\u001b[0m df\n",
      "File \u001b[0;32m~/.pyenv/versions/3.8.13/lib/python3.8/site-packages/pandas/core/series.py:4433\u001b[0m, in \u001b[0;36mSeries.apply\u001b[0;34m(self, func, convert_dtype, args, **kwargs)\u001b[0m\n\u001b[1;32m   4323\u001b[0m \u001b[39mdef\u001b[39;00m \u001b[39mapply\u001b[39m(\n\u001b[1;32m   4324\u001b[0m     \u001b[39mself\u001b[39m,\n\u001b[1;32m   4325\u001b[0m     func: AggFuncType,\n\u001b[0;32m   (...)\u001b[0m\n\u001b[1;32m   4328\u001b[0m     \u001b[39m*\u001b[39m\u001b[39m*\u001b[39mkwargs,\n\u001b[1;32m   4329\u001b[0m ) \u001b[39m-\u001b[39m\u001b[39m>\u001b[39m DataFrame \u001b[39m|\u001b[39m Series:\n\u001b[1;32m   4330\u001b[0m     \u001b[39m\"\"\"\u001b[39;00m\n\u001b[1;32m   4331\u001b[0m \u001b[39m    Invoke function on values of Series.\u001b[39;00m\n\u001b[1;32m   4332\u001b[0m \n\u001b[0;32m   (...)\u001b[0m\n\u001b[1;32m   4431\u001b[0m \u001b[39m    dtype: float64\u001b[39;00m\n\u001b[1;32m   4432\u001b[0m \u001b[39m    \"\"\"\u001b[39;00m\n\u001b[0;32m-> 4433\u001b[0m     \u001b[39mreturn\u001b[39;00m SeriesApply(\u001b[39mself\u001b[39;49m, func, convert_dtype, args, kwargs)\u001b[39m.\u001b[39;49mapply()\n",
      "File \u001b[0;32m~/.pyenv/versions/3.8.13/lib/python3.8/site-packages/pandas/core/apply.py:1088\u001b[0m, in \u001b[0;36mSeriesApply.apply\u001b[0;34m(self)\u001b[0m\n\u001b[1;32m   1084\u001b[0m \u001b[39mif\u001b[39;00m \u001b[39misinstance\u001b[39m(\u001b[39mself\u001b[39m\u001b[39m.\u001b[39mf, \u001b[39mstr\u001b[39m):\n\u001b[1;32m   1085\u001b[0m     \u001b[39m# if we are a string, try to dispatch\u001b[39;00m\n\u001b[1;32m   1086\u001b[0m     \u001b[39mreturn\u001b[39;00m \u001b[39mself\u001b[39m\u001b[39m.\u001b[39mapply_str()\n\u001b[0;32m-> 1088\u001b[0m \u001b[39mreturn\u001b[39;00m \u001b[39mself\u001b[39;49m\u001b[39m.\u001b[39;49mapply_standard()\n",
      "File \u001b[0;32m~/.pyenv/versions/3.8.13/lib/python3.8/site-packages/pandas/core/apply.py:1135\u001b[0m, in \u001b[0;36mSeriesApply.apply_standard\u001b[0;34m(self)\u001b[0m\n\u001b[1;32m   1132\u001b[0m \u001b[39m# row-wise access\u001b[39;00m\n\u001b[1;32m   1133\u001b[0m \u001b[39mif\u001b[39;00m is_extension_array_dtype(obj\u001b[39m.\u001b[39mdtype) \u001b[39mand\u001b[39;00m \u001b[39mhasattr\u001b[39m(obj\u001b[39m.\u001b[39m_values, \u001b[39m\"\u001b[39m\u001b[39mmap\u001b[39m\u001b[39m\"\u001b[39m):\n\u001b[1;32m   1134\u001b[0m     \u001b[39m# GH#23179 some EAs do not have `map`\u001b[39;00m\n\u001b[0;32m-> 1135\u001b[0m     mapped \u001b[39m=\u001b[39m obj\u001b[39m.\u001b[39;49m_values\u001b[39m.\u001b[39;49mmap(f)\n\u001b[1;32m   1136\u001b[0m \u001b[39melse\u001b[39;00m:\n\u001b[1;32m   1137\u001b[0m     values \u001b[39m=\u001b[39m obj\u001b[39m.\u001b[39mastype(\u001b[39mobject\u001b[39m)\u001b[39m.\u001b[39m_values\n",
      "File \u001b[0;32m~/.pyenv/versions/3.8.13/lib/python3.8/site-packages/pandas/core/arrays/_mixins.py:84\u001b[0m, in \u001b[0;36mravel_compat.<locals>.method\u001b[0;34m(self, *args, **kwargs)\u001b[0m\n\u001b[1;32m     81\u001b[0m \u001b[39m@wraps\u001b[39m(meth)\n\u001b[1;32m     82\u001b[0m \u001b[39mdef\u001b[39;00m \u001b[39mmethod\u001b[39m(\u001b[39mself\u001b[39m, \u001b[39m*\u001b[39margs, \u001b[39m*\u001b[39m\u001b[39m*\u001b[39mkwargs):\n\u001b[1;32m     83\u001b[0m     \u001b[39mif\u001b[39;00m \u001b[39mself\u001b[39m\u001b[39m.\u001b[39mndim \u001b[39m==\u001b[39m \u001b[39m1\u001b[39m:\n\u001b[0;32m---> 84\u001b[0m         \u001b[39mreturn\u001b[39;00m meth(\u001b[39mself\u001b[39;49m, \u001b[39m*\u001b[39;49margs, \u001b[39m*\u001b[39;49m\u001b[39m*\u001b[39;49mkwargs)\n\u001b[1;32m     86\u001b[0m     flags \u001b[39m=\u001b[39m \u001b[39mself\u001b[39m\u001b[39m.\u001b[39m_ndarray\u001b[39m.\u001b[39mflags\n\u001b[1;32m     87\u001b[0m     flat \u001b[39m=\u001b[39m \u001b[39mself\u001b[39m\u001b[39m.\u001b[39mravel(\u001b[39m\"\u001b[39m\u001b[39mK\u001b[39m\u001b[39m\"\u001b[39m)\n",
      "File \u001b[0;32m~/.pyenv/versions/3.8.13/lib/python3.8/site-packages/pandas/core/arrays/datetimelike.py:775\u001b[0m, in \u001b[0;36mDatetimeLikeArrayMixin.map\u001b[0;34m(self, mapper)\u001b[0m\n\u001b[1;32m    766\u001b[0m \u001b[39m@ravel_compat\u001b[39m\n\u001b[1;32m    767\u001b[0m \u001b[39mdef\u001b[39;00m \u001b[39mmap\u001b[39m(\u001b[39mself\u001b[39m, mapper):\n\u001b[1;32m    768\u001b[0m     \u001b[39m# TODO(GH-23179): Add ExtensionArray.map\u001b[39;00m\n\u001b[0;32m   (...)\u001b[0m\n\u001b[1;32m    771\u001b[0m     \u001b[39m# a standalone function and call from here..\u001b[39;00m\n\u001b[1;32m    772\u001b[0m     \u001b[39m# Else, just rewrite _map_infer_values to do the right thing.\u001b[39;00m\n\u001b[1;32m    773\u001b[0m     \u001b[39mfrom\u001b[39;00m \u001b[39mpandas\u001b[39;00m \u001b[39mimport\u001b[39;00m Index\n\u001b[0;32m--> 775\u001b[0m     \u001b[39mreturn\u001b[39;00m Index(\u001b[39mself\u001b[39;49m)\u001b[39m.\u001b[39;49mmap(mapper)\u001b[39m.\u001b[39marray\n",
      "File \u001b[0;32m~/.pyenv/versions/3.8.13/lib/python3.8/site-packages/pandas/core/indexes/extension.py:168\u001b[0m, in \u001b[0;36mExtensionIndex.map\u001b[0;34m(self, mapper, na_action)\u001b[0m\n\u001b[1;32m    166\u001b[0m     \u001b[39mreturn\u001b[39;00m result\n\u001b[1;32m    167\u001b[0m \u001b[39mexcept\u001b[39;00m \u001b[39mException\u001b[39;00m:\n\u001b[0;32m--> 168\u001b[0m     \u001b[39mreturn\u001b[39;00m \u001b[39mself\u001b[39;49m\u001b[39m.\u001b[39;49mastype(\u001b[39mobject\u001b[39;49m)\u001b[39m.\u001b[39;49mmap(mapper)\n",
      "File \u001b[0;32m~/.pyenv/versions/3.8.13/lib/python3.8/site-packages/pandas/core/indexes/base.py:6076\u001b[0m, in \u001b[0;36mIndex.map\u001b[0;34m(self, mapper, na_action)\u001b[0m\n\u001b[1;32m   6056\u001b[0m \u001b[39m\"\"\"\u001b[39;00m\n\u001b[1;32m   6057\u001b[0m \u001b[39mMap values using an input mapping or function.\u001b[39;00m\n\u001b[1;32m   6058\u001b[0m \n\u001b[0;32m   (...)\u001b[0m\n\u001b[1;32m   6072\u001b[0m \u001b[39m    a MultiIndex will be returned.\u001b[39;00m\n\u001b[1;32m   6073\u001b[0m \u001b[39m\"\"\"\u001b[39;00m\n\u001b[1;32m   6074\u001b[0m \u001b[39mfrom\u001b[39;00m \u001b[39mpandas\u001b[39;00m\u001b[39m.\u001b[39;00m\u001b[39mcore\u001b[39;00m\u001b[39m.\u001b[39;00m\u001b[39mindexes\u001b[39;00m\u001b[39m.\u001b[39;00m\u001b[39mmulti\u001b[39;00m \u001b[39mimport\u001b[39;00m MultiIndex\n\u001b[0;32m-> 6076\u001b[0m new_values \u001b[39m=\u001b[39m \u001b[39mself\u001b[39;49m\u001b[39m.\u001b[39;49m_map_values(mapper, na_action\u001b[39m=\u001b[39;49mna_action)\n\u001b[1;32m   6078\u001b[0m \u001b[39m# we can return a MultiIndex\u001b[39;00m\n\u001b[1;32m   6079\u001b[0m \u001b[39mif\u001b[39;00m new_values\u001b[39m.\u001b[39msize \u001b[39mand\u001b[39;00m \u001b[39misinstance\u001b[39m(new_values[\u001b[39m0\u001b[39m], \u001b[39mtuple\u001b[39m):\n",
      "File \u001b[0;32m~/.pyenv/versions/3.8.13/lib/python3.8/site-packages/pandas/core/base.py:880\u001b[0m, in \u001b[0;36mIndexOpsMixin._map_values\u001b[0;34m(self, mapper, na_action)\u001b[0m\n\u001b[1;32m    877\u001b[0m         \u001b[39mraise\u001b[39;00m \u001b[39mValueError\u001b[39;00m(msg)\n\u001b[1;32m    879\u001b[0m \u001b[39m# mapper is a function\u001b[39;00m\n\u001b[0;32m--> 880\u001b[0m new_values \u001b[39m=\u001b[39m map_f(values, mapper)\n\u001b[1;32m    882\u001b[0m \u001b[39mreturn\u001b[39;00m new_values\n",
      "File \u001b[0;32m~/.pyenv/versions/3.8.13/lib/python3.8/site-packages/pandas/_libs/lib.pyx:2870\u001b[0m, in \u001b[0;36mpandas._libs.lib.map_infer\u001b[0;34m()\u001b[0m\n",
      "\u001b[1;32m/workspace/FYP/telegram.ipynb Cell 2\u001b[0m in \u001b[0;36m<lambda>\u001b[0;34m(x)\u001b[0m\n\u001b[1;32m     <a href='vscode-notebook-cell://mohibrehmannu-fyp-xs7adunroke.ws-eu54.gitpod.io/workspace/FYP/telegram.ipynb#ch0000001vscode-remote?line=10'>11</a>\u001b[0m     \u001b[39mbreak\u001b[39;00m\n\u001b[1;32m     <a href='vscode-notebook-cell://mohibrehmannu-fyp-xs7adunroke.ws-eu54.gitpod.io/workspace/FYP/telegram.ipynb#ch0000001vscode-remote?line=11'>12</a>\u001b[0m \u001b[39m# df.to_csv(\"Prediction.csv\")\u001b[39;00m\n\u001b[1;32m     <a href='vscode-notebook-cell://mohibrehmannu-fyp-xs7adunroke.ws-eu54.gitpod.io/workspace/FYP/telegram.ipynb#ch0000001vscode-remote?line=12'>13</a>\u001b[0m \u001b[39m# df.drop(columns=\" \",inplace=True)\u001b[39;00m\n\u001b[0;32m---> <a href='vscode-notebook-cell://mohibrehmannu-fyp-xs7adunroke.ws-eu54.gitpod.io/workspace/FYP/telegram.ipynb#ch0000001vscode-remote?line=14'>15</a>\u001b[0m df\u001b[39m=\u001b[39mdf\u001b[39m.\u001b[39miloc[:,\u001b[39m0\u001b[39m]\u001b[39m.\u001b[39mapply(\u001b[39mlambda\u001b[39;00m x : \u001b[39mstr\u001b[39m(x\u001b[39m.\u001b[39;49msplit(\u001b[39m\"\u001b[39m\u001b[39m \u001b[39m\u001b[39m\"\u001b[39m)[\u001b[39m1\u001b[39m]))\n\u001b[1;32m     <a href='vscode-notebook-cell://mohibrehmannu-fyp-xs7adunroke.ws-eu54.gitpod.io/workspace/FYP/telegram.ipynb#ch0000001vscode-remote?line=15'>16</a>\u001b[0m df\n",
      "\u001b[0;31mAttributeError\u001b[0m: 'Timestamp' object has no attribute 'split'"
     ]
    }
   ],
   "source": [
    "import snscrape.modules.telegram as telegram\n",
    "import pandas as pd\n",
    "scraper = telegram.TelegramChannelScraper('thebull_crypto')\n",
    "df = pd.DataFrame()\n",
    "for i,tel in enumerate(scraper.get_items()):\n",
    "  if i < 100:\n",
    "    telegram_data = [{'Date':tel.date,'Content':tel.content}]\n",
    "    telegram_df = pd.DataFrame(telegram_data)\n",
    "    df = pd.concat([df,telegram_df],axis=0)\n",
    "  else:\n",
    "    break\n",
    "# df.to_csv(\"Prediction.csv\")\n",
    "# df.drop(columns=\" \",inplace=True)\n",
    "\n",
    "# df=df.iloc[:,0].apply(lambda x : x.split(\" \")[1])\n",
    "df"
   ]
  },
  {
   "cell_type": "code",
   "execution_count": null,
   "metadata": {},
   "outputs": [],
   "source": [
    "df = pd.read_csv(\"Prediction.csv\")\n",
    "df1 = df.drop(columns=[\"Unnamed: 0\",\"Username\",\"Coin\",\"Text\",\"Datetime\"])\n",
    "X = df1.iloc[:,1]\n",
    "Y = df1.iloc[:,0]\n",
    "X_train,X_test,Y_train,Y_test = train_test_split(X,Y,test_size=.2)\n",
    "model = make_pipeline(TfidfVectorizer(lowercase=False), MultinomialNB())\n",
    "model.fit(X_train, Y_train)\n",
    "X\n"
   ]
  }
 ],
 "metadata": {
  "kernelspec": {
   "display_name": "Python 3.8.13 64-bit ('3.8.13')",
   "language": "python",
   "name": "python3"
  },
  "language_info": {
   "codemirror_mode": {
    "name": "ipython",
    "version": 3
   },
   "file_extension": ".py",
   "mimetype": "text/x-python",
   "name": "python",
   "nbconvert_exporter": "python",
   "pygments_lexer": "ipython3",
   "version": "3.8.13"
  },
  "orig_nbformat": 4,
  "vscode": {
   "interpreter": {
    "hash": "110cc1dee26208153f2972f08a2ad52b6a56238dc66d48e87fb757ef2996db56"
   }
  }
 },
 "nbformat": 4,
 "nbformat_minor": 2
}
