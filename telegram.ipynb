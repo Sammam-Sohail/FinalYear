{
 "cells": [
  {
   "cell_type": "code",
   "execution_count": 2,
   "metadata": {},
   "outputs": [
    {
     "name": "stdout",
     "output_type": "stream",
     "text": [
      "0 content: Binance, Bittrex, KuCoin, FTX, Huobi.pro#ETH/BTC Take-Profit target 2 ✅Profit: 8.33% 📈Period: 48 Minutes ⏰ date : 2022-07-16 16:45:26+00:00\n",
      "1 content: ETH PoS merger expected September 19th 👀 https://cointelegraph.com/news/ethereum-dev-confirms-perpetual-date-for-pos-merge date : 2022-07-16 16:45:25+00:00\n",
      "2 content: Bittrex, FTX#UNI/BTC Take-Profit target 5 ✅Profit: 41.10% 📈Period: 18 Days 17 Hours 23 Minutes ⏰ date : 2022-07-09 04:34:53+00:00\n",
      "3 content: Binance#DYDX/BTC Take-Profit target 4 ✅Profit: 24.37% 📈Period: 10 Days 14 Hours 55 Minutes ⏰ date : 2022-07-04 22:12:16+00:00\n",
      "4 content: 👆   update on our previous projection for bitcoin on the weekly chart .   As shown in the chart , prices have been going down relentlessly towards our target of ~15k .   This represents a 71% drawdown from  its peak and a 68% drawdown from our red ball in… date : 2022-07-02 13:47:11+00:00\n",
      "5 content: Binance#EGLD/BTC Take-Profit target 1 ✅Profit: 4.17% 📈Period: 4 Hours 39 Minutes ⏰ date : 2022-06-28 09:05:17+00:00\n",
      "6 content: Bittrex, Huobi.pro, FTX, Binance#UNI/BTC Take-Profit target 4 ✅Profit: 27.83% 📈Period: 2 Days 23 Hours 7 Minutes ⏰ date : 2022-06-28 09:04:49+00:00\n",
      "7 content: Bittrex, Huobi.pro, FTX, Binance#UNI/BTC Take-Profit target 3 ✅Profit: 16.09% 📈Period: 1 Days 7 Hours 3 Minutes ⏰ date : 2022-06-21 20:58:34+00:00\n",
      "8 content: Bittrex, Huobi.pro, FTX, Binance#UNI/BTC Take-Profit target 2 ✅Profit: 8.23% 📈Period: 1 Days 3 Hours 27 Minutes ⏰ date : 2022-06-21 15:42:55+00:00\n",
      "9 content: # BTC   Bitcoin is now starting to see a breakdown on our weekly chart as well .   As shown on the daily chart , price has declined over 30% since our last red ball .   Congratulations to those that follow and trust our algorithm 😎 👍     Daily chart : htt… date : 2022-06-16 14:51:05+00:00\n",
      "10 content: # BTC   Bitcoin is now starting to see a breakdown on our weekly chart as well .   As shown on the daily chart , price has declined over 30% since our last red ball .   Congratulations to those that follow and trust our algorithm 😎 👍     Daily chart : htt… date : 2022-06-16 14:47:34+00:00\n",
      "11 content: stETH / ETH peg now trading 5-6% lower .   Congratulations to those that acted on this “trade” by borrowing stETH and converting it to ETH .   If price perpetually keeps declining , you can simply swap your ETH back to stETH to repay your debt for cheaper… date : 2022-06-14 19:26:55+00:00\n",
      "12 content: stETH / ETH peg now trading 5-6% lower . Congratulations to those that acted on this “trade” by borrowing stETH and converting it to ETH . If price perpetually keeps declining , you can simply swap your ETH back to stETH to repay your debt for cheaper , resulting in a net ETH profit  👍We can anticipate some support at 0.9 and 0.5 , these are good areas to take some small profits by executing the above mentioned strategy . date : 2022-06-14 19:26:49+00:00\n",
      "13 content: 👆 # BTC   BTC has declined roughly 16% since our red ball . More so , our VIP members were encouraged to hold an off-risk / bearish bias over the last few weeks given the uncertainty surrounding global economies at the moment .  Current chart :   https://… date : 2022-05-24 22:51:55+00:00\n",
      "14 content: 👆 VIP members were notified about the change in direction for our algorithm (redball) , more so , price has started to decline beneath 43k .  - Interested in accessing signals?   Contact @dad10 or @gangplank123 for more info!   admins will never PM you first… date : 2022-05-05 19:30:12+00:00\n",
      "15 content: https://u.today/fat-pig-signals-service-starts-broadcasting-utoday-content-in-newsfeed date : 2022-05-05 13:29:48+00:00\n",
      "16 content: Fat Pig Signals (Trending News)1. Goldman Sachs debuts Bitcoin-Backed loan2. Panama Legislature Passes Bill Regulating Crypto3. Crypto Added to Telegram by TON Stewards, Opening Path to Payments date : 2022-04-29 13:56:00+00:00\n",
      "17 content: Some information about the upcoming Optimism L2 airdrop 👀  https://community.optimism.io/docs/governance/allocations/#allocations-at-a-glanceYou can check your eligibility here (connect and scroll down to the bottom ) : https://app.optimism.io/governance date : 2022-04-26 17:51:20+00:00\n",
      "18 content: Fat Pig Signals (Trending News)  1. Polygon launches Supernet chains2. Uniswap blocks crypto wallets engaged in illegal behavior3. Ukraine's central bank bans crypto purchase in local currency date : 2022-04-23 02:18:49+00:00\n",
      "19 content: 👆 VIP members were notified about the change in direction for our algorithm (redball) , more so , price has started to decline beneath 43k .- Interested in accessing signals? Contact @dad10 or @gangplank123 for more info! admins will never PM you first ; always verify the exact username(s).https://www.tradingview.com/x/Jcdah1gg/ date : 2022-04-11 14:35:03+00:00\n",
      "20 content: Our algorithm has recently printed the “red ball” , which suggests a short term change in trend . Similarly , we can recommend holding an off-risk / bearish bias on Bitcoin at the moment . #redball date : 2022-04-11 14:34:54+00:00\n",
      "21 content: Bittrex, Huobi.pro, FTX, Binance, KuCoin#BAL/USDT Take-Profit target 5 ✅Profit: 45.56% 📈Period: 10 Days 11 Hours 12 Minutes ⏰ date : 2022-04-08 02:47:35+00:00\n",
      "22 content: Binance, KuCoin#BAL/USDT Take-Profit target 4 ✅Profit: 28.76% 📈Period: 9 Days 5 Hours 22 Minutes ⏰ date : 2022-04-08 02:47:22+00:00\n",
      "23 content: Binance#JOE/USDT Take-Profit target 5 ✅Profit: 51.39% 📈Period: 18 Days 5 Hours 22 Minutes ⏰ date : 2022-04-08 02:47:12+00:00\n",
      "24 content: Binance#MINA/USDT Take-Profit target 5 ✅Profit: 48.21% 📈Period: 12 Days 22 Hours 30 Minutes ⏰ date : 2022-04-08 02:47:04+00:00\n",
      "25 content: KuCoin, Binance, Huobi.pro#CVX/USDT Take-Profit target 4 ✅Profit: 25.78% 📈Period: 1 Days 23 Hours 16 Minutes ⏰ date : 2022-04-04 03:22:02+00:00\n",
      "26 content: KuCoin, Binance, Huobi.pro#CVX/USDT Take-Profit target 3 ✅Profit: 16.37% 📈Period: 1 Days 5 Hours 27 Minutes ⏰ date : 2022-04-04 03:21:54+00:00\n",
      "27 content: KuCoin, Huobi.pro, Binance#NEAR/USDT Take-Profit target 5 ✅Profit: 52.85% 📈Period: 22 Days 19 Hours 40 Minutes ⏰ date : 2022-04-04 03:21:44+00:00\n",
      "28 content: VIP members have been profiting well from one of our latest recommendations .- Interested in accessing signals? Contact @dad10 or @gangplank123 for more info! admins will never PM you first ; always verify the exact username(s). date : 2022-04-03 04:22:13+00:00\n",
      "29 content: KuCoin, Huobi.pro, Binance, FTX#SOL/USDT Take-Profit target 4 ✅Profit: 49.45% 📈Period: 1 Months 2 Days 16 Hours 6 Minutes ⏰ date : 2022-04-03 04:19:49+00:00\n",
      "30 content: Binance, KuCoin#FXS/USDT All take-profit targets achieved 😎Profit: 66.92% 📈Period: 17 Hours 34 Minutes ⏰ date : 2022-04-03 04:19:39+00:00\n",
      "31 content: #SCRT/USDT Take-Profit target 4 ✅Profit: 26.47% 📈Period: 5 Days 12 Hours 52 Minutes ⏰ date : 2022-04-02 14:43:55+00:00\n",
      "32 content: Bittrex, Binance, KuCoin#FXS/USDT Take-Profit target 5 ✅Profit: 40.57% 📈Period: 16 Hours 28 Minutes ⏰ date : 2022-04-02 14:43:46+00:00\n",
      "33 content: KuCoin, Binance#CVX/USDT Take-Profit target 2 ✅Profit: 7.65% 📈Period: 8 Hours 34 Minutes ⏰ date : 2022-04-02 14:24:36+00:00\n",
      "34 content: KuCoin, Huobi.pro, Binance#NEAR/USDT Take-Profit target 4 ✅Profit: 31.07% 📈Period: 21 Days 15 Hours 40 Minutes ⏰ date : 2022-04-02 14:24:28+00:00\n",
      "35 content: Binance#FXS/USDT Take-Profit target 4 ✅Profit: 28.27% 📈Period: 6 Hours 36 Minutes ⏰ date : 2022-04-02 02:58:02+00:00\n",
      "36 content: Binance, KuCoin#FXS/USDT Take-Profit target 3 ✅Profit: 16.63% 📈Period: 4 Hours 21 Minutes ⏰ date : 2022-04-02 00:41:06+00:00\n",
      "37 content: Binance, KuCoin#FXS/USDT Take-Profit target 2 ✅Profit: 8.94% 📈Period: 3 Hours 6 Minutes ⏰ date : 2022-04-01 23:25:19+00:00\n",
      "38 content: Binance#SCRT/USDT Take-Profit target 3 ✅Profit: 15.69% 📈Period: 4 Days 20 Hours 19 Minutes ⏰ date : 2022-04-01 21:20:55+00:00\n",
      "39 content: Binance#MINA/USDT Take-Profit target 4 ✅Profit: 27.67% 📈Period: 8 Days 4 Hours 19 Minutes ⏰ date : 2022-04-01 05:07:48+00:00\n",
      "40 content: Binance#JOE/USDT Take-Profit target 4 ✅Profit: 28.73% 📈Period: 12 Days 23 Hours 21 Minutes ⏰ date : 2022-04-01 05:07:38+00:00\n",
      "41 content: Huobi.pro, FTX, Binance, KuCoin#BAL/USDT Take-Profit target 3 ✅Profit: 16.57% 📈Period: 2 Days 0 Hours 23 Minutes ⏰ date : 2022-04-01 02:06:56+00:00\n",
      "42 content: KuCoin, Huobi.pro, Binance, FTX#SOL/USDT Take-Profit target 3 ✅Profit: 21.45% 📈Period: 29 Days 17 Hours 54 Minutes ⏰ date : 2022-04-01 02:06:42+00:00\n",
      "43 content: Bittrex, Huobi.pro, FTX, Binance, KuCoin#BAL/USDT Take-Profit target 2 ✅Profit: 11.27% 📈Period: 1 Days 21 Hours 41 Minutes ⏰ date : 2022-04-01 02:06:33+00:00\n",
      "44 content: Bittrex, FTX, KuCoin, Binance, Huobi.pro#LUNA/USDT Take-Profit target 4 ✅Profit: 28.90% 📈Period: 20 Days 19 Hours 53 Minutes ⏰ date : 2022-03-30 08:17:37+00:00\n",
      "45 content: 👆 Some of our recent picks given in the VIP over the last week .- Interested in accessing signals? Contact @dad10 or @gangplank123 for more info! admins will never PM you first ; always verify the exact username(s). date : 2022-03-29 20:52:24+00:00\n",
      "46 content: FTX, Binance#LINK/USDT Take-Profit target 3 ✅Profit: 15.40% 📈Period: 7 Days 11 Hours 4 Minutes ⏰ date : 2022-03-29 12:26:37+00:00\n",
      "47 content: Binance#SCRT/USDT Take-Profit target 2 ✅Profit: 7.61% 📈Period: 1 Days 1 Hours 5 Minutes ⏰ date : 2022-03-29 06:05:27+00:00\n",
      "48 content: Binance#JOE/USDT Take-Profit target 3 ✅Profit: 18.42% 📈Period: 10 Days 19 Hours 54 Minutes ⏰ date : 2022-03-28 18:58:34+00:00\n",
      "49 content: https://www.tradingview.com/x/p41gn03m/ date : 2022-03-28 18:04:43+00:00\n",
      "50 content: Binance#ADA/USDT Take-Profit target 3 ✅Profit: 17.19% 📈Period: 4 Days 16 Hours 0 Minutes ⏰ date : 2022-03-28 05:58:02+00:00\n"
     ]
    }
   ],
   "source": [
    "import snscrape.modules.telegram as telegram\n",
    "\n",
    "scraper = telegram.TelegramChannelScraper('fatpigsignals')\n",
    "\n",
    "for i,tel in enumerate(scraper.get_items()):\n",
    "  if i >50:\n",
    "    break\n",
    "  print(f\"{i} content: {tel.content} date : {tel.date}\")"
   ]
  }
 ],
 "metadata": {
  "kernelspec": {
   "display_name": "Python 3.8.13 64-bit ('3.8.13')",
   "language": "python",
   "name": "python3"
  },
  "language_info": {
   "codemirror_mode": {
    "name": "ipython",
    "version": 3
   },
   "file_extension": ".py",
   "mimetype": "text/x-python",
   "name": "python",
   "nbconvert_exporter": "python",
   "pygments_lexer": "ipython3",
   "version": "3.8.13"
  },
  "orig_nbformat": 4,
  "vscode": {
   "interpreter": {
    "hash": "110cc1dee26208153f2972f08a2ad52b6a56238dc66d48e87fb757ef2996db56"
   }
  }
 },
 "nbformat": 4,
 "nbformat_minor": 2
}
