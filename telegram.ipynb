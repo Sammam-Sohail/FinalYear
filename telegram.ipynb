{
 "cells": [
  {
   "cell_type": "code",
   "execution_count": 4,
   "metadata": {},
   "outputs": [
    {
     "name": "stdout",
     "output_type": "stream",
     "text": [
      "Requirement already satisfied: snscrape in /home/gitpod/.pyenv/versions/3.8.13/lib/python3.8/site-packages (0.4.3.20220106)\n",
      "Requirement already satisfied: beautifulsoup4 in /home/gitpod/.pyenv/versions/3.8.13/lib/python3.8/site-packages (from snscrape) (4.11.1)\n",
      "Requirement already satisfied: pytz in /home/gitpod/.pyenv/versions/3.8.13/lib/python3.8/site-packages (from snscrape) (2022.1)\n",
      "Requirement already satisfied: lxml in /home/gitpod/.pyenv/versions/3.8.13/lib/python3.8/site-packages (from snscrape) (4.9.1)\n",
      "Requirement already satisfied: filelock in /home/gitpod/.pyenv/versions/3.8.13/lib/python3.8/site-packages (from snscrape) (3.7.1)\n",
      "Requirement already satisfied: requests[socks] in /home/gitpod/.pyenv/versions/3.8.13/lib/python3.8/site-packages (from snscrape) (2.28.0)\n",
      "Requirement already satisfied: soupsieve>1.2 in /home/gitpod/.pyenv/versions/3.8.13/lib/python3.8/site-packages (from beautifulsoup4->snscrape) (2.3.2.post1)\n",
      "Requirement already satisfied: certifi>=2017.4.17 in /home/gitpod/.pyenv/versions/3.8.13/lib/python3.8/site-packages (from requests[socks]->snscrape) (2022.6.15)\n",
      "Requirement already satisfied: idna<4,>=2.5 in /home/gitpod/.pyenv/versions/3.8.13/lib/python3.8/site-packages (from requests[socks]->snscrape) (3.3)\n",
      "Requirement already satisfied: charset-normalizer~=2.0.0 in /home/gitpod/.pyenv/versions/3.8.13/lib/python3.8/site-packages (from requests[socks]->snscrape) (2.0.12)\n",
      "Requirement already satisfied: urllib3<1.27,>=1.21.1 in /home/gitpod/.pyenv/versions/3.8.13/lib/python3.8/site-packages (from requests[socks]->snscrape) (1.26.9)\n",
      "Requirement already satisfied: PySocks!=1.5.7,>=1.5.6 in /home/gitpod/.pyenv/versions/3.8.13/lib/python3.8/site-packages (from requests[socks]->snscrape) (1.7.1)\n",
      "Collecting pandas\n",
      "  Downloading pandas-1.4.3-cp38-cp38-manylinux_2_17_x86_64.manylinux2014_x86_64.whl (11.7 MB)\n",
      "\u001b[2K     \u001b[90m━━━━━━━━━━━━━━━━━━━━━━━━━━━━━━━━━━━━━━━\u001b[0m \u001b[32m11.7/11.7 MB\u001b[0m \u001b[31m137.2 MB/s\u001b[0m eta \u001b[36m0:00:00\u001b[0m00:01\u001b[0m0:01\u001b[0m\n",
      "\u001b[?25hCollecting numpy>=1.18.5\n",
      "  Downloading numpy-1.23.1-cp38-cp38-manylinux_2_17_x86_64.manylinux2014_x86_64.whl (17.1 MB)\n",
      "\u001b[2K     \u001b[90m━━━━━━━━━━━━━━━━━━━━━━━━━━━━━━━━━━━━━━━\u001b[0m \u001b[32m17.1/17.1 MB\u001b[0m \u001b[31m115.2 MB/s\u001b[0m eta \u001b[36m0:00:00\u001b[0m00:01\u001b[0m00:01\u001b[0m\n",
      "\u001b[?25hRequirement already satisfied: python-dateutil>=2.8.1 in /home/gitpod/.pyenv/versions/3.8.13/lib/python3.8/site-packages (from pandas) (2.8.2)\n",
      "Requirement already satisfied: pytz>=2020.1 in /home/gitpod/.pyenv/versions/3.8.13/lib/python3.8/site-packages (from pandas) (2022.1)\n",
      "Requirement already satisfied: six>=1.5 in /home/gitpod/.pyenv/versions/3.8.13/lib/python3.8/site-packages (from python-dateutil>=2.8.1->pandas) (1.16.0)\n",
      "Installing collected packages: numpy, pandas\n",
      "Successfully installed numpy-1.23.1 pandas-1.4.3\n"
     ]
    }
   ],
   "source": [
    "!pip install snscrape\n",
    "!pip install pandas "
   ]
  },
  {
   "cell_type": "code",
   "execution_count": 11,
   "metadata": {},
   "outputs": [],
   "source": [
    "import snscrape.modules.telegram as telegram\n",
    "import pandas as pd\n",
    "scraper = telegram.TelegramChannelScraper('thebull_crypto')\n",
    "df = pd.DataFrame(columns=['Date','Content'])\n",
    "for i,tel in enumerate(scraper.get_items()):\n",
    "  if i < 100:\n",
    "    telegram_data = [{'Date':tel.date,'Content':tel.content}]\n",
    "    telegram_df = pd.DataFrame(telegram_data)\n",
    "    df = pd.concat([df,telegram_df],axis=0)\n",
    "  else:\n",
    "    break\n",
    "df.to_csv(\"Prediction.csv\")"
   ]
  }
 ],
 "metadata": {
  "kernelspec": {
   "display_name": "Python 3.8.13 64-bit ('3.8.13')",
   "language": "python",
   "name": "python3"
  },
  "language_info": {
   "codemirror_mode": {
    "name": "ipython",
    "version": 3
   },
   "file_extension": ".py",
   "mimetype": "text/x-python",
   "name": "python",
   "nbconvert_exporter": "python",
   "pygments_lexer": "ipython3",
   "version": "3.8.13"
  },
  "orig_nbformat": 4,
  "vscode": {
   "interpreter": {
    "hash": "110cc1dee26208153f2972f08a2ad52b6a56238dc66d48e87fb757ef2996db56"
   }
  }
 },
 "nbformat": 4,
 "nbformat_minor": 2
}
