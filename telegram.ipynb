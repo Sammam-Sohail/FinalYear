{
 "cells": [
  {
   "cell_type": "code",
   "execution_count": 34,
   "metadata": {},
   "outputs": [],
   "source": [
    "# !pip install -r requirements.txt\n",
    "# !python -m nltk.downloader stopwords\n",
    "# !python -m nltk.downloader wordnet\n",
    "# !python -m nltk.downloader omw-1.4"
   ]
  },
  {
   "cell_type": "code",
   "execution_count": 35,
   "metadata": {},
   "outputs": [],
   "source": [
    "from nltk.corpus import stopwords\n",
    "import snscrape.modules.telegram as telegram\n",
    "import pandas as pd\n",
    "import string\n",
    "from sklearn.model_selection import train_test_split\n",
    "from sklearn.feature_extraction.text import TfidfVectorizer\n",
    "from sklearn.naive_bayes import MultinomialNB\n",
    "from sklearn.pipeline import make_pipeline\n",
    "from sklearn.metrics import confusion_matrix, accuracy_score\n",
    "from nltk.stem.wordnet import WordNetLemmatizer"
   ]
  },
  {
   "cell_type": "code",
   "execution_count": 36,
   "metadata": {},
   "outputs": [
    {
     "data": {
      "text/html": [
       "<div>\n",
       "<style scoped>\n",
       "    .dataframe tbody tr th:only-of-type {\n",
       "        vertical-align: middle;\n",
       "    }\n",
       "\n",
       "    .dataframe tbody tr th {\n",
       "        vertical-align: top;\n",
       "    }\n",
       "\n",
       "    .dataframe thead th {\n",
       "        text-align: right;\n",
       "    }\n",
       "</style>\n",
       "<table border=\"1\" class=\"dataframe\">\n",
       "  <thead>\n",
       "    <tr style=\"text-align: right;\">\n",
       "      <th></th>\n",
       "      <th>Date</th>\n",
       "      <th>Content</th>\n",
       "    </tr>\n",
       "  </thead>\n",
       "  <tbody>\n",
       "    <tr>\n",
       "      <th>0</th>\n",
       "      <td>2022-07-20 07:38:22+00:00</td>\n",
       "      <td>#Bitcoin ✅</td>\n",
       "    </tr>\n",
       "    <tr>\n",
       "      <th>1</th>\n",
       "      <td>2022-07-20 07:34:41+00:00</td>\n",
       "      <td>Buying more $OGN here as well.</td>\n",
       "    </tr>\n",
       "    <tr>\n",
       "      <th>2</th>\n",
       "      <td>2022-07-20 07:30:37+00:00</td>\n",
       "      <td>$BAND still can buy!</td>\n",
       "    </tr>\n",
       "    <tr>\n",
       "      <th>3</th>\n",
       "      <td>2022-07-19 21:57:02+00:00</td>\n",
       "      <td>$BAND buying here!</td>\n",
       "    </tr>\n",
       "    <tr>\n",
       "      <th>4</th>\n",
       "      <td>2022-07-19 21:42:50+00:00</td>\n",
       "      <td>$JASMY just getting started!</td>\n",
       "    </tr>\n",
       "    <tr>\n",
       "      <th>...</th>\n",
       "      <td>...</td>\n",
       "      <td>...</td>\n",
       "    </tr>\n",
       "    <tr>\n",
       "      <th>95</th>\n",
       "      <td>2022-06-24 21:12:34+00:00</td>\n",
       "      <td>$TRB seems ready to take off 🚀</td>\n",
       "    </tr>\n",
       "    <tr>\n",
       "      <th>96</th>\n",
       "      <td>2022-06-24 21:04:23+00:00</td>\n",
       "      <td>$SOL is moving nicely. Already +36% from entry!</td>\n",
       "    </tr>\n",
       "    <tr>\n",
       "      <th>97</th>\n",
       "      <td>2022-06-24 18:21:39+00:00</td>\n",
       "      <td>With only $30m mcap $TRB will go up +100% easily.</td>\n",
       "    </tr>\n",
       "    <tr>\n",
       "      <th>98</th>\n",
       "      <td>2022-06-24 18:10:55+00:00</td>\n",
       "      <td>Bitcoin realized 30d volatility hits 12-month ...</td>\n",
       "    </tr>\n",
       "    <tr>\n",
       "      <th>99</th>\n",
       "      <td>2022-06-24 17:38:42+00:00</td>\n",
       "      <td>$JASMY/BTC breakout of 50-ish and it will go u...</td>\n",
       "    </tr>\n",
       "  </tbody>\n",
       "</table>\n",
       "<p>100 rows × 2 columns</p>\n",
       "</div>"
      ],
      "text/plain": [
       "                        Date  \\\n",
       "0  2022-07-20 07:38:22+00:00   \n",
       "1  2022-07-20 07:34:41+00:00   \n",
       "2  2022-07-20 07:30:37+00:00   \n",
       "3  2022-07-19 21:57:02+00:00   \n",
       "4  2022-07-19 21:42:50+00:00   \n",
       "..                       ...   \n",
       "95 2022-06-24 21:12:34+00:00   \n",
       "96 2022-06-24 21:04:23+00:00   \n",
       "97 2022-06-24 18:21:39+00:00   \n",
       "98 2022-06-24 18:10:55+00:00   \n",
       "99 2022-06-24 17:38:42+00:00   \n",
       "\n",
       "                                              Content  \n",
       "0                                          #Bitcoin ✅  \n",
       "1                      Buying more $OGN here as well.  \n",
       "2                                $BAND still can buy!  \n",
       "3                                  $BAND buying here!  \n",
       "4                        $JASMY just getting started!  \n",
       "..                                                ...  \n",
       "95                     $TRB seems ready to take off 🚀  \n",
       "96    $SOL is moving nicely. Already +36% from entry!  \n",
       "97  With only $30m mcap $TRB will go up +100% easily.  \n",
       "98  Bitcoin realized 30d volatility hits 12-month ...  \n",
       "99  $JASMY/BTC breakout of 50-ish and it will go u...  \n",
       "\n",
       "[100 rows x 2 columns]"
      ]
     },
     "execution_count": 36,
     "metadata": {},
     "output_type": "execute_result"
    }
   ],
   "source": [
    "\n",
    "scraper = telegram.TelegramChannelScraper('thebull_crypto')\n",
    "telegram_df = pd.DataFrame()\n",
    "for i,tel in enumerate(scraper.get_items()):\n",
    "  if ( i < 100):\n",
    "    df = pd.DataFrame([{'Date':tel.date,'Content':tel.content}])\n",
    "    telegram_df = pd.concat([telegram_df,df],axis=0,ignore_index=True)\n",
    "  else:\n",
    "    break\n",
    "telegram_df"
   ]
  },
  {
   "cell_type": "code",
   "execution_count": 37,
   "metadata": {},
   "outputs": [],
   "source": [
    "stop = set(stopwords.words('english'))\n",
    "exclude = set(string.punctuation)\n",
    "lemma = WordNetLemmatizer()\n",
    "# current_date =date.today()\n",
    "def text_cleaning(text):\n",
    "    if(text!=None):\n",
    "        stop_free = ' '.join([word for word in text.lower().split() if word not in stop])\n",
    "        punc_free = ''.join(ch for ch in stop_free if ch not in exclude)\n",
    "        normalized = ' '.join([lemma.lemmatize(word) for word in punc_free.split()])\n",
    "        return normalized.split()\n",
    "\n",
    "# telegram_df[\"Cleaned Text\"]= telegram_df[\"Content\"]\n",
    "telegram_df[\"Cleaned Text\"]= telegram_df[\"Content\"].apply(text_cleaning)\n"
   ]
  },
  {
   "cell_type": "code",
   "execution_count": 38,
   "metadata": {},
   "outputs": [
    {
     "data": {
      "text/plain": [
       "Date                 2022-07-20 07:34:41+00:00\n",
       "Content         Buying more $OGN here as well.\n",
       "Cleaned Text               [buying, ogn, well]\n",
       "Name: 1, dtype: object"
      ]
     },
     "execution_count": 38,
     "metadata": {},
     "output_type": "execute_result"
    }
   ],
   "source": [
    "telegram_df.iloc[1,:]"
   ]
  },
  {
   "cell_type": "code",
   "execution_count": 49,
   "metadata": {},
   "outputs": [
    {
     "data": {
      "text/plain": [
       "0                                 $CLV getting ready 👌🏻\n",
       "1                        $OGN is on the way to $0,3  👀🚀\n",
       "2                                        $FIL is a buy.\n",
       "3                                      Buying $QI here!\n",
       "4                                     $CHR +13% so far!\n",
       "                            ...                        \n",
       "95                   Buying some $TRB on this breakout!\n",
       "96                                 $OP +20% from entry!\n",
       "97                                  $ICP is going to $7\n",
       "98    The #Bitcoin drawdown from ATH has reached 73....\n",
       "99            $JASMY breakout and retest successfully 🚀\n",
       "Name: Content, Length: 100, dtype: object"
      ]
     },
     "execution_count": 49,
     "metadata": {},
     "output_type": "execute_result"
    }
   ],
   "source": [
    "df = pd.read_csv(\"Prediction - Prediction.csv\")\n",
    "X = telegram_df.loc[:,\"Cleaned Text\"]\n",
    "Y = df.iloc[:,3]\n",
    "# Y = Y.apply(lambda x : str(x))\n",
    "Y"
   ]
  },
  {
   "cell_type": "code",
   "execution_count": 42,
   "metadata": {},
   "outputs": [
    {
     "data": {
      "text/plain": [
       "43                                     [keep, eye, dot]\n",
       "83                                             [qi, 33]\n",
       "6                                    [fil, time, go, 👀]\n",
       "3                                  [band, buying, here]\n",
       "81    [jasmy, im, still, bullish, it, think, gonna, ...\n",
       "                            ...                        \n",
       "79                                     [op, still, buy]\n",
       "25                            [jasmy, double, one, day]\n",
       "2                                    [band, still, buy]\n",
       "40                                           [inj, buy]\n",
       "34    [get, alan, walker, nfts, real, value, coritew...\n",
       "Name: Cleaned Text, Length: 80, dtype: object"
      ]
     },
     "execution_count": 42,
     "metadata": {},
     "output_type": "execute_result"
    }
   ],
   "source": [
    "X_train,X_test,Y_train,Y_test = train_test_split(X,Y,test_size=.2)\n",
    "model = make_pipeline(TfidfVectorizer(lowercase=False), MultinomialNB())\n",
    "# model.fit(X_train, Y_train)\n",
    "# pred = model.predict(X_test)\n",
    "# model.score(pred,Y_test)\n",
    "X_train"
   ]
  },
  {
   "cell_type": "code",
   "execution_count": null,
   "metadata": {},
   "outputs": [],
   "source": [
    "def my_predictions(my_sentence, model):\n",
    "    prediction = model.predict([my_sentence])\n",
    "    return prediction\n",
    "\n",
    "result=list()\n",
    "# telegram_df[\"Cleaned Text\"].apply(lambda x: x.lower())\n",
    "for i in telegram_df[\"Cleaned Text\"]:\n",
    "    result.append(my_predictions(str(i),model))\n",
    "telegram_df[\"Result\"]=result\n",
    "telegram_df"
   ]
  },
  {
   "cell_type": "code",
   "execution_count": null,
   "metadata": {},
   "outputs": [],
   "source": [
    "telegram_df.to_csv(\"SD.csv\")"
   ]
  },
  {
   "cell_type": "code",
   "execution_count": null,
   "metadata": {},
   "outputs": [],
   "source": [
    "# !pip freeze > requirements.txt"
   ]
  }
 ],
 "metadata": {
  "kernelspec": {
   "display_name": "Python 3.8.13 64-bit ('3.8.13')",
   "language": "python",
   "name": "python3"
  },
  "language_info": {
   "codemirror_mode": {
    "name": "ipython",
    "version": 3
   },
   "file_extension": ".py",
   "mimetype": "text/x-python",
   "name": "python",
   "nbconvert_exporter": "python",
   "pygments_lexer": "ipython3",
   "version": "3.8.13"
  },
  "orig_nbformat": 4,
  "vscode": {
   "interpreter": {
    "hash": "110cc1dee26208153f2972f08a2ad52b6a56238dc66d48e87fb757ef2996db56"
   }
  }
 },
 "nbformat": 4,
 "nbformat_minor": 2
}
