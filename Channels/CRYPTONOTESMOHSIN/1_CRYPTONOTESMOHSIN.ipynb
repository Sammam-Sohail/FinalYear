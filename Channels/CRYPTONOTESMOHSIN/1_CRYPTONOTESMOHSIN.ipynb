{
 "cells": [
  {
   "cell_type": "code",
   "execution_count": 1,
   "metadata": {},
   "outputs": [],
   "source": [
    "import pandas as pd\n",
    "import re\n",
    "from csv import writer"
   ]
  },
  {
   "cell_type": "code",
   "execution_count": 2,
   "metadata": {},
   "outputs": [
    {
     "name": "stdout",
     "output_type": "stream",
     "text": [
      "['Why', 'every', 'project', 'labelling', 'Web', '3', 'project', '...', 'ethereum', 'Binance', 'dot', 'matic', 'many', 'others', '...', 'Web', '3', 'getting', 'huge', 'hype...', '😳', 'btc', 'crash', 'na', 'hota', 'tou', 'ab', 'tak', 'web3', 'project', 'apne', 'peak', 'pe', 'hote.', 'Next', 'trend', 'Web', '3.', 'All', 'dip', 'base', 'web', '3.0', 'coin', 'make', 'time', 'high...', 'Web', '3', 'big', '🚀']\n",
      "Why every project is labelling itself as Web 3 project ... ethereum then Binance then dot and matic and many others  ... Web 3 is getting huge hype... 😳  btc crash na hota tou ab tak web3 projects apne peak pe hote. Next trend is Web 3. All dip base web 3.0 coins can make its all time high... Web 3 is big 🚀\n"
     ]
    },
    {
     "data": {
      "text/html": [
       "<div>\n",
       "<style scoped>\n",
       "    .dataframe tbody tr th:only-of-type {\n",
       "        vertical-align: middle;\n",
       "    }\n",
       "\n",
       "    .dataframe tbody tr th {\n",
       "        vertical-align: top;\n",
       "    }\n",
       "\n",
       "    .dataframe thead th {\n",
       "        text-align: right;\n",
       "    }\n",
       "</style>\n",
       "<table border=\"1\" class=\"dataframe\">\n",
       "  <thead>\n",
       "    <tr style=\"text-align: right;\">\n",
       "      <th></th>\n",
       "      <th>Name</th>\n",
       "      <th>Date</th>\n",
       "      <th>Time</th>\n",
       "      <th>Text</th>\n",
       "      <th>Cleaned_text</th>\n",
       "    </tr>\n",
       "  </thead>\n",
       "  <tbody>\n",
       "    <tr>\n",
       "      <th>0</th>\n",
       "      <td>CRYPTONOTESMOHSIN</td>\n",
       "      <td>2022-09-15</td>\n",
       "      <td>17:03:57</td>\n",
       "      <td>Why every project is labelling itself as Web 3...</td>\n",
       "      <td>['Why', 'every', 'project', 'labelling', 'Web'...</td>\n",
       "    </tr>\n",
       "    <tr>\n",
       "      <th>1</th>\n",
       "      <td>CRYPTONOTESMOHSIN</td>\n",
       "      <td>2022-09-16</td>\n",
       "      <td>11:22:55</td>\n",
       "      <td>https://twitter.com/Mohsin_71/status/157073436...</td>\n",
       "      <td>['httpstwitter.comMohsin71status15707343608900...</td>\n",
       "    </tr>\n",
       "    <tr>\n",
       "      <th>2</th>\n",
       "      <td>CRYPTONOTESMOHSIN</td>\n",
       "      <td>2022-09-18</td>\n",
       "      <td>07:47:12</td>\n",
       "      <td>Premium Signal channel Entries are open Now Fo...</td>\n",
       "      <td>['Premium', 'Signal', 'channel', 'Entries', 'o...</td>\n",
       "    </tr>\n",
       "    <tr>\n",
       "      <th>3</th>\n",
       "      <td>CRYPTONOTESMOHSIN</td>\n",
       "      <td>2022-09-18</td>\n",
       "      <td>17:35:37</td>\n",
       "      <td>This is the Whale pump and dump Game ... infac...</td>\n",
       "      <td>['This', 'Whale', 'pump', 'dump', 'Game', '......</td>\n",
       "    </tr>\n",
       "    <tr>\n",
       "      <th>4</th>\n",
       "      <td>CRYPTONOTESMOHSIN</td>\n",
       "      <td>2022-09-18</td>\n",
       "      <td>17:36:49</td>\n",
       "      <td>Crypto Notes pinned «Premium Signal channel En...</td>\n",
       "      <td>['Crypto', 'Notes', 'pinned', '«Premium', 'Sig...</td>\n",
       "    </tr>\n",
       "  </tbody>\n",
       "</table>\n",
       "</div>"
      ],
      "text/plain": [
       "                Name        Date      Time  \\\n",
       "0  CRYPTONOTESMOHSIN  2022-09-15  17:03:57   \n",
       "1  CRYPTONOTESMOHSIN  2022-09-16  11:22:55   \n",
       "2  CRYPTONOTESMOHSIN  2022-09-18  07:47:12   \n",
       "3  CRYPTONOTESMOHSIN  2022-09-18  17:35:37   \n",
       "4  CRYPTONOTESMOHSIN  2022-09-18  17:36:49   \n",
       "\n",
       "                                                Text  \\\n",
       "0  Why every project is labelling itself as Web 3...   \n",
       "1  https://twitter.com/Mohsin_71/status/157073436...   \n",
       "2  Premium Signal channel Entries are open Now Fo...   \n",
       "3  This is the Whale pump and dump Game ... infac...   \n",
       "4  Crypto Notes pinned «Premium Signal channel En...   \n",
       "\n",
       "                                        Cleaned_text  \n",
       "0  ['Why', 'every', 'project', 'labelling', 'Web'...  \n",
       "1  ['httpstwitter.comMohsin71status15707343608900...  \n",
       "2  ['Premium', 'Signal', 'channel', 'Entries', 'o...  \n",
       "3  ['This', 'Whale', 'pump', 'dump', 'Game', '......  \n",
       "4  ['Crypto', 'Notes', 'pinned', '«Premium', 'Sig...  "
      ]
     },
     "execution_count": 2,
     "metadata": {},
     "output_type": "execute_result"
    }
   ],
   "source": [
    "colnames=['Name','Date','Time', 'Text','Cleaned_text'] \n",
    "exchanges = ['BINANCE', 'BYBIT', 'FTX', 'HUOBI', 'KUCOIN', 'POLONIEX','KRAKEN']\n",
    "df = pd.read_csv('./1_CRYPTONOTESMOHSIN.csv',names = colnames,header=None)\n",
    "print(df['Cleaned_text'][0])\n",
    "print(df['Text'][0])\n",
    "df.head()"
   ]
  },
  {
   "cell_type": "code",
   "execution_count": 4,
   "metadata": {},
   "outputs": [
    {
     "name": "stdout",
     "output_type": "stream",
     "text": [
      "['short', 'long'] 🔥 GRTUSDT FREE SIGNAL 🔥Grab GRTUSDT coin 0.09 - 0.11 Current Price ... 0.099 Selling Targets 0.117 - 0.133 - 0.16 - 0.23Signal type ... short term GRT coin huge dip time. Price pump time.❌ Market volatile .. Must use Stop Loss. Stop Loss ... 0.08Grt strong coin. You hold GRT token long term too...\n",
      "['short'] 🔥 GRTUSDT FREE SIGNAL 🔥 Grab GRTUSDT coin 0.09 - 0.11 Current Price ... 0.099 Selling Targets 0.117 - 0.133 - 0.16 - 0.23 Signal type ... short term GRT coin huge dip time. Price pump time. ❌ Market is…\n",
      "['Short'] 🔥🔥 RSRUSDT FREE SIGNAL 🔥🔥 RSRusdt buying Zone Current Price 0.00594 Buying Range 0.00550 - 0.00620 Selling Targets 0.00650 - 0.00747 - 0.00895 Sitting good support ✅️ Waiting Big Rally ✅️ Signal Type ... Short Term ❌️ Stop…\n",
      "['Short', 'Short'] 🔥🔥 KDAUSDT FREE Signal 🔥🔥Buy KDAUSDT coin 1.33 - 1.45 Current Price 1.40Selling Targets 1.52 - 1.67 - 2.04 - 2.50 - 2.90Signal type ... Short Term Kdausdt undervalued gem. Can leave earth soon 🚀Short Term Stop Loss... 1.20\n",
      "['short'] ❤️ BandUSDT FREE SIGNAL ❤️This time buy BANDUSDT coin Current price 1.11Buying Range ...1.05 - 1.16 Selling Targets1.22 - 1.35 - 1.55 - 1.83 - 2.20 Band also consolidation phase since many weeks. This sleeping giant awake time ...Extreme undervalued ✅️Market volatile... use stop lossStop loss ...0.95Signal type... short term Signal strength... medium strong❌️ INVEST AT YOUR OWN RISK\n",
      "[] ❤️ BandUSDT FREE SIGNAL ❤️ This time buy BANDUSDT coin Current price 1.11 Buying Range ...1.05 - 1.16 Selling Targets 1.22 - 1.35 - 1.55 - 1.83 - 2.20 Band also consolidation phase since many weeks. This sleeping giant can…\n",
      "[] ❤️ BandUSDT FREE SIGNAL ❤️ This time buy BANDUSDT coin Current price 1.11 Buying Range ...1.05 - 1.16 Selling Targets 1.22 - 1.35 - 1.55 - 1.83 - 2.20 Band also consolidation phase since many weeks. This sleeping giant can…\n",
      "[] ❤️ BandUSDT FREE SIGNAL ❤️ This time buy BANDUSDT coin Current price 1.11 Buying Range ...1.05 - 1.16 Selling Targets 1.22 - 1.35 - 1.55 - 1.83 - 2.20 Band also consolidation phase since many weeks. This sleeping giant can…\n",
      "[] ❤️ BandUSDT FREE SIGNAL ❤️ This time buy BANDUSDT coin Current price 1.11 Buying Range ...1.05 - 1.16 Selling Targets 1.22 - 1.35 - 1.55 - 1.83 - 2.20 Band also consolidation phase since many weeks. This sleeping giant can…\n",
      "[] ❤️ BandUSDT FREE SIGNAL ❤️ This time buy BANDUSDT coin Current price 1.11 Buying Range ...1.05 - 1.16 Selling Targets 1.22 - 1.35 - 1.55 - 1.83 - 2.20 Band also consolidation phase since many weeks. This sleeping giant can…\n",
      "['Short'] 🔥🔥 Flowusdt Free Signal 🔥🔥Flowusdt accumulation zone. Flow coin .... A powerful Project Current Price 1.58Buying Range . 1.50 - 1.65Selling Targets 1.75 - 2 - 2.30 - 2.80 - 3.50Signal type... Short Term All time High ...46.16 currently extreme undervalued due market crash ❌ Stop Loss ... 1.35\n",
      "['short'] 🔥 FLUXUSDT FREE SIGNAL 🔥Accumulate FLUXUSDT coin Now Flux coin buying AreaCurrent Price 0.45Buying Range 0.42 - 0.47 Selling Targets 0.50 - 0.56 - 0.64 - 0.75Signal type .... short term Flux extremely Undervalued coin. This strong project boom timeTo avoid huge volatality Manipulation. MUST USE STOP LOSS ❌️ stop Loss ... 0.38\n",
      "['short'] 🔥 FLUXUSDT FREE SIGNAL 🔥 Accumulate FLUXUSDT coin Now Flux coin buying Area Current Price 0.45 Buying Range 0.42 - 0.47 Selling Targets 0.50 - 0.56 - 0.64 - 0.75 Signal type .... short term Flux extremely Undervalued…\n"
     ]
    },
    {
     "data": {
      "text/plain": [
       "0      ['Why', 'every', 'project', 'labelling', 'Web'...\n",
       "1      ['httpstwitter.comMohsin71status15707343608900...\n",
       "2      ['Premium', 'Signal', 'channel', 'Entries', 'o...\n",
       "3      ['This', 'Whale', 'pump', 'dump', 'Game', '......\n",
       "4      ['Crypto', 'Notes', 'pinned', '«Premium', 'Sig...\n",
       "                             ...                        \n",
       "134    ['httpstwitter.comMohsin71status15946349326760...\n",
       "135    ['OK', 'Done', '.', 'Video', 'upload', 'krne',...\n",
       "136    ['Twitter', 'Force', 'Come', 'Forward.', 'Retw...\n",
       "137    ['Diausdt', '10', 'buying', 'Range...', 'Twitt...\n",
       "138    ['We', 'want', 'see', 'dia', 'top', 'Gainers',...\n",
       "Name: Cleaned_text, Length: 139, dtype: object"
      ]
     },
     "execution_count": 4,
     "metadata": {},
     "output_type": "execute_result"
    }
   ],
   "source": [
    "exchanges = 'Binance|kucoin|bitbuy'\n",
    "conversion = 'usdt|usd|btc|eth'\n",
    "exchangeregex = '|'.join(exchanges)\n",
    "target = ('|').join(['1','2','3'])\n",
    "def extractor(i):\n",
    "  text = re.sub('[\\',\\[\\]]', '', i)\n",
    "\n",
    "  if(re.search('free signal',text,re.IGNORECASE) and re.search('target\\w*',text,re.IGNORECASE)):    \n",
    "    \n",
    "    coin_name=re.findall('(\\w+)(?:usdt|usd|btc|eth)',text,re.IGNORECASE)\n",
    "    if coin_name:coin_name = coin_name[0]\n",
    "\n",
    "    conversion_name = re.findall('\\w+({})'.format(conversion),str(text),re.IGNORECASE)\n",
    "    if conversion_name:conversion_name = conversion_name[0]\n",
    "\n",
    "    \"\"\"exchange not used\"\"\"\n",
    "    call_exchange = re.findall('\\w+({})'.format(exchanges),text,re.IGNORECASE)\n",
    "\n",
    "    call_type = re.findall('sell|buy|grab',text,re.IGNORECASE)[0]\n",
    "    if call_type:call_type = call_type[0]\n",
    "\n",
    "    call_duration = re.findall('long|short',text,re.IGNORECASE)\n",
    "    if call_duration:call_duration = call_duration[0]\n",
    "    \n",
    "    leverage = re.findall('[ ]*[-]*[ ]*(\\d+)x',text,re.IGNORECASE)\n",
    "    \n",
    "\n",
    "    Targets = re.findall(\"Target[s]*[ ]*(.*?)[a-zA-Z]\".format(target),text,re.IGNORECASE)\n",
    "    t = re.sub(' ','',Targets[0])\n",
    "    Targets = t.split('-')\n",
    "\n",
    "    stop_loss = re.findall('Stop\\s*loss\\s*.*?([0-9].[0-9]*)',text,re.IGNORECASE)\n",
    "    \n",
    "    # with open('./3_coin_signals.csv', 'a',newline='') as f_object:\n",
    "    #   writer_object = writer(f_object)\n",
    "    #   ls = [coin_name,conversion_name,leverage,call_exchange,call_type,call_duration,T,stop_loss]\n",
    "    #   writer_object.writerow(ls)\n",
    "    #   f_object.close()\n",
    "  return i\n",
    "  \n",
    "df['Cleaned_text'].apply(extractor)"
   ]
  },
  {
   "cell_type": "code",
   "execution_count": null,
   "metadata": {},
   "outputs": [],
   "source": []
  }
 ],
 "metadata": {
  "kernelspec": {
   "display_name": "Python 3.10.4 64-bit",
   "language": "python",
   "name": "python3"
  },
  "language_info": {
   "codemirror_mode": {
    "name": "ipython",
    "version": 3
   },
   "file_extension": ".py",
   "mimetype": "text/x-python",
   "name": "python",
   "nbconvert_exporter": "python",
   "pygments_lexer": "ipython3",
   "version": "3.10.4"
  },
  "orig_nbformat": 4,
  "vscode": {
   "interpreter": {
    "hash": "d572fee55088b61515265814f82e71c0d56216367d221f2ac084c0d372a9af7e"
   }
  }
 },
 "nbformat": 4,
 "nbformat_minor": 2
}
