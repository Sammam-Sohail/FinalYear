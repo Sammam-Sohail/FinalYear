{
 "cells": [
  {
   "cell_type": "code",
   "execution_count": 1,
   "metadata": {},
   "outputs": [],
   "source": [
    "import pandas as pd\n",
    "import re\n",
    "from csv import writer"
   ]
  },
  {
   "cell_type": "code",
   "execution_count": 2,
   "metadata": {},
   "outputs": [
    {
     "name": "stdout",
     "output_type": "stream",
     "text": [
      "['DYDX', 'DYDXUSDT', 'BinanceBuy', 'Between', '2.90', '-', '3.00', 'Targets', '3.15', '-', '3.33', '-', '3.50', '-', '3.80', 'StopLoss', '2.60', 'Leverage', '2', '-', '3', 'xhttpswww.tradingview.comxPDQsVD', '18', 'BitmexCourses']\n",
      "#DYDX #DYDXUSDT (Binance)Buy Between 2.90 - 3.00 Targets 3.15 - 3.33 - 3.50 - 3.80 StopLoss 2.60 Leverage 2 - 3 xhttps://www.tradingview.com/x/PDQsVD 18 / @BitmexCourses\n"
     ]
    },
    {
     "data": {
      "text/html": [
       "<div>\n",
       "<style scoped>\n",
       "    .dataframe tbody tr th:only-of-type {\n",
       "        vertical-align: middle;\n",
       "    }\n",
       "\n",
       "    .dataframe tbody tr th {\n",
       "        vertical-align: top;\n",
       "    }\n",
       "\n",
       "    .dataframe thead th {\n",
       "        text-align: right;\n",
       "    }\n",
       "</style>\n",
       "<table border=\"1\" class=\"dataframe\">\n",
       "  <thead>\n",
       "    <tr style=\"text-align: right;\">\n",
       "      <th></th>\n",
       "      <th>Name</th>\n",
       "      <th>Date</th>\n",
       "      <th>Time</th>\n",
       "      <th>Text</th>\n",
       "      <th>Cleaned_text</th>\n",
       "    </tr>\n",
       "  </thead>\n",
       "  <tbody>\n",
       "    <tr>\n",
       "      <th>0</th>\n",
       "      <td>BitmexCourses</td>\n",
       "      <td>2023-02-27</td>\n",
       "      <td>14:33:43</td>\n",
       "      <td>#DYDX #DYDXUSDT (Binance)Buy Between 2.90 - 3....</td>\n",
       "      <td>['DYDX', 'DYDXUSDT', 'BinanceBuy', 'Between', ...</td>\n",
       "    </tr>\n",
       "    <tr>\n",
       "      <th>1</th>\n",
       "      <td>BitmexCourses</td>\n",
       "      <td>2023-02-28</td>\n",
       "      <td>03:53:07</td>\n",
       "      <td>#SNX #SNXUSDT (Binance)Buy Between 2.80 - 2.95...</td>\n",
       "      <td>['SNX', 'SNXUSDT', 'BinanceBuy', 'Between', '2...</td>\n",
       "    </tr>\n",
       "    <tr>\n",
       "      <th>2</th>\n",
       "      <td>BitmexCourses</td>\n",
       "      <td>2023-03-02</td>\n",
       "      <td>03:10:09</td>\n",
       "      <td>#GMT #GMTUSDT (Binance)Buy Between 0.36 - 0.40...</td>\n",
       "      <td>['GMT', 'GMTUSDT', 'BinanceBuy', 'Between', '0...</td>\n",
       "    </tr>\n",
       "    <tr>\n",
       "      <th>3</th>\n",
       "      <td>BitmexCourses</td>\n",
       "      <td>2023-03-14</td>\n",
       "      <td>12:50:26</td>\n",
       "      <td>#APT #APTUSDT (Binance)Buy Between 12.50 - 12....</td>\n",
       "      <td>['APT', 'APTUSDT', 'BinanceBuy', 'Between', '1...</td>\n",
       "    </tr>\n",
       "    <tr>\n",
       "      <th>4</th>\n",
       "      <td>BitmexCourses</td>\n",
       "      <td>2023-03-17</td>\n",
       "      <td>07:45:55</td>\n",
       "      <td>#FTM #FTMUSDT (Binance)Buy Between 0.40 - 0.45...</td>\n",
       "      <td>['FTM', 'FTMUSDT', 'BinanceBuy', 'Between', '0...</td>\n",
       "    </tr>\n",
       "  </tbody>\n",
       "</table>\n",
       "</div>"
      ],
      "text/plain": [
       "            Name        Date      Time  \\\n",
       "0  BitmexCourses  2023-02-27  14:33:43   \n",
       "1  BitmexCourses  2023-02-28  03:53:07   \n",
       "2  BitmexCourses  2023-03-02  03:10:09   \n",
       "3  BitmexCourses  2023-03-14  12:50:26   \n",
       "4  BitmexCourses  2023-03-17  07:45:55   \n",
       "\n",
       "                                                Text  \\\n",
       "0  #DYDX #DYDXUSDT (Binance)Buy Between 2.90 - 3....   \n",
       "1  #SNX #SNXUSDT (Binance)Buy Between 2.80 - 2.95...   \n",
       "2  #GMT #GMTUSDT (Binance)Buy Between 0.36 - 0.40...   \n",
       "3  #APT #APTUSDT (Binance)Buy Between 12.50 - 12....   \n",
       "4  #FTM #FTMUSDT (Binance)Buy Between 0.40 - 0.45...   \n",
       "\n",
       "                                        Cleaned_text  \n",
       "0  ['DYDX', 'DYDXUSDT', 'BinanceBuy', 'Between', ...  \n",
       "1  ['SNX', 'SNXUSDT', 'BinanceBuy', 'Between', '2...  \n",
       "2  ['GMT', 'GMTUSDT', 'BinanceBuy', 'Between', '0...  \n",
       "3  ['APT', 'APTUSDT', 'BinanceBuy', 'Between', '1...  \n",
       "4  ['FTM', 'FTMUSDT', 'BinanceBuy', 'Between', '0...  "
      ]
     },
     "execution_count": 2,
     "metadata": {},
     "output_type": "execute_result"
    }
   ],
   "source": [
    "colnames=['Name','Date','Time', 'Text','Cleaned_text'] \n",
    "exchanges = ['BINANCE', 'BYBIT', 'FTX', 'HUOBI', 'KUCOIN', 'POLONIEX','KRAKEN']\n",
    "df = pd.read_csv('C:\\\\Users\\\\Mohib\\\\Desktop\\\\Testing Channels\\\\Channels\\\\BitmexCourses\\\\1_BitmexCourses.csv',names = colnames,header=None)\n",
    "print(df['Cleaned_text'][0])\n",
    "print(df['Text'][0])\n",
    "df.head()"
   ]
  },
  {
   "cell_type": "code",
   "execution_count": 4,
   "metadata": {},
   "outputs": [
    {
     "data": {
      "text/plain": [
       "0     ['DYDX', 'DYDXUSDT', 'BinanceBuy', 'Between', ...\n",
       "1     ['SNX', 'SNXUSDT', 'BinanceBuy', 'Between', '2...\n",
       "2     ['GMT', 'GMTUSDT', 'BinanceBuy', 'Between', '0...\n",
       "3     ['APT', 'APTUSDT', 'BinanceBuy', 'Between', '1...\n",
       "4     ['FTM', 'FTMUSDT', 'BinanceBuy', 'Between', '0...\n",
       "5     ['AXS', 'AXSUSDT', 'BinanceBuy', 'Between', '8...\n",
       "6     ['SOL', 'SOOLUSDT', 'BinanceBuy', 'Between', '...\n",
       "7     ['GALA', 'GALAUSDT', 'BinanceBuy', 'Between', ...\n",
       "8     ['MANA', 'MANAUSDT', 'BinanceBuy', 'Between', ...\n",
       "9     ['ADA', 'ADAUSDT', 'BinanceBuy', 'Between', '0...\n",
       "10    ['BNX', 'BNXUSDT', 'BinanceBuy', '0.57', '-', ...\n",
       "Name: Cleaned_text, dtype: object"
      ]
     },
     "execution_count": 4,
     "metadata": {},
     "output_type": "execute_result"
    }
   ],
   "source": [
    "exchanges = 'Binance|kucoin|bitbuy'\n",
    "conversion = 'usdt|usd|btc|eth'\n",
    "exchangeregex = '|'.join(exchanges)\n",
    "target = ('|').join(['1','2','3'])\n",
    "# coins=''\n",
    "def extractor(i):\n",
    "  text = re.sub('[\\',\\[\\]]', '', i)\n",
    "\n",
    "  if(re.search('stop\\s*loss',text,re.IGNORECASE) and re.search('target|targets',text,re.IGNORECASE)):    \n",
    "\n",
    "    coin_name=re.findall('(\\w+)(?:usdt|usd|btc|eth)',text,re.IGNORECASE)\n",
    "\n",
    "    conversion_name = re.findall('\\w+({})'.format(conversion),str(text),re.IGNORECASE)\n",
    "\n",
    "    call_exchange = re.findall('Binance|kucoin|bitbuy'.format(exchanges),text,re.IGNORECASE)\n",
    "\n",
    "    call_type = re.findall('sell|buy',text,re.IGNORECASE)\n",
    "\n",
    "    \"\"\"duration not used \"\"\"\n",
    "    call_duration = re.findall('long|short',text,re.IGNORECASE)\n",
    "\n",
    "    # targets = re.findall(\"(\\d*[.]?\\d*)[ ]?(-)?[ ]?(\\d*[.]?\\d*)[ ]?-[ ]?(\\d*[.]?\\d*)[ ]?-[ ]?(\\d*[.]?\\d*)[ ]?-[ ]?(\\d*[.]?\\d*)\",text,re.IGNORECASE)\n",
    "    \"\"\"some targets are not extracted although format is same \"\"\"\n",
    "    T=dict()\n",
    "    # targets=re.findall(r'targets\\s*(\\d.\\d*)\\s*-*\\s*(\\d.\\d*)\\s*-*\\s*(\\d.\\d*)\\s*-*\\s*(\\d.\\d*)',text,re.IGNORECASE)\n",
    "    Targets = re.findall(\"Target[s]*[ ]*(.*?)[a-zA-Z]\",text,re.IGNORECASE)\n",
    "    t = re.sub(' ','',Targets[0])\n",
    "    Targets = t.split('-')\n",
    "\n",
    "    for x in range(len(Targets)):\n",
    "      T['T'+str(x+1)]=Targets[x]\n",
    "\n",
    "    leverage = re.findall('[ ]*[-]*[ ]*(\\d+)x',text,re.IGNORECASE)\n",
    "\n",
    "    \"\"\" stop loss not used that much\"\"\"\n",
    "    stop_loss = re.findall('stop\\s*loss\\s*-*\\s*(\\d.\\d*)',text,re.IGNORECASE)\n",
    "\n",
    "    with open('C:\\\\Users\\\\Mohib\\\\Desktop\\\\Testing Channels\\\\Channels\\\\BitmexCourses\\\\3_BitmexCourses.csv', 'a',newline='') as f_object:\n",
    "      writer_object = writer(f_object)\n",
    "      ls = [coin_name,conversion_name,leverage,call_exchange,call_type,call_duration,T,stop_loss]\n",
    "      writer_object.writerow(ls)\n",
    "      f_object.close()\n",
    "\n",
    "  return i\n",
    "  \n",
    "df['Cleaned_text'].apply(extractor)"
   ]
  }
 ],
 "metadata": {
  "kernelspec": {
   "display_name": "Python 3.10.4 64-bit",
   "language": "python",
   "name": "python3"
  },
  "language_info": {
   "codemirror_mode": {
    "name": "ipython",
    "version": 3
   },
   "file_extension": ".py",
   "mimetype": "text/x-python",
   "name": "python",
   "nbconvert_exporter": "python",
   "pygments_lexer": "ipython3",
   "version": "3.10.5"
  },
  "orig_nbformat": 4,
  "vscode": {
   "interpreter": {
    "hash": "d572fee55088b61515265814f82e71c0d56216367d221f2ac084c0d372a9af7e"
   }
  }
 },
 "nbformat": 4,
 "nbformat_minor": 2
}
