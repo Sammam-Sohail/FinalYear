{
 "cells": [
  {
   "cell_type": "code",
   "execution_count": 21,
   "metadata": {},
   "outputs": [],
   "source": [
    "import pandas as pd\n",
    "import re\n",
    "from csv import writer"
   ]
  },
  {
   "cell_type": "code",
   "execution_count": 3,
   "metadata": {},
   "outputs": [
    {
     "name": "stdout",
     "output_type": "stream",
     "text": [
      "['Free', 'SignalBuy', 'JASMYUSDT', 'around', '8480', '-', '8420Leverage', '10x', '25x', '50x', '100xTargets', '8600', '-', '8685', '-', '8800', '-', '8930']\n",
      "Free SignalBuy #JASMY/USDT around 8480 - 8420Leverage should be 10x 25x 50x 100xTargets 8600 - 8685 - 8800 - 8930 and above\n"
     ]
    },
    {
     "data": {
      "text/html": [
       "<div>\n",
       "<style scoped>\n",
       "    .dataframe tbody tr th:only-of-type {\n",
       "        vertical-align: middle;\n",
       "    }\n",
       "\n",
       "    .dataframe tbody tr th {\n",
       "        vertical-align: top;\n",
       "    }\n",
       "\n",
       "    .dataframe thead th {\n",
       "        text-align: right;\n",
       "    }\n",
       "</style>\n",
       "<table border=\"1\" class=\"dataframe\">\n",
       "  <thead>\n",
       "    <tr style=\"text-align: right;\">\n",
       "      <th></th>\n",
       "      <th>Name</th>\n",
       "      <th>Date</th>\n",
       "      <th>Time</th>\n",
       "      <th>Text</th>\n",
       "      <th>Cleaned_text</th>\n",
       "    </tr>\n",
       "  </thead>\n",
       "  <tbody>\n",
       "    <tr>\n",
       "      <th>0</th>\n",
       "      <td>freebitmexsignals</td>\n",
       "      <td>2022-09-15</td>\n",
       "      <td>12:22:07</td>\n",
       "      <td>Free SignalBuy #JASMY/USDT around 8480 - 8420L...</td>\n",
       "      <td>['Free', 'SignalBuy', 'JASMYUSDT', 'around', '...</td>\n",
       "    </tr>\n",
       "    <tr>\n",
       "      <th>1</th>\n",
       "      <td>freebitmexsignals</td>\n",
       "      <td>2022-09-15</td>\n",
       "      <td>14:14:05</td>\n",
       "      <td>🚀🚀Raining Profits in the Premium Group - Amazi...</td>\n",
       "      <td>['🚀🚀Raining', 'Profits', 'Premium', 'Group', '...</td>\n",
       "    </tr>\n",
       "    <tr>\n",
       "      <th>2</th>\n",
       "      <td>freebitmexsignals</td>\n",
       "      <td>2022-09-15</td>\n",
       "      <td>19:42:32</td>\n",
       "      <td>🎯🎯 🚀 🚀🚀 Another Amazing profit made in Premium...</td>\n",
       "      <td>['🎯🎯', '🚀', '🚀🚀', 'Another', 'Amazing', 'profi...</td>\n",
       "    </tr>\n",
       "    <tr>\n",
       "      <th>3</th>\n",
       "      <td>freebitmexsignals</td>\n",
       "      <td>2022-09-15</td>\n",
       "      <td>19:44:52</td>\n",
       "      <td>👆🏻👆🏻These are all huge profit on Futures Marke...</td>\n",
       "      <td>['👆🏻👆🏻These', 'huge', 'profit', 'Futures', 'Ma...</td>\n",
       "    </tr>\n",
       "    <tr>\n",
       "      <th>4</th>\n",
       "      <td>freebitmexsignals</td>\n",
       "      <td>2022-09-15</td>\n",
       "      <td>22:46:51</td>\n",
       "      <td>✅✅✅50%+ profit on #ATOM/USDT as yet another pe...</td>\n",
       "      <td>['✅✅✅50', 'profit', 'ATOMUSDT', 'yet', 'anothe...</td>\n",
       "    </tr>\n",
       "  </tbody>\n",
       "</table>\n",
       "</div>"
      ],
      "text/plain": [
       "                Name        Date      Time  \\\n",
       "0  freebitmexsignals  2022-09-15  12:22:07   \n",
       "1  freebitmexsignals  2022-09-15  14:14:05   \n",
       "2  freebitmexsignals  2022-09-15  19:42:32   \n",
       "3  freebitmexsignals  2022-09-15  19:44:52   \n",
       "4  freebitmexsignals  2022-09-15  22:46:51   \n",
       "\n",
       "                                                Text  \\\n",
       "0  Free SignalBuy #JASMY/USDT around 8480 - 8420L...   \n",
       "1  🚀🚀Raining Profits in the Premium Group - Amazi...   \n",
       "2  🎯🎯 🚀 🚀🚀 Another Amazing profit made in Premium...   \n",
       "3  👆🏻👆🏻These are all huge profit on Futures Marke...   \n",
       "4  ✅✅✅50%+ profit on #ATOM/USDT as yet another pe...   \n",
       "\n",
       "                                        Cleaned_text  \n",
       "0  ['Free', 'SignalBuy', 'JASMYUSDT', 'around', '...  \n",
       "1  ['🚀🚀Raining', 'Profits', 'Premium', 'Group', '...  \n",
       "2  ['🎯🎯', '🚀', '🚀🚀', 'Another', 'Amazing', 'profi...  \n",
       "3  ['👆🏻👆🏻These', 'huge', 'profit', 'Futures', 'Ma...  \n",
       "4  ['✅✅✅50', 'profit', 'ATOMUSDT', 'yet', 'anothe...  "
      ]
     },
     "execution_count": 3,
     "metadata": {},
     "output_type": "execute_result"
    }
   ],
   "source": [
    "colnames=['Name','Date','Time', 'Text','Cleaned_text'] \n",
    "exchanges = ['BINANCE', 'BYBIT', 'FTX', 'HUOBI', 'KUCOIN', 'POLONIEX','KRAKEN']\n",
    "df = pd.read_csv('./1_freebitmexsignals.csv',names = colnames,header=None)\n",
    "print(df['Cleaned_text'][0])\n",
    "print(df['Text'][0])\n",
    "df.head()"
   ]
  },
  {
   "cell_type": "code",
   "execution_count": 22,
   "metadata": {},
   "outputs": [
    {
     "data": {
      "text/plain": [
       "0      ['Free', 'SignalBuy', 'JASMYUSDT', 'around', '...\n",
       "1      ['🚀🚀Raining', 'Profits', 'Premium', 'Group', '...\n",
       "2      ['🎯🎯', '🚀', '🚀🚀', 'Another', 'Amazing', 'profi...\n",
       "3      ['👆🏻👆🏻These', 'huge', 'profit', 'Futures', 'Ma...\n",
       "4      ['✅✅✅50', 'profit', 'ATOMUSDT', 'yet', 'anothe...\n",
       "                             ...                        \n",
       "942    ['🚀🚀', '188', 'Profit', 'RLCUSDT🚀🚀', '30', 'Pr...\n",
       "943    ['Free', 'Signal', 'SHORTSELL', 'SFPUSDT', 'ar...\n",
       "944    ['✅✅✅194', 'Profit', 'MASKUSDT', '10x', 'lever...\n",
       "945    ['👆🏻👆🏻We', 'always', 'maintained', 'highest', ...\n",
       "946    ['Free', 'SignalBuy', 'IOTAUSDT', 'around', '2...\n",
       "Name: Cleaned_text, Length: 947, dtype: object"
      ]
     },
     "execution_count": 22,
     "metadata": {},
     "output_type": "execute_result"
    }
   ],
   "source": [
    "exchanges = 'Binance|kucoin|bitbuy'\n",
    "conversion = 'usdt|usd|btc|eth'\n",
    "exchangeregex = '|'.join(exchanges)\n",
    "target = ('|').join(['1','2','3'])\n",
    "# coins=''\n",
    "def extractor(i):\n",
    "  text = re.sub('[\\',\\[\\]]', '', i)\n",
    "\n",
    "  if(re.search('free signal|entry point',text,re.IGNORECASE) and re.search('target|targets',text,re.IGNORECASE)):    \n",
    "\n",
    "    coin_name=re.findall('(\\w+)(?:usdt|usd|btc|eth)',text,re.IGNORECASE)\n",
    "\n",
    "    conversion_name = re.findall('\\w+({})'.format(conversion),str(text),re.IGNORECASE)\n",
    "\n",
    "    \"\"\"exchange not used\"\"\"\n",
    "    call_exchange = re.findall('\\w+({})'.format(exchanges),text,re.IGNORECASE)\n",
    "\n",
    "    call_type = re.findall('sell|buy',text,re.IGNORECASE)\n",
    "\n",
    "    \"\"\"duration not used \"\"\"\n",
    "    call_duration = re.findall('long|short',text,re.IGNORECASE)\n",
    "\n",
    "    # targets = re.findall(\"(\\d*[.]?\\d*)[ ]?(-)?[ ]?(\\d*[.]?\\d*)[ ]?-[ ]?(\\d*[.]?\\d*)[ ]?-[ ]?(\\d*[.]?\\d*)[ ]?-[ ]?(\\d*[.]?\\d*)\",text,re.IGNORECASE)\n",
    "    \"\"\"some targets are not extracted although format is same \"\"\"\n",
    "    T=dict()\n",
    "    targets=re.findall(r'targets\\s*(\\d.\\d*)\\s*-*\\s*(\\d.\\d*)\\s*-*\\s*(\\d.\\d*)\\s*-*\\s*(\\d.\\d*)',text,re.IGNORECASE)\n",
    "    if targets:\n",
    "      T['T1']=targets[0][0]\n",
    "      T['T2']=targets[0][1]\n",
    "      T['T3']=targets[0][2]\n",
    "      T['T4']=targets[0][3]\n",
    "\n",
    "    leverage = re.findall('[ ]*[-]*[ ]*(\\d+)x',text,re.IGNORECASE)\n",
    "\n",
    "    \"\"\" stop loss not used that much\"\"\"\n",
    "    stop_loss = re.findall('stop\\s*loss\\s*-*\\s*(\\d.\\d*)',text,re.IGNORECASE)\n",
    "    \n",
    "    with open('./3_freebitmexsignals.csv', 'a',newline='') as f_object:\n",
    "      writer_object = writer(f_object)\n",
    "      ls = [coin_name,conversion_name,leverage,call_exchange,call_type,call_duration,T,stop_loss]\n",
    "      writer_object.writerow(ls)\n",
    "      f_object.close()\n",
    "\n",
    "  return i\n",
    "  \n",
    "df['Cleaned_text'].apply(extractor)"
   ]
  },
  {
   "cell_type": "code",
   "execution_count": null,
   "metadata": {},
   "outputs": [],
   "source": []
  }
 ],
 "metadata": {
  "kernelspec": {
   "display_name": "Python 3.10.4 64-bit",
   "language": "python",
   "name": "python3"
  },
  "language_info": {
   "codemirror_mode": {
    "name": "ipython",
    "version": 3
   },
   "file_extension": ".py",
   "mimetype": "text/x-python",
   "name": "python",
   "nbconvert_exporter": "python",
   "pygments_lexer": "ipython3",
   "version": "3.10.4"
  },
  "orig_nbformat": 4,
  "vscode": {
   "interpreter": {
    "hash": "d572fee55088b61515265814f82e71c0d56216367d221f2ac084c0d372a9af7e"
   }
  }
 },
 "nbformat": 4,
 "nbformat_minor": 2
}
