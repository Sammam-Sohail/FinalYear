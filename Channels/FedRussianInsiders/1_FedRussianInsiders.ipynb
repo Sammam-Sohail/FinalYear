{
 "cells": [
  {
   "cell_type": "code",
   "execution_count": 1,
   "metadata": {},
   "outputs": [],
   "source": [
    "import pandas as pd\n",
    "import re\n",
    "from csv import writer"
   ]
  },
  {
   "cell_type": "code",
   "execution_count": 2,
   "metadata": {},
   "outputs": [
    {
     "name": "stdout",
     "output_type": "stream",
     "text": [
      "['🚨MARKET', 'MOVEMENT🚨Despite', 'already', '10', 'month', 'bear', 'market', 'downtrend', 'since', '69000', 'high', 'current', 'market', 'yet', 'reached', 'well', 'known', 'long', 'term', 'cross-over', 'stage', 'we’ve', 'seen', 'last', '2', 'long', 'term', 'bear', 'market', 'end', 'start', 'another', 'bullish', 'market', 'cycle', 'towards', 'new', 'All', 'Time', 'Highs.What', 'mean', 'BTC', 'next', 'monthsVIP', 'EXCLUSIVE', 'CONTENT--------------------We', 'told', 'firstFed.', 'Russian', 'Insiders®']\n",
      "🚨MARKET MOVEMENT🚨Despite already having a 10 month bear market and downtrend since our $69,000 highs, our current market has not yet reached our well known long term cross-over stage, at which we’ve seen our last 2 long term bear markets end, before the start of another bullish market cycle towards new All Time Highs.What does this mean for BTC in the next few months?[VIP EXCLUSIVE CONTENT]--------------------We told you first,Fed. Russian Insiders®\n"
     ]
    },
    {
     "data": {
      "text/html": [
       "<div>\n",
       "<style scoped>\n",
       "    .dataframe tbody tr th:only-of-type {\n",
       "        vertical-align: middle;\n",
       "    }\n",
       "\n",
       "    .dataframe tbody tr th {\n",
       "        vertical-align: top;\n",
       "    }\n",
       "\n",
       "    .dataframe thead th {\n",
       "        text-align: right;\n",
       "    }\n",
       "</style>\n",
       "<table border=\"1\" class=\"dataframe\">\n",
       "  <thead>\n",
       "    <tr style=\"text-align: right;\">\n",
       "      <th></th>\n",
       "      <th>Name</th>\n",
       "      <th>Date</th>\n",
       "      <th>Time</th>\n",
       "      <th>Text</th>\n",
       "      <th>Cleaned_text</th>\n",
       "    </tr>\n",
       "  </thead>\n",
       "  <tbody>\n",
       "    <tr>\n",
       "      <th>0</th>\n",
       "      <td>FedRussianInsiders</td>\n",
       "      <td>2022-09-15</td>\n",
       "      <td>07:30:51</td>\n",
       "      <td>🚨MARKET MOVEMENT🚨Despite already having a 10 m...</td>\n",
       "      <td>['🚨MARKET', 'MOVEMENT🚨Despite', 'already', '10...</td>\n",
       "    </tr>\n",
       "    <tr>\n",
       "      <th>1</th>\n",
       "      <td>FedRussianInsiders</td>\n",
       "      <td>2022-09-15</td>\n",
       "      <td>16:23:01</td>\n",
       "      <td>$BTC VIP AnalysisSeptember 15, 2022-----------...</td>\n",
       "      <td>['BTC', 'VIP', 'AnalysisSeptember', '15', '202...</td>\n",
       "    </tr>\n",
       "    <tr>\n",
       "      <th>2</th>\n",
       "      <td>FedRussianInsiders</td>\n",
       "      <td>2022-09-16</td>\n",
       "      <td>02:29:01</td>\n",
       "      <td>VIP beast aiming just at our closest local hig...</td>\n",
       "      <td>['VIP', 'beast', 'aiming', 'closest', 'local',...</td>\n",
       "    </tr>\n",
       "    <tr>\n",
       "      <th>3</th>\n",
       "      <td>FedRussianInsiders</td>\n",
       "      <td>2022-09-16</td>\n",
       "      <td>08:58:01</td>\n",
       "      <td>🚨MARKET MOVEMENT🚨ProShares (BITO + BITI) has e...</td>\n",
       "      <td>['🚨MARKET', 'MOVEMENT🚨ProShares', 'BITO', 'BIT...</td>\n",
       "    </tr>\n",
       "    <tr>\n",
       "      <th>4</th>\n",
       "      <td>FedRussianInsiders</td>\n",
       "      <td>2022-09-16</td>\n",
       "      <td>16:28:02</td>\n",
       "      <td>$BTC VIP AnalysisSeptember 16, 2022-----------...</td>\n",
       "      <td>['BTC', 'VIP', 'AnalysisSeptember', '16', '202...</td>\n",
       "    </tr>\n",
       "  </tbody>\n",
       "</table>\n",
       "</div>"
      ],
      "text/plain": [
       "                 Name        Date      Time  \\\n",
       "0  FedRussianInsiders  2022-09-15  07:30:51   \n",
       "1  FedRussianInsiders  2022-09-15  16:23:01   \n",
       "2  FedRussianInsiders  2022-09-16  02:29:01   \n",
       "3  FedRussianInsiders  2022-09-16  08:58:01   \n",
       "4  FedRussianInsiders  2022-09-16  16:28:02   \n",
       "\n",
       "                                                Text  \\\n",
       "0  🚨MARKET MOVEMENT🚨Despite already having a 10 m...   \n",
       "1  $BTC VIP AnalysisSeptember 15, 2022-----------...   \n",
       "2  VIP beast aiming just at our closest local hig...   \n",
       "3  🚨MARKET MOVEMENT🚨ProShares (BITO + BITI) has e...   \n",
       "4  $BTC VIP AnalysisSeptember 16, 2022-----------...   \n",
       "\n",
       "                                        Cleaned_text  \n",
       "0  ['🚨MARKET', 'MOVEMENT🚨Despite', 'already', '10...  \n",
       "1  ['BTC', 'VIP', 'AnalysisSeptember', '15', '202...  \n",
       "2  ['VIP', 'beast', 'aiming', 'closest', 'local',...  \n",
       "3  ['🚨MARKET', 'MOVEMENT🚨ProShares', 'BITO', 'BIT...  \n",
       "4  ['BTC', 'VIP', 'AnalysisSeptember', '16', '202...  "
      ]
     },
     "execution_count": 2,
     "metadata": {},
     "output_type": "execute_result"
    }
   ],
   "source": [
    "colnames=['Name','Date','Time', 'Text','Cleaned_text'] \n",
    "exchanges = ['BINANCE', 'BYBIT', 'FTX', 'HUOBI', 'KUCOIN', 'POLONIEX','KRAKEN']\n",
    "df = pd.read_csv('./1_FedRussianInsiders.csv',names = colnames,header=None)\n",
    "print(df['Cleaned_text'][0])\n",
    "print(df['Text'][0])\n",
    "df.head()"
   ]
  },
  {
   "cell_type": "code",
   "execution_count": 46,
   "metadata": {},
   "outputs": [
    {
     "data": {
      "text/plain": [
       "0      ['🚨MARKET', 'MOVEMENT🚨Despite', 'already', '10...\n",
       "1      ['BTC', 'VIP', 'AnalysisSeptember', '15', '202...\n",
       "2      ['VIP', 'beast', 'aiming', 'closest', 'local',...\n",
       "3      ['🚨MARKET', 'MOVEMENT🚨ProShares', 'BITO', 'BIT...\n",
       "4      ['BTC', 'VIP', 'AnalysisSeptember', '16', '202...\n",
       "                             ...                        \n",
       "175    ['That’s', 'exactly', 'we’re', 'talking', 'say...\n",
       "176    ['🚨MARKET', 'MOVEMENT🚨Tether', 'announced', 'c...\n",
       "177    ['BTC', 'VIP', 'AnalysisNovember', '20', '2022...\n",
       "178                                                    0\n",
       "179    ['Once', 'retesting', 'key', 'mid', 'term', 's...\n",
       "Name: Cleaned_text, Length: 180, dtype: object"
      ]
     },
     "execution_count": 46,
     "metadata": {},
     "output_type": "execute_result"
    }
   ],
   "source": [
    "exchanges = 'Binance|kucoin|bitbuy'\n",
    "conversion = 'usdt|usd|btc|eth'\n",
    "exchangeregex = '|'.join(exchanges)\n",
    "target = ('|').join(['1','2','3'])\n",
    "# coins=''\n",
    "def extractor(i):\n",
    "  text = re.sub('[\\',\\[\\]]', '', i)\n",
    "\n",
    "  if(re.search('({})'.format(conversion),text,re.IGNORECASE) and re.search('target|targets',text,re.IGNORECASE)):    \n",
    "    # print(text)\n",
    "    coin_name=re.findall('(\\w+)(?:usdt|usd|btc|eth)',text,re.IGNORECASE)\n",
    "\n",
    "    conversion_name = re.findall('\\w+({})'.format(conversion),str(text),re.IGNORECASE)\n",
    "\n",
    "    \"\"\"exchange not used\"\"\"\n",
    "    call_exchange = re.findall('\\w+({})'.format(exchanges),text,re.IGNORECASE)\n",
    "    # print(call_exchange)\n",
    "\n",
    "    \"\"\"\"call type not used\"\"\"\n",
    "    call_type = re.findall('sell|buy',text,re.IGNORECASE)\n",
    "\n",
    "    call_duration = re.findall('long|short',text,re.IGNORECASE)\n",
    "    if call_duration: call_duration = call_duration[0]\n",
    "\n",
    "    \"\"\"leverage rarely used\"\"\"    \n",
    "    leverage = re.findall('leverage\\s*(\\d-*\\d*)x',text,re.IGNORECASE)\n",
    "\n",
    "    targets = re.findall(\"target\\s*-*\\s*\\d-*\\s*(\\d.\\d*)\",text,re.IGNORECASE)\n",
    "    \n",
    "    # targets = re.findall(\"(\\d*[.]?\\d*)[ ]?(-)?[ ]?(\\d*[.]?\\d*)[ ]?-[ ]?(\\d*[.]?\\d*)[ ]?-[ ]?(\\d*[.]?\\d*)[ ]?-[ ]?(\\d*[.]?\\d*)\",text,re.IGNORECASE)\n",
    "    # print(targets)\n",
    "\n",
    "    T=dict()\n",
    "    if(targets):\n",
    "      for i in range(len(targets)):\n",
    "        x = 'T'+str(i+1)\n",
    "        T[x]=targets[i]\n",
    "\n",
    "    \"\"\" stop not used \"\"\"\n",
    "    stop_loss = re.findall('Stop\\s*loss(\\d.\\d*)',text,re.IGNORECASE)\n",
    "\n",
    "    with open('./3_FedRussianInsiders.csv', 'a',newline='') as f_object:\n",
    "      writer_object = writer(f_object)\n",
    "      ls = [coin_name,conversion_name,leverage,call_exchange,call_type,call_duration,T,stop_loss]\n",
    "      writer_object.writerow(ls)\n",
    "      f_object.close()\n",
    "  return i\n",
    "  \n",
    "df['Cleaned_text'].apply(extractor)"
   ]
  }
 ],
 "metadata": {
  "kernelspec": {
   "display_name": "Python 3.10.4 64-bit",
   "language": "python",
   "name": "python3"
  },
  "language_info": {
   "codemirror_mode": {
    "name": "ipython",
    "version": 3
   },
   "file_extension": ".py",
   "mimetype": "text/x-python",
   "name": "python",
   "nbconvert_exporter": "python",
   "pygments_lexer": "ipython3",
   "version": "3.10.4"
  },
  "orig_nbformat": 4,
  "vscode": {
   "interpreter": {
    "hash": "d572fee55088b61515265814f82e71c0d56216367d221f2ac084c0d372a9af7e"
   }
  }
 },
 "nbformat": 4,
 "nbformat_minor": 2
}
