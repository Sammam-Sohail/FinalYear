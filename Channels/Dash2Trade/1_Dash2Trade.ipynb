{
 "cells": [
  {
   "cell_type": "code",
   "execution_count": 11,
   "metadata": {},
   "outputs": [],
   "source": [
    "import pandas as pd\n",
    "import re\n",
    "from csv import writer"
   ]
  },
  {
   "cell_type": "code",
   "execution_count": 12,
   "metadata": {},
   "outputs": [
    {
     "name": "stdout",
     "output_type": "stream",
     "text": [
      "['Long', 'KAVAUSDT', 'LEVERAGE', 'Isolated', '10XENTRY', '1.538', '-', '1.521TP1', '1.569TP2', '1.601TP3', '1.631TP4', '1.661STOP', '1.484Use', 'Trailing', 'SL', 'profit']\n",
      "Long : KAVA/USDT LEVERAGE Isolated 10XENTRY 1.538 - 1.521TP1 1.569TP2 1.601TP3 1.631TP4 1.661STOP 1.484(Use Trailing SL when in profit)\n"
     ]
    },
    {
     "data": {
      "text/html": [
       "<div>\n",
       "<style scoped>\n",
       "    .dataframe tbody tr th:only-of-type {\n",
       "        vertical-align: middle;\n",
       "    }\n",
       "\n",
       "    .dataframe tbody tr th {\n",
       "        vertical-align: top;\n",
       "    }\n",
       "\n",
       "    .dataframe thead th {\n",
       "        text-align: right;\n",
       "    }\n",
       "</style>\n",
       "<table border=\"1\" class=\"dataframe\">\n",
       "  <thead>\n",
       "    <tr style=\"text-align: right;\">\n",
       "      <th></th>\n",
       "      <th>Name</th>\n",
       "      <th>Date</th>\n",
       "      <th>Time</th>\n",
       "      <th>Text</th>\n",
       "      <th>Cleaned_text</th>\n",
       "    </tr>\n",
       "  </thead>\n",
       "  <tbody>\n",
       "    <tr>\n",
       "      <th>0</th>\n",
       "      <td>Dash2Trade</td>\n",
       "      <td>2022-09-15</td>\n",
       "      <td>05:37:14</td>\n",
       "      <td>Long : KAVA/USDT LEVERAGE Isolated 10XENTRY 1....</td>\n",
       "      <td>['Long', 'KAVAUSDT', 'LEVERAGE', 'Isolated', '...</td>\n",
       "    </tr>\n",
       "    <tr>\n",
       "      <th>1</th>\n",
       "      <td>Dash2Trade</td>\n",
       "      <td>2022-09-15</td>\n",
       "      <td>05:39:30</td>\n",
       "      <td>Long : KAVA/USDT   LEVERAGE Isolated 10X  ENTR...</td>\n",
       "      <td>['Long', 'KAVAUSDT', 'LEVERAGE', 'Isolated', '...</td>\n",
       "    </tr>\n",
       "    <tr>\n",
       "      <th>2</th>\n",
       "      <td>Dash2Trade</td>\n",
       "      <td>2022-09-15</td>\n",
       "      <td>06:12:05</td>\n",
       "      <td>Long : KAVA/USDT   LEVERAGE Isolated 10X  ENTR...</td>\n",
       "      <td>['Long', 'KAVAUSDT', 'LEVERAGE', 'Isolated', '...</td>\n",
       "    </tr>\n",
       "    <tr>\n",
       "      <th>3</th>\n",
       "      <td>Dash2Trade</td>\n",
       "      <td>2022-09-15</td>\n",
       "      <td>07:15:01</td>\n",
       "      <td>Long : KAVA/USDT   LEVERAGE Isolated 10X  ENTR...</td>\n",
       "      <td>['Long', 'KAVAUSDT', 'LEVERAGE', 'Isolated', '...</td>\n",
       "    </tr>\n",
       "    <tr>\n",
       "      <th>4</th>\n",
       "      <td>Dash2Trade</td>\n",
       "      <td>2022-09-15</td>\n",
       "      <td>15:27:57</td>\n",
       "      <td>ByBit USDT, Binance Futures#COMP/USDT Entry ta...</td>\n",
       "      <td>['ByBit', 'USDT', 'Binance', 'FuturesCOMPUSDT'...</td>\n",
       "    </tr>\n",
       "  </tbody>\n",
       "</table>\n",
       "</div>"
      ],
      "text/plain": [
       "         Name        Date      Time  \\\n",
       "0  Dash2Trade  2022-09-15  05:37:14   \n",
       "1  Dash2Trade  2022-09-15  05:39:30   \n",
       "2  Dash2Trade  2022-09-15  06:12:05   \n",
       "3  Dash2Trade  2022-09-15  07:15:01   \n",
       "4  Dash2Trade  2022-09-15  15:27:57   \n",
       "\n",
       "                                                Text  \\\n",
       "0  Long : KAVA/USDT LEVERAGE Isolated 10XENTRY 1....   \n",
       "1  Long : KAVA/USDT   LEVERAGE Isolated 10X  ENTR...   \n",
       "2  Long : KAVA/USDT   LEVERAGE Isolated 10X  ENTR...   \n",
       "3  Long : KAVA/USDT   LEVERAGE Isolated 10X  ENTR...   \n",
       "4  ByBit USDT, Binance Futures#COMP/USDT Entry ta...   \n",
       "\n",
       "                                        Cleaned_text  \n",
       "0  ['Long', 'KAVAUSDT', 'LEVERAGE', 'Isolated', '...  \n",
       "1  ['Long', 'KAVAUSDT', 'LEVERAGE', 'Isolated', '...  \n",
       "2  ['Long', 'KAVAUSDT', 'LEVERAGE', 'Isolated', '...  \n",
       "3  ['Long', 'KAVAUSDT', 'LEVERAGE', 'Isolated', '...  \n",
       "4  ['ByBit', 'USDT', 'Binance', 'FuturesCOMPUSDT'...  "
      ]
     },
     "execution_count": 12,
     "metadata": {},
     "output_type": "execute_result"
    }
   ],
   "source": [
    "colnames=['Name','Date','Time', 'Text','Cleaned_text'] \n",
    "exchanges = ['BINANCE', 'BYBIT', 'FTX', 'HUOBI', 'KUCOIN', 'POLONIEX','KRAKEN']\n",
    "df = pd.read_csv('./1_Dash2Trade.csv',names = colnames,header=None)\n",
    "print(df['Cleaned_text'][0])\n",
    "print(df['Text'][0])\n",
    "df.head()"
   ]
  },
  {
   "cell_type": "code",
   "execution_count": 23,
   "metadata": {},
   "outputs": [
    {
     "ename": "UnicodeEncodeError",
     "evalue": "'charmap' codec can't encode character '\\U0001d7ed' in position 95: character maps to <undefined>",
     "output_type": "error",
     "traceback": [
      "\u001b[1;31m---------------------------------------------------------------------------\u001b[0m",
      "\u001b[1;31mUnicodeEncodeError\u001b[0m                        Traceback (most recent call last)",
      "Cell \u001b[1;32mIn [23], line 47\u001b[0m\n\u001b[0;32m     43\u001b[0m       f_object\u001b[39m.\u001b[39mclose()\n\u001b[0;32m     45\u001b[0m   \u001b[39mreturn\u001b[39;00m i\n\u001b[1;32m---> 47\u001b[0m df[\u001b[39m'\u001b[39;49m\u001b[39mCleaned_text\u001b[39;49m\u001b[39m'\u001b[39;49m]\u001b[39m.\u001b[39;49mapply(extractor)\n",
      "File \u001b[1;32mc:\\Users\\tedd\\AppData\\Local\\Programs\\Python\\Python310\\lib\\site-packages\\pandas\\core\\series.py:4771\u001b[0m, in \u001b[0;36mSeries.apply\u001b[1;34m(self, func, convert_dtype, args, **kwargs)\u001b[0m\n\u001b[0;32m   4661\u001b[0m \u001b[39mdef\u001b[39;00m \u001b[39mapply\u001b[39m(\n\u001b[0;32m   4662\u001b[0m     \u001b[39mself\u001b[39m,\n\u001b[0;32m   4663\u001b[0m     func: AggFuncType,\n\u001b[1;32m   (...)\u001b[0m\n\u001b[0;32m   4666\u001b[0m     \u001b[39m*\u001b[39m\u001b[39m*\u001b[39mkwargs,\n\u001b[0;32m   4667\u001b[0m ) \u001b[39m-\u001b[39m\u001b[39m>\u001b[39m DataFrame \u001b[39m|\u001b[39m Series:\n\u001b[0;32m   4668\u001b[0m     \u001b[39m\"\"\"\u001b[39;00m\n\u001b[0;32m   4669\u001b[0m \u001b[39m    Invoke function on values of Series.\u001b[39;00m\n\u001b[0;32m   4670\u001b[0m \n\u001b[1;32m   (...)\u001b[0m\n\u001b[0;32m   4769\u001b[0m \u001b[39m    dtype: float64\u001b[39;00m\n\u001b[0;32m   4770\u001b[0m \u001b[39m    \"\"\"\u001b[39;00m\n\u001b[1;32m-> 4771\u001b[0m     \u001b[39mreturn\u001b[39;00m SeriesApply(\u001b[39mself\u001b[39;49m, func, convert_dtype, args, kwargs)\u001b[39m.\u001b[39;49mapply()\n",
      "File \u001b[1;32mc:\\Users\\tedd\\AppData\\Local\\Programs\\Python\\Python310\\lib\\site-packages\\pandas\\core\\apply.py:1105\u001b[0m, in \u001b[0;36mSeriesApply.apply\u001b[1;34m(self)\u001b[0m\n\u001b[0;32m   1102\u001b[0m     \u001b[39mreturn\u001b[39;00m \u001b[39mself\u001b[39m\u001b[39m.\u001b[39mapply_str()\n\u001b[0;32m   1104\u001b[0m \u001b[39m# self.f is Callable\u001b[39;00m\n\u001b[1;32m-> 1105\u001b[0m \u001b[39mreturn\u001b[39;00m \u001b[39mself\u001b[39;49m\u001b[39m.\u001b[39;49mapply_standard()\n",
      "File \u001b[1;32mc:\\Users\\tedd\\AppData\\Local\\Programs\\Python\\Python310\\lib\\site-packages\\pandas\\core\\apply.py:1156\u001b[0m, in \u001b[0;36mSeriesApply.apply_standard\u001b[1;34m(self)\u001b[0m\n\u001b[0;32m   1154\u001b[0m     \u001b[39melse\u001b[39;00m:\n\u001b[0;32m   1155\u001b[0m         values \u001b[39m=\u001b[39m obj\u001b[39m.\u001b[39mastype(\u001b[39mobject\u001b[39m)\u001b[39m.\u001b[39m_values\n\u001b[1;32m-> 1156\u001b[0m         mapped \u001b[39m=\u001b[39m lib\u001b[39m.\u001b[39;49mmap_infer(\n\u001b[0;32m   1157\u001b[0m             values,\n\u001b[0;32m   1158\u001b[0m             f,\n\u001b[0;32m   1159\u001b[0m             convert\u001b[39m=\u001b[39;49m\u001b[39mself\u001b[39;49m\u001b[39m.\u001b[39;49mconvert_dtype,\n\u001b[0;32m   1160\u001b[0m         )\n\u001b[0;32m   1162\u001b[0m \u001b[39mif\u001b[39;00m \u001b[39mlen\u001b[39m(mapped) \u001b[39mand\u001b[39;00m \u001b[39misinstance\u001b[39m(mapped[\u001b[39m0\u001b[39m], ABCSeries):\n\u001b[0;32m   1163\u001b[0m     \u001b[39m# GH#43986 Need to do list(mapped) in order to get treated as nested\u001b[39;00m\n\u001b[0;32m   1164\u001b[0m     \u001b[39m#  See also GH#25959 regarding EA support\u001b[39;00m\n\u001b[0;32m   1165\u001b[0m     \u001b[39mreturn\u001b[39;00m obj\u001b[39m.\u001b[39m_constructor_expanddim(\u001b[39mlist\u001b[39m(mapped), index\u001b[39m=\u001b[39mobj\u001b[39m.\u001b[39mindex)\n",
      "File \u001b[1;32mc:\\Users\\tedd\\AppData\\Local\\Programs\\Python\\Python310\\lib\\site-packages\\pandas\\_libs\\lib.pyx:2918\u001b[0m, in \u001b[0;36mpandas._libs.lib.map_infer\u001b[1;34m()\u001b[0m\n",
      "Cell \u001b[1;32mIn [23], line 42\u001b[0m, in \u001b[0;36mextractor\u001b[1;34m(i)\u001b[0m\n\u001b[0;32m     40\u001b[0m     writer_object \u001b[39m=\u001b[39m writer(f_object)\n\u001b[0;32m     41\u001b[0m     ls \u001b[39m=\u001b[39m [coin_name,conversion_name,leverage,call_exchange,call_type,call_duration,T,stop_loss]\n\u001b[1;32m---> 42\u001b[0m     writer_object\u001b[39m.\u001b[39;49mwriterow(ls)\n\u001b[0;32m     43\u001b[0m     f_object\u001b[39m.\u001b[39mclose()\n\u001b[0;32m     45\u001b[0m \u001b[39mreturn\u001b[39;00m i\n",
      "File \u001b[1;32mc:\\Users\\tedd\\AppData\\Local\\Programs\\Python\\Python310\\lib\\encodings\\cp1252.py:19\u001b[0m, in \u001b[0;36mIncrementalEncoder.encode\u001b[1;34m(self, input, final)\u001b[0m\n\u001b[0;32m     18\u001b[0m \u001b[39mdef\u001b[39;00m \u001b[39mencode\u001b[39m(\u001b[39mself\u001b[39m, \u001b[39minput\u001b[39m, final\u001b[39m=\u001b[39m\u001b[39mFalse\u001b[39;00m):\n\u001b[1;32m---> 19\u001b[0m     \u001b[39mreturn\u001b[39;00m codecs\u001b[39m.\u001b[39;49mcharmap_encode(\u001b[39minput\u001b[39;49m,\u001b[39mself\u001b[39;49m\u001b[39m.\u001b[39;49merrors,encoding_table)[\u001b[39m0\u001b[39m]\n",
      "\u001b[1;31mUnicodeEncodeError\u001b[0m: 'charmap' codec can't encode character '\\U0001d7ed' in position 95: character maps to <undefined>"
     ]
    }
   ],
   "source": [
    "exchanges = 'Binance|kucoin|bitbuy'\n",
    "conversion = 'usdt|usd|btc|eth'\n",
    "exchangeregex = '|'.join(exchanges)\n",
    "target = ('|').join(['1','2','3'])\n",
    "# coins=''\n",
    "def extractor(i):\n",
    "  text = re.sub('[\\',\\[\\]]', '', i)\n",
    "\n",
    "  if(re.search('signal|leverage',text,re.IGNORECASE) and re.search('target|targets',text,re.IGNORECASE)):    \n",
    "\n",
    "    coin_name=re.findall('(\\w+)(?:usdt|usd|btc|eth)',text,re.IGNORECASE)\n",
    "\n",
    "    conversion_name = re.findall('\\w+({})'.format(conversion),str(text),re.IGNORECASE)\n",
    "\n",
    "    \"\"\"exchange not used\"\"\"\n",
    "    call_exchange = re.findall('\\w+({})'.format(exchanges),text,re.IGNORECASE)\n",
    "\n",
    "    \"\"\"call_type not used\"\"\"\n",
    "    call_type = re.findall('sell|buy',text,re.IGNORECASE)\n",
    "\n",
    "    call_duration = re.findall('long|short',text,re.IGNORECASE)\n",
    "\n",
    "    # targets = re.findall(\"(\\d*[.]?\\d*)[ ]?(-)?[ ]?(\\d*[.]?\\d*)[ ]?-[ ]?(\\d*[.]?\\d*)[ ]?-[ ]?(\\d*[.]?\\d*)[ ]?-[ ]?(\\d*[.]?\\d*)\",text,re.IGNORECASE)\n",
    "    \"\"\"some targets are not extracted although format is same \"\"\"\n",
    "    T={}\n",
    "    # targets = re.findall(\"Target[s]*[ ]*(.*?)[a-zA-Z]\",text,re.IGNORECASE)\n",
    "    targets=re.findall(r'targets\\s*\\d\\s*(\\d.\\d*)\\s*\\d\\s*(\\d.\\d*)\\s*\\d\\s*(\\d.\\d*)\\s*\\d\\s*(\\d.\\d*)',text,re.IGNORECASE)\n",
    "        \n",
    "    \n",
    "    if targets:\n",
    "      for x in range(len(targets[0])):\n",
    "        T['T'+str(x+1)]=targets[0][x]\n",
    "\n",
    "    leverage = re.findall('[ ]*[-]*[ ]*(\\d+)x',text,re.IGNORECASE)\n",
    "\n",
    "    \"\"\" stop loss not used that much\"\"\"\n",
    "    stop_loss = re.findall('stop\\s*-*\\s*loss\\s*-*\\s*(\\d.\\d*)',text,re.IGNORECASE)\n",
    "\n",
    "    with open('./2_Dash2Trade.csv', 'a',newline='') as f_object:\n",
    "      writer_object = writer(f_object)\n",
    "      ls = [coin_name,conversion_name,leverage,call_exchange,call_type,call_duration,T,stop_loss]\n",
    "      writer_object.writerow(ls)\n",
    "      f_object.close()\n",
    "\n",
    "  return i\n",
    "  \n",
    "df['Cleaned_text'].apply(extractor)"
   ]
  }
 ],
 "metadata": {
  "kernelspec": {
   "display_name": "Python 3.10.4 64-bit",
   "language": "python",
   "name": "python3"
  },
  "language_info": {
   "codemirror_mode": {
    "name": "ipython",
    "version": 3
   },
   "file_extension": ".py",
   "mimetype": "text/x-python",
   "name": "python",
   "nbconvert_exporter": "python",
   "pygments_lexer": "ipython3",
   "version": "3.10.4"
  },
  "orig_nbformat": 4,
  "vscode": {
   "interpreter": {
    "hash": "d572fee55088b61515265814f82e71c0d56216367d221f2ac084c0d372a9af7e"
   }
  }
 },
 "nbformat": 4,
 "nbformat_minor": 2
}
