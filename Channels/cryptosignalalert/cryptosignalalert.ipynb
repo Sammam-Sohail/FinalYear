{
 "cells": [
  {
   "cell_type": "code",
   "execution_count": 14,
   "metadata": {},
   "outputs": [],
   "source": [
    "import pandas as pd\n",
    "import re\n",
    "from csv import writer"
   ]
  },
  {
   "cell_type": "code",
   "execution_count": 3,
   "metadata": {},
   "outputs": [
    {
     "name": "stdout",
     "output_type": "stream",
     "text": [
      "['🚀🚀30', 'Profit', 'CFX', 'Premium', 'Members', 'Binance', '-', 'Trade', 'already', 'closed👆🏻👆🏻As', 'see', 'Premium', 'Members', 'continue', 'make', 'great', 'profit👁\\u200d🗨You', 'always', 'contact', 'cripexperts', 'enter', 'Premium', 'Group', 'make', 'daily', 'gain', 'Spot', 'Futures', 'Market']\n",
      "🚀🚀30% Profit on #CFX for our Premium Members on Binance - Trade has already been closed👆🏻👆🏻As you can see our Premium Members just continue to make great profit👁‍🗨You can always contact @cripexperts to enter the Premium Group & make daily gains on Spot & Futures Market\n"
     ]
    },
    {
     "data": {
      "text/html": [
       "<div>\n",
       "<style scoped>\n",
       "    .dataframe tbody tr th:only-of-type {\n",
       "        vertical-align: middle;\n",
       "    }\n",
       "\n",
       "    .dataframe tbody tr th {\n",
       "        vertical-align: top;\n",
       "    }\n",
       "\n",
       "    .dataframe thead th {\n",
       "        text-align: right;\n",
       "    }\n",
       "</style>\n",
       "<table border=\"1\" class=\"dataframe\">\n",
       "  <thead>\n",
       "    <tr style=\"text-align: right;\">\n",
       "      <th></th>\n",
       "      <th>Name</th>\n",
       "      <th>Date</th>\n",
       "      <th>Time</th>\n",
       "      <th>Text</th>\n",
       "      <th>Cleaned_text</th>\n",
       "    </tr>\n",
       "  </thead>\n",
       "  <tbody>\n",
       "    <tr>\n",
       "      <th>0</th>\n",
       "      <td>cryptosignalalert</td>\n",
       "      <td>2022-09-15</td>\n",
       "      <td>09:00:31</td>\n",
       "      <td>🚀🚀30% Profit on #CFX for our Premium Members o...</td>\n",
       "      <td>['🚀🚀30', 'Profit', 'CFX', 'Premium', 'Members'...</td>\n",
       "    </tr>\n",
       "    <tr>\n",
       "      <th>1</th>\n",
       "      <td>cryptosignalalert</td>\n",
       "      <td>2022-09-15</td>\n",
       "      <td>11:00:12</td>\n",
       "      <td>🚀🚀2nd Target profit successfully Completed on ...</td>\n",
       "      <td>['🚀🚀2nd', 'Target', 'profit', 'successfully', ...</td>\n",
       "    </tr>\n",
       "    <tr>\n",
       "      <th>2</th>\n",
       "      <td>cryptosignalalert</td>\n",
       "      <td>2022-09-15</td>\n",
       "      <td>12:22:01</td>\n",
       "      <td>Free SignalBuy #JASMY/USDT around 8480 - 8420L...</td>\n",
       "      <td>['Free', 'SignalBuy', 'JASMYUSDT', 'around', '...</td>\n",
       "    </tr>\n",
       "    <tr>\n",
       "      <th>3</th>\n",
       "      <td>cryptosignalalert</td>\n",
       "      <td>2022-09-15</td>\n",
       "      <td>14:07:46</td>\n",
       "      <td>🚀🚀8% Profit on #NULS for our Premium Members o...</td>\n",
       "      <td>['🚀🚀8', 'Profit', 'NULS', 'Premium', 'Members'...</td>\n",
       "    </tr>\n",
       "    <tr>\n",
       "      <th>4</th>\n",
       "      <td>cryptosignalalert</td>\n",
       "      <td>2022-09-15</td>\n",
       "      <td>19:34:20</td>\n",
       "      <td>🚀🚀14% Profit on #FIDA for our Premium Members ...</td>\n",
       "      <td>['🚀🚀14', 'Profit', 'FIDA', 'Premium', 'Members...</td>\n",
       "    </tr>\n",
       "  </tbody>\n",
       "</table>\n",
       "</div>"
      ],
      "text/plain": [
       "                Name        Date      Time  \\\n",
       "0  cryptosignalalert  2022-09-15  09:00:31   \n",
       "1  cryptosignalalert  2022-09-15  11:00:12   \n",
       "2  cryptosignalalert  2022-09-15  12:22:01   \n",
       "3  cryptosignalalert  2022-09-15  14:07:46   \n",
       "4  cryptosignalalert  2022-09-15  19:34:20   \n",
       "\n",
       "                                                Text  \\\n",
       "0  🚀🚀30% Profit on #CFX for our Premium Members o...   \n",
       "1  🚀🚀2nd Target profit successfully Completed on ...   \n",
       "2  Free SignalBuy #JASMY/USDT around 8480 - 8420L...   \n",
       "3  🚀🚀8% Profit on #NULS for our Premium Members o...   \n",
       "4  🚀🚀14% Profit on #FIDA for our Premium Members ...   \n",
       "\n",
       "                                        Cleaned_text  \n",
       "0  ['🚀🚀30', 'Profit', 'CFX', 'Premium', 'Members'...  \n",
       "1  ['🚀🚀2nd', 'Target', 'profit', 'successfully', ...  \n",
       "2  ['Free', 'SignalBuy', 'JASMYUSDT', 'around', '...  \n",
       "3  ['🚀🚀8', 'Profit', 'NULS', 'Premium', 'Members'...  \n",
       "4  ['🚀🚀14', 'Profit', 'FIDA', 'Premium', 'Members...  "
      ]
     },
     "execution_count": 3,
     "metadata": {},
     "output_type": "execute_result"
    }
   ],
   "source": [
    "colnames=['Name','Date','Time', 'Text','Cleaned_text'] \n",
    "exchanges = ['BINANCE', 'BYBIT', 'FTX', 'HUOBI', 'KUCOIN', 'POLONIEX','KRAKEN']\n",
    "df = pd.read_csv('./1_cryptosignalalert.csv',names = colnames,header=None)\n",
    "print(df['Cleaned_text'][0])\n",
    "print(df['Text'][0])\n",
    "df.head()"
   ]
  },
  {
   "cell_type": "code",
   "execution_count": 15,
   "metadata": {},
   "outputs": [
    {
     "data": {
      "text/plain": [
       "0      ['🚀🚀30', 'Profit', 'CFX', 'Premium', 'Members'...\n",
       "1      ['🚀🚀2nd', 'Target', 'profit', 'successfully', ...\n",
       "2      ['Free', 'SignalBuy', 'JASMYUSDT', 'around', '...\n",
       "3      ['🚀🚀8', 'Profit', 'NULS', 'Premium', 'Members'...\n",
       "4      ['🚀🚀14', 'Profit', 'FIDA', 'Premium', 'Members...\n",
       "                             ...                        \n",
       "789    ['🎈Avail', 'SPECIAL', 'BLACK', 'FRIDAY', 'DEAL...\n",
       "790    ['🚀🚀20', 'Profit', 'MDTUSDT', 'Premium', 'Memb...\n",
       "791    ['🚀🚀🚀13', 'Profit', 'RAREUSDT', 'premium', 'Me...\n",
       "792    ['🚀🚀25', 'Profit', 'FIDAUSDT', 'premium', 'mem...\n",
       "793    ['Free', 'SignalBuy', 'IOTAUSDT', 'around', '2...\n",
       "Name: Cleaned_text, Length: 794, dtype: object"
      ]
     },
     "execution_count": 15,
     "metadata": {},
     "output_type": "execute_result"
    }
   ],
   "source": [
    "exchanges = 'Binance|kucoin|bitbuy'\n",
    "conversion = 'usdt|usd|btc|eth'\n",
    "exchangeregex = '|'.join(exchanges)\n",
    "target = ('|').join(['1','2','3'])\n",
    "# coins=''\n",
    "def extractor(i):\n",
    "  text = re.sub('[\\',\\[\\]]', '', i)\n",
    "  if(re.search('\\w+({})'.format(conversion),text,re.IGNORECASE) and re.search('(target[s]?)+',text,re.IGNORECASE) and re.search('leverage',text,re.IGNORECASE)):    \n",
    "    # print(text)\n",
    "\n",
    "    coin_name = re.search('(\\w+){}'.format(conversion),str(text),re.IGNORECASE).group()\n",
    "    conversion_name = re.findall('\\w+({})'.format(conversion),str(text),re.IGNORECASE)\n",
    "    \n",
    "    \"\"\"exchange not used\"\"\"\n",
    "    call_exchange = re.findall('\\w+({})'.format(exchanges),text,re.IGNORECASE)\n",
    "    \n",
    "    call_type = re.findall('sell|buy',text,re.IGNORECASE)\n",
    "    \n",
    "    \"\"\"duration not used that much\"\"\"\n",
    "    call_duration = re.findall('long|short',text,re.IGNORECASE)\n",
    "\n",
    "    leverage = re.findall('[ ]*[-]*[ ]*(\\d+)x',text,re.IGNORECASE)\n",
    "\n",
    "    \"\"\"current not given, around is given\"\"\"\n",
    "    # current_value=re.findall('')\n",
    "    \n",
    "    # targets = re.findall(\"(\\d*[.]?\\d*)[ ]?(-)?[ ]?(\\d*[.]?\\d*)[ ]?-[ ]?(\\d*[.]?\\d*)[ ]?-[ ]?(\\d*[.]?\\d*)[ ]?-[ ]?(\\d*[.]?\\d*)\",text,re.IGNORECASE)\n",
    "    \"\"\"\"\"\"\n",
    "    T=dict()\n",
    "    targets=re.findall(r'target\\w*\\s*(\\d.\\d*)\\s*-*\\s*(\\d.\\d*)\\s*-*\\s*(\\d.\\d*)\\s*-*\\s*(\\d.\\d*)',text,re.IGNORECASE)\n",
    "    if (targets):\n",
    "      T1 = targets[0][0]\n",
    "      T2 = targets[0][1]\n",
    "      T3 = targets[0][2]\n",
    "      T4 = targets[0][3]\n",
    "      T = {'T1':T1,'T2':T2,'T3':T3,'T4':T4}\n",
    "      # print(targets)\n",
    "\n",
    "    \"\"\" stop loss used in some having different format\"\"\"\n",
    "    stop_loss = re.findall('stop\\s*loss\\s*[-]*\\s*(\\d.\\d*)',text,re.IGNORECASE)\n",
    "    \n",
    "    with open('./3_cryptosignalalert.csv', 'a',newline='') as f_object:\n",
    "      writer_object = writer(f_object)\n",
    "      ls = [coin_name,conversion_name,leverage,call_exchange,call_type,call_duration,T,stop_loss]\n",
    "      writer_object.writerow(ls)\n",
    "      f_object.close()\n",
    "    # print(coin_name,conversion_name,leverage,call_exchange,call_type,call_duration,targets,stop_loss)\n",
    "  return i\n",
    "  \n",
    "df['Cleaned_text'].apply(extractor)"
   ]
  },
  {
   "cell_type": "code",
   "execution_count": null,
   "metadata": {},
   "outputs": [],
   "source": []
  },
  {
   "cell_type": "code",
   "execution_count": null,
   "metadata": {},
   "outputs": [],
   "source": []
  }
 ],
 "metadata": {
  "kernelspec": {
   "display_name": "Python 3.10.4 64-bit",
   "language": "python",
   "name": "python3"
  },
  "language_info": {
   "codemirror_mode": {
    "name": "ipython",
    "version": 3
   },
   "file_extension": ".py",
   "mimetype": "text/x-python",
   "name": "python",
   "nbconvert_exporter": "python",
   "pygments_lexer": "ipython3",
   "version": "3.10.4"
  },
  "orig_nbformat": 4,
  "vscode": {
   "interpreter": {
    "hash": "d572fee55088b61515265814f82e71c0d56216367d221f2ac084c0d372a9af7e"
   }
  }
 },
 "nbformat": 4,
 "nbformat_minor": 2
}
