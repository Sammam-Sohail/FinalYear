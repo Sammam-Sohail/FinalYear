{
 "cells": [
  {
   "cell_type": "code",
   "execution_count": 1,
   "metadata": {},
   "outputs": [],
   "source": [
    "import pandas as pd\n",
    "import re\n",
    "from csv import writer"
   ]
  },
  {
   "cell_type": "code",
   "execution_count": 3,
   "metadata": {},
   "outputs": [
    {
     "name": "stdout",
     "output_type": "stream",
     "text": [
      "['📊', 'Price', 'Action', 'suggesting', 'DUMP', '📉🕗', 'Funding', 'Rate', 'saying', 'small', 'Pump', 'Dump', '📉Short', 'two', 'entry', 'points.', 'Keep', 'Risk', 'Control']\n",
      "📊 Price Action is suggesting DUMP 📉🕗 Funding Rate is saying small Pump before Dump 📉Short with two entry points. Keep Risk under Control!!\n"
     ]
    },
    {
     "data": {
      "text/html": [
       "<div>\n",
       "<style scoped>\n",
       "    .dataframe tbody tr th:only-of-type {\n",
       "        vertical-align: middle;\n",
       "    }\n",
       "\n",
       "    .dataframe tbody tr th {\n",
       "        vertical-align: top;\n",
       "    }\n",
       "\n",
       "    .dataframe thead th {\n",
       "        text-align: right;\n",
       "    }\n",
       "</style>\n",
       "<table border=\"1\" class=\"dataframe\">\n",
       "  <thead>\n",
       "    <tr style=\"text-align: right;\">\n",
       "      <th></th>\n",
       "      <th>Name</th>\n",
       "      <th>Date</th>\n",
       "      <th>Time</th>\n",
       "      <th>Text</th>\n",
       "      <th>Cleaned_text</th>\n",
       "    </tr>\n",
       "  </thead>\n",
       "  <tbody>\n",
       "    <tr>\n",
       "      <th>0</th>\n",
       "      <td>coin_signals</td>\n",
       "      <td>2022-09-15</td>\n",
       "      <td>05:13:04</td>\n",
       "      <td>📊 Price Action is suggesting DUMP 📉🕗 Funding R...</td>\n",
       "      <td>['📊', 'Price', 'Action', 'suggesting', 'DUMP',...</td>\n",
       "    </tr>\n",
       "    <tr>\n",
       "      <th>1</th>\n",
       "      <td>coin_signals</td>\n",
       "      <td>2022-09-15</td>\n",
       "      <td>05:31:24</td>\n",
       "      <td>🐳 Huge inflow to exchanges coming from:1) Nexo...</td>\n",
       "      <td>['🐳', 'Huge', 'inflow', 'exchange', 'coming', ...</td>\n",
       "    </tr>\n",
       "    <tr>\n",
       "      <th>2</th>\n",
       "      <td>coin_signals</td>\n",
       "      <td>2022-09-15</td>\n",
       "      <td>15:02:51</td>\n",
       "      <td>📊 Price Action is suggesting DUMP 📉 🕗 Funding ...</td>\n",
       "      <td>['📊', 'Price', 'Action', 'suggesting', 'DUMP',...</td>\n",
       "    </tr>\n",
       "    <tr>\n",
       "      <th>3</th>\n",
       "      <td>coin_signals</td>\n",
       "      <td>2022-09-15</td>\n",
       "      <td>15:03:09</td>\n",
       "      <td>📊 Shorting SOL to $30 - $25</td>\n",
       "      <td>['📊', 'Shorting', 'SOL', '30', '-', '25']</td>\n",
       "    </tr>\n",
       "    <tr>\n",
       "      <th>4</th>\n",
       "      <td>coin_signals</td>\n",
       "      <td>2022-09-16</td>\n",
       "      <td>11:43:11</td>\n",
       "      <td>📊 RSR heading for breakout 🚀</td>\n",
       "      <td>['📊', 'RSR', 'heading', 'breakout', '🚀']</td>\n",
       "    </tr>\n",
       "  </tbody>\n",
       "</table>\n",
       "</div>"
      ],
      "text/plain": [
       "           Name        Date      Time  \\\n",
       "0  coin_signals  2022-09-15  05:13:04   \n",
       "1  coin_signals  2022-09-15  05:31:24   \n",
       "2  coin_signals  2022-09-15  15:02:51   \n",
       "3  coin_signals  2022-09-15  15:03:09   \n",
       "4  coin_signals  2022-09-16  11:43:11   \n",
       "\n",
       "                                                Text  \\\n",
       "0  📊 Price Action is suggesting DUMP 📉🕗 Funding R...   \n",
       "1  🐳 Huge inflow to exchanges coming from:1) Nexo...   \n",
       "2  📊 Price Action is suggesting DUMP 📉 🕗 Funding ...   \n",
       "3                        📊 Shorting SOL to $30 - $25   \n",
       "4                       📊 RSR heading for breakout 🚀   \n",
       "\n",
       "                                        Cleaned_text  \n",
       "0  ['📊', 'Price', 'Action', 'suggesting', 'DUMP',...  \n",
       "1  ['🐳', 'Huge', 'inflow', 'exchange', 'coming', ...  \n",
       "2  ['📊', 'Price', 'Action', 'suggesting', 'DUMP',...  \n",
       "3          ['📊', 'Shorting', 'SOL', '30', '-', '25']  \n",
       "4           ['📊', 'RSR', 'heading', 'breakout', '🚀']  "
      ]
     },
     "execution_count": 3,
     "metadata": {},
     "output_type": "execute_result"
    }
   ],
   "source": [
    "colnames=['Name','Date','Time', 'Text','Cleaned_text'] \n",
    "exchanges = ['BINANCE', 'BYBIT', 'FTX', 'HUOBI', 'KUCOIN', 'POLONIEX','KRAKEN']\n",
    "df = pd.read_csv('./1_coin_signals.csv',names = colnames,header=None)\n",
    "print(df['Cleaned_text'][0])\n",
    "print(df['Text'][0])\n",
    "df.head()"
   ]
  },
  {
   "cell_type": "code",
   "execution_count": 66,
   "metadata": {},
   "outputs": [
    {
     "data": {
      "text/plain": [
       "0      ['📊', 'Price', 'Action', 'suggesting', 'DUMP',...\n",
       "1      ['🐳', 'Huge', 'inflow', 'exchange', 'coming', ...\n",
       "2      ['📊', 'Price', 'Action', 'suggesting', 'DUMP',...\n",
       "3              ['📊', 'Shorting', 'SOL', '30', '-', '25']\n",
       "4               ['📊', 'RSR', 'heading', 'breakout', '🚀']\n",
       "                             ...                        \n",
       "165    ['💰', 'NEAR', 'hit', '2nd', 'Target', '400', '...\n",
       "166    ['➡️', 'SHORT', 'ENSUSDT', '❇️', 'Entry', '13....\n",
       "167    ['➡️', 'SHORT', 'DOTUSDT', '❇️', 'Entry', '5.9...\n",
       "168    ['➡️', 'SHORT', 'SOLUSDT', '❇️', 'Entry', '13....\n",
       "169    ['➡️', 'SHORT', 'SOLUSDT', '❇️', 'Entry', '13....\n",
       "Name: Cleaned_text, Length: 170, dtype: object"
      ]
     },
     "execution_count": 66,
     "metadata": {},
     "output_type": "execute_result"
    }
   ],
   "source": [
    "exchanges = 'Binance|kucoin|bitbuy'\n",
    "conversion = 'usdt|usd|btc|eth'\n",
    "exchangeregex = '|'.join(exchanges)\n",
    "target = ('|').join(['1','2','3'])\n",
    "# coins=''\n",
    "def extractor(i):\n",
    "  text = re.sub('[\\',\\[\\]]', '', i)\n",
    "\n",
    "  if(re.search('\\w+({})'.format(conversion),text,re.IGNORECASE) and re.search('target\\w*',text,re.IGNORECASE)):    \n",
    "    # print(text)\n",
    "    coin_name=re.findall('(\\w+)(?:usdt|usd|btc|eth)',text,re.IGNORECASE)\n",
    "    \n",
    "    conversion_name = re.findall('\\w+({})'.format(conversion),str(text),re.IGNORECASE)\n",
    "\n",
    "    \"\"\"exchange not used\"\"\"\n",
    "    call_exchange = re.findall('\\w+({})'.format(exchanges),text,re.IGNORECASE)\n",
    "\n",
    "    \"\"\"\"call type not used\"\"\"\n",
    "    call_type = re.findall('sell|buy',text,re.IGNORECASE)\n",
    "\n",
    "    call_duration = re.findall('long|short',text,re.IGNORECASE)\n",
    "    \n",
    "    # \"\"\"current not given around is given\"\"\"\n",
    "    # current_value=re.findall('')\n",
    "    \n",
    "    leverage = re.findall('[ ]*[-]*[ ]*(\\d+)x',text,re.IGNORECASE)\n",
    "    \n",
    "    # targets = re.findall(\"(\\d*[.]?\\d*)[ ]?(-)?[ ]?(\\d*[.]?\\d*)[ ]?-[ ]?(\\d*[.]?\\d*)[ ]?-[ ]?(\\d*[.]?\\d*)[ ]?-[ ]?(\\d*[.]?\\d*)\",text,re.IGNORECASE)\n",
    "    \"\"\"some targets are not extracted although format is same \"\"\"\n",
    "    T=dict()\n",
    "    targets=re.findall(r'target\\s*[0-9]\\s*(\\d.\\d*)',text,re.IGNORECASE)\n",
    "    if(targets):\n",
    "      T['T1']=targets[0]\n",
    "      T['T2']=targets[1]\n",
    "      T['T3']=targets[2]\n",
    "      T['T4']=targets[3]\n",
    "\n",
    "    \"\"\" stop loss used rarely also without value\"\"\"\n",
    "    stop_loss = re.findall('Stoploss\\s*(\\d.\\d*)',text,re.IGNORECASE)\n",
    "\n",
    "    with open('./3_coin_signals.csv', 'a',newline='') as f_object:\n",
    "      writer_object = writer(f_object)\n",
    "      ls = [coin_name,conversion_name,leverage,call_exchange,call_type,call_duration,T,stop_loss]\n",
    "      writer_object.writerow(ls)\n",
    "      f_object.close()\n",
    "  return i\n",
    "  \n",
    "df['Cleaned_text'].apply(extractor)"
   ]
  }
 ],
 "metadata": {
  "kernelspec": {
   "display_name": "Python 3.10.4 64-bit",
   "language": "python",
   "name": "python3"
  },
  "language_info": {
   "codemirror_mode": {
    "name": "ipython",
    "version": 3
   },
   "file_extension": ".py",
   "mimetype": "text/x-python",
   "name": "python",
   "nbconvert_exporter": "python",
   "pygments_lexer": "ipython3",
   "version": "3.10.4"
  },
  "orig_nbformat": 4,
  "vscode": {
   "interpreter": {
    "hash": "d572fee55088b61515265814f82e71c0d56216367d221f2ac084c0d372a9af7e"
   }
  }
 },
 "nbformat": 4,
 "nbformat_minor": 2
}
