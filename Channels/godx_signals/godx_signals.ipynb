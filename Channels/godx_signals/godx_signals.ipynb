{
 "cells": [
  {
   "cell_type": "code",
   "execution_count": 2,
   "metadata": {},
   "outputs": [],
   "source": [
    "import pandas as pd\n",
    "import re\n",
    "from csv import writer"
   ]
  },
  {
   "cell_type": "code",
   "execution_count": 4,
   "metadata": {},
   "outputs": [
    {
     "name": "stdout",
     "output_type": "stream",
     "text": [
      "['UNFIUSDT📈', 'BUYLONGENTRY', '5.875-5.887💎TP1', '5.9750💎TP2', '6.069💎ТР3', '6.254❌SL', '5.714Leverage', '15x']\n",
      "UNFI/USDT📈 BUY/LONGENTRY: 5.875-5.887💎TP1: 5.9750💎TP2: 6.069💎ТР3: 6.254❌SL: 5.714Leverage 15x\n"
     ]
    },
    {
     "data": {
      "text/html": [
       "<div>\n",
       "<style scoped>\n",
       "    .dataframe tbody tr th:only-of-type {\n",
       "        vertical-align: middle;\n",
       "    }\n",
       "\n",
       "    .dataframe tbody tr th {\n",
       "        vertical-align: top;\n",
       "    }\n",
       "\n",
       "    .dataframe thead th {\n",
       "        text-align: right;\n",
       "    }\n",
       "</style>\n",
       "<table border=\"1\" class=\"dataframe\">\n",
       "  <thead>\n",
       "    <tr style=\"text-align: right;\">\n",
       "      <th></th>\n",
       "      <th>Name</th>\n",
       "      <th>Date</th>\n",
       "      <th>Time</th>\n",
       "      <th>Text</th>\n",
       "      <th>Cleaned_text</th>\n",
       "    </tr>\n",
       "  </thead>\n",
       "  <tbody>\n",
       "    <tr>\n",
       "      <th>0</th>\n",
       "      <td>godx_signals</td>\n",
       "      <td>2022-10-11</td>\n",
       "      <td>06:45:25</td>\n",
       "      <td>UNFI/USDT📈 BUY/LONGENTRY: 5.875-5.887💎TP1: 5.9...</td>\n",
       "      <td>['UNFIUSDT📈', 'BUYLONGENTRY', '5.875-5.887💎TP1...</td>\n",
       "    </tr>\n",
       "    <tr>\n",
       "      <th>1</th>\n",
       "      <td>godx_signals</td>\n",
       "      <td>2022-10-11</td>\n",
       "      <td>15:47:12</td>\n",
       "      <td>UNFI/USDT📈 BUY/LONG  ENTRY: 5.875-5.887  💎TP1:...</td>\n",
       "      <td>['UNFIUSDT📈', 'BUYLONG', 'ENTRY', '5.875-5.887...</td>\n",
       "    </tr>\n",
       "    <tr>\n",
       "      <th>2</th>\n",
       "      <td>godx_signals</td>\n",
       "      <td>2022-10-11</td>\n",
       "      <td>15:50:03</td>\n",
       "      <td>New trader statistic.💎 LAST 4 TRADES: 💎LINK/US...</td>\n",
       "      <td>['New', 'trader', 'statistic.💎', 'LAST', '4', ...</td>\n",
       "    </tr>\n",
       "    <tr>\n",
       "      <th>3</th>\n",
       "      <td>godx_signals</td>\n",
       "      <td>2022-10-12</td>\n",
       "      <td>11:28:08</td>\n",
       "      <td>REN/USDT📈 BUY/LONGENTRY: 0.1143-0.1146💎TP1: 0....</td>\n",
       "      <td>['RENUSDT📈', 'BUYLONGENTRY', '0.1143-0.1146💎TP...</td>\n",
       "    </tr>\n",
       "    <tr>\n",
       "      <th>4</th>\n",
       "      <td>godx_signals</td>\n",
       "      <td>2022-10-12</td>\n",
       "      <td>17:00:11</td>\n",
       "      <td>Tomorrow at 12:30 pm GMT CPI report is also co...</td>\n",
       "      <td>['Tomorrow', '1230', 'pm', 'GMT', 'CPI', 'repo...</td>\n",
       "    </tr>\n",
       "  </tbody>\n",
       "</table>\n",
       "</div>"
      ],
      "text/plain": [
       "           Name        Date      Time  \\\n",
       "0  godx_signals  2022-10-11  06:45:25   \n",
       "1  godx_signals  2022-10-11  15:47:12   \n",
       "2  godx_signals  2022-10-11  15:50:03   \n",
       "3  godx_signals  2022-10-12  11:28:08   \n",
       "4  godx_signals  2022-10-12  17:00:11   \n",
       "\n",
       "                                                Text  \\\n",
       "0  UNFI/USDT📈 BUY/LONGENTRY: 5.875-5.887💎TP1: 5.9...   \n",
       "1  UNFI/USDT📈 BUY/LONG  ENTRY: 5.875-5.887  💎TP1:...   \n",
       "2  New trader statistic.💎 LAST 4 TRADES: 💎LINK/US...   \n",
       "3  REN/USDT📈 BUY/LONGENTRY: 0.1143-0.1146💎TP1: 0....   \n",
       "4  Tomorrow at 12:30 pm GMT CPI report is also co...   \n",
       "\n",
       "                                        Cleaned_text  \n",
       "0  ['UNFIUSDT📈', 'BUYLONGENTRY', '5.875-5.887💎TP1...  \n",
       "1  ['UNFIUSDT📈', 'BUYLONG', 'ENTRY', '5.875-5.887...  \n",
       "2  ['New', 'trader', 'statistic.💎', 'LAST', '4', ...  \n",
       "3  ['RENUSDT📈', 'BUYLONGENTRY', '0.1143-0.1146💎TP...  \n",
       "4  ['Tomorrow', '1230', 'pm', 'GMT', 'CPI', 'repo...  "
      ]
     },
     "execution_count": 4,
     "metadata": {},
     "output_type": "execute_result"
    }
   ],
   "source": [
    "colnames=['Name','Date','Time', 'Text','Cleaned_text'] \n",
    "exchanges = ['BINANCE', 'BYBIT', 'FTX', 'HUOBI', 'KUCOIN', 'POLONIEX','KRAKEN']\n",
    "df = pd.read_csv('./1_godx_signals.csv',names = colnames,header=None)\n",
    "print(df['Cleaned_text'][0])\n",
    "print(df['Text'][0])\n",
    "df.head()"
   ]
  },
  {
   "cell_type": "code",
   "execution_count": 35,
   "metadata": {},
   "outputs": [
    {
     "name": "stdout",
     "output_type": "stream",
     "text": [
      "[]\n",
      "[]\n",
      "[]\n",
      "[]\n",
      "[]\n",
      "[]\n",
      "[]\n",
      "[]\n",
      "[]\n",
      "[]\n",
      "[]\n",
      "[]\n",
      "[]\n",
      "[]\n"
     ]
    },
    {
     "data": {
      "text/plain": [
       "0     ['UNFIUSDT📈', 'BUYLONGENTRY', '5.875-5.887💎TP1...\n",
       "1     ['UNFIUSDT📈', 'BUYLONG', 'ENTRY', '5.875-5.887...\n",
       "2     ['New', 'trader', 'statistic.💎', 'LAST', '4', ...\n",
       "3     ['RENUSDT📈', 'BUYLONGENTRY', '0.1143-0.1146💎TP...\n",
       "4     ['Tomorrow', '1230', 'pm', 'GMT', 'CPI', 'repo...\n",
       "5     ['😱In', 'last', '24h', 'nearly', '103k', 'trad...\n",
       "6     ['ADAUSDT', '📈', 'BUYLONGENTRY', '0.3678-0.366...\n",
       "7     ['XMRUSDT', '📉', 'SELLSHORTENTRY', '142.03-', ...\n",
       "8     ['XMRUSDT', '📉', 'SELLSHORT', 'ENTRY', '142.03...\n",
       "9     ['XMRUSDT', '📉', 'SELLSHORT', 'ENTRY', '142.03...\n",
       "10    ['AVAXUSDT', '📉', 'SELLSHORTENTRY', '16.00-15....\n",
       "11    ['AVAXUSDT', '📉', 'SELLSHORT', 'ENTRY', '16.00...\n",
       "12    ['AAVEUSDT📈', 'BUYLONGENTRY', '83.08', '–', '8...\n",
       "13    ['AAVEUSDT📈', 'BUYLONG', 'ENTRY', '83.08', '–'...\n",
       "14    ['AAVEUSDT📈', 'BUYLONG', 'ENTRY', '83.08', '–'...\n",
       "15    ['AAVEUSDT📈', 'BUYLONG', 'ENTRY', '83.08', '–'...\n",
       "16    ['AVAXUSDT', '📉', 'SELLSHORTENTRY', '17.31-17....\n",
       "Name: Cleaned_text, dtype: object"
      ]
     },
     "execution_count": 35,
     "metadata": {},
     "output_type": "execute_result"
    }
   ],
   "source": [
    "exchanges = 'Binance|kucoin|bitbuy'\n",
    "conversion = 'usdt|usd|btc|eth'\n",
    "exchangeregex = '|'.join(exchanges)\n",
    "target = ('|').join(['1','2','3'])\n",
    "# coins=''\n",
    "def extractor(i):\n",
    "  text = re.sub('[\\',\\[\\]]', '', i)\n",
    "\n",
    "  if(re.search('(\\w+{})'.format(conversion),text,re.IGNORECASE) and re.search('TP[0-9]*',text,re.IGNORECASE)):    \n",
    "    # print(text)\n",
    "    coin_name=re.findall('(\\w+)(?:usdt|usd|btc|eth)',text,re.IGNORECASE)\n",
    "\n",
    "    conversion_name = re.findall('\\w+({})'.format(conversion),str(text),re.IGNORECASE)\n",
    "\n",
    "    \"\"\"exchange not used\"\"\"\n",
    "    call_exchange = re.findall('\\w+({})'.format(exchanges),text,re.IGNORECASE)\n",
    "\n",
    "    call_type = re.findall('sell|buy',text,re.IGNORECASE)\n",
    "\n",
    "    call_duration = re.findall('long|short',text,re.IGNORECASE)\n",
    "    \n",
    "    # targets = re.findall(\"(\\d*[.]?\\d*)[ ]?(-)?[ ]?(\\d*[.]?\\d*)[ ]?-[ ]?(\\d*[.]?\\d*)[ ]?-[ ]?(\\d*[.]?\\d*)[ ]?-[ ]?(\\d*[.]?\\d*)\",text,re.IGNORECASE)\n",
    "    T=dict()\n",
    "    # targets=re.findall(r'TP\\d\\s*[0-9].+[0-9]',text,re.IGNORECASE)\n",
    "    targets=re.findall(r'(\\d)SL',text,re.IGNORECASE)\n",
    "    print(targets)\n",
    "    # if targets:\n",
    "    #   T['T1']=targets[0][0]\n",
    "    #   T['T2']=targets[0][1]\n",
    "    #   T['T3']=targets[0][2]\n",
    "    #   T['T4']=targets[0][3]\n",
    "\n",
    "    # leverage = re.findall('[ ]*[-]*[ ]*(\\d+)x',text,re.IGNORECASE)\n",
    "\n",
    "    # \"\"\" stop loss not used that much\"\"\"\n",
    "    # stop_loss = re.findall('stop\\s*loss\\s*-*\\s*(\\d.\\d*)',text,re.IGNORECASE)\n",
    "    \n",
    "    # with open('./3_freebitmexsignals.csv', 'a',newline='') as f_object:\n",
    "    #   writer_object = writer(f_object)\n",
    "    #   ls = [coin_name,conversion_name,leverage,call_exchange,call_type,call_duration,T,stop_loss]\n",
    "    #   writer_object.writerow(ls)\n",
    "    #   f_object.close()\n",
    "\n",
    "  return i\n",
    "  \n",
    "df['Cleaned_text'].apply(extractor)"
   ]
  }
 ],
 "metadata": {
  "kernelspec": {
   "display_name": "Python 3.10.4 64-bit",
   "language": "python",
   "name": "python3"
  },
  "language_info": {
   "codemirror_mode": {
    "name": "ipython",
    "version": 3
   },
   "file_extension": ".py",
   "mimetype": "text/x-python",
   "name": "python",
   "nbconvert_exporter": "python",
   "pygments_lexer": "ipython3",
   "version": "3.10.4"
  },
  "orig_nbformat": 4,
  "vscode": {
   "interpreter": {
    "hash": "d572fee55088b61515265814f82e71c0d56216367d221f2ac084c0d372a9af7e"
   }
  }
 },
 "nbformat": 4,
 "nbformat_minor": 2
}
