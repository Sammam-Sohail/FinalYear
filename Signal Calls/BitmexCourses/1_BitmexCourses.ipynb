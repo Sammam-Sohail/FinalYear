{
 "cells": [
  {
   "cell_type": "code",
   "execution_count": 3,
   "metadata": {},
   "outputs": [],
   "source": [
    "import pandas as pd\n",
    "import re\n",
    "from csv import writer"
   ]
  },
  {
   "cell_type": "code",
   "execution_count": 4,
   "metadata": {},
   "outputs": [
    {
     "name": "stdout",
     "output_type": "stream",
     "text": [
      "['LINK', 'LINKUSDT', 'BinanceBuy', 'Between', '7.00', '-', '7.80targets', '8.60', '-', '10', '-', '11', '-', '13', 'Stop', 'Loss', '6.20httpswww.tradingview.comx7IJylz2L', 'BitmexCourses']\n",
      "#LINK #LINKUSDT (Binance)Buy Between 7.00 - 7.80targets 8.60 - 10 - 11 - 13 Stop Loss 6.20https://www.tradingview.com/x/7IJylz2L/ @BitmexCourses\n"
     ]
    },
    {
     "data": {
      "text/html": [
       "<div>\n",
       "<style scoped>\n",
       "    .dataframe tbody tr th:only-of-type {\n",
       "        vertical-align: middle;\n",
       "    }\n",
       "\n",
       "    .dataframe tbody tr th {\n",
       "        vertical-align: top;\n",
       "    }\n",
       "\n",
       "    .dataframe thead th {\n",
       "        text-align: right;\n",
       "    }\n",
       "</style>\n",
       "<table border=\"1\" class=\"dataframe\">\n",
       "  <thead>\n",
       "    <tr style=\"text-align: right;\">\n",
       "      <th></th>\n",
       "      <th>Name</th>\n",
       "      <th>Date</th>\n",
       "      <th>Time</th>\n",
       "      <th>Text</th>\n",
       "      <th>Cleaned_text</th>\n",
       "    </tr>\n",
       "  </thead>\n",
       "  <tbody>\n",
       "    <tr>\n",
       "      <th>0</th>\n",
       "      <td>BitmexCourses</td>\n",
       "      <td>2022-09-17</td>\n",
       "      <td>04:41:52</td>\n",
       "      <td>#LINK #LINKUSDT (Binance)Buy Between 7.00 - 7....</td>\n",
       "      <td>['LINK', 'LINKUSDT', 'BinanceBuy', 'Between', ...</td>\n",
       "    </tr>\n",
       "    <tr>\n",
       "      <th>1</th>\n",
       "      <td>BitmexCourses</td>\n",
       "      <td>2022-09-23</td>\n",
       "      <td>04:37:27</td>\n",
       "      <td>#QNT #QNTUSDT (Binance)Buy Between 100 - 108Ta...</td>\n",
       "      <td>['QNT', 'QNTUSDT', 'BinanceBuy', 'Between', '1...</td>\n",
       "    </tr>\n",
       "    <tr>\n",
       "      <th>2</th>\n",
       "      <td>BitmexCourses</td>\n",
       "      <td>2022-09-23</td>\n",
       "      <td>05:35:33</td>\n",
       "      <td>#ROSE #ROSEUSDT (Binance)Buy Between 0.055 - 0...</td>\n",
       "      <td>['ROSE', 'ROSEUSDT', 'BinanceBuy', 'Between', ...</td>\n",
       "    </tr>\n",
       "    <tr>\n",
       "      <th>3</th>\n",
       "      <td>BitmexCourses</td>\n",
       "      <td>2022-09-24</td>\n",
       "      <td>04:44:00</td>\n",
       "      <td>#BNB #BNBUSDT (Binance)Buy Between 270 - 280Ta...</td>\n",
       "      <td>['BNB', 'BNBUSDT', 'BinanceBuy', 'Between', '2...</td>\n",
       "    </tr>\n",
       "    <tr>\n",
       "      <th>4</th>\n",
       "      <td>BitmexCourses</td>\n",
       "      <td>2022-09-24</td>\n",
       "      <td>09:12:33</td>\n",
       "      <td>#EGLD #EGLDUSDT (Binance)Buy Between 47 - 48.6...</td>\n",
       "      <td>['EGLD', 'EGLDUSDT', 'BinanceBuy', 'Between', ...</td>\n",
       "    </tr>\n",
       "  </tbody>\n",
       "</table>\n",
       "</div>"
      ],
      "text/plain": [
       "            Name        Date      Time  \\\n",
       "0  BitmexCourses  2022-09-17  04:41:52   \n",
       "1  BitmexCourses  2022-09-23  04:37:27   \n",
       "2  BitmexCourses  2022-09-23  05:35:33   \n",
       "3  BitmexCourses  2022-09-24  04:44:00   \n",
       "4  BitmexCourses  2022-09-24  09:12:33   \n",
       "\n",
       "                                                Text  \\\n",
       "0  #LINK #LINKUSDT (Binance)Buy Between 7.00 - 7....   \n",
       "1  #QNT #QNTUSDT (Binance)Buy Between 100 - 108Ta...   \n",
       "2  #ROSE #ROSEUSDT (Binance)Buy Between 0.055 - 0...   \n",
       "3  #BNB #BNBUSDT (Binance)Buy Between 270 - 280Ta...   \n",
       "4  #EGLD #EGLDUSDT (Binance)Buy Between 47 - 48.6...   \n",
       "\n",
       "                                        Cleaned_text  \n",
       "0  ['LINK', 'LINKUSDT', 'BinanceBuy', 'Between', ...  \n",
       "1  ['QNT', 'QNTUSDT', 'BinanceBuy', 'Between', '1...  \n",
       "2  ['ROSE', 'ROSEUSDT', 'BinanceBuy', 'Between', ...  \n",
       "3  ['BNB', 'BNBUSDT', 'BinanceBuy', 'Between', '2...  \n",
       "4  ['EGLD', 'EGLDUSDT', 'BinanceBuy', 'Between', ...  "
      ]
     },
     "execution_count": 4,
     "metadata": {},
     "output_type": "execute_result"
    }
   ],
   "source": [
    "colnames=['Name','Date','Time', 'Text','Cleaned_text'] \n",
    "exchanges = ['BINANCE', 'BYBIT', 'FTX', 'HUOBI', 'KUCOIN', 'POLONIEX','KRAKEN']\n",
    "df = pd.read_csv('./1_BitmexCourses.csv',names = colnames,header=None)\n",
    "print(df['Cleaned_text'][0])\n",
    "print(df['Text'][0])\n",
    "df.head()"
   ]
  },
  {
   "cell_type": "code",
   "execution_count": 6,
   "metadata": {},
   "outputs": [
    {
     "data": {
      "text/plain": [
       "0     ['LINK', 'LINKUSDT', 'BinanceBuy', 'Between', ...\n",
       "1     ['QNT', 'QNTUSDT', 'BinanceBuy', 'Between', '1...\n",
       "2     ['ROSE', 'ROSEUSDT', 'BinanceBuy', 'Between', ...\n",
       "3     ['BNB', 'BNBUSDT', 'BinanceBuy', 'Between', '2...\n",
       "4     ['EGLD', 'EGLDUSDT', 'BinanceBuy', 'Between', ...\n",
       "                            ...                        \n",
       "63    ['TWT', 'TWTUSDT', 'BinanceBuy', 'Between', '2...\n",
       "64    ['MASK', 'MASKUSDT', 'BinanceBuy', '2.66', '-'...\n",
       "65    ['LTC', 'LTCUSDT', 'BinanceBuy', 'Between', '7...\n",
       "66    ['FARM', 'FARMUSDT', 'BinanceBuy', 'Between', ...\n",
       "67    ['DASH', 'DASHUSDT', 'BinanceBuy', 'Between', ...\n",
       "Name: Cleaned_text, Length: 68, dtype: object"
      ]
     },
     "execution_count": 6,
     "metadata": {},
     "output_type": "execute_result"
    }
   ],
   "source": [
    "exchanges = 'Binance|kucoin|bitbuy'\n",
    "conversion = 'usdt|usd|btc|eth'\n",
    "exchangeregex = '|'.join(exchanges)\n",
    "target = ('|').join(['1','2','3'])\n",
    "# coins=''\n",
    "def extractor(i):\n",
    "  text = re.sub('[\\',\\[\\]]', '', i)\n",
    "\n",
    "  if(re.search('stop\\s*loss',text,re.IGNORECASE) and re.search('target|targets',text,re.IGNORECASE)):    \n",
    "\n",
    "    coin_name=re.findall('(\\w+)(?:usdt|usd|btc|eth)',text,re.IGNORECASE)\n",
    "\n",
    "    conversion_name = re.findall('\\w+({})'.format(conversion),str(text),re.IGNORECASE)\n",
    "\n",
    "    call_exchange = re.findall('Binance|kucoin|bitbuy'.format(exchanges),text,re.IGNORECASE)\n",
    "\n",
    "    call_type = re.findall('sell|buy',text,re.IGNORECASE)\n",
    "\n",
    "    \"\"\"duration not used \"\"\"\n",
    "    call_duration = re.findall('long|short',text,re.IGNORECASE)\n",
    "\n",
    "    # targets = re.findall(\"(\\d*[.]?\\d*)[ ]?(-)?[ ]?(\\d*[.]?\\d*)[ ]?-[ ]?(\\d*[.]?\\d*)[ ]?-[ ]?(\\d*[.]?\\d*)[ ]?-[ ]?(\\d*[.]?\\d*)\",text,re.IGNORECASE)\n",
    "    \"\"\"some targets are not extracted although format is same \"\"\"\n",
    "    T=dict()\n",
    "    # targets=re.findall(r'targets\\s*(\\d.\\d*)\\s*-*\\s*(\\d.\\d*)\\s*-*\\s*(\\d.\\d*)\\s*-*\\s*(\\d.\\d*)',text,re.IGNORECASE)\n",
    "    Targets = re.findall(\"Target[s]*[ ]*(.*?)[a-zA-Z]\",text,re.IGNORECASE)\n",
    "    t = re.sub(' ','',Targets[0])\n",
    "    Targets = t.split('-')\n",
    "\n",
    "    for x in range(len(Targets)):\n",
    "      T['T'+str(x+1)]=Targets[x]\n",
    "\n",
    "    leverage = re.findall('[ ]*[-]*[ ]*(\\d+)x',text,re.IGNORECASE)\n",
    "\n",
    "    \"\"\" stop loss not used that much\"\"\"\n",
    "    stop_loss = re.findall('stop\\s*loss\\s*-*\\s*(\\d.\\d*)',text,re.IGNORECASE)\n",
    "\n",
    "    with open('./3_BitmexCourses.csv', 'a',newline='') as f_object:\n",
    "      writer_object = writer(f_object)\n",
    "      ls = [coin_name,conversion_name,leverage,call_exchange,call_type,call_duration,T,stop_loss]\n",
    "      writer_object.writerow(ls)\n",
    "      f_object.close()\n",
    "\n",
    "  return i\n",
    "  \n",
    "df['Cleaned_text'].apply(extractor)"
   ]
  }
 ],
 "metadata": {
  "kernelspec": {
   "display_name": "Python 3.10.4 64-bit",
   "language": "python",
   "name": "python3"
  },
  "language_info": {
   "codemirror_mode": {
    "name": "ipython",
    "version": 3
   },
   "file_extension": ".py",
   "mimetype": "text/x-python",
   "name": "python",
   "nbconvert_exporter": "python",
   "pygments_lexer": "ipython3",
   "version": "3.10.4"
  },
  "orig_nbformat": 4,
  "vscode": {
   "interpreter": {
    "hash": "d572fee55088b61515265814f82e71c0d56216367d221f2ac084c0d372a9af7e"
   }
  }
 },
 "nbformat": 4,
 "nbformat_minor": 2
}
