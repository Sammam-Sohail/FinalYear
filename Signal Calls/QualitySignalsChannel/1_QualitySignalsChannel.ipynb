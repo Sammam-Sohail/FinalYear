{
 "cells": [
  {
   "cell_type": "code",
   "execution_count": 2,
   "metadata": {},
   "outputs": [],
   "source": [
    "import pandas as pd\n",
    "import re\n",
    "from csv import writer"
   ]
  },
  {
   "cell_type": "code",
   "execution_count": 3,
   "metadata": {},
   "outputs": [
    {
     "name": "stdout",
     "output_type": "stream",
     "text": [
      "['✳', 'New', 'FREE', 'signal💎', 'Buy', 'AMBBTC', 'KUCOIN🆔', '2028174', '3rd', 'today.⏱', '15-Sep-2022', '002014', 'UTC🛒', 'Entry', 'Zone', '0.00000125', '-', '0.00000134💵', 'Current', 'ask', '0.00000134', '🎯', 'Target', '1', '0.00000138', '3.35🎯', 'Target', '2', '0.0000014', '4.40🎯', 'Target', '3', '0.00000141', '5.44🚫', 'Stop', 'loss', '0.00000122', '8.66💰', 'Volume', 'AMB', '4676097.19💰', 'Volume', 'BTC', '7.07⏳', 'SHORT', 'TERM', 'up', '7', 'days⚠️', 'Risk', '35', 'Medium', '-', 'Invest', '5', 'portfolio☯️', 'RR', 'ratio', '10.5️Ambrosus', 'AMB', 'Overview', 'ChartTrade', 'AMBBTC', 'KUCOINAMBBTC', 'also', 'traded', 'exchangesBINANCE', 'KUCOIN']\n",
      "✳ New FREE signal💎 Buy #AMB/#BTC at #KUCOIN🆔 #2028174, 3rd today.⏱ 15-Sep-2022 00:20:14 UTC🛒 Entry Zone: 0.00000125 - 0.00000134💵 Current ask: 0.00000134 🎯 Target 1: 0.00000138 (3.35%)🎯 Target 2: 0.0000014 (4.40%)🎯 Target 3: 0.00000141 (5.44%)🚫 Stop loss: 0.00000122 (8.66%)💰 Volume #AMB: 4,676,097.19💰 Volume #BTC: 7.07⏳ SHORT TERM (up to 7 days)⚠️ Risk: 3/5 (Medium) - Invest up to 5% of your portfolio☯️ R/R ratio: 1:0.5️Ambrosus (AMB) | Overview | ChartTrade AMB/BTC at #KUCOINAMB/BTC can also be traded on the exchanges:BINANCE, KUCOIN\n"
     ]
    },
    {
     "data": {
      "text/html": [
       "<div>\n",
       "<style scoped>\n",
       "    .dataframe tbody tr th:only-of-type {\n",
       "        vertical-align: middle;\n",
       "    }\n",
       "\n",
       "    .dataframe tbody tr th {\n",
       "        vertical-align: top;\n",
       "    }\n",
       "\n",
       "    .dataframe thead th {\n",
       "        text-align: right;\n",
       "    }\n",
       "</style>\n",
       "<table border=\"1\" class=\"dataframe\">\n",
       "  <thead>\n",
       "    <tr style=\"text-align: right;\">\n",
       "      <th></th>\n",
       "      <th>Name</th>\n",
       "      <th>Date</th>\n",
       "      <th>Time</th>\n",
       "      <th>Text</th>\n",
       "      <th>Cleaned_text</th>\n",
       "    </tr>\n",
       "  </thead>\n",
       "  <tbody>\n",
       "    <tr>\n",
       "      <th>0</th>\n",
       "      <td>QualitySignalsChannel</td>\n",
       "      <td>2022-09-15</td>\n",
       "      <td>00:20:15</td>\n",
       "      <td>✳ New FREE signal💎 Buy #AMB/#BTC at #KUCOIN🆔 #...</td>\n",
       "      <td>['✳', 'New', 'FREE', 'signal💎', 'Buy', 'AMBBTC...</td>\n",
       "    </tr>\n",
       "    <tr>\n",
       "      <th>1</th>\n",
       "      <td>QualitySignalsChannel</td>\n",
       "      <td>2022-09-15</td>\n",
       "      <td>05:07:58</td>\n",
       "      <td>✳ New FREE signal💎 Buy #ALPINE/#USDT at #KUCOI...</td>\n",
       "      <td>['✳', 'New', 'FREE', 'signal💎', 'Buy', 'ALPINE...</td>\n",
       "    </tr>\n",
       "    <tr>\n",
       "      <th>2</th>\n",
       "      <td>QualitySignalsChannel</td>\n",
       "      <td>2022-09-15</td>\n",
       "      <td>08:23:04</td>\n",
       "      <td>✳ New FREE signal💎 Buy #NANO/#ETH at #KRAKEN🆔 ...</td>\n",
       "      <td>['✳', 'New', 'FREE', 'signal💎', 'Buy', 'NANOET...</td>\n",
       "    </tr>\n",
       "    <tr>\n",
       "      <th>3</th>\n",
       "      <td>QualitySignalsChannel</td>\n",
       "      <td>2022-09-15</td>\n",
       "      <td>08:26:55</td>\n",
       "      <td>✳ New FREE signal💎 Buy #REP/#BTC at #KUCOIN🆔 #...</td>\n",
       "      <td>['✳', 'New', 'FREE', 'signal💎', 'Buy', 'REPBTC...</td>\n",
       "    </tr>\n",
       "    <tr>\n",
       "      <th>4</th>\n",
       "      <td>QualitySignalsChannel</td>\n",
       "      <td>2022-09-15</td>\n",
       "      <td>08:54:07</td>\n",
       "      <td>✳ New FREE signal💎 Buy #CREAM/#BTC at #KUCOIN🆔...</td>\n",
       "      <td>['✳', 'New', 'FREE', 'signal💎', 'Buy', 'CREAMB...</td>\n",
       "    </tr>\n",
       "  </tbody>\n",
       "</table>\n",
       "</div>"
      ],
      "text/plain": [
       "                    Name        Date      Time  \\\n",
       "0  QualitySignalsChannel  2022-09-15  00:20:15   \n",
       "1  QualitySignalsChannel  2022-09-15  05:07:58   \n",
       "2  QualitySignalsChannel  2022-09-15  08:23:04   \n",
       "3  QualitySignalsChannel  2022-09-15  08:26:55   \n",
       "4  QualitySignalsChannel  2022-09-15  08:54:07   \n",
       "\n",
       "                                                Text  \\\n",
       "0  ✳ New FREE signal💎 Buy #AMB/#BTC at #KUCOIN🆔 #...   \n",
       "1  ✳ New FREE signal💎 Buy #ALPINE/#USDT at #KUCOI...   \n",
       "2  ✳ New FREE signal💎 Buy #NANO/#ETH at #KRAKEN🆔 ...   \n",
       "3  ✳ New FREE signal💎 Buy #REP/#BTC at #KUCOIN🆔 #...   \n",
       "4  ✳ New FREE signal💎 Buy #CREAM/#BTC at #KUCOIN🆔...   \n",
       "\n",
       "                                        Cleaned_text  \n",
       "0  ['✳', 'New', 'FREE', 'signal💎', 'Buy', 'AMBBTC...  \n",
       "1  ['✳', 'New', 'FREE', 'signal💎', 'Buy', 'ALPINE...  \n",
       "2  ['✳', 'New', 'FREE', 'signal💎', 'Buy', 'NANOET...  \n",
       "3  ['✳', 'New', 'FREE', 'signal💎', 'Buy', 'REPBTC...  \n",
       "4  ['✳', 'New', 'FREE', 'signal💎', 'Buy', 'CREAMB...  "
      ]
     },
     "execution_count": 3,
     "metadata": {},
     "output_type": "execute_result"
    }
   ],
   "source": [
    "colnames=['Name','Date','Time', 'Text','Cleaned_text'] \n",
    "exchanges = ['BINANCE', 'BYBIT', 'FTX', 'HUOBI', 'KUCOIN', 'POLONIEX','KRAKEN']\n",
    "df = pd.read_csv('./1_QualitySignalsChannel.csv',names = colnames,header=None)\n",
    "print(df['Cleaned_text'][0])\n",
    "print(df['Text'][0])\n",
    "df.head()"
   ]
  },
  {
   "cell_type": "code",
   "execution_count": 4,
   "metadata": {},
   "outputs": [
    {
     "data": {
      "text/plain": [
       "0       ['✳', 'New', 'FREE', 'signal💎', 'Buy', 'AMBBTC...\n",
       "1       ['✳', 'New', 'FREE', 'signal💎', 'Buy', 'ALPINE...\n",
       "2       ['✳', 'New', 'FREE', 'signal💎', 'Buy', 'NANOET...\n",
       "3       ['✳', 'New', 'FREE', 'signal💎', 'Buy', 'REPBTC...\n",
       "4       ['✳', 'New', 'FREE', 'signal💎', 'Buy', 'CREAMB...\n",
       "                              ...                        \n",
       "2136    ['✳', 'New', 'FREE', 'signal💎', 'Buy', 'GLMBTC...\n",
       "2137    ['✳', 'New', 'FREE', 'signal💎', 'Buy', 'BAKEET...\n",
       "2138    ['✳', 'New', 'FREE', 'signal💎', 'Buy', 'JOEUSD...\n",
       "2139    ['✳', 'New', 'FREE', 'signal💎', 'Buy', 'BTGBTC...\n",
       "2140    ['✳', 'New', 'FREE', 'signal💎', 'Buy', 'RVNBTC...\n",
       "Name: Cleaned_text, Length: 2141, dtype: object"
      ]
     },
     "execution_count": 4,
     "metadata": {},
     "output_type": "execute_result"
    }
   ],
   "source": [
    "exchanges = 'Binance|kucoin|bitbuy'\n",
    "conversion = 'usdt|usd|btc|eth'\n",
    "exchangeregex = '|'.join(exchanges)\n",
    "target = ('|').join(['1','2','3'])\n",
    "# coins=''\n",
    "def extractor(i):\n",
    "  text = re.sub('[\\',\\[\\]]', '', i)\n",
    "\n",
    "  coin_name=re.findall('(\\w+)(?:usdt|usd|btc|eth)',text,re.IGNORECASE)\n",
    "  if coin_name: coin_name = coin_name[0]\n",
    "\n",
    "  conversion_name = re.findall('\\w+({})'.format(conversion),str(text),re.IGNORECASE)\n",
    "  if conversion_name: conversion_name = conversion_name[0]\n",
    "\n",
    "  \"\"\"exchange not used\"\"\"\n",
    "  call_exchange = re.findall('Binance|kucoin|bitbuy',text,re.IGNORECASE)\n",
    "  if call_exchange: call_exchange = call_exchange[0]\n",
    "\n",
    "  call_type = re.findall('sell|buy',text,re.IGNORECASE)\n",
    "\n",
    "  call_duration = re.findall('long|short',text,re.IGNORECASE)\n",
    "\n",
    "  # targets = re.findall(\"(\\d*[.]?\\d*)[ ]?(-)?[ ]?(\\d*[.]?\\d*)[ ]?-[ ]?(\\d*[.]?\\d*)[ ]?-[ ]?(\\d*[.]?\\d*)[ ]?-[ ]?(\\d*[.]?\\d*)\",text,re.IGNORECASE)\n",
    "  # \"\"\"some targets are not extracted although format is same \"\"\"\n",
    "  T=dict()\n",
    "  # targets=re.findall(r'targets\\s*(\\d.\\d*)\\s*-*\\s*(\\d.\\d*)\\s*-*\\s*(\\d.\\d*)\\s*-*\\s*(\\d.\\d*)',text,re.IGNORECASE)\n",
    "  targets=re.findall(r'target\\s*\\d\\s*(\\d.\\d*)',text,re.IGNORECASE)\n",
    "  if targets:\n",
    "    for x in range(len(targets)):\n",
    "      T['T'+str(x+1)]=targets[x]\n",
    "\n",
    "  \"\"\"leverage not used\"\"\"\n",
    "  leverage = re.findall('[ ]*[-]*[ ]*(\\d+)x',text,re.IGNORECASE)\n",
    "  \n",
    "  stop_loss = re.findall('stop\\s*loss\\s*-*\\s*(\\d.\\d*)',text,re.IGNORECASE)\n",
    "\n",
    "  with open('./2_QualitySignalsChannel.csv', 'a',newline='') as f_object:\n",
    "    writer_object = writer(f_object)\n",
    "    ls = [coin_name,conversion_name,leverage,call_exchange,call_type,call_duration,T,stop_loss]\n",
    "    writer_object.writerow(ls)\n",
    "    f_object.close()\n",
    "\n",
    "  return i\n",
    "\n",
    "df['Cleaned_text'].apply(extractor)"
   ]
  }
 ],
 "metadata": {
  "kernelspec": {
   "display_name": "Python 3",
   "language": "python",
   "name": "python3"
  },
  "language_info": {
   "codemirror_mode": {
    "name": "ipython",
    "version": 3
   },
   "file_extension": ".py",
   "mimetype": "text/x-python",
   "name": "python",
   "nbconvert_exporter": "python",
   "pygments_lexer": "ipython3",
   "version": "3.10.5 (tags/v3.10.5:f377153, Jun  6 2022, 16:14:13) [MSC v.1929 64 bit (AMD64)]"
  },
  "orig_nbformat": 4,
  "vscode": {
   "interpreter": {
    "hash": "b56cedfc715f32859c7b3e0c7af539013c24260cbdded874583ce504867e8223"
   }
  }
 },
 "nbformat": 4,
 "nbformat_minor": 2
}
