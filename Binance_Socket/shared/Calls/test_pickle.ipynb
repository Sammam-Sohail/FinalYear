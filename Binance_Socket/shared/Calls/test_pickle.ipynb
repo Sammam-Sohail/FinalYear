{
 "cells": [
  {
   "cell_type": "code",
   "execution_count": 1,
   "metadata": {},
   "outputs": [
    {
     "data": {
      "text/plain": [
       "{'Coin': 'GLMR',\n",
       " 'Conversion': 'USDT',\n",
       " 'Exchange': None,\n",
       " 'Type': None,\n",
       " 'Duration': 'LONG',\n",
       " 'Entry': [0.59, 0.67],\n",
       " 'Targets': [0.79, 0.92, 1.06],\n",
       " 'Stoploss': 0.54,\n",
       " 'Leverage': None}"
      ]
     },
     "execution_count": 1,
     "metadata": {},
     "output_type": "execute_result"
    }
   ],
   "source": [
    "import pandas as pd\n",
    "x = \"CryptoClassicsVIP\"\n",
    "df = pd.read_pickle(f\"./{x}/2_{x}.pkl\")\n",
    "df[\"Call\"][0]"
   ]
  }
 ],
 "metadata": {
  "kernelspec": {
   "display_name": "Python 3",
   "language": "python",
   "name": "python3"
  },
  "language_info": {
   "codemirror_mode": {
    "name": "ipython",
    "version": 3
   },
   "file_extension": ".py",
   "mimetype": "text/x-python",
   "name": "python",
   "nbconvert_exporter": "python",
   "pygments_lexer": "ipython3",
   "version": "3.11.2"
  },
  "orig_nbformat": 4
 },
 "nbformat": 4,
 "nbformat_minor": 2
}
