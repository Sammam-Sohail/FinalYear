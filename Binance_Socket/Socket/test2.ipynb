{
 "cells": [
  {
   "cell_type": "code",
   "execution_count": 15,
   "metadata": {},
   "outputs": [],
   "source": [
    "from binance import Client\n",
    "import pandas as pd\n",
    "import configparser\n",
    "import os\n",
    "from datetime import datetime\n",
    "import dateutil.relativedelta\n",
    "\n",
    "\n",
    "config = configparser.ConfigParser()\n",
    "config.read_file(open('config.cfg'))\n",
    "PUBLIC_KEY = config.get('BINANCE', 'PUBLIC_KEY')\n",
    "PRIVATE_KEY = config.get('BINANCE', 'PRIVATE_KEY')\n",
    "\n",
    "if not os.path.exists('Last_Updated_Socket.txt'):\n",
    "    last_updated_time = str(\n",
    "        datetime.now() + dateutil.relativedelta.relativedelta(months=-2))\n",
    "else:\n",
    "    with open('Last_Updated_Socket.txt', 'r') as f:\n",
    "        last_updated_time = f.read()\n",
    "\n",
    "client = Client(PUBLIC_KEY, PRIVATE_KEY)\n",
    "df = pd.DataFrame()\n",
    "\n",
    "for coins in client.get_all_tickers():\n",
    "    if((coins[\"symbol\"] == \"FISBUSD\")):\n",
    "        historical_data = client.get_historical_klines(\n",
    "            symbol=coins[\"symbol\"], interval=Client.KLINE_INTERVAL_1DAY, start_str=\"2 Nov,2022\")\n",
    "        coin_df = pd.DataFrame(historical_data, columns=['Open Time', 'Open', 'High', 'Low', 'Close', 'Volume','Close Time', 'Quote Asset Volume', 'Number of Trades', 'TB Base Volume', 'TB Quote Volume', 'Ignore'])\n",
    "        coin_df['Open']=coin_df['Open'].apply(lambda x: float(x))\n",
    "        coin_df['High']=coin_df['High'].apply(lambda x: float(x))\n",
    "        coin_df['Low']=coin_df['Low'].apply(lambda x: float(x))\n",
    "        coin_df['Close']=coin_df['Close'].apply(lambda x: float(x))\n",
    "        coin_df['Open Time'] = pd.to_datetime(coin_df['Open Time']/1000, unit='s')\n",
    "        coin_df['Close Time'] = pd.to_datetime(coin_df['Close Time']/1000, unit='s')\n",
    "\n",
    "coin_df.to_csv(\"STOCK.csv\",index=False)\n"
   ]
  },
  {
   "cell_type": "code",
   "execution_count": null,
   "metadata": {},
   "outputs": [],
   "source": []
  }
 ],
 "metadata": {
  "kernelspec": {
   "display_name": "Python 3",
   "language": "python",
   "name": "python3"
  },
  "language_info": {
   "codemirror_mode": {
    "name": "ipython",
    "version": 3
   },
   "file_extension": ".py",
   "mimetype": "text/x-python",
   "name": "python",
   "nbconvert_exporter": "python",
   "pygments_lexer": "ipython3",
   "version": "3.9.0"
  },
  "orig_nbformat": 4,
  "vscode": {
   "interpreter": {
    "hash": "c9d430fe7f71b62c3834c19333704f375e17727565e440466e989c47695e4342"
   }
  }
 },
 "nbformat": 4,
 "nbformat_minor": 2
}
