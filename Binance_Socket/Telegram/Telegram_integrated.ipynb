{
 "cells": [
  {
   "cell_type": "code",
   "execution_count": 31,
   "metadata": {},
   "outputs": [],
   "source": [
    "import re\n",
    "import nltk\n",
    "import string\n",
    "from nltk.corpus import stopwords\n",
    "from nltk.stem.wordnet import WordNetLemmatizer\n",
    "import os\n",
    "import numpy as np\n",
    "from datetime import datetime\n",
    "import dateutil.relativedelta\n",
    "import configparser"
   ]
  },
  {
   "cell_type": "code",
   "execution_count": 32,
   "metadata": {},
   "outputs": [
    {
     "name": "stdout",
     "output_type": "stream",
     "text": [
      "<Response [200]>\n"
     ]
    }
   ],
   "source": [
    "import requests\n",
    "res = requests.get('https://telegram.org/')\n",
    "print(res)"
   ]
  },
  {
   "cell_type": "code",
   "execution_count": 33,
   "metadata": {},
   "outputs": [],
   "source": [
    "# %%capture\n",
    "# %pip install -r requirements.txt\n",
    "# !python -m nltk.downloader stopwords\n",
    "# !python -m nltk.downloader wordnet\n",
    "# !python -m nltk.downloader omw-1.4"
   ]
  },
  {
   "cell_type": "code",
   "execution_count": 35,
   "metadata": {},
   "outputs": [],
   "source": [
    "if not os.path.exists('Last_Updated.txt'):\n",
    "    last_updated_time = str(\n",
    "        datetime.now() + dateutil.relativedelta.relativedelta(months=-1))\n",
    "    CurrentYear,CurrentMonth,CurrentDate = [int(i) for i in last_updated_time.split(\" \")[0].split(\"-\")]\n",
    "else:\n",
    "    with open('Last_Updated.txt', 'r') as f:\n",
    "        last_updated_time = f.read()\n",
    "        CurrentYear,CurrentMonth,CurrentDate = [int(i) for i in last_updated_time.split(\" \")[0].split(\"-\")]"
   ]
  },
  {
   "cell_type": "code",
   "execution_count": 36,
   "metadata": {},
   "outputs": [],
   "source": [
    "import ast\n",
    "config = configparser.ConfigParser()\n",
    "config.read_file(open('config.cfg'))\n",
    "binance_coins= ast.literal_eval(config.get('Telegram', 'Coins'))\n",
    "groups = ast.literal_eval(config.get('Telegram', 'Groups'))"
   ]
  },
  {
   "cell_type": "code",
   "execution_count": 37,
   "metadata": {},
   "outputs": [],
   "source": [
    "import snscrape.modules.telegram as telegram\n",
    "import pandas as pd\n",
    "\n",
    "tweets_list = []\n",
    "# for i in groups:\n",
    "for x,tel in enumerate(telegram.TelegramChannelScraper(\"BitmexCourses\").get_items()):\n",
    "    y,m,d = [int(i) for i in str(tel.date).split(' ')[0].split('-')]\n",
    "    if  (m<=CurrentMonth and d<=CurrentDate):\n",
    "        break\n",
    "    tweets_list.append([\"BitmexCourses\",str(tel.date).split(' ')[0],str(tel.date).split(' ')[1].split('+')[0], tel.content])\n",
    "    "
   ]
  },
  {
   "cell_type": "code",
   "execution_count": 38,
   "metadata": {},
   "outputs": [],
   "source": [
    "tel_df = pd.DataFrame(tweets_list, columns=['Name','Date','Time','Text'])"
   ]
  },
  {
   "cell_type": "code",
   "execution_count": 39,
   "metadata": {},
   "outputs": [
    {
     "name": "stdout",
     "output_type": "stream",
     "text": [
      "#BNX #BNXUSDT (Binance)Buy between 0.57 - 0.62 Targets 0.67 - 0.72 - 0.77 - 0.86 StopLoss 0.52 https://www.tradingview.com/x/RtTacGFt/ @BitmexCourses\n",
      "#BTC #BTCUSDT (Binance)ENTRY 28500 - 29800 Targets 27300 - 26600 - 25800 - 24500 StopLoss 31500 Leverage : 2 xhttps://www.tradingview.com/x/ 8 N 2 axplf/ @BitmexCourses\n",
      "Crypto Bull Crypto Experts pinned a photo\n",
      "Deposit $ARB to Bybit and Share Rewards From Our $ 400 , 000 $USDT Prize Pools! Learn how to claim and maximize your $ARB Airdrop with Bybit's Deposit and Staking campaigns: 1 Deposit 250 ARB to Earn 25 $USDT 2 Arbitrum Launchpool with 150 , 000 $ARB prize pool 3 [GMX Users Exclusive] Deposit 500 $ARB to Earn 0.5 $GMX 4 [Spot Grid Bot] Trade to Earn from the 20 , 000 $USDT Prize Pool! Also providing hands-on tutorial to claim your $ARB airdrop! Bybit will be the first exchange to list $ARB upon listing on March 23 , 1 PM UTC. Check details here\n",
      "#ADA #ADAUSDT (Binance)Buy Between 0.360 - 0.387 Targets 0.40 - 0.43 - 0.48 - 0.58 StopLoss 0.30 https://www.tradingview.com/x/qc 4 W 9 Iz 1 / @BitmexCourses\n",
      "#BTC #BTCUSDT (Binance)ENTRY 27 , 500 - 27 , 700 Targets 26 , 700 - 26 , 120 - 25 , 600 - 24 , 730 StopLoss 28 , 600 Leverage : 2 xhttps://www.tradingview.com/x/RGHevW 14 / @BitmexCourses\n",
      "2 Spots with discount for lifetime membership from 400 $To 200 $@ProCrypto_NY 2\n",
      "#MANA #MANAUSDT (Binance)Buy Between 0.60 - 0.67 Targets 0.72 - 0.80 - 0.88 - 1.00 StopLoss 0.50 https://www.tradingview.com/x/kNejZZNy/ @BitmexCourses\n",
      "#GALA #GALAUSDT (Binance)Buy Between 0.040 - 0.045 Targets 0.050 - 0.055 - 0.060 - 0.066 StopLoss 0.034 https://www.tradingview.com/x/pkDkCl 5 h/ @BitmexCourses\n",
      "#SOL #SOOLUSDT (Binance)Buy Between 20 - 22.50 Targets 23.40 - 26 - 28 - 32 StopLoss 17 https://www.tradingview.com/x/OM 048 ply/ @BitmexCourses\n",
      "#AXS #AXSUSDT (Binance)Buy Between 8.00 - 8.45 Targets 9.00 - 9.60 - 10.40 - 12 StopLoss 6.40 https://www.tradingview.com/x/spyiHTP 5 / @BitmexCourses\n",
      "#FTM #FTMUSDT (Binance)Buy Between 0.40 - 0.45 Targets 0.48 - 0.56 - 0.66 - 0.77 StopLoss 0.33 https://www.tradingview.com/x/ePwm 5 gEa/ @BitmexCourses\n",
      "#APT #APTUSDT (Binance)Buy Between 12.50 - 12.80 Targets 13.40 - 14.60 - 15.50 - 16.70 StopLoss 11.10 https://www.tradingview.com/x/ 4 n 10 mLJs/ @BitmexCourses\n",
      "New to Bybit Let us help you get started with our App Starter Mystery Box!Complete simple tasks to earn up to 500 USDT in rewards. Beginners have all the luck! Event Period: Mar 10 , 2023 , 10 AM UTC Apr 10 , 2023 , 10 AM UTCYou'll receive three ( 3 ) App Starter Mystery Boxes for completing these tasks respectively: Task 1 : Sign up for a Bybit Account using this link and download the Bybit App from the App Store or Google Play Task 2 : Deposit $ 100 to your Bybit Account Task 3 : Reach a minimum trading volume of $ 100 Then check out the home page of the Bybit App to open your Mystery Boxes!Each user is entitled to three ( 3 ) Mystery Boxes, so make sure you complete all the tasks to get them!\n",
      "#HOOK #HOOKUSDT (Binance)Buy Between 1.90 - 2.05 Targets 2.15 - 2.27 - 2.44 - 2.66 StopLoss 1.66 In case breakout the resistance then the next position is almost 31 K @BitmexCourses\n",
      "#ETH #ETHUSDT (Binance)Buy Between 1600 - 1680 Targets 1770 - 1890 - 2000 - 2222 StopLoss 1450 https://www.tradingview.com/x/msRJSMUJ/ @BitmexCourses\n",
      "Market is Turning Bearish so Close all Short term Buy Trades.Hold Midterm and Longterm Trades with Patience..!! @BitmexCourses\n",
      "#BTC #BTCUSDT (Binance)Sell Between 23 , 330 - 24 , 600 Targets 22 , 600 - 21 , 800 - 21 , 000 - 20420 StopLoss 25 , 800 Leverage : 2 xhttps://www.tradingview.com/x/xC 9 YkrNf/ @BitmexCourses\n",
      "#GMT #GMTUSDT (Binance)Buy Between 0.36 - 0.40 Targets 0.44 - 0.48 - 0.54 - 0.60 StopLoss 0.32 https://www.tradingview.com/x/uBWtdGH 1 / @BitmexCourses\n",
      "#RIF #RIFUSDT (Binance)Buy Between 0.160 - 0.175 targets 0.188 - 0.200 - 0.210 - 0.225 StopLoss 0.145 Leverage : 2 - 3 xhttps://www.tradingview.com/x/rCWRGJik/ @BitmexCourses\n",
      "#SNX #SNXUSDT (Binance)Buy Between 2.80 - 2.95 Targets 3.20 - 3.45 - 3.66 - 4.00 StopLoss 2.40 https://www.tradingview.com/x/ZuQyNnT 9 / @BitmexCourses\n",
      "#DYDX #DYDXUSDT (Binance)Buy Between 2.90 - 3.00 Targets 3.15 - 3.33 - 3.50 - 3.80 StopLoss 2.60 Leverage 2 - 3 xhttps://www.tradingview.com/x/PDQsVD 18 / @BitmexCourses\n",
      "It's very hard to find high quality channels in Telegram. That's why we rarely post any kind of promotion here. Join using the Exclusive invite-only link below. Join the big whales and smart money fast . Dont miss it Will Delete after 30 traders Joined Main Channel. Main Channel: https://t.me/ianCryptoTrades Chatbox: https://t.me/ianCryptoTrollbox Twitter: Twitter.com/ianCryptoTrades\n",
      "#BTC #BTCUSDT (Binance)Buy Between 23000 - 23400 Targets 24000 - 24350 - 24850 - 25080 StopLoss 22 , 500 Leverage : 5 xhttps://www.tradingview.com/x/vTGPzk 28 / @BitmexCourses\n",
      "I'm Holding my Midterm Altcoins, Keep in Mind Alts Rally isn't Done Yet. @BitmexCourses\n"
     ]
    },
    {
     "data": {
      "text/plain": [
       "'#BTC #BTCUSDT (Binance)ENTRY 28500 - 29800 Targets 27300 - 26600 - 25800 - 24500 StopLoss 31500 Leverage : 2 xhttps://www.tradingview.com/x/ 8 N 2 axplf/ @BitmexCourses'"
      ]
     },
     "execution_count": 39,
     "metadata": {},
     "output_type": "execute_result"
    }
   ],
   "source": [
    "import re\n",
    "def MoreCleaning(text):\n",
    "    str_en = text.encode(\"ascii\", \"replace\").replace(b\"?\",b\" \")\n",
    "    str_de = str_en.decode()\n",
    "    str_de = re.sub(' +', ' ', re.sub(r\"([0-9]+(\\.[0-9]+)?)\",r\" \\1 \", str_de).strip())\n",
    "    str_de = re.sub(r\"\\bStop\\sLoss\\b\", \"StopLoss\", str_de,re.IGNORECASE)\n",
    "    print(str_de)\n",
    "    return str_de\n",
    "tel_df[\"Text\"] = tel_df[\"Text\"].apply(MoreCleaning)\n",
    "tel_df[\"Text\"][1]"
   ]
  },
  {
   "cell_type": "code",
   "execution_count": 40,
   "metadata": {},
   "outputs": [],
   "source": [
    "tel_df= tel_df.iloc[::-1]\n"
   ]
  },
  {
   "cell_type": "code",
   "execution_count": 41,
   "metadata": {},
   "outputs": [],
   "source": [
    "stop = set(stopwords.words('english'))\n",
    "exclude = set(string.punctuation)\n",
    "exclude.remove('.')\n",
    "exclude.remove('-')\n",
    "lemma = WordNetLemmatizer()\n",
    "def text_cleaning(text):\n",
    "    stop_free = ' '.join([word for word in str(text).split() if word not in stop])\n",
    "    punc_free = ''.join(ch for ch in stop_free if ch not in exclude)\n",
    "    normalized = ' '.join([lemma.lemmatize(word) for word in punc_free.split()])\n",
    "    return normalized.split()\n",
    "\n",
    "tel_df[\"Cleaned Text\"]= tel_df[\"Text\"].apply(text_cleaning)"
   ]
  },
  {
   "cell_type": "code",
   "execution_count": 42,
   "metadata": {},
   "outputs": [
    {
     "name": "stdout",
     "output_type": "stream",
     "text": [
      "['ADA', 'ADAUSDT', 'BinanceBuy', 'Between', '0.360', '-', '0.387', 'Targets', '0.40', '-', '0.43', '-', '0.48', '-', '0.58', 'StopLoss', '0.30', 'httpswww.tradingview.comxqc', '4', 'W', '9', 'Iz', '1', 'BitmexCourses']\n"
     ]
    }
   ],
   "source": [
    "print(tel_df[\"Cleaned Text\"][4])"
   ]
  },
  {
   "cell_type": "code",
   "execution_count": 43,
   "metadata": {},
   "outputs": [
    {
     "data": {
      "text/html": [
       "<div>\n",
       "<style scoped>\n",
       "    .dataframe tbody tr th:only-of-type {\n",
       "        vertical-align: middle;\n",
       "    }\n",
       "\n",
       "    .dataframe tbody tr th {\n",
       "        vertical-align: top;\n",
       "    }\n",
       "\n",
       "    .dataframe thead th {\n",
       "        text-align: right;\n",
       "    }\n",
       "</style>\n",
       "<table border=\"1\" class=\"dataframe\">\n",
       "  <thead>\n",
       "    <tr style=\"text-align: right;\">\n",
       "      <th></th>\n",
       "      <th>Date</th>\n",
       "      <th>Time</th>\n",
       "      <th>Text</th>\n",
       "      <th>Cleaned Text</th>\n",
       "    </tr>\n",
       "    <tr>\n",
       "      <th>Name</th>\n",
       "      <th></th>\n",
       "      <th></th>\n",
       "      <th></th>\n",
       "      <th></th>\n",
       "    </tr>\n",
       "  </thead>\n",
       "  <tbody>\n",
       "    <tr>\n",
       "      <th>BitmexCourses</th>\n",
       "      <td>25</td>\n",
       "      <td>25</td>\n",
       "      <td>25</td>\n",
       "      <td>25</td>\n",
       "    </tr>\n",
       "  </tbody>\n",
       "</table>\n",
       "</div>"
      ],
      "text/plain": [
       "               Date  Time  Text  Cleaned Text\n",
       "Name                                         \n",
       "BitmexCourses    25    25    25            25"
      ]
     },
     "execution_count": 43,
     "metadata": {},
     "output_type": "execute_result"
    }
   ],
   "source": [
    "tel_df.groupby('Name').count()"
   ]
  },
  {
   "cell_type": "code",
   "execution_count": 44,
   "metadata": {},
   "outputs": [
    {
     "ename": "FileNotFoundError",
     "evalue": "[WinError 2] The system cannot find the file specified: './Channels'",
     "output_type": "error",
     "traceback": [
      "\u001b[1;31m---------------------------------------------------------------------------\u001b[0m",
      "\u001b[1;31mFileNotFoundError\u001b[0m                         Traceback (most recent call last)",
      "\u001b[1;32mc:\\Users\\Mohib\\Desktop\\FinalYear\\Binance_Socket\\Telegram\\Telegram_integrated.ipynb Cell 13\u001b[0m in \u001b[0;36m<cell line: 4>\u001b[1;34m()\u001b[0m\n\u001b[0;32m      <a href='vscode-notebook-cell:/c%3A/Users/Mohib/Desktop/FinalYear/Binance_Socket/Telegram/Telegram_integrated.ipynb#X15sZmlsZQ%3D%3D?line=6'>7</a>\u001b[0m     os\u001b[39m.\u001b[39mchdir(os\u001b[39m.\u001b[39mpath\u001b[39m.\u001b[39mjoin(os\u001b[39m.\u001b[39mgetcwd(),i))\n\u001b[0;32m      <a href='vscode-notebook-cell:/c%3A/Users/Mohib/Desktop/FinalYear/Binance_Socket/Telegram/Telegram_integrated.ipynb#X15sZmlsZQ%3D%3D?line=7'>8</a>\u001b[0m     tel_df[tel_df[\u001b[39m'\u001b[39m\u001b[39mName\u001b[39m\u001b[39m'\u001b[39m]\u001b[39m==\u001b[39mi]\u001b[39m.\u001b[39mto_csv(\u001b[39m'\u001b[39m\u001b[39m0_\u001b[39m\u001b[39m'\u001b[39m\u001b[39m+\u001b[39mi\u001b[39m+\u001b[39m\u001b[39m'\u001b[39m\u001b[39m.csv\u001b[39m\u001b[39m'\u001b[39m, mode\u001b[39m=\u001b[39m\u001b[39m'\u001b[39m\u001b[39mw\u001b[39m\u001b[39m'\u001b[39m, index\u001b[39m=\u001b[39m\u001b[39mFalse\u001b[39;00m, header\u001b[39m=\u001b[39m\u001b[39mFalse\u001b[39;00m)\n\u001b[1;32m----> <a href='vscode-notebook-cell:/c%3A/Users/Mohib/Desktop/FinalYear/Binance_Socket/Telegram/Telegram_integrated.ipynb#X15sZmlsZQ%3D%3D?line=8'>9</a>\u001b[0m     os\u001b[39m.\u001b[39;49mchdir(\u001b[39m'\u001b[39;49m\u001b[39m./Channels\u001b[39;49m\u001b[39m'\u001b[39;49m)\n\u001b[0;32m     <a href='vscode-notebook-cell:/c%3A/Users/Mohib/Desktop/FinalYear/Binance_Socket/Telegram/Telegram_integrated.ipynb#X15sZmlsZQ%3D%3D?line=9'>10</a>\u001b[0m os\u001b[39m.\u001b[39mchdir(\u001b[39m\"\u001b[39m\u001b[39mC:Users/Mohib/Desktop/FinalYear/Telegram\u001b[39m\u001b[39m\"\u001b[39m)\n\u001b[0;32m     <a href='vscode-notebook-cell:/c%3A/Users/Mohib/Desktop/FinalYear/Binance_Socket/Telegram/Telegram_integrated.ipynb#X15sZmlsZQ%3D%3D?line=10'>11</a>\u001b[0m \u001b[39mwith\u001b[39;00m \u001b[39mopen\u001b[39m(\u001b[39m'\u001b[39m\u001b[39mdatetime.txt\u001b[39m\u001b[39m'\u001b[39m, \u001b[39m'\u001b[39m\u001b[39mw\u001b[39m\u001b[39m'\u001b[39m) \u001b[39mas\u001b[39;00m f:\n",
      "\u001b[1;31mFileNotFoundError\u001b[0m: [WinError 2] The system cannot find the file specified: './Channels'"
     ]
    }
   ],
   "source": [
    "if not os.path.exists('Channels'):\n",
    "    os.mkdir('Channels')\n",
    "os.chdir(os.path.join(os.getcwd(),'Channels'))\n",
    "for i in groups:\n",
    "    if not os.path.exists(i):\n",
    "        os.mkdir(i)\n",
    "    os.chdir(os.path.join(os.getcwd(),i))\n",
    "    tel_df[tel_df['Name']==i].to_csv('0_'+i+'.csv', mode='w', index=False, header=False)\n",
    "    os.chdir('./Channels')\n",
    "os.chdir(\"C:Users/Mohib/Desktop/FinalYear/Telegram\")\n",
    "with open('datetime.txt', 'w') as f:\n",
    "    f.write(str(datetime.now()))"
   ]
  },
  {
   "cell_type": "code",
   "execution_count": null,
   "metadata": {},
   "outputs": [],
   "source": [
    "import pandas as pd\n",
    "from matplotlib import pyplot as plt\n",
    "count = []\n",
    "names = []\n",
    "for group in groups:\n",
    "    names.append(group)\n",
    "    count.append(len(tel_df[tel_df['Name']==group]))\n",
    "plt.bar(names,count)\n",
    "plt.xticks(rotation=90)\n",
    "plt.show()"
   ]
  },
  {
   "cell_type": "markdown",
   "metadata": {},
   "source": [
    "Before Filter 1"
   ]
  },
  {
   "cell_type": "code",
   "execution_count": null,
   "metadata": {},
   "outputs": [],
   "source": [
    "def extractor(i):\n",
    "    i = str(i)\n",
    "    suffixes = 'usdt|busd|futures'\n",
    "    coinsregex = '|'.join(binance_coins)\n",
    "    found = False\n",
    "    text = re.sub(r'[^\\w\\s]', ' ', i)\n",
    "    for s in text.split():\n",
    "        if re.search(\"({})({})+|({})+({})|^({})$|[0-9]+({})|({})[0-9]+\".format(coinsregex,suffixes,suffixes,coinsregex,coinsregex,coinsregex,coinsregex), s,re.IGNORECASE):\n",
    "            found = True\n",
    "            break\n",
    "    if(found):\n",
    "        return i\n",
    "    else: return np.nan\n",
    "tel_df['Cleaned Text'] = tel_df['Cleaned Text'].apply(extractor)\n",
    "tel_df_fil1 = tel_df[tel_df['Cleaned Text'].notna()] "
   ]
  },
  {
   "cell_type": "code",
   "execution_count": null,
   "metadata": {},
   "outputs": [],
   "source": [
    "tel_df_fil1"
   ]
  },
  {
   "cell_type": "code",
   "execution_count": null,
   "metadata": {},
   "outputs": [],
   "source": [
    "import pandas as pd\n",
    "from matplotlib import pyplot as plt\n",
    "count = list()\n",
    "names = list()\n",
    "for group in groups:\n",
    "    names.append(group)\n",
    "    count.append(len(tel_df_fil1[tel_df_fil1['Name']==group]))\n",
    "plt.bar(names,count)\n",
    "plt.xticks(rotation=90)\n",
    "plt.show()"
   ]
  },
  {
   "cell_type": "markdown",
   "metadata": {},
   "source": [
    "After Filter 1 "
   ]
  },
  {
   "cell_type": "code",
   "execution_count": null,
   "metadata": {},
   "outputs": [],
   "source": [
    "os.chdir(\"/workspace/FinalYear/\")\n",
    "if not os.path.exists('Channels'):\n",
    "    os.mkdir('Channels')\n",
    "os.chdir(os.path.join(os.getcwd(),'Channels'))\n",
    "for i in groups:\n",
    "    if not os.path.exists(i):\n",
    "        os.mkdir(i)\n",
    "    os.chdir(os.path.join(os.getcwd(),i))\n",
    "    tel_df_fil1[tel_df_fil1['Name']==i].to_csv('1_'+i+'.csv', mode='a', index=False, header=False)\n",
    "    os.chdir('/workspace/FinalYear/Channels')\n",
    "os.chdir(\"/workspace/FinalYear/\")\n",
    "with open('datetime.txt', 'w') as f:\n",
    "    f.write(str(datetime.now()))"
   ]
  }
 ],
 "metadata": {
  "kernelspec": {
   "display_name": "Python 3",
   "language": "python",
   "name": "python3"
  },
  "language_info": {
   "codemirror_mode": {
    "name": "ipython",
    "version": 3
   },
   "file_extension": ".py",
   "mimetype": "text/x-python",
   "name": "python",
   "nbconvert_exporter": "python",
   "pygments_lexer": "ipython3",
   "version": "3.10.5"
  },
  "orig_nbformat": 4,
  "vscode": {
   "interpreter": {
    "hash": "b56cedfc715f32859c7b3e0c7af539013c24260cbdded874583ce504867e8223"
   }
  }
 },
 "nbformat": 4,
 "nbformat_minor": 2
}
