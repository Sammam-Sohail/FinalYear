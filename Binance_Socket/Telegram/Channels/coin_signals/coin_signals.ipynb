{
 "cells": [
  {
   "cell_type": "code",
   "execution_count": 4,
   "metadata": {},
   "outputs": [],
   "source": [
    "import pandas as pd\n",
    "import re\n",
    "from csv import writer\n",
    "import ast\n",
    "# PATH = \"C:\\\\Users\\\\Mohib\\\\Desktop\\\\Testing Channels\\\\Channels\\\\coin_signals\\\\\""
   ]
  },
  {
   "cell_type": "code",
   "execution_count": 5,
   "metadata": {},
   "outputs": [
    {
     "name": "stdout",
     "output_type": "stream",
     "text": [
      "['SHORT', 'ADAUSDT', 'Entry', '0.39150000', '-', '0.41907500', 'Target', '1', '0.37192500', 'Target', '2', '0.35235000', 'Target', '3', '0.33277500', 'Target', '4', '0.31320000', 'Stoploss', '0.43135188', 'Leverage', '5', 'x']\n",
      "SHORT ADAUSDT Entry: 0.39150000 - 0.41907500 Target 1 : 0.37192500 Target 2 : 0.35235000 Target 3 : 0.33277500 Target 4 : 0.31320000 Stoploss: 0.43135188 Leverage : 5 x\n"
     ]
    },
    {
     "data": {
      "text/html": [
       "<div>\n",
       "<style scoped>\n",
       "    .dataframe tbody tr th:only-of-type {\n",
       "        vertical-align: middle;\n",
       "    }\n",
       "\n",
       "    .dataframe tbody tr th {\n",
       "        vertical-align: top;\n",
       "    }\n",
       "\n",
       "    .dataframe thead th {\n",
       "        text-align: right;\n",
       "    }\n",
       "</style>\n",
       "<table border=\"1\" class=\"dataframe\">\n",
       "  <thead>\n",
       "    <tr style=\"text-align: right;\">\n",
       "      <th></th>\n",
       "      <th>Name</th>\n",
       "      <th>Date</th>\n",
       "      <th>Time</th>\n",
       "      <th>Text</th>\n",
       "      <th>Cleaned_text</th>\n",
       "    </tr>\n",
       "  </thead>\n",
       "  <tbody>\n",
       "    <tr>\n",
       "      <th>0</th>\n",
       "      <td>coin_signals</td>\n",
       "      <td>2023-02-26</td>\n",
       "      <td>01:35:41</td>\n",
       "      <td>SHORT ADAUSDT Entry: 0.39150000 - 0.41907500 T...</td>\n",
       "      <td>['SHORT', 'ADAUSDT', 'Entry', '0.39150000', '-...</td>\n",
       "    </tr>\n",
       "    <tr>\n",
       "      <th>1</th>\n",
       "      <td>coin_signals</td>\n",
       "      <td>2023-02-26</td>\n",
       "      <td>02:38:17</td>\n",
       "      <td>SHORT FILUSDT Entry: 8.60000000 - 9.16300000 T...</td>\n",
       "      <td>['SHORT', 'FILUSDT', 'Entry', '8.60000000', '-...</td>\n",
       "    </tr>\n",
       "    <tr>\n",
       "      <th>2</th>\n",
       "      <td>coin_signals</td>\n",
       "      <td>2023-03-03</td>\n",
       "      <td>02:23:58</td>\n",
       "      <td>SHORT ADAUSDT Entry: 0.39150000 - 0.41907500 T...</td>\n",
       "      <td>['SHORT', 'ADAUSDT', 'Entry', '0.39150000', '-...</td>\n",
       "    </tr>\n",
       "    <tr>\n",
       "      <th>3</th>\n",
       "      <td>coin_signals</td>\n",
       "      <td>2023-03-03</td>\n",
       "      <td>02:24:44</td>\n",
       "      <td>SHORT DOTUSDT Entry: 7.29700000 - 7.78600000 T...</td>\n",
       "      <td>['SHORT', 'DOTUSDT', 'Entry', '7.29700000', '-...</td>\n",
       "    </tr>\n",
       "    <tr>\n",
       "      <th>4</th>\n",
       "      <td>coin_signals</td>\n",
       "      <td>2023-03-04</td>\n",
       "      <td>12:54:51</td>\n",
       "      <td>Bitcoin has been moving sideways for the past ...</td>\n",
       "      <td>['Bitcoin', 'moving', 'sideways', 'past', '33'...</td>\n",
       "    </tr>\n",
       "  </tbody>\n",
       "</table>\n",
       "</div>"
      ],
      "text/plain": [
       "           Name        Date      Time  \\\n",
       "0  coin_signals  2023-02-26  01:35:41   \n",
       "1  coin_signals  2023-02-26  02:38:17   \n",
       "2  coin_signals  2023-03-03  02:23:58   \n",
       "3  coin_signals  2023-03-03  02:24:44   \n",
       "4  coin_signals  2023-03-04  12:54:51   \n",
       "\n",
       "                                                Text  \\\n",
       "0  SHORT ADAUSDT Entry: 0.39150000 - 0.41907500 T...   \n",
       "1  SHORT FILUSDT Entry: 8.60000000 - 9.16300000 T...   \n",
       "2  SHORT ADAUSDT Entry: 0.39150000 - 0.41907500 T...   \n",
       "3  SHORT DOTUSDT Entry: 7.29700000 - 7.78600000 T...   \n",
       "4  Bitcoin has been moving sideways for the past ...   \n",
       "\n",
       "                                        Cleaned_text  \n",
       "0  ['SHORT', 'ADAUSDT', 'Entry', '0.39150000', '-...  \n",
       "1  ['SHORT', 'FILUSDT', 'Entry', '8.60000000', '-...  \n",
       "2  ['SHORT', 'ADAUSDT', 'Entry', '0.39150000', '-...  \n",
       "3  ['SHORT', 'DOTUSDT', 'Entry', '7.29700000', '-...  \n",
       "4  ['Bitcoin', 'moving', 'sideways', 'past', '33'...  "
      ]
     },
     "execution_count": 5,
     "metadata": {},
     "output_type": "execute_result"
    }
   ],
   "source": [
    "colnames=['Name','Date','Time', 'Text','Cleaned_text'] \n",
    "exchanges = ['BINANCE', 'BYBIT', 'FTX', 'HUOBI', 'KUCOIN', 'POLONIEX','KRAKEN']\n",
    "df = pd.read_csv('./1_coin_signals.csv',names = colnames,header=None)\n",
    "print(df['Cleaned_text'][0])\n",
    "print(df['Text'][0])\n",
    "df.head()"
   ]
  },
  {
   "cell_type": "code",
   "execution_count": 32,
   "metadata": {},
   "outputs": [],
   "source": [
    "exchanges = 'Binance|kucoin|bitbuy'\n",
    "conversion = 'usdt|usd|btc|eth'\n",
    "exchangeregex = '|'.join(exchanges)\n",
    "target = ('|').join(['1','2','3'])\n",
    "def getFirst(arr):\n",
    "    if(len(arr) == 1):\n",
    "        return arr[0]\n",
    "    elif(len(arr)==0):\n",
    "      return None\n",
    "    else:\n",
    "      return arr\n",
    "def extractor(text):\n",
    "  if(re.search('\\w+({})'.format(conversion),text,re.IGNORECASE) and re.search('target\\w*',text,re.IGNORECASE)):    \n",
    "    coin_name=getFirst(re.findall('(\\w+)(?:usdt|usd|btc|eth)',text,re.IGNORECASE))\n",
    "    conversion_name = getFirst(re.findall('\\w+({})'.format(conversion),text,re.IGNORECASE))\n",
    "    entry = getFirst([float(x) for tup in re.findall('Entry\\s+(\\d+\\.\\d+)(?:\\s+-\\s+(\\d+\\.\\d+))?\\s+Target',text,re.IGNORECASE)for x in tup])\n",
    "    call_duration = getFirst(re.findall('long|short',text,re.IGNORECASE)).upper()\n",
    "    leverage = getFirst(re.findall('leverage\\s+(\\d+)', text,re.IGNORECASE))\n",
    "    targets=getFirst([float(x) for x in re.findall(r'target\\s*[0-9]\\s*(\\d.\\d*)',text,re.IGNORECASE)])\n",
    "    stop_loss = getFirst(re.findall('Stoploss\\s*(\\d.\\d*)',text,re.IGNORECASE))\n",
    "    return {\n",
    "                \"Status\":\"A\",\n",
    "                \"Coin\": coin_name,\n",
    "                \"Conversion\": conversion_name,\n",
    "                # \"Exchange\": call_exchange,\n",
    "                # \"Type\": call_type,\n",
    "                \"Duration\": call_duration,\n",
    "                \"Entry\":entry,\n",
    "                \"Targets\": targets,\n",
    "                \"Stoploss\": stop_loss,\n",
    "                \"Leverage\": leverage,\n",
    "                \"CompletedOn\":\"\",\n",
    "                }\n",
    "  \n",
    "df['Call'] = df['Cleaned_text'].apply(extractor)"
   ]
  },
  {
   "cell_type": "code",
   "execution_count": 33,
   "metadata": {},
   "outputs": [
    {
     "data": {
      "text/plain": [
       "{'Status': 'A',\n",
       " 'Coin': 'OP',\n",
       " 'Conversion': 'USDT',\n",
       " 'Duration': 'SHORT',\n",
       " 'Entry': None,\n",
       " 'Targets': None,\n",
       " 'Stoploss': None,\n",
       " 'Leverage': None,\n",
       " 'CompletedOn': ''}"
      ]
     },
     "execution_count": 33,
     "metadata": {},
     "output_type": "execute_result"
    }
   ],
   "source": [
    "df['Call'].iloc[12]"
   ]
  },
  {
   "cell_type": "code",
   "execution_count": 34,
   "metadata": {},
   "outputs": [
    {
     "data": {
      "text/plain": [
       "\"['SHORT', 'OPUSDT', 'Entry', '2.4200000', '-', '2.57100000', 'Target', '1', '2.29900000', 'Target', '2', '2.17800000', 'Target', '3', '2.05700000', 'Target', '4', '1.93600000', 'Stoploss', '2.60452500', 'Leverage', '5', 'x']\""
      ]
     },
     "execution_count": 34,
     "metadata": {},
     "output_type": "execute_result"
    }
   ],
   "source": [
    "df.iloc[12]['Cleaned_text']"
   ]
  }
 ],
 "metadata": {
  "kernelspec": {
   "display_name": "Python 3.10.4 64-bit",
   "language": "python",
   "name": "python3"
  },
  "language_info": {
   "codemirror_mode": {
    "name": "ipython",
    "version": 3
   },
   "file_extension": ".py",
   "mimetype": "text/x-python",
   "name": "python",
   "nbconvert_exporter": "python",
   "pygments_lexer": "ipython3",
   "version": "3.11.2"
  },
  "orig_nbformat": 4,
  "vscode": {
   "interpreter": {
    "hash": "d572fee55088b61515265814f82e71c0d56216367d221f2ac084c0d372a9af7e"
   }
  }
 },
 "nbformat": 4,
 "nbformat_minor": 2
}
