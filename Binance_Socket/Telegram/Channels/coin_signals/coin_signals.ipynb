{
 "cells": [
  {
   "cell_type": "code",
   "execution_count": 1,
   "metadata": {},
   "outputs": [],
   "source": [
    "import pandas as pd\n",
    "import re\n",
    "from csv import writer\n",
    "import ast\n",
    "PATH = \"C:\\\\Users\\\\Mohib\\\\Desktop\\\\Testing Channels\\\\Channels\\\\coin_signals\\\\\""
   ]
  },
  {
   "cell_type": "code",
   "execution_count": 3,
   "metadata": {},
   "outputs": [
    {
     "name": "stdout",
     "output_type": "stream",
     "text": [
      "SHIB last signal hit 77 SPOT.SHIB Round TwoSPOT Buy 0.0108 - 0.0908 Target 50 - 100 Stop 0.0808\n",
      "SHIB last signal hits 77 % on SPOT.SHIB Round Two:SPOT Buy : 0.0108 - 0.0908 Target : 50 - 100 %Stop : 0.0808\n"
     ]
    },
    {
     "data": {
      "text/html": [
       "<div>\n",
       "<style scoped>\n",
       "    .dataframe tbody tr th:only-of-type {\n",
       "        vertical-align: middle;\n",
       "    }\n",
       "\n",
       "    .dataframe tbody tr th {\n",
       "        vertical-align: top;\n",
       "    }\n",
       "\n",
       "    .dataframe thead th {\n",
       "        text-align: right;\n",
       "    }\n",
       "</style>\n",
       "<table border=\"1\" class=\"dataframe\">\n",
       "  <thead>\n",
       "    <tr style=\"text-align: right;\">\n",
       "      <th></th>\n",
       "      <th>Name</th>\n",
       "      <th>Date</th>\n",
       "      <th>Time</th>\n",
       "      <th>Text</th>\n",
       "      <th>Cleaned_text</th>\n",
       "    </tr>\n",
       "  </thead>\n",
       "  <tbody>\n",
       "    <tr>\n",
       "      <th>0</th>\n",
       "      <td>coin_signals</td>\n",
       "      <td>2023-03-20</td>\n",
       "      <td>08:41:39</td>\n",
       "      <td>BNB ready for massive pump to $ 400 .Accumulat...</td>\n",
       "      <td>BNB ready massive pump 400 .Accumulate 336 - 3...</td>\n",
       "    </tr>\n",
       "    <tr>\n",
       "      <th>1</th>\n",
       "      <td>coin_signals</td>\n",
       "      <td>2023-03-23</td>\n",
       "      <td>18:23:34</td>\n",
       "      <td>SHIB last signal hits 77 % on SPOT.SHIB Round ...</td>\n",
       "      <td>SHIB last signal hit 77 SPOT.SHIB Round TwoSPO...</td>\n",
       "    </tr>\n",
       "    <tr>\n",
       "      <th>2</th>\n",
       "      <td>coin_signals</td>\n",
       "      <td>2023-03-28</td>\n",
       "      <td>16:56:35</td>\n",
       "      <td>- Bifinex CEO proposed BTC backed stablecoin.-...</td>\n",
       "      <td>- Bifinex CEO proposed BTC backed stablecoin.-...</td>\n",
       "    </tr>\n",
       "    <tr>\n",
       "      <th>3</th>\n",
       "      <td>coin_signals</td>\n",
       "      <td>2023-04-11</td>\n",
       "      <td>04:19:36</td>\n",
       "      <td>Solana ready for massive breakout.On #SOL, thi...</td>\n",
       "      <td>Solana ready massive breakout.On SOL downtrend...</td>\n",
       "    </tr>\n",
       "  </tbody>\n",
       "</table>\n",
       "</div>"
      ],
      "text/plain": [
       "           Name        Date      Time  \\\n",
       "0  coin_signals  2023-03-20  08:41:39   \n",
       "1  coin_signals  2023-03-23  18:23:34   \n",
       "2  coin_signals  2023-03-28  16:56:35   \n",
       "3  coin_signals  2023-04-11  04:19:36   \n",
       "\n",
       "                                                Text  \\\n",
       "0  BNB ready for massive pump to $ 400 .Accumulat...   \n",
       "1  SHIB last signal hits 77 % on SPOT.SHIB Round ...   \n",
       "2  - Bifinex CEO proposed BTC backed stablecoin.-...   \n",
       "3  Solana ready for massive breakout.On #SOL, thi...   \n",
       "\n",
       "                                        Cleaned_text  \n",
       "0  BNB ready massive pump 400 .Accumulate 336 - 3...  \n",
       "1  SHIB last signal hit 77 SPOT.SHIB Round TwoSPO...  \n",
       "2  - Bifinex CEO proposed BTC backed stablecoin.-...  \n",
       "3  Solana ready massive breakout.On SOL downtrend...  "
      ]
     },
     "execution_count": 3,
     "metadata": {},
     "output_type": "execute_result"
    }
   ],
   "source": [
    "colnames=['Name','Date','Time', 'Text','Cleaned_text'] \n",
    "exchanges = ['BINANCE', 'BYBIT', 'FTX', 'HUOBI', 'KUCOIN', 'POLONIEX','KRAKEN']\n",
    "df = pd.read_csv(PATH+'./1_coin_signals.csv',names = colnames,header=None)\n",
    "print(df['Cleaned_text'][1])\n",
    "print(df['Text'][1])\n",
    "df.head()"
   ]
  },
  {
   "cell_type": "code",
   "execution_count": 22,
   "metadata": {},
   "outputs": [
    {
     "data": {
      "text/plain": [
       "0     ['SHORT', 'ADAUSDT', 'Entry', '0.39150000', '-...\n",
       "1     ['SHORT', 'FILUSDT', 'Entry', '8.60000000', '-...\n",
       "2     ['SHORT', 'ADAUSDT', 'Entry', '0.39150000', '-...\n",
       "3     ['SHORT', 'DOTUSDT', 'Entry', '7.29700000', '-...\n",
       "4     ['Bitcoin', 'moving', 'sideways', 'past', '33'...\n",
       "5     ['For', 'third', 'time', 'BNB', 'testing', '28...\n",
       "6     ['SHORT', 'RLCUSDT', 'Entry', '1.28000000', '-...\n",
       "7     ['SHORT', 'LTCUSDT', 'Entry', '93.80000000', '...\n",
       "8     ['SHORT', 'LTCUSDT', 'Entry', '93.80000000', '...\n",
       "9     ['SHORT', 'FXSUSDT', 'Entry', '9.51000000', '-...\n",
       "10    ['SHORT', 'FXSUSDT', 'Entry', '9.51000000', '-...\n",
       "11    ['ICX', 'USDT', 'break', 'trendline', 'support...\n",
       "12    ['SHORT', 'OPUSDT', 'Entry', '2.4200000', '-',...\n",
       "13    ['SHORT', 'OPUSDT', 'Entry', '2.4200000', '-',...\n",
       "14    ['SOL', 'printed', 'double', 'top', 'chart', '...\n",
       "15    ['SHORT', 'OPUSDT', 'Entry', '2.4200000', '-',...\n",
       "16    ['SHORT', 'ADAUSDT', 'Entry', '0.39150000', '-...\n",
       "17    ['SHORT', 'FXSUSDT', 'Entry', '9.51000000', '-...\n",
       "18    ['SHORT', 'SOLUSDT', 'Entry', '19.06000000', '...\n",
       "19    ['SHORT', 'SOLUSDT', 'Entry', '19.06000000', '...\n",
       "20    ['SHORT', 'SOLUSDT', 'Entry', '19.06000000', '...\n",
       "21    ['SHORT', 'FXSUSDT', 'Entry', '9.51000000', '-...\n",
       "22    ['SHORT', 'LTCUSDT', 'Entry', '93.80000000', '...\n",
       "23    ['SHORT', 'OPUSDT', 'Entry', '2.4200000', '-',...\n",
       "24    ['SHORT', 'SOLUSDT', 'Entry', '19.06000000', '...\n",
       "25    ['SHORT', 'FXSUSDT', 'Entry', '9.51000000', '-...\n",
       "26    ['SHORT', 'LDOUSDT', 'Entry', '2.35000000', '-...\n",
       "27    ['SHORT', 'LDOUSDT', 'Entry', '2.35000000', '-...\n",
       "28    ['BNB', 'ready', 'massive', 'pump', '400', '.A...\n",
       "29    ['SHIB', 'last', 'signal', 'hit', '77', 'SPOT....\n",
       "Name: Cleaned_text, dtype: object"
      ]
     },
     "execution_count": 22,
     "metadata": {},
     "output_type": "execute_result"
    }
   ],
   "source": [
    "exchanges = 'Binance|kucoin|bitbuy'\n",
    "conversion = 'usdt|usd|btc|eth'\n",
    "exchangeregex = '|'.join(exchanges)\n",
    "target = ('|').join(['1','2','3'])\n",
    "# coins=''\n",
    "def extractor(i):\n",
    "  text = re.sub('[\\',\\[\\]]', '', i)\n",
    "  coin_name,conversion_name,leverage,call_exchange,call_type,coin_range,call_duration,T,stop_loss=[\"\"]*9\n",
    "  if(re.search('\\w+({})'.format(conversion),text,re.IGNORECASE) and re.search('target\\w*',text,re.IGNORECASE)):    \n",
    "    coin_name=re.findall('(\\w+)(?:usdt|usd|btc|eth)',text,re.IGNORECASE)\n",
    "    conversion_name = re.findall('\\w+({})'.format(conversion),text,re.IGNORECASE)\n",
    "    coin_range = re.findall('Entry\\s+(\\d+\\.\\d+)(?:\\s+-\\s+(\\d+\\.\\d+))?\\s+Target',text,re.IGNORECASE)\n",
    "    call_duration = re.findall('long|short',text,re.IGNORECASE)\n",
    "    leverage = re.findall('leverage\\s+(\\d+)', text,re.IGNORECASE)\n",
    "    T=dict()\n",
    "    targets=re.findall(r'target\\s*[0-9]\\s*(\\d.\\d*)',text,re.IGNORECASE)\n",
    "    stop_loss = re.findall('Stoploss\\s*(\\d.\\d*)',text,re.IGNORECASE)\n",
    "    with open(PATH+'./3_coin_signals.csv', 'a',newline='') as f_object:\n",
    "      writer_object = writer(f_object)\n",
    "      ls = [coin_name,conversion_name,leverage,call_exchange,call_type,coin_range,call_duration,targets,stop_loss]\n",
    "      writer_object.writerow(ls)\n",
    "      f_object.close()\n",
    "  return i\n",
    "  \n",
    "df['Cleaned_text'].apply(extractor)"
   ]
  }
 ],
 "metadata": {
  "kernelspec": {
   "display_name": "Python 3.10.4 64-bit",
   "language": "python",
   "name": "python3"
  },
  "language_info": {
   "codemirror_mode": {
    "name": "ipython",
    "version": 3
   },
   "file_extension": ".py",
   "mimetype": "text/x-python",
   "name": "python",
   "nbconvert_exporter": "python",
   "pygments_lexer": "ipython3",
   "version": "3.11.2"
  },
  "orig_nbformat": 4,
  "vscode": {
   "interpreter": {
    "hash": "d572fee55088b61515265814f82e71c0d56216367d221f2ac084c0d372a9af7e"
   }
  }
 },
 "nbformat": 4,
 "nbformat_minor": 2
}
