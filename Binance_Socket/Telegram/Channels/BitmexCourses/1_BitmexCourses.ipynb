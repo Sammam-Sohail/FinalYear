{
 "cells": [
  {
   "cell_type": "code",
   "execution_count": 69,
   "metadata": {},
   "outputs": [],
   "source": [
    "import pandas as pd\n",
    "import re\n",
    "import numpy as np"
   ]
  },
  {
   "cell_type": "code",
   "execution_count": 70,
   "metadata": {},
   "outputs": [
    {
     "name": "stdout",
     "output_type": "stream",
     "text": [
      "['LINK', 'LINKUSDT', 'BinanceBuy', 'Between', '7.00', '-', '7.80targets', '8.60', '-', '10', '-', '11', '-', '13', 'Stop', 'Loss', '6.20httpswww.tradingview.comx7IJylz2L', 'BitmexCourses']\n",
      "#LINK #LINKUSDT (Binance)Buy Between 7.00 - 7.80targets 8.60 - 10 - 11 - 13 Stop Loss 6.20https://www.tradingview.com/x/7IJylz2L/ @BitmexCourses\n"
     ]
    },
    {
     "data": {
      "text/html": [
       "<div>\n",
       "<style scoped>\n",
       "    .dataframe tbody tr th:only-of-type {\n",
       "        vertical-align: middle;\n",
       "    }\n",
       "\n",
       "    .dataframe tbody tr th {\n",
       "        vertical-align: top;\n",
       "    }\n",
       "\n",
       "    .dataframe thead th {\n",
       "        text-align: right;\n",
       "    }\n",
       "</style>\n",
       "<table border=\"1\" class=\"dataframe\">\n",
       "  <thead>\n",
       "    <tr style=\"text-align: right;\">\n",
       "      <th></th>\n",
       "      <th>Name</th>\n",
       "      <th>Date</th>\n",
       "      <th>Time</th>\n",
       "      <th>Text</th>\n",
       "      <th>Cleaned_text</th>\n",
       "    </tr>\n",
       "  </thead>\n",
       "  <tbody>\n",
       "    <tr>\n",
       "      <th>0</th>\n",
       "      <td>BitmexCourses</td>\n",
       "      <td>2022-09-17</td>\n",
       "      <td>04:41:52</td>\n",
       "      <td>#LINK #LINKUSDT (Binance)Buy Between 7.00 - 7....</td>\n",
       "      <td>['LINK', 'LINKUSDT', 'BinanceBuy', 'Between', ...</td>\n",
       "    </tr>\n",
       "    <tr>\n",
       "      <th>1</th>\n",
       "      <td>BitmexCourses</td>\n",
       "      <td>2022-09-23</td>\n",
       "      <td>04:37:27</td>\n",
       "      <td>#QNT #QNTUSDT (Binance)Buy Between 100 - 108Ta...</td>\n",
       "      <td>['QNT', 'QNTUSDT', 'BinanceBuy', 'Between', '1...</td>\n",
       "    </tr>\n",
       "    <tr>\n",
       "      <th>2</th>\n",
       "      <td>BitmexCourses</td>\n",
       "      <td>2022-09-23</td>\n",
       "      <td>05:35:33</td>\n",
       "      <td>#ROSE #ROSEUSDT (Binance)Buy Between 0.055 - 0...</td>\n",
       "      <td>['ROSE', 'ROSEUSDT', 'BinanceBuy', 'Between', ...</td>\n",
       "    </tr>\n",
       "    <tr>\n",
       "      <th>3</th>\n",
       "      <td>BitmexCourses</td>\n",
       "      <td>2022-09-24</td>\n",
       "      <td>04:44:00</td>\n",
       "      <td>#BNB #BNBUSDT (Binance)Buy Between 270 - 280Ta...</td>\n",
       "      <td>['BNB', 'BNBUSDT', 'BinanceBuy', 'Between', '2...</td>\n",
       "    </tr>\n",
       "    <tr>\n",
       "      <th>4</th>\n",
       "      <td>BitmexCourses</td>\n",
       "      <td>2022-09-24</td>\n",
       "      <td>09:12:33</td>\n",
       "      <td>#EGLD #EGLDUSDT (Binance)Buy Between 47 - 48.6...</td>\n",
       "      <td>['EGLD', 'EGLDUSDT', 'BinanceBuy', 'Between', ...</td>\n",
       "    </tr>\n",
       "  </tbody>\n",
       "</table>\n",
       "</div>"
      ],
      "text/plain": [
       "            Name        Date      Time  \\\n",
       "0  BitmexCourses  2022-09-17  04:41:52   \n",
       "1  BitmexCourses  2022-09-23  04:37:27   \n",
       "2  BitmexCourses  2022-09-23  05:35:33   \n",
       "3  BitmexCourses  2022-09-24  04:44:00   \n",
       "4  BitmexCourses  2022-09-24  09:12:33   \n",
       "\n",
       "                                                Text  \\\n",
       "0  #LINK #LINKUSDT (Binance)Buy Between 7.00 - 7....   \n",
       "1  #QNT #QNTUSDT (Binance)Buy Between 100 - 108Ta...   \n",
       "2  #ROSE #ROSEUSDT (Binance)Buy Between 0.055 - 0...   \n",
       "3  #BNB #BNBUSDT (Binance)Buy Between 270 - 280Ta...   \n",
       "4  #EGLD #EGLDUSDT (Binance)Buy Between 47 - 48.6...   \n",
       "\n",
       "                                        Cleaned_text  \n",
       "0  ['LINK', 'LINKUSDT', 'BinanceBuy', 'Between', ...  \n",
       "1  ['QNT', 'QNTUSDT', 'BinanceBuy', 'Between', '1...  \n",
       "2  ['ROSE', 'ROSEUSDT', 'BinanceBuy', 'Between', ...  \n",
       "3  ['BNB', 'BNBUSDT', 'BinanceBuy', 'Between', '2...  \n",
       "4  ['EGLD', 'EGLDUSDT', 'BinanceBuy', 'Between', ...  "
      ]
     },
     "execution_count": 70,
     "metadata": {},
     "output_type": "execute_result"
    }
   ],
   "source": [
    "colnames=['Name','Date','Time', 'Text','Cleaned_text'] \n",
    "exchanges = ['BINANCE', 'BYBIT', 'FTX', 'HUOBI', 'KUCOIN', 'POLONIEX','KRAKEN']\n",
    "df = pd.read_csv('./1_BitmexCourses.csv',names = colnames,header=None)\n",
    "print(df['Cleaned_text'][0])\n",
    "print(df['Text'][0])\n",
    "df.head()"
   ]
  },
  {
   "cell_type": "code",
   "execution_count": 71,
   "metadata": {},
   "outputs": [],
   "source": [
    "exchanges = 'Binance|kucoin|bitbuy'\n",
    "conversion = 'usdt|usd|btc|eth'\n",
    "exchangeregex = '|'.join(exchanges)\n",
    "target = ('|').join(['1','2','3'])\n",
    "def extractor(i):\n",
    "  text = re.sub('[\\',\\[\\]]', '', i)\n",
    "  coin_name,conversion_name,call_exchange,call_type,call_duration,leverage,Targets,stop_loss= [\"None\"]*8\n",
    "  if(re.search('stop\\s*loss',text,re.IGNORECASE) and re.search('target|targets',text,re.IGNORECASE)):    \n",
    "\n",
    "    coin_name=re.findall('(\\w+)(?:usdt|usd|btc|eth)',text,re.IGNORECASE)\n",
    "\n",
    "    conversion_name = re.findall('\\w+({})'.format(conversion),str(text),re.IGNORECASE)\n",
    "\n",
    "    call_exchange = re.findall('Binance|kucoin|bitbuy'.format(exchanges),text,re.IGNORECASE)\n",
    "\n",
    "    call_nature = re.findall('sell|buy',text,re.IGNORECASE)\n",
    "\n",
    "    \"\"\"duration not used \"\"\"\n",
    "    call_duration = re.findall('long|short',text,re.IGNORECASE)\n",
    "\n",
    "    \"\"\"some targets are not extracted although format is same \"\"\"\n",
    "    Targets = re.findall(\"Target[s]*[ ]*(.*?)[a-zA-Z]\",text,re.IGNORECASE)\n",
    "    t = re.sub(' ','',Targets[0])\n",
    "    Targets = t.split('-')\n",
    "\n",
    "\n",
    "    leverage = re.findall('[ ]*[-]*[ ]*(\\d+)x',text,re.IGNORECASE)\n",
    "\n",
    "    \"\"\" stop loss not used that much\"\"\"\n",
    "    stop_loss = re.findall('stop\\s*loss\\s*-*\\s*(\\d.\\d*)',text,re.IGNORECASE)\n",
    "\n",
    "    \n",
    "  print( \"coin_name,conversion_name,call_exchange,call_type,call_duration,leverage,Targets,stop_loss\")\n",
    "  return {\n",
    "      \"status\": \"A\",\n",
    "      \"Username\": \"Andrew Tate\",\n",
    "      \"Date\": \"2022-09-16\",\n",
    "      \"Time\": \"15:31:42\",\n",
    "      \"Coin\": coin_name,\n",
    "      \"Type\": call_duration,\n",
    "      \"Exchange\": call_exchange,\n",
    "      \"Conversion\": conversion_name,\n",
    "      \"Targets\": Targets,\n",
    "      \"Stoploss\": stop_loss,\n",
    "      \"Leverage\": leverage,\n",
    "      \"Nature\": call_nature,\n",
    "      \"Range\": [31899.35, 320000],\n",
    "    }\n",
    "  \n",
    "df[\"Call\"] = df['Cleaned_text'].apply(extractor)"
   ]
  },
  {
   "cell_type": "code",
   "execution_count": 72,
   "metadata": {},
   "outputs": [],
   "source": [
    "def func(x):\n",
    "    for i in range(len(x)):\n",
    "        if (len(x[i])==1):\n",
    "            x[i]=x[i][0]\n",
    "        elif not (x[i]):\n",
    "            x[i]=\"None\"\n",
    "    return x\n",
    "df[\"Call\"] = df[\"Call\"].apply(func)"
   ]
  },
  {
   "cell_type": "code",
   "execution_count": 73,
   "metadata": {},
   "outputs": [],
   "source": [
    "df = df.drop(columns=[\"Text\"])\n",
    "pd.to_pickle(df,\"2_BitmexCourses.pkl\")"
   ]
  }
 ],
 "metadata": {
  "kernelspec": {
   "display_name": "Python 3",
   "language": "python",
   "name": "python3"
  },
  "language_info": {
   "codemirror_mode": {
    "name": "ipython",
    "version": 3
   },
   "file_extension": ".py",
   "mimetype": "text/x-python",
   "name": "python",
   "nbconvert_exporter": "python",
   "pygments_lexer": "ipython3",
   "version": "3.9.0"
  },
  "orig_nbformat": 4,
  "vscode": {
   "interpreter": {
    "hash": "c9d430fe7f71b62c3834c19333704f375e17727565e440466e989c47695e4342"
   }
  }
 },
 "nbformat": 4,
 "nbformat_minor": 2
}
